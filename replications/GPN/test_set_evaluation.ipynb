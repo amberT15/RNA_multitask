{
 "cells": [
  {
   "cell_type": "code",
   "execution_count": 2,
   "metadata": {},
   "outputs": [],
   "source": [
    "from gopher.dinuc_shuffle import dinuc_shuffle\n",
    "from gopher.variant_effect import dna_one_hot\n",
    "from datasets import load_dataset\n",
    "import os, h5py\n",
    "import numpy as np\n",
    "import pandas as pd\n",
    "import h5py\n",
    "from collections import defaultdict\n",
    "import csv\n",
    "organism = 'plants'\n",
    "#np.random.seed(22) # for reproducibility"
   ]
  },
  {
   "cell_type": "code",
   "execution_count": null,
   "metadata": {},
   "outputs": [],
   "source": [
    "rep_per_motif=100\n",
    "data_files={}\n",
    "data_files[\"test\"] ='/home/amber/multitask_RNA/data/GPN_plant/dataset/test/Arabidopsis_thaliana.test.512.256.parquet'\n",
    "extension = 'parquet'\n",
    "raw_datasets = load_dataset(extension, data_files=data_files, cache_dir=None)"
   ]
  }
 ],
 "metadata": {
  "kernelspec": {
   "display_name": "Python 3.8.10 ('tf_2': venv)",
   "language": "python",
   "name": "python3"
  },
  "language_info": {
   "codemirror_mode": {
    "name": "ipython",
    "version": 3
   },
   "file_extension": ".py",
   "mimetype": "text/x-python",
   "name": "python",
   "nbconvert_exporter": "python",
   "pygments_lexer": "ipython3",
   "version": "3.8.10"
  },
  "orig_nbformat": 4,
  "vscode": {
   "interpreter": {
    "hash": "9e8284e1417b754e460c2bde3a4a4837c482fa82ceb7d52f4acbe340dd4b4559"
   }
  }
 },
 "nbformat": 4,
 "nbformat_minor": 2
}
