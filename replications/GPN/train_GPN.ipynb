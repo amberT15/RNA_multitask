{
 "cells": [
  {
   "cell_type": "code",
   "execution_count": 1,
   "metadata": {},
   "outputs": [],
   "source": [
    "import logging\n",
    "import math\n",
    "import numpy as np\n",
    "import os\n",
    "import sys\n",
    "from dataclasses import dataclass, field\n",
    "from itertools import chain\n",
    "from typing import Optional\n",
    "\n",
    "import datasets\n",
    "from datasets import load_dataset, load_metric\n",
    "\n",
    "import transformers\n",
    "from transformers import (\n",
    "    CONFIG_MAPPING,\n",
    "    MODEL_FOR_MASKED_LM_MAPPING,\n",
    "    AutoConfig,\n",
    "    AutoModelForMaskedLM,\n",
    "    AutoTokenizer,\n",
    "    DataCollatorForLanguageModeling,\n",
    "    HfArgumentParser,\n",
    "    Trainer,\n",
    "    TrainingArguments,\n",
    "    set_seed,\n",
    ")\n",
    "from transformers.trainer_utils import get_last_checkpoint\n",
    "from transformers.utils import check_min_version\n",
    "from transformers.utils.versions import require_version\n",
    "\n",
    "import gpn.mlm\n",
    "import transformers\n",
    "from transformers import AutoModelForMaskedLM\n",
    "import os\n",
    "from torchinfo import summary\n",
    "import torch\n",
    "import datasets\n",
    "from datasets import load_dataset, load_metric\n",
    "os.environ['CUDA_VISIBLE_DEVICES']='1'\n",
    "model = AutoModelForMaskedLM.from_pretrained('./GPN_finetune/checkpoint-2000000/')"
   ]
  },
  {
   "cell_type": "code",
   "execution_count": 2,
   "metadata": {},
   "outputs": [
    {
     "name": "stderr",
     "output_type": "stream",
     "text": [
      "Using custom data configuration default-b4c1d8f48d8bcb2e\n",
      "Found cached dataset parquet (/home/amber/.cache/huggingface/datasets/parquet/default-b4c1d8f48d8bcb2e/0.0.0/2a3b91fbd88a2c90d1dbbb32b460cf621d31bd5b05b934492fdef7d8d6f236ec)\n"
     ]
    },
    {
     "data": {
      "application/vnd.jupyter.widget-view+json": {
       "model_id": "826b9eeda83a4ccd90c1adcad1fa31fb",
       "version_major": 2,
       "version_minor": 0
      },
      "text/plain": [
       "  0%|          | 0/1 [00:00<?, ?it/s]"
      ]
     },
     "metadata": {},
     "output_type": "display_data"
    }
   ],
   "source": [
    "raw_datasets = load_dataset('parquet', \n",
    "                            data_files='/home/amber/multitask_RNA/data/gpn/test/hg38.test.512.256.parquet', \n",
    "                            cache_dir= None)"
   ]
  },
  {
   "cell_type": "code",
   "execution_count": 3,
   "metadata": {},
   "outputs": [],
   "source": [
    "tokenizer = AutoTokenizer.from_pretrained('gonzalobenegas/gpn-arabidopsis')\n",
    "def tokenize_function(examples):\n",
    "            # Remove empty lines\n",
    "            examples[text_column_name] = [\n",
    "                line for line in examples[text_column_name] if len(line) > 0 and not line.isspace()\n",
    "            ]\n",
    "            res = tokenizer(\n",
    "                examples[text_column_name],\n",
    "                #padding=padding,\n",
    "                #truncation=True,\n",
    "                #max_length=max_seq_length,\n",
    "                # We use this option because DataCollatorForLanguageModeling (see below) is more efficient when it\n",
    "                # receives the `special_tokens_mask`.\n",
    "                #return_special_tokens_mask=True,\n",
    "                return_attention_mask=False,\n",
    "                return_token_type_ids=False,\n",
    "            )\n",
    "            #res[\"special_tokens_mask\"] = np.char.islower(np.vstack([np.array(list(seq)) for seq in examples[text_column_name]]))\n",
    "            #print(examples[text_column_name], res[\"special_tokens_mask\"])\n",
    "            #raise Exception(\"debug eval\")\n",
    "            return res"
   ]
  },
  {
   "cell_type": "code",
   "execution_count": 4,
   "metadata": {},
   "outputs": [
    {
     "name": "stderr",
     "output_type": "stream",
     "text": [
      "Loading cached processed dataset at /home/amber/.cache/huggingface/datasets/parquet/default-b4c1d8f48d8bcb2e/0.0.0/2a3b91fbd88a2c90d1dbbb32b460cf621d31bd5b05b934492fdef7d8d6f236ec/cache-cb6b17a86ff69d0c.arrow\n"
     ]
    }
   ],
   "source": [
    "column_names = raw_datasets[\"train\"].column_names\n",
    "text_column_name = \"seq\"\n",
    "tokenized_datasets = raw_datasets.map(\n",
    "                tokenize_function,\n",
    "                batched=True,\n",
    "                num_proc=1,\n",
    "                remove_columns=column_names, #[text_column_name],\n",
    "                load_from_cache_file=True,\n",
    "                desc=\"Running tokenizer on dataset line_by_line\",\n",
    "            )"
   ]
  },
  {
   "cell_type": "code",
   "execution_count": 11,
   "metadata": {},
   "outputs": [
    {
     "data": {
      "text/plain": [
       "512"
      ]
     },
     "execution_count": 11,
     "metadata": {},
     "output_type": "execute_result"
    }
   ],
   "source": [
    "len(tokenized_datasets['train'][0]['input_ids'])"
   ]
  },
  {
   "cell_type": "code",
   "execution_count": 12,
   "metadata": {},
   "outputs": [],
   "source": [
    "test_input = tokenized_datasets['train'][0]['input_ids']"
   ]
  },
  {
   "cell_type": "code",
   "execution_count": 15,
   "metadata": {},
   "outputs": [],
   "source": [
    "import torch.nn.functional as F\n",
    "test_embed = F.one_hot(torch.tensor(test_input), num_classes=512).float()"
   ]
  },
  {
   "cell_type": "code",
   "execution_count": null,
   "metadata": {},
   "outputs": [],
   "source": [
    "test_input[0]"
   ]
  },
  {
   "cell_type": "code",
   "execution_count": 17,
   "metadata": {},
   "outputs": [
    {
     "data": {
      "text/plain": [
       "tensor([0., 0., 1., 0., 0., 0., 0., 0., 0., 0., 0., 0., 0., 0., 0., 0., 0., 0.,\n",
       "        0., 0., 0., 0., 0., 0., 0., 0., 0., 0., 0., 0., 0., 0., 0., 0., 0., 0.,\n",
       "        0., 0., 0., 0., 0., 0., 0., 0., 0., 0., 0., 0., 0., 0., 0., 0., 0., 0.,\n",
       "        0., 0., 0., 0., 0., 0., 0., 0., 0., 0., 0., 0., 0., 0., 0., 0., 0., 0.,\n",
       "        0., 0., 0., 0., 0., 0., 0., 0., 0., 0., 0., 0., 0., 0., 0., 0., 0., 0.,\n",
       "        0., 0., 0., 0., 0., 0., 0., 0., 0., 0., 0., 0., 0., 0., 0., 0., 0., 0.,\n",
       "        0., 0., 0., 0., 0., 0., 0., 0., 0., 0., 0., 0., 0., 0., 0., 0., 0., 0.,\n",
       "        0., 0., 0., 0., 0., 0., 0., 0., 0., 0., 0., 0., 0., 0., 0., 0., 0., 0.,\n",
       "        0., 0., 0., 0., 0., 0., 0., 0., 0., 0., 0., 0., 0., 0., 0., 0., 0., 0.,\n",
       "        0., 0., 0., 0., 0., 0., 0., 0., 0., 0., 0., 0., 0., 0., 0., 0., 0., 0.,\n",
       "        0., 0., 0., 0., 0., 0., 0., 0., 0., 0., 0., 0., 0., 0., 0., 0., 0., 0.,\n",
       "        0., 0., 0., 0., 0., 0., 0., 0., 0., 0., 0., 0., 0., 0., 0., 0., 0., 0.,\n",
       "        0., 0., 0., 0., 0., 0., 0., 0., 0., 0., 0., 0., 0., 0., 0., 0., 0., 0.,\n",
       "        0., 0., 0., 0., 0., 0., 0., 0., 0., 0., 0., 0., 0., 0., 0., 0., 0., 0.,\n",
       "        0., 0., 0., 0., 0., 0., 0., 0., 0., 0., 0., 0., 0., 0., 0., 0., 0., 0.,\n",
       "        0., 0., 0., 0., 0., 0., 0., 0., 0., 0., 0., 0., 0., 0., 0., 0., 0., 0.,\n",
       "        0., 0., 0., 0., 0., 0., 0., 0., 0., 0., 0., 0., 0., 0., 0., 0., 0., 0.,\n",
       "        0., 0., 0., 0., 0., 0., 0., 0., 0., 0., 0., 0., 0., 0., 0., 0., 0., 0.,\n",
       "        0., 0., 0., 0., 0., 0., 0., 0., 0., 0., 0., 0., 0., 0., 0., 0., 0., 0.,\n",
       "        0., 0., 0., 0., 0., 0., 0., 0., 0., 0., 0., 0., 0., 0., 0., 0., 0., 0.,\n",
       "        0., 0., 0., 0., 0., 0., 0., 0., 0., 0., 0., 0., 0., 0., 0., 0., 0., 0.,\n",
       "        0., 0., 0., 0., 0., 0., 0., 0., 0., 0., 0., 0., 0., 0., 0., 0., 0., 0.,\n",
       "        0., 0., 0., 0., 0., 0., 0., 0., 0., 0., 0., 0., 0., 0., 0., 0., 0., 0.,\n",
       "        0., 0., 0., 0., 0., 0., 0., 0., 0., 0., 0., 0., 0., 0., 0., 0., 0., 0.,\n",
       "        0., 0., 0., 0., 0., 0., 0., 0., 0., 0., 0., 0., 0., 0., 0., 0., 0., 0.,\n",
       "        0., 0., 0., 0., 0., 0., 0., 0., 0., 0., 0., 0., 0., 0., 0., 0., 0., 0.,\n",
       "        0., 0., 0., 0., 0., 0., 0., 0., 0., 0., 0., 0., 0., 0., 0., 0., 0., 0.,\n",
       "        0., 0., 0., 0., 0., 0., 0., 0., 0., 0., 0., 0., 0., 0., 0., 0., 0., 0.,\n",
       "        0., 0., 0., 0., 0., 0., 0., 0.])"
      ]
     },
     "execution_count": 17,
     "metadata": {},
     "output_type": "execute_result"
    }
   ],
   "source": [
    "test_embed[0]"
   ]
  },
  {
   "cell_type": "code",
   "execution_count": 24,
   "metadata": {},
   "outputs": [
    {
     "data": {
      "text/plain": [
       "{'start': 87732014,\n",
       " 'end': 87732526,\n",
       " 'chrom': 'chr8',\n",
       " 'strand': '-',\n",
       " 'seq': 'ATAATTTTTCATGTTCTAATCTCATTTCCAGCACAATCTCATTTTTATGACGCAAATTGTAAGTCTTGATAGAAACGTGCAATTTGTAGCTGTCTGTTTTATTTTTGATCAGATTTTCATCTTGACCTATATCTCAGTGAAATGTTATCTTCTATTGTAGCAAGTTGTTTATTTGCTATACTTCTAAGTGGCTGGAGAGGCCCTAGGATAAATTATGTGGTAAATTATTGGCCTTCAGTATCAAACATGtctttcagtaagcatttattaagtatttctatgcttcaggcaatatggctggcacttatactcaagcagcttacaggttacaggaagaaatatgtgactagattattatgataacataataagcactactctagaagtatggacaacatcctataaatagcaagagctcctaactgagagtgtgtgttagagaaggtttcctggCTGTTTTAAGATAAGACCTAAAGTTTtcttacttatttttatacctacatcgagacctt',\n",
       " '__index_level_0__': 906959}"
      ]
     },
     "execution_count": 24,
     "metadata": {},
     "output_type": "execute_result"
    }
   ],
   "source": [
    "raw_datasets['train'][0]"
   ]
  },
  {
   "cell_type": "code",
   "execution_count": 25,
   "metadata": {},
   "outputs": [],
   "source": []
  },
  {
   "cell_type": "code",
   "execution_count": null,
   "metadata": {},
   "outputs": [],
   "source": []
  },
  {
   "cell_type": "code",
   "execution_count": 12,
   "metadata": {},
   "outputs": [
    {
     "data": {
      "text/plain": [
       "====================================================================================================\n",
       "Layer (type:depth-idx)                             Output Shape              Param #\n",
       "====================================================================================================\n",
       "ConvNetForMaskedLM                                 [2, 512, 6]               --\n",
       "├─ConvNetModel: 1-1                                [2, 512, 512]             --\n",
       "│    └─OneHotEmbedding: 2-1                        [2, 512, 512]             --\n",
       "│    └─Sequential: 2-2                             [2, 512, 512]             --\n",
       "│    │    └─ConvLayer: 3-1                         [2, 512, 512]             2,624,512\n",
       "│    │    └─ConvLayer: 3-2                         [2, 512, 512]             2,624,512\n",
       "│    │    └─ConvLayer: 3-3                         [2, 512, 512]             2,624,512\n",
       "│    │    └─ConvLayer: 3-4                         [2, 512, 512]             2,624,512\n",
       "│    │    └─ConvLayer: 3-5                         [2, 512, 512]             2,624,512\n",
       "│    │    └─ConvLayer: 3-6                         [2, 512, 512]             2,624,512\n",
       "│    │    └─ConvLayer: 3-7                         [2, 512, 512]             2,624,512\n",
       "│    │    └─ConvLayer: 3-8                         [2, 512, 512]             2,624,512\n",
       "│    │    └─ConvLayer: 3-9                         [2, 512, 512]             2,624,512\n",
       "│    │    └─ConvLayer: 3-10                        [2, 512, 512]             2,624,512\n",
       "│    │    └─ConvLayer: 3-11                        [2, 512, 512]             2,624,512\n",
       "│    │    └─ConvLayer: 3-12                        [2, 512, 512]             2,624,512\n",
       "│    │    └─ConvLayer: 3-13                        [2, 512, 512]             2,624,512\n",
       "│    │    └─ConvLayer: 3-14                        [2, 512, 512]             2,624,512\n",
       "│    │    └─ConvLayer: 3-15                        [2, 512, 512]             2,624,512\n",
       "│    │    └─ConvLayer: 3-16                        [2, 512, 512]             2,624,512\n",
       "│    │    └─ConvLayer: 3-17                        [2, 512, 512]             2,624,512\n",
       "│    │    └─ConvLayer: 3-18                        [2, 512, 512]             2,624,512\n",
       "│    │    └─ConvLayer: 3-19                        [2, 512, 512]             2,624,512\n",
       "│    │    └─ConvLayer: 3-20                        [2, 512, 512]             2,624,512\n",
       "│    │    └─ConvLayer: 3-21                        [2, 512, 512]             2,624,512\n",
       "│    │    └─ConvLayer: 3-22                        [2, 512, 512]             2,624,512\n",
       "│    │    └─ConvLayer: 3-23                        [2, 512, 512]             2,624,512\n",
       "│    │    └─ConvLayer: 3-24                        [2, 512, 512]             2,624,512\n",
       "│    │    └─ConvLayer: 3-25                        [2, 512, 512]             2,624,512\n",
       "│    │    └─ConvLayer: 3-26                        [2, 512, 512]             2,624,512\n",
       "│    │    └─ConvLayer: 3-27                        [2, 512, 512]             2,624,512\n",
       "│    │    └─ConvLayer: 3-28                        [2, 512, 512]             2,624,512\n",
       "│    │    └─ConvLayer: 3-29                        [2, 512, 512]             2,624,512\n",
       "│    │    └─ConvLayer: 3-30                        [2, 512, 512]             2,624,512\n",
       "├─ConvNetOnlyMLMHead: 1-2                          [2, 512, 6]               --\n",
       "│    └─Sequential: 2-3                             [2, 512, 6]               --\n",
       "│    │    └─Linear: 3-31                           [2, 512, 512]             262,656\n",
       "│    │    └─GELU: 3-32                             [2, 512, 512]             --\n",
       "│    │    └─LayerNorm: 3-33                        [2, 512, 512]             1,024\n",
       "│    │    └─Linear: 3-34                           [2, 512, 6]               3,078\n",
       "====================================================================================================\n",
       "Total params: 79,002,118\n",
       "Trainable params: 79,002,118\n",
       "Non-trainable params: 0\n",
       "Total mult-adds (G): 72.51\n",
       "====================================================================================================\n",
       "Input size (MB): 0.01\n",
       "Forward/backward pass size (MB): 511.75\n",
       "Params size (MB): 316.01\n",
       "Estimated Total Size (MB): 827.77\n",
       "===================================================================================================="
      ]
     },
     "execution_count": 12,
     "metadata": {},
     "output_type": "execute_result"
    }
   ],
   "source": [
    "summary(model,input_size=(2,512),dtypes= [torch.long])"
   ]
  },
  {
   "cell_type": "code",
   "execution_count": 8,
   "metadata": {},
   "outputs": [],
   "source": [
    "tokenizer = transformers.AutoTokenizer.from_pretrained('gonzalobenegas/gpn-arabidopsis')"
   ]
  },
  {
   "cell_type": "code",
   "execution_count": null,
   "metadata": {},
   "outputs": [],
   "source": []
  }
 ],
 "metadata": {
  "kernelspec": {
   "display_name": "Python 3 (ipykernel)",
   "language": "python",
   "name": "python3"
  },
  "language_info": {
   "codemirror_mode": {
    "name": "ipython",
    "version": 3
   },
   "file_extension": ".py",
   "mimetype": "text/x-python",
   "name": "python",
   "nbconvert_exporter": "python",
   "pygments_lexer": "ipython3",
   "version": "3.8.10"
  },
  "vscode": {
   "interpreter": {
    "hash": "9e8284e1417b754e460c2bde3a4a4837c482fa82ceb7d52f4acbe340dd4b4559"
   }
  }
 },
 "nbformat": 4,
 "nbformat_minor": 2
}
