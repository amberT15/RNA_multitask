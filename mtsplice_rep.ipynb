{
 "cells": [
  {
   "cell_type": "code",
   "execution_count": 1,
   "metadata": {},
   "outputs": [],
   "source": [
    "import tensorflow as tf\n",
    "import numpy as np\n",
    "import scipy\n",
    "from scipy import stats\n",
    "from mt_layers import SplineWeight1D\n",
    "import os\n",
    "os.environ[\"CUDA_VISIBLE_DEVICES\"]=\"1\"\n",
    "import h5py\n",
    "from tqdm import tqdm"
   ]
  },
  {
   "cell_type": "code",
   "execution_count": 2,
   "metadata": {},
   "outputs": [],
   "source": [
    "f = h5py.File('./data/MT_Splice/psi_data_logit.h5','r')\n",
    "seql_test = f['seql_test']\n",
    "seqr_test = f['seqr_test']\n",
    "y_test = f['y_test']\n",
    "mean_test = y_test[:,:,1]\n",
    "y_test = y_test[:,:,0]\n"
   ]
  },
  {
   "cell_type": "code",
   "execution_count": 3,
   "metadata": {},
   "outputs": [
    {
     "name": "stderr",
     "output_type": "stream",
     "text": [
      "2022-08-02 11:13:13.505481: I tensorflow/stream_executor/platform/default/dso_loader.cc:44] Successfully opened dynamic library libcuda.so.1\n",
      "2022-08-02 11:13:13.594523: I tensorflow/core/common_runtime/gpu/gpu_device.cc:1561] Found device 0 with properties: \n",
      "pciBusID: 0000:21:00.0 name: NVIDIA RTX A4000 computeCapability: 8.6\n",
      "coreClock: 1.56GHz coreCount: 48 deviceMemorySize: 15.74GiB deviceMemoryBandwidth: 417.29GiB/s\n",
      "2022-08-02 11:13:13.594721: W tensorflow/stream_executor/platform/default/dso_loader.cc:55] Could not load dynamic library 'libcudart.so.10.1'; dlerror: libcudart.so.10.1: cannot open shared object file: No such file or directory; LD_LIBRARY_PATH: /usr/local/cuda-11.2/lib64\n",
      "2022-08-02 11:13:13.594765: W tensorflow/stream_executor/platform/default/dso_loader.cc:55] Could not load dynamic library 'libcublas.so.10'; dlerror: libcublas.so.10: cannot open shared object file: No such file or directory; LD_LIBRARY_PATH: /usr/local/cuda-11.2/lib64\n",
      "2022-08-02 11:13:13.595912: I tensorflow/stream_executor/platform/default/dso_loader.cc:44] Successfully opened dynamic library libcufft.so.10\n",
      "2022-08-02 11:13:13.596103: I tensorflow/stream_executor/platform/default/dso_loader.cc:44] Successfully opened dynamic library libcurand.so.10\n",
      "2022-08-02 11:13:13.596153: W tensorflow/stream_executor/platform/default/dso_loader.cc:55] Could not load dynamic library 'libcusolver.so.10'; dlerror: libcusolver.so.10: cannot open shared object file: No such file or directory; LD_LIBRARY_PATH: /usr/local/cuda-11.2/lib64\n",
      "2022-08-02 11:13:13.596193: W tensorflow/stream_executor/platform/default/dso_loader.cc:55] Could not load dynamic library 'libcusparse.so.10'; dlerror: libcusparse.so.10: cannot open shared object file: No such file or directory; LD_LIBRARY_PATH: /usr/local/cuda-11.2/lib64\n",
      "2022-08-02 11:13:13.596231: W tensorflow/stream_executor/platform/default/dso_loader.cc:55] Could not load dynamic library 'libcudnn.so.7'; dlerror: libcudnn.so.7: cannot open shared object file: No such file or directory; LD_LIBRARY_PATH: /usr/local/cuda-11.2/lib64\n",
      "2022-08-02 11:13:13.596236: W tensorflow/core/common_runtime/gpu/gpu_device.cc:1598] Cannot dlopen some GPU libraries. Please make sure the missing libraries mentioned above are installed properly if you would like to use GPU. Follow the guide at https://www.tensorflow.org/install/gpu for how to download and setup the required libraries for your platform.\n",
      "Skipping registering GPU devices...\n",
      "2022-08-02 11:13:13.597562: I tensorflow/core/platform/cpu_feature_guard.cc:143] Your CPU supports instructions that this TensorFlow binary was not compiled to use: AVX2 FMA\n",
      "2022-08-02 11:13:13.625653: I tensorflow/core/platform/profile_utils/cpu_utils.cc:102] CPU Frequency: 3000105000 Hz\n",
      "2022-08-02 11:13:13.628272: I tensorflow/compiler/xla/service/service.cc:168] XLA service 0x7fa588000b60 initialized for platform Host (this does not guarantee that XLA will be used). Devices:\n",
      "2022-08-02 11:13:13.628305: I tensorflow/compiler/xla/service/service.cc:176]   StreamExecutor device (0): Host, Default Version\n",
      "2022-08-02 11:13:13.630721: I tensorflow/core/common_runtime/gpu/gpu_device.cc:1102] Device interconnect StreamExecutor with strength 1 edge matrix:\n",
      "2022-08-02 11:13:13.630737: I tensorflow/core/common_runtime/gpu/gpu_device.cc:1108]      \n"
     ]
    }
   ],
   "source": [
    "express_mask = np.sum(~np.isnan(y_test),axis=1) >= 10\n",
    "m_psi = tf.sigmoid(mean_test)\n",
    "y_psi = tf.sigmoid(y_test)\n",
    "diff_psi = np.abs(m_psi - y_psi)\n",
    "diff_mask = np.sum(diff_psi>= 0.2,axis = 1) >=1\n",
    "mask = express_mask * diff_mask"
   ]
  },
  {
   "cell_type": "code",
   "execution_count": 4,
   "metadata": {},
   "outputs": [
    {
     "name": "stdout",
     "output_type": "stream",
     "text": [
      "WARNING:tensorflow:No training configuration found in the save file, so the model was *not* compiled. Compile it manually.\n",
      "WARNING:tensorflow:No training configuration found in the save file, so the model was *not* compiled. Compile it manually.\n",
      "WARNING:tensorflow:No training configuration found in the save file, so the model was *not* compiled. Compile it manually.\n",
      "WARNING:tensorflow:No training configuration found in the save file, so the model was *not* compiled. Compile it manually.\n"
     ]
    }
   ],
   "source": [
    "average_y = []\n",
    "for i in range(0,4):\n",
    "    model = tf.keras.models.load_model('./replications/MMSplice_MTSplice/mmsplice/models/mtsplice_deep'+str(i)+'.h5',\n",
    "                                        custom_objects={'SplineWeight1D':SplineWeight1D})\n",
    "    y_pred = model.predict([seql_test[mask,:,:],seqr_test[mask,:,:]])\n",
    "    average_y.append(y_pred)"
   ]
  },
  {
   "cell_type": "code",
   "execution_count": 5,
   "metadata": {},
   "outputs": [
    {
     "data": {
      "text/plain": [
       "(1621, 56)"
      ]
     },
     "execution_count": 5,
     "metadata": {},
     "output_type": "execute_result"
    }
   ],
   "source": [
    "mean_y = np.mean(average_y,axis = 0)\n",
    "mean_y.shape"
   ]
  },
  {
   "cell_type": "code",
   "execution_count": 6,
   "metadata": {},
   "outputs": [
    {
     "name": "stderr",
     "output_type": "stream",
     "text": [
      "  0%|          | 0/56 [00:00<?, ?it/s]\n"
     ]
    },
    {
     "ename": "NameError",
     "evalue": "name 'selected_y' is not defined",
     "output_type": "error",
     "traceback": [
      "\u001b[0;31m---------------------------------------------------------------------------\u001b[0m",
      "\u001b[0;31mNameError\u001b[0m                                 Traceback (most recent call last)",
      "\u001b[1;32m/home/amber/multitask_RNA/mtsplice_rep.ipynb Cell 6\u001b[0m in \u001b[0;36m<cell line: 2>\u001b[0;34m()\u001b[0m\n\u001b[1;32m      <a href='vscode-notebook-cell://ssh-remote%2Bcitra/home/amber/multitask_RNA/mtsplice_rep.ipynb#ch0000005vscode-remote?line=0'>1</a>\u001b[0m \u001b[39msum\u001b[39m \u001b[39m=\u001b[39m []\n\u001b[1;32m      <a href='vscode-notebook-cell://ssh-remote%2Bcitra/home/amber/multitask_RNA/mtsplice_rep.ipynb#ch0000005vscode-remote?line=1'>2</a>\u001b[0m \u001b[39mfor\u001b[39;00m i \u001b[39min\u001b[39;00m tqdm(\u001b[39mrange\u001b[39m(\u001b[39m0\u001b[39m,\u001b[39m56\u001b[39m)):\n\u001b[0;32m----> <a href='vscode-notebook-cell://ssh-remote%2Bcitra/home/amber/multitask_RNA/mtsplice_rep.ipynb#ch0000005vscode-remote?line=2'>3</a>\u001b[0m     corr,_ \u001b[39m=\u001b[39m scipy\u001b[39m.\u001b[39mstats\u001b[39m.\u001b[39mspearmanr(selected_y[:,i],mean_y,nan_policy\u001b[39m=\u001b[39m\u001b[39m'\u001b[39m\u001b[39momit\u001b[39m\u001b[39m'\u001b[39m)\n\u001b[1;32m      <a href='vscode-notebook-cell://ssh-remote%2Bcitra/home/amber/multitask_RNA/mtsplice_rep.ipynb#ch0000005vscode-remote?line=3'>4</a>\u001b[0m     \u001b[39msum\u001b[39m\u001b[39m.\u001b[39mappend(corr)\n",
      "\u001b[0;31mNameError\u001b[0m: name 'selected_y' is not defined"
     ]
    }
   ],
   "source": [
    "selected_y = y_test[mask,:]\n",
    "sum = []\n",
    "for i in tqdm(range(0,56)):\n",
    "    corr,_ = scipy.stats.spearmanr(selected_y[:,i],mean_y,nan_policy='omit')\n",
    "    sum.append(corr)"
   ]
  },
  {
   "cell_type": "code",
   "execution_count": 2,
   "metadata": {},
   "outputs": [],
   "source": [
    "import h5py\n",
    "import math\n",
    "import numpy as np\n",
    "import sys\n",
    "sys.path.append('./data_generation/')\n",
    "from data_preprocess import logit\n",
    "def sigmoid(x):\n",
    "  return 1 / (1 + math.exp(-x))"
   ]
  },
  {
   "cell_type": "code",
   "execution_count": 3,
   "metadata": {},
   "outputs": [
    {
     "data": {
      "text/plain": [
       "<KeysViewHDF5 ['measured', 'pred', 'x', 'x_hat']>"
      ]
     },
     "execution_count": 3,
     "metadata": {},
     "output_type": "execute_result"
    }
   ],
   "source": [
    "perf_f = h5py.File('./data/MT_Splice/test_ascot_performance.h5','r')\n",
    "perf_f.keys()"
   ]
  },
  {
   "cell_type": "code",
   "execution_count": 20,
   "metadata": {},
   "outputs": [
    {
     "data": {
      "text/plain": [
       "array([        nan,         nan,  0.3757556 ,         nan,         nan,\n",
       "               nan,         nan,         nan,         nan,         nan,\n",
       "               nan,         nan, -0.29421248, -0.78462315, -0.50781025,\n",
       "               nan,         nan,  8.39480203,         nan,         nan,\n",
       "               nan,         nan,         nan,         nan,  0.37379871,\n",
       "               nan,         nan,         nan,         nan,         nan,\n",
       "               nan, -0.37825141,         nan,         nan,         nan,\n",
       "               nan,         nan,         nan,         nan,         nan,\n",
       "               nan,         nan,         nan,  0.27191064, -0.05920082,\n",
       "               nan,  0.58028318,  0.01791421,         nan,         nan,\n",
       "               nan,  0.27414853,         nan,         nan,         nan,\n",
       "               nan])"
      ]
     },
     "execution_count": 20,
     "metadata": {},
     "output_type": "execute_result"
    }
   ],
   "source": [
    "logit(perf_f['measured'][0]) - np.nanmean(logit(perf_f['measured'][0]))"
   ]
  },
  {
   "cell_type": "code",
   "execution_count": 17,
   "metadata": {},
   "outputs": [
    {
     "data": {
      "text/plain": [
       "array([        nan,         nan, -0.31295397,         nan,         nan,\n",
       "               nan,         nan,         nan,         nan,         nan,\n",
       "               nan,         nan, -0.98292205, -1.47333272, -1.19651981,\n",
       "               nan,         nan,  7.70609246,         nan,         nan,\n",
       "               nan,         nan,         nan,         nan, -0.31491086,\n",
       "               nan,         nan,         nan,         nan,         nan,\n",
       "               nan, -1.06696097,         nan,         nan,         nan,\n",
       "               nan,         nan,         nan,         nan,         nan,\n",
       "               nan,         nan,         nan, -0.41679892, -0.74791039,\n",
       "               nan, -0.10842639, -0.67079535,         nan,         nan,\n",
       "               nan, -0.41456103,         nan,         nan,         nan,\n",
       "               nan])"
      ]
     },
     "execution_count": 17,
     "metadata": {},
     "output_type": "execute_result"
    }
   ],
   "source": [
    "perf_f['x'][0]"
   ]
  },
  {
   "cell_type": "code",
   "execution_count": null,
   "metadata": {},
   "outputs": [],
   "source": []
  }
 ],
 "metadata": {
  "kernelspec": {
   "display_name": "Python 3.8.10 ('old_tf': venv)",
   "language": "python",
   "name": "python3"
  },
  "language_info": {
   "codemirror_mode": {
    "name": "ipython",
    "version": 3
   },
   "file_extension": ".py",
   "mimetype": "text/x-python",
   "name": "python",
   "nbconvert_exporter": "python",
   "pygments_lexer": "ipython3",
   "version": "3.8.10"
  },
  "orig_nbformat": 4,
  "vscode": {
   "interpreter": {
    "hash": "7ca0d8e8b539da0244e0291643a867b2adfdaa50f1c8989ffdc5da760d406378"
   }
  }
 },
 "nbformat": 4,
 "nbformat_minor": 2
}
