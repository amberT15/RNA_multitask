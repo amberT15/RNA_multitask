{
 "cells": [
  {
   "cell_type": "code",
   "execution_count": 17,
   "id": "6f496aec",
   "metadata": {},
   "outputs": [],
   "source": [
    "import pandas as pd\n",
    "import numpy as np"
   ]
  },
  {
   "cell_type": "code",
   "execution_count": 7,
   "id": "35d6f673",
   "metadata": {},
   "outputs": [],
   "source": [
    "rna_local = pd.read_csv('./data/neuron_local/GSE173098_RNAloc_MPRA_counts.csv',index_col = 0)"
   ]
  },
  {
   "cell_type": "code",
   "execution_count": 8,
   "id": "dfb4f6e4",
   "metadata": {},
   "outputs": [
    {
     "data": {
      "text/html": [
       "<div>\n",
       "<style scoped>\n",
       "    .dataframe tbody tr th:only-of-type {\n",
       "        vertical-align: middle;\n",
       "    }\n",
       "\n",
       "    .dataframe tbody tr th {\n",
       "        vertical-align: top;\n",
       "    }\n",
       "\n",
       "    .dataframe thead th {\n",
       "        text-align: right;\n",
       "    }\n",
       "</style>\n",
       "<table border=\"1\" class=\"dataframe\">\n",
       "  <thead>\n",
       "    <tr style=\"text-align: right;\">\n",
       "      <th></th>\n",
       "      <th>synthetic library sequence</th>\n",
       "      <th>CAD soma 1</th>\n",
       "      <th>CAD soma 2</th>\n",
       "      <th>CAD soma 3</th>\n",
       "      <th>CAD neurite 1</th>\n",
       "      <th>CAD neurite 2</th>\n",
       "      <th>CAD neurite 3</th>\n",
       "      <th>Neuro-2a soma 1</th>\n",
       "      <th>Neuro-2a soma 2</th>\n",
       "      <th>Neuro-2a soma 3</th>\n",
       "      <th>Neuro-2a neurite 1</th>\n",
       "      <th>Neuro-2a neurite 2</th>\n",
       "      <th>Neuro-2a neurite 3</th>\n",
       "    </tr>\n",
       "  </thead>\n",
       "  <tbody>\n",
       "    <tr>\n",
       "      <th>0</th>\n",
       "      <td>CGAAATGGGCCGCATTGCTACGACCCTTTGGCGGACTGTTACTGAG...</td>\n",
       "      <td>471</td>\n",
       "      <td>377</td>\n",
       "      <td>341</td>\n",
       "      <td>99</td>\n",
       "      <td>144</td>\n",
       "      <td>143</td>\n",
       "      <td>255</td>\n",
       "      <td>394</td>\n",
       "      <td>231</td>\n",
       "      <td>228</td>\n",
       "      <td>188</td>\n",
       "      <td>172</td>\n",
       "    </tr>\n",
       "    <tr>\n",
       "      <th>1</th>\n",
       "      <td>CGAAATGGGCCGCATTGCGCGAACGCGGAACTTGCGCAGAAAAAAA...</td>\n",
       "      <td>19</td>\n",
       "      <td>8</td>\n",
       "      <td>11</td>\n",
       "      <td>0</td>\n",
       "      <td>7</td>\n",
       "      <td>4</td>\n",
       "      <td>5</td>\n",
       "      <td>13</td>\n",
       "      <td>5</td>\n",
       "      <td>3</td>\n",
       "      <td>5</td>\n",
       "      <td>6</td>\n",
       "    </tr>\n",
       "    <tr>\n",
       "      <th>2</th>\n",
       "      <td>CGAAATGGGCCGCATTGCGCTGGAAATGCGTTTTAAATTTTTTTTA...</td>\n",
       "      <td>2</td>\n",
       "      <td>1</td>\n",
       "      <td>8</td>\n",
       "      <td>15</td>\n",
       "      <td>59</td>\n",
       "      <td>2</td>\n",
       "      <td>3</td>\n",
       "      <td>3</td>\n",
       "      <td>3</td>\n",
       "      <td>15</td>\n",
       "      <td>0</td>\n",
       "      <td>9</td>\n",
       "    </tr>\n",
       "    <tr>\n",
       "      <th>3</th>\n",
       "      <td>CGAAATGGGCCGCATTGCTGGGCGGATTTCGTTTTTTTGTTTTGTT...</td>\n",
       "      <td>889</td>\n",
       "      <td>973</td>\n",
       "      <td>744</td>\n",
       "      <td>564</td>\n",
       "      <td>383</td>\n",
       "      <td>452</td>\n",
       "      <td>679</td>\n",
       "      <td>906</td>\n",
       "      <td>735</td>\n",
       "      <td>646</td>\n",
       "      <td>710</td>\n",
       "      <td>504</td>\n",
       "    </tr>\n",
       "    <tr>\n",
       "      <th>4</th>\n",
       "      <td>CGAAATGGGCCGCATTGCTTGTCAAACCTGCGGTGAAGGCGACAGC...</td>\n",
       "      <td>1345</td>\n",
       "      <td>1183</td>\n",
       "      <td>1005</td>\n",
       "      <td>297</td>\n",
       "      <td>783</td>\n",
       "      <td>872</td>\n",
       "      <td>1117</td>\n",
       "      <td>1420</td>\n",
       "      <td>1117</td>\n",
       "      <td>1541</td>\n",
       "      <td>941</td>\n",
       "      <td>649</td>\n",
       "    </tr>\n",
       "    <tr>\n",
       "      <th>...</th>\n",
       "      <td>...</td>\n",
       "      <td>...</td>\n",
       "      <td>...</td>\n",
       "      <td>...</td>\n",
       "      <td>...</td>\n",
       "      <td>...</td>\n",
       "      <td>...</td>\n",
       "      <td>...</td>\n",
       "      <td>...</td>\n",
       "      <td>...</td>\n",
       "      <td>...</td>\n",
       "      <td>...</td>\n",
       "      <td>...</td>\n",
       "    </tr>\n",
       "    <tr>\n",
       "      <th>48253</th>\n",
       "      <td>ATGGGGTTCGGTATGCGCTCGGGGAAGACCGTTCTACTTTCCTGAC...</td>\n",
       "      <td>3</td>\n",
       "      <td>0</td>\n",
       "      <td>0</td>\n",
       "      <td>0</td>\n",
       "      <td>0</td>\n",
       "      <td>0</td>\n",
       "      <td>0</td>\n",
       "      <td>0</td>\n",
       "      <td>2</td>\n",
       "      <td>0</td>\n",
       "      <td>0</td>\n",
       "      <td>0</td>\n",
       "    </tr>\n",
       "    <tr>\n",
       "      <th>48254</th>\n",
       "      <td>ATGGGGTTCGGTATGCGCGGAACCCATTTGCTTATCTAATATTTCT...</td>\n",
       "      <td>0</td>\n",
       "      <td>0</td>\n",
       "      <td>0</td>\n",
       "      <td>0</td>\n",
       "      <td>0</td>\n",
       "      <td>0</td>\n",
       "      <td>0</td>\n",
       "      <td>0</td>\n",
       "      <td>0</td>\n",
       "      <td>0</td>\n",
       "      <td>0</td>\n",
       "      <td>0</td>\n",
       "    </tr>\n",
       "    <tr>\n",
       "      <th>48255</th>\n",
       "      <td>ATGGGGTTCGGTATGCGCAATAATCCGATGCTATGAATGCAACCTG...</td>\n",
       "      <td>0</td>\n",
       "      <td>0</td>\n",
       "      <td>0</td>\n",
       "      <td>0</td>\n",
       "      <td>0</td>\n",
       "      <td>0</td>\n",
       "      <td>0</td>\n",
       "      <td>0</td>\n",
       "      <td>0</td>\n",
       "      <td>0</td>\n",
       "      <td>0</td>\n",
       "      <td>0</td>\n",
       "    </tr>\n",
       "    <tr>\n",
       "      <th>48256</th>\n",
       "      <td>ATGGGGTTCGGTATGCGCTTCCATAAACGTAATAATTATAATACTT...</td>\n",
       "      <td>0</td>\n",
       "      <td>0</td>\n",
       "      <td>0</td>\n",
       "      <td>0</td>\n",
       "      <td>0</td>\n",
       "      <td>0</td>\n",
       "      <td>0</td>\n",
       "      <td>0</td>\n",
       "      <td>0</td>\n",
       "      <td>0</td>\n",
       "      <td>0</td>\n",
       "      <td>0</td>\n",
       "    </tr>\n",
       "    <tr>\n",
       "      <th>48257</th>\n",
       "      <td>ATGGGGTTCGGTATGCGCCCAAAAGTTTGTATGTAACTAGGATAAG...</td>\n",
       "      <td>0</td>\n",
       "      <td>0</td>\n",
       "      <td>0</td>\n",
       "      <td>0</td>\n",
       "      <td>0</td>\n",
       "      <td>0</td>\n",
       "      <td>0</td>\n",
       "      <td>0</td>\n",
       "      <td>0</td>\n",
       "      <td>0</td>\n",
       "      <td>0</td>\n",
       "      <td>0</td>\n",
       "    </tr>\n",
       "  </tbody>\n",
       "</table>\n",
       "<p>47989 rows × 13 columns</p>\n",
       "</div>"
      ],
      "text/plain": [
       "                              synthetic library sequence  CAD soma 1  \\\n",
       "0      CGAAATGGGCCGCATTGCTACGACCCTTTGGCGGACTGTTACTGAG...         471   \n",
       "1      CGAAATGGGCCGCATTGCGCGAACGCGGAACTTGCGCAGAAAAAAA...          19   \n",
       "2      CGAAATGGGCCGCATTGCGCTGGAAATGCGTTTTAAATTTTTTTTA...           2   \n",
       "3      CGAAATGGGCCGCATTGCTGGGCGGATTTCGTTTTTTTGTTTTGTT...         889   \n",
       "4      CGAAATGGGCCGCATTGCTTGTCAAACCTGCGGTGAAGGCGACAGC...        1345   \n",
       "...                                                  ...         ...   \n",
       "48253  ATGGGGTTCGGTATGCGCTCGGGGAAGACCGTTCTACTTTCCTGAC...           3   \n",
       "48254  ATGGGGTTCGGTATGCGCGGAACCCATTTGCTTATCTAATATTTCT...           0   \n",
       "48255  ATGGGGTTCGGTATGCGCAATAATCCGATGCTATGAATGCAACCTG...           0   \n",
       "48256  ATGGGGTTCGGTATGCGCTTCCATAAACGTAATAATTATAATACTT...           0   \n",
       "48257  ATGGGGTTCGGTATGCGCCCAAAAGTTTGTATGTAACTAGGATAAG...           0   \n",
       "\n",
       "       CAD soma 2  CAD soma 3  CAD neurite 1  CAD neurite 2  CAD neurite 3  \\\n",
       "0             377         341             99            144            143   \n",
       "1               8          11              0              7              4   \n",
       "2               1           8             15             59              2   \n",
       "3             973         744            564            383            452   \n",
       "4            1183        1005            297            783            872   \n",
       "...           ...         ...            ...            ...            ...   \n",
       "48253           0           0              0              0              0   \n",
       "48254           0           0              0              0              0   \n",
       "48255           0           0              0              0              0   \n",
       "48256           0           0              0              0              0   \n",
       "48257           0           0              0              0              0   \n",
       "\n",
       "       Neuro-2a soma 1  Neuro-2a soma 2  Neuro-2a soma 3  Neuro-2a neurite 1  \\\n",
       "0                  255              394              231                 228   \n",
       "1                    5               13                5                   3   \n",
       "2                    3                3                3                  15   \n",
       "3                  679              906              735                 646   \n",
       "4                 1117             1420             1117                1541   \n",
       "...                ...              ...              ...                 ...   \n",
       "48253                0                0                2                   0   \n",
       "48254                0                0                0                   0   \n",
       "48255                0                0                0                   0   \n",
       "48256                0                0                0                   0   \n",
       "48257                0                0                0                   0   \n",
       "\n",
       "       Neuro-2a neurite 2  Neuro-2a neurite 3  \n",
       "0                     188                 172  \n",
       "1                       5                   6  \n",
       "2                       0                   9  \n",
       "3                     710                 504  \n",
       "4                     941                 649  \n",
       "...                   ...                 ...  \n",
       "48253                   0                   0  \n",
       "48254                   0                   0  \n",
       "48255                   0                   0  \n",
       "48256                   0                   0  \n",
       "48257                   0                   0  \n",
       "\n",
       "[47989 rows x 13 columns]"
      ]
     },
     "execution_count": 8,
     "metadata": {},
     "output_type": "execute_result"
    }
   ],
   "source": [
    "rna_local"
   ]
  },
  {
   "cell_type": "code",
   "execution_count": 37,
   "id": "57597eee",
   "metadata": {},
   "outputs": [],
   "source": [
    "def onehotcoding(seq):\n",
    "    IN_MAP = np.asarray([[0, 0, 0, 0],\n",
    "                     [1, 0, 0, 0],\n",
    "                     [0, 1, 0, 0],\n",
    "                     [0, 0, 1, 0],\n",
    "                     [0, 0, 0, 1]])\n",
    "    seq = seq.upper().replace('A', '1').replace('C', '2')\n",
    "    seq = seq.replace('G', '3').replace('T', '4').replace('N', '0')\n",
    "    return IN_MAP[np.array(list(seq)).astype(int)]"
   ]
  },
  {
   "cell_type": "code",
   "execution_count": 53,
   "id": "dab954ce",
   "metadata": {},
   "outputs": [],
   "source": [
    "x = []\n",
    "y = []\n",
    "for (i,row) in rna_local.iterrows():\n",
    "    seq = row['synthetic library sequence']\n",
    "    vector = row.values[1:]\n",
    "    onehot = onehotcoding(seq)\n",
    "    x.append(onehot)\n",
    "    y.append(np.array(vector).astype(int))"
   ]
  },
  {
   "cell_type": "code",
   "execution_count": 52,
   "id": "cf7a1e70",
   "metadata": {},
   "outputs": [
    {
     "data": {
      "text/plain": [
       "array([[471, 377, 341, ..., 228, 188, 172],\n",
       "       [19, 8, 11, ..., 3, 5, 6],\n",
       "       [2, 1, 8, ..., 15, 0, 9],\n",
       "       ...,\n",
       "       [0, 0, 0, ..., 0, 0, 0],\n",
       "       [0, 0, 0, ..., 0, 0, 0],\n",
       "       [0, 0, 0, ..., 0, 0, 0]], dtype=object)"
      ]
     },
     "execution_count": 52,
     "metadata": {},
     "output_type": "execute_result"
    }
   ],
   "source": [
    "np.array(y)"
   ]
  },
  {
   "cell_type": "code",
   "execution_count": 48,
   "id": "9578357d",
   "metadata": {
    "scrolled": true
   },
   "outputs": [
    {
     "ename": "TypeError",
     "evalue": "Object dtype dtype('O') has no native HDF5 equivalent",
     "output_type": "error",
     "traceback": [
      "\u001b[0;31m---------------------------------------------------------------------------\u001b[0m",
      "\u001b[0;31mTypeError\u001b[0m                                 Traceback (most recent call last)",
      "Input \u001b[0;32mIn [48]\u001b[0m, in \u001b[0;36m<module>\u001b[0;34m\u001b[0m\n\u001b[1;32m      3\u001b[0m h5f \u001b[38;5;241m=\u001b[39m h5py\u001b[38;5;241m.\u001b[39mFile(file_name, \u001b[38;5;124m'\u001b[39m\u001b[38;5;124mw\u001b[39m\u001b[38;5;124m'\u001b[39m)\n\u001b[1;32m      4\u001b[0m x \u001b[38;5;241m=\u001b[39m h5f\u001b[38;5;241m.\u001b[39mcreate_dataset(\u001b[38;5;124m'\u001b[39m\u001b[38;5;124mx\u001b[39m\u001b[38;5;124m'\u001b[39m,data \u001b[38;5;241m=\u001b[39m np\u001b[38;5;241m.\u001b[39marray(x))\n\u001b[0;32m----> 5\u001b[0m y \u001b[38;5;241m=\u001b[39m \u001b[43mh5f\u001b[49m\u001b[38;5;241;43m.\u001b[39;49m\u001b[43mcreate_dataset\u001b[49m\u001b[43m(\u001b[49m\u001b[38;5;124;43m'\u001b[39;49m\u001b[38;5;124;43my\u001b[39;49m\u001b[38;5;124;43m'\u001b[39;49m\u001b[43m,\u001b[49m\u001b[43mdata\u001b[49m\u001b[43m \u001b[49m\u001b[38;5;241;43m=\u001b[39;49m\u001b[43mnp\u001b[49m\u001b[38;5;241;43m.\u001b[39;49m\u001b[43marray\u001b[49m\u001b[43m(\u001b[49m\u001b[43my\u001b[49m\u001b[43m)\u001b[49m\u001b[43m)\u001b[49m\n",
      "File \u001b[0;32m~/tf_2/lib/python3.8/site-packages/h5py/_hl/group.py:149\u001b[0m, in \u001b[0;36mGroup.create_dataset\u001b[0;34m(self, name, shape, dtype, data, **kwds)\u001b[0m\n\u001b[1;32m    146\u001b[0m         parent_path, name \u001b[38;5;241m=\u001b[39m name\u001b[38;5;241m.\u001b[39mrsplit(\u001b[38;5;124mb\u001b[39m\u001b[38;5;124m'\u001b[39m\u001b[38;5;124m/\u001b[39m\u001b[38;5;124m'\u001b[39m, \u001b[38;5;241m1\u001b[39m)\n\u001b[1;32m    147\u001b[0m         group \u001b[38;5;241m=\u001b[39m \u001b[38;5;28mself\u001b[39m\u001b[38;5;241m.\u001b[39mrequire_group(parent_path)\n\u001b[0;32m--> 149\u001b[0m dsid \u001b[38;5;241m=\u001b[39m \u001b[43mdataset\u001b[49m\u001b[38;5;241;43m.\u001b[39;49m\u001b[43mmake_new_dset\u001b[49m\u001b[43m(\u001b[49m\u001b[43mgroup\u001b[49m\u001b[43m,\u001b[49m\u001b[43m \u001b[49m\u001b[43mshape\u001b[49m\u001b[43m,\u001b[49m\u001b[43m \u001b[49m\u001b[43mdtype\u001b[49m\u001b[43m,\u001b[49m\u001b[43m \u001b[49m\u001b[43mdata\u001b[49m\u001b[43m,\u001b[49m\u001b[43m \u001b[49m\u001b[43mname\u001b[49m\u001b[43m,\u001b[49m\u001b[43m \u001b[49m\u001b[38;5;241;43m*\u001b[39;49m\u001b[38;5;241;43m*\u001b[39;49m\u001b[43mkwds\u001b[49m\u001b[43m)\u001b[49m\n\u001b[1;32m    150\u001b[0m dset \u001b[38;5;241m=\u001b[39m dataset\u001b[38;5;241m.\u001b[39mDataset(dsid)\n\u001b[1;32m    151\u001b[0m \u001b[38;5;28;01mreturn\u001b[39;00m dset\n",
      "File \u001b[0;32m~/tf_2/lib/python3.8/site-packages/h5py/_hl/dataset.py:91\u001b[0m, in \u001b[0;36mmake_new_dset\u001b[0;34m(parent, shape, dtype, data, name, chunks, compression, shuffle, fletcher32, maxshape, compression_opts, fillvalue, scaleoffset, track_times, external, track_order, dcpl, allow_unknown_filter)\u001b[0m\n\u001b[1;32m     89\u001b[0m     \u001b[38;5;28;01melse\u001b[39;00m:\n\u001b[1;32m     90\u001b[0m         dtype \u001b[38;5;241m=\u001b[39m numpy\u001b[38;5;241m.\u001b[39mdtype(dtype)\n\u001b[0;32m---> 91\u001b[0m     tid \u001b[38;5;241m=\u001b[39m \u001b[43mh5t\u001b[49m\u001b[38;5;241;43m.\u001b[39;49m\u001b[43mpy_create\u001b[49m\u001b[43m(\u001b[49m\u001b[43mdtype\u001b[49m\u001b[43m,\u001b[49m\u001b[43m \u001b[49m\u001b[43mlogical\u001b[49m\u001b[38;5;241;43m=\u001b[39;49m\u001b[38;5;241;43m1\u001b[39;49m\u001b[43m)\u001b[49m\n\u001b[1;32m     93\u001b[0m \u001b[38;5;66;03m# Legacy\u001b[39;00m\n\u001b[1;32m     94\u001b[0m \u001b[38;5;28;01mif\u001b[39;00m \u001b[38;5;28many\u001b[39m((compression, shuffle, fletcher32, maxshape, scaleoffset)) \u001b[38;5;129;01mand\u001b[39;00m chunks \u001b[38;5;129;01mis\u001b[39;00m \u001b[38;5;28;01mFalse\u001b[39;00m:\n",
      "File \u001b[0;32mh5py/h5t.pyx:1663\u001b[0m, in \u001b[0;36mh5py.h5t.py_create\u001b[0;34m()\u001b[0m\n",
      "File \u001b[0;32mh5py/h5t.pyx:1687\u001b[0m, in \u001b[0;36mh5py.h5t.py_create\u001b[0;34m()\u001b[0m\n",
      "File \u001b[0;32mh5py/h5t.pyx:1747\u001b[0m, in \u001b[0;36mh5py.h5t.py_create\u001b[0;34m()\u001b[0m\n",
      "\u001b[0;31mTypeError\u001b[0m: Object dtype dtype('O') has no native HDF5 equivalent"
     ]
    }
   ],
   "source": [
    "import h5py\n",
    "file_name = './data/neuron_local/RNAloc.h5'\n",
    "h5f = h5py.File(file_name, 'w')\n",
    "x = h5f.create_dataset('x',data = np.array(x))\n",
    "y = h5f.create_dataset('y',data =np.array(y))"
   ]
  },
  {
   "cell_type": "code",
   "execution_count": null,
   "id": "ceda43fd",
   "metadata": {},
   "outputs": [],
   "source": []
  },
  {
   "cell_type": "code",
   "execution_count": 1,
   "id": "4c4e407f",
   "metadata": {},
   "outputs": [
    {
     "data": {
      "text/plain": [
       "<KeysViewHDF5 ['x', 'y']>"
      ]
     },
     "execution_count": 1,
     "metadata": {},
     "output_type": "execute_result"
    }
   ],
   "source": [
    "import h5py\n",
    "h5f = h5py.File('./data/RNA_loc/RNAloc.h5')\n",
    "h5f.keys()"
   ]
  },
  {
   "cell_type": "code",
   "execution_count": 3,
   "id": "6d4206a9",
   "metadata": {},
   "outputs": [
    {
     "data": {
      "text/plain": [
       "(47989, 12)"
      ]
     },
     "execution_count": 3,
     "metadata": {},
     "output_type": "execute_result"
    }
   ],
   "source": [
    "h5f['y'].shape"
   ]
  },
  {
   "cell_type": "code",
   "execution_count": 16,
   "id": "9777ab8c",
   "metadata": {},
   "outputs": [
    {
     "data": {
      "text/plain": [
       "50"
      ]
     },
     "execution_count": 16,
     "metadata": {},
     "output_type": "execute_result"
    }
   ],
   "source": [
    "len('CCACTCGATTAACATGTTAACAACATACTCGTCCGGCCGATCAGCGGCTA')"
   ]
  },
  {
   "cell_type": "code",
   "execution_count": 5,
   "id": "7dc94e6b",
   "metadata": {},
   "outputs": [],
   "source": [
    "import pandas as pd"
   ]
  },
  {
   "cell_type": "code",
   "execution_count": 9,
   "id": "5595c305",
   "metadata": {},
   "outputs": [],
   "source": [
    "df = pd.read_csv('./data/UTR/GSM3130435_egfp_unmod_1.csv',index_col=0)"
   ]
  },
  {
   "cell_type": "code",
   "execution_count": 36,
   "id": "37c85999",
   "metadata": {},
   "outputs": [
    {
     "data": {
      "text/html": [
       "<div>\n",
       "<style scoped>\n",
       "    .dataframe tbody tr th:only-of-type {\n",
       "        vertical-align: middle;\n",
       "    }\n",
       "\n",
       "    .dataframe tbody tr th {\n",
       "        vertical-align: top;\n",
       "    }\n",
       "\n",
       "    .dataframe thead th {\n",
       "        text-align: right;\n",
       "    }\n",
       "</style>\n",
       "<table border=\"1\" class=\"dataframe\">\n",
       "  <thead>\n",
       "    <tr style=\"text-align: right;\">\n",
       "      <th></th>\n",
       "      <th>utr</th>\n",
       "      <th>0</th>\n",
       "      <th>1</th>\n",
       "      <th>2</th>\n",
       "      <th>3</th>\n",
       "      <th>4</th>\n",
       "      <th>5</th>\n",
       "      <th>6</th>\n",
       "      <th>7</th>\n",
       "      <th>8</th>\n",
       "      <th>...</th>\n",
       "      <th>r5</th>\n",
       "      <th>r6</th>\n",
       "      <th>r7</th>\n",
       "      <th>r8</th>\n",
       "      <th>r9</th>\n",
       "      <th>r10</th>\n",
       "      <th>r11</th>\n",
       "      <th>r12</th>\n",
       "      <th>r13</th>\n",
       "      <th>rl</th>\n",
       "    </tr>\n",
       "  </thead>\n",
       "  <tbody>\n",
       "    <tr>\n",
       "      <th>120605</th>\n",
       "      <td>CCACTCGATTAACATGTTAACAACATACTCGTCCGGCCGATCAGCG...</td>\n",
       "      <td>1.365472e-04</td>\n",
       "      <td>1.090036e-04</td>\n",
       "      <td>0.000057</td>\n",
       "      <td>0.000033</td>\n",
       "      <td>0.000015</td>\n",
       "      <td>0.000016</td>\n",
       "      <td>9.415128e-06</td>\n",
       "      <td>0.000009</td>\n",
       "      <td>0.000008</td>\n",
       "      <td>...</td>\n",
       "      <td>0.033645</td>\n",
       "      <td>0.020343</td>\n",
       "      <td>0.019850</td>\n",
       "      <td>0.017988</td>\n",
       "      <td>0.019283</td>\n",
       "      <td>0.033252</td>\n",
       "      <td>0.033252</td>\n",
       "      <td>0.027581</td>\n",
       "      <td>0.035877</td>\n",
       "      <td>3.039939</td>\n",
       "    </tr>\n",
       "    <tr>\n",
       "      <th>11605</th>\n",
       "      <td>CAAATCATGTGCAGCCCTGGCGACCGTACTGCGGTACAAGAAAGTA...</td>\n",
       "      <td>6.661179e-05</td>\n",
       "      <td>6.952406e-05</td>\n",
       "      <td>0.000065</td>\n",
       "      <td>0.000048</td>\n",
       "      <td>0.000023</td>\n",
       "      <td>0.000020</td>\n",
       "      <td>1.128378e-05</td>\n",
       "      <td>0.000011</td>\n",
       "      <td>0.000010</td>\n",
       "      <td>...</td>\n",
       "      <td>0.049711</td>\n",
       "      <td>0.028540</td>\n",
       "      <td>0.027431</td>\n",
       "      <td>0.024766</td>\n",
       "      <td>0.024241</td>\n",
       "      <td>0.039457</td>\n",
       "      <td>0.039457</td>\n",
       "      <td>0.039840</td>\n",
       "      <td>0.038785</td>\n",
       "      <td>3.895109</td>\n",
       "    </tr>\n",
       "    <tr>\n",
       "      <th>128224</th>\n",
       "      <td>GTTATACTAGAAGAAACTTGAGATTATGGAGCAGTCCGTCAAGGAC...</td>\n",
       "      <td>8.798774e-05</td>\n",
       "      <td>8.087227e-05</td>\n",
       "      <td>0.000059</td>\n",
       "      <td>0.000035</td>\n",
       "      <td>0.000017</td>\n",
       "      <td>0.000016</td>\n",
       "      <td>8.516738e-06</td>\n",
       "      <td>0.000009</td>\n",
       "      <td>0.000009</td>\n",
       "      <td>...</td>\n",
       "      <td>0.042436</td>\n",
       "      <td>0.022460</td>\n",
       "      <td>0.025015</td>\n",
       "      <td>0.024275</td>\n",
       "      <td>0.021591</td>\n",
       "      <td>0.028353</td>\n",
       "      <td>0.028353</td>\n",
       "      <td>0.028963</td>\n",
       "      <td>0.041985</td>\n",
       "      <td>3.334524</td>\n",
       "    </tr>\n",
       "    <tr>\n",
       "      <th>239107</th>\n",
       "      <td>CTTAGACAAAAACAACGCGCTTTCCAGTATGCGGAGCCTTGACGGT...</td>\n",
       "      <td>7.773708e-05</td>\n",
       "      <td>7.108933e-05</td>\n",
       "      <td>0.000060</td>\n",
       "      <td>0.000038</td>\n",
       "      <td>0.000025</td>\n",
       "      <td>0.000016</td>\n",
       "      <td>9.738549e-06</td>\n",
       "      <td>0.000009</td>\n",
       "      <td>0.000009</td>\n",
       "      <td>...</td>\n",
       "      <td>0.041241</td>\n",
       "      <td>0.025793</td>\n",
       "      <td>0.022751</td>\n",
       "      <td>0.022632</td>\n",
       "      <td>0.026617</td>\n",
       "      <td>0.038302</td>\n",
       "      <td>0.038302</td>\n",
       "      <td>0.032788</td>\n",
       "      <td>0.031043</td>\n",
       "      <td>3.575082</td>\n",
       "    </tr>\n",
       "    <tr>\n",
       "      <th>59082</th>\n",
       "      <td>GTATCAAATCACGGCCAACCCGACGGAGTACCCCGCGTCGATGGTC...</td>\n",
       "      <td>4.373148e-05</td>\n",
       "      <td>4.452323e-05</td>\n",
       "      <td>0.000050</td>\n",
       "      <td>0.000051</td>\n",
       "      <td>0.000033</td>\n",
       "      <td>0.000026</td>\n",
       "      <td>1.494921e-05</td>\n",
       "      <td>0.000012</td>\n",
       "      <td>0.000011</td>\n",
       "      <td>...</td>\n",
       "      <td>0.071306</td>\n",
       "      <td>0.040719</td>\n",
       "      <td>0.033335</td>\n",
       "      <td>0.030367</td>\n",
       "      <td>0.033080</td>\n",
       "      <td>0.051449</td>\n",
       "      <td>0.051449</td>\n",
       "      <td>0.046052</td>\n",
       "      <td>0.036447</td>\n",
       "      <td>4.593712</td>\n",
       "    </tr>\n",
       "    <tr>\n",
       "      <th>...</th>\n",
       "      <td>...</td>\n",
       "      <td>...</td>\n",
       "      <td>...</td>\n",
       "      <td>...</td>\n",
       "      <td>...</td>\n",
       "      <td>...</td>\n",
       "      <td>...</td>\n",
       "      <td>...</td>\n",
       "      <td>...</td>\n",
       "      <td>...</td>\n",
       "      <td>...</td>\n",
       "      <td>...</td>\n",
       "      <td>...</td>\n",
       "      <td>...</td>\n",
       "      <td>...</td>\n",
       "      <td>...</td>\n",
       "      <td>...</td>\n",
       "      <td>...</td>\n",
       "      <td>...</td>\n",
       "      <td>...</td>\n",
       "      <td>...</td>\n",
       "    </tr>\n",
       "    <tr>\n",
       "      <th>321695</th>\n",
       "      <td>ACTAACGTGGGGCCTAAACAAGTGCAAACACCCCCACGGACCCCCA...</td>\n",
       "      <td>0.000000e+00</td>\n",
       "      <td>0.000000e+00</td>\n",
       "      <td>0.000000</td>\n",
       "      <td>0.000000</td>\n",
       "      <td>0.000000</td>\n",
       "      <td>0.000000</td>\n",
       "      <td>1.796780e-07</td>\n",
       "      <td>0.000000</td>\n",
       "      <td>0.000000</td>\n",
       "      <td>...</td>\n",
       "      <td>0.000000</td>\n",
       "      <td>1.000000</td>\n",
       "      <td>0.000000</td>\n",
       "      <td>0.000000</td>\n",
       "      <td>0.000000</td>\n",
       "      <td>0.000000</td>\n",
       "      <td>0.000000</td>\n",
       "      <td>0.000000</td>\n",
       "      <td>0.000000</td>\n",
       "      <td>5.800000</td>\n",
       "    </tr>\n",
       "    <tr>\n",
       "      <th>321690</th>\n",
       "      <td>GAAAGCGGTTGAAACTACTCATACGTACAAGGTAAACATTTAAAAG...</td>\n",
       "      <td>0.000000e+00</td>\n",
       "      <td>0.000000e+00</td>\n",
       "      <td>0.000000</td>\n",
       "      <td>0.000000</td>\n",
       "      <td>0.000000</td>\n",
       "      <td>0.000000</td>\n",
       "      <td>1.796780e-07</td>\n",
       "      <td>0.000000</td>\n",
       "      <td>0.000000</td>\n",
       "      <td>...</td>\n",
       "      <td>0.000000</td>\n",
       "      <td>1.000000</td>\n",
       "      <td>0.000000</td>\n",
       "      <td>0.000000</td>\n",
       "      <td>0.000000</td>\n",
       "      <td>0.000000</td>\n",
       "      <td>0.000000</td>\n",
       "      <td>0.000000</td>\n",
       "      <td>0.000000</td>\n",
       "      <td>5.800000</td>\n",
       "    </tr>\n",
       "    <tr>\n",
       "      <th>254099</th>\n",
       "      <td>GGCTATGGCCGAAATAAATAAAGCGCGAGCCCGTAGGTACGAGCAA...</td>\n",
       "      <td>1.749259e-07</td>\n",
       "      <td>0.000000e+00</td>\n",
       "      <td>0.000000</td>\n",
       "      <td>0.000000</td>\n",
       "      <td>0.000000</td>\n",
       "      <td>0.000000</td>\n",
       "      <td>0.000000e+00</td>\n",
       "      <td>0.000000</td>\n",
       "      <td>0.000000</td>\n",
       "      <td>...</td>\n",
       "      <td>0.000000</td>\n",
       "      <td>0.000000</td>\n",
       "      <td>0.000000</td>\n",
       "      <td>0.000000</td>\n",
       "      <td>0.000000</td>\n",
       "      <td>0.000000</td>\n",
       "      <td>0.000000</td>\n",
       "      <td>0.000000</td>\n",
       "      <td>0.000000</td>\n",
       "      <td>0.000000</td>\n",
       "    </tr>\n",
       "    <tr>\n",
       "      <th>321677</th>\n",
       "      <td>CCGGCCAGTGCGCTGAAATACGTATAAGGTGGGTCGACGTAAAAAA...</td>\n",
       "      <td>0.000000e+00</td>\n",
       "      <td>0.000000e+00</td>\n",
       "      <td>0.000000</td>\n",
       "      <td>0.000000</td>\n",
       "      <td>0.000000</td>\n",
       "      <td>0.000000</td>\n",
       "      <td>1.796780e-07</td>\n",
       "      <td>0.000000</td>\n",
       "      <td>0.000000</td>\n",
       "      <td>...</td>\n",
       "      <td>0.000000</td>\n",
       "      <td>1.000000</td>\n",
       "      <td>0.000000</td>\n",
       "      <td>0.000000</td>\n",
       "      <td>0.000000</td>\n",
       "      <td>0.000000</td>\n",
       "      <td>0.000000</td>\n",
       "      <td>0.000000</td>\n",
       "      <td>0.000000</td>\n",
       "      <td>5.800000</td>\n",
       "    </tr>\n",
       "    <tr>\n",
       "      <th>306331</th>\n",
       "      <td>GTACAATTACTTGACCCGATAGCTGTTAATTGTATGAAAGAAAAAA...</td>\n",
       "      <td>0.000000e+00</td>\n",
       "      <td>2.173986e-07</td>\n",
       "      <td>0.000000</td>\n",
       "      <td>0.000000</td>\n",
       "      <td>0.000000</td>\n",
       "      <td>0.000000</td>\n",
       "      <td>0.000000e+00</td>\n",
       "      <td>0.000000</td>\n",
       "      <td>0.000000</td>\n",
       "      <td>...</td>\n",
       "      <td>0.000000</td>\n",
       "      <td>0.000000</td>\n",
       "      <td>0.000000</td>\n",
       "      <td>0.000000</td>\n",
       "      <td>0.000000</td>\n",
       "      <td>0.000000</td>\n",
       "      <td>0.000000</td>\n",
       "      <td>0.000000</td>\n",
       "      <td>0.000000</td>\n",
       "      <td>1.000000</td>\n",
       "    </tr>\n",
       "  </tbody>\n",
       "</table>\n",
       "<p>326033 rows × 32 columns</p>\n",
       "</div>"
      ],
      "text/plain": [
       "                                                      utr             0  \\\n",
       "120605  CCACTCGATTAACATGTTAACAACATACTCGTCCGGCCGATCAGCG...  1.365472e-04   \n",
       "11605   CAAATCATGTGCAGCCCTGGCGACCGTACTGCGGTACAAGAAAGTA...  6.661179e-05   \n",
       "128224  GTTATACTAGAAGAAACTTGAGATTATGGAGCAGTCCGTCAAGGAC...  8.798774e-05   \n",
       "239107  CTTAGACAAAAACAACGCGCTTTCCAGTATGCGGAGCCTTGACGGT...  7.773708e-05   \n",
       "59082   GTATCAAATCACGGCCAACCCGACGGAGTACCCCGCGTCGATGGTC...  4.373148e-05   \n",
       "...                                                   ...           ...   \n",
       "321695  ACTAACGTGGGGCCTAAACAAGTGCAAACACCCCCACGGACCCCCA...  0.000000e+00   \n",
       "321690  GAAAGCGGTTGAAACTACTCATACGTACAAGGTAAACATTTAAAAG...  0.000000e+00   \n",
       "254099  GGCTATGGCCGAAATAAATAAAGCGCGAGCCCGTAGGTACGAGCAA...  1.749259e-07   \n",
       "321677  CCGGCCAGTGCGCTGAAATACGTATAAGGTGGGTCGACGTAAAAAA...  0.000000e+00   \n",
       "306331  GTACAATTACTTGACCCGATAGCTGTTAATTGTATGAAAGAAAAAA...  0.000000e+00   \n",
       "\n",
       "                   1         2         3         4         5             6  \\\n",
       "120605  1.090036e-04  0.000057  0.000033  0.000015  0.000016  9.415128e-06   \n",
       "11605   6.952406e-05  0.000065  0.000048  0.000023  0.000020  1.128378e-05   \n",
       "128224  8.087227e-05  0.000059  0.000035  0.000017  0.000016  8.516738e-06   \n",
       "239107  7.108933e-05  0.000060  0.000038  0.000025  0.000016  9.738549e-06   \n",
       "59082   4.452323e-05  0.000050  0.000051  0.000033  0.000026  1.494921e-05   \n",
       "...              ...       ...       ...       ...       ...           ...   \n",
       "321695  0.000000e+00  0.000000  0.000000  0.000000  0.000000  1.796780e-07   \n",
       "321690  0.000000e+00  0.000000  0.000000  0.000000  0.000000  1.796780e-07   \n",
       "254099  0.000000e+00  0.000000  0.000000  0.000000  0.000000  0.000000e+00   \n",
       "321677  0.000000e+00  0.000000  0.000000  0.000000  0.000000  1.796780e-07   \n",
       "306331  2.173986e-07  0.000000  0.000000  0.000000  0.000000  0.000000e+00   \n",
       "\n",
       "               7         8  ...        r5        r6        r7        r8  \\\n",
       "120605  0.000009  0.000008  ...  0.033645  0.020343  0.019850  0.017988   \n",
       "11605   0.000011  0.000010  ...  0.049711  0.028540  0.027431  0.024766   \n",
       "128224  0.000009  0.000009  ...  0.042436  0.022460  0.025015  0.024275   \n",
       "239107  0.000009  0.000009  ...  0.041241  0.025793  0.022751  0.022632   \n",
       "59082   0.000012  0.000011  ...  0.071306  0.040719  0.033335  0.030367   \n",
       "...          ...       ...  ...       ...       ...       ...       ...   \n",
       "321695  0.000000  0.000000  ...  0.000000  1.000000  0.000000  0.000000   \n",
       "321690  0.000000  0.000000  ...  0.000000  1.000000  0.000000  0.000000   \n",
       "254099  0.000000  0.000000  ...  0.000000  0.000000  0.000000  0.000000   \n",
       "321677  0.000000  0.000000  ...  0.000000  1.000000  0.000000  0.000000   \n",
       "306331  0.000000  0.000000  ...  0.000000  0.000000  0.000000  0.000000   \n",
       "\n",
       "              r9       r10       r11       r12       r13        rl  \n",
       "120605  0.019283  0.033252  0.033252  0.027581  0.035877  3.039939  \n",
       "11605   0.024241  0.039457  0.039457  0.039840  0.038785  3.895109  \n",
       "128224  0.021591  0.028353  0.028353  0.028963  0.041985  3.334524  \n",
       "239107  0.026617  0.038302  0.038302  0.032788  0.031043  3.575082  \n",
       "59082   0.033080  0.051449  0.051449  0.046052  0.036447  4.593712  \n",
       "...          ...       ...       ...       ...       ...       ...  \n",
       "321695  0.000000  0.000000  0.000000  0.000000  0.000000  5.800000  \n",
       "321690  0.000000  0.000000  0.000000  0.000000  0.000000  5.800000  \n",
       "254099  0.000000  0.000000  0.000000  0.000000  0.000000  0.000000  \n",
       "321677  0.000000  0.000000  0.000000  0.000000  0.000000  5.800000  \n",
       "306331  0.000000  0.000000  0.000000  0.000000  0.000000  1.000000  \n",
       "\n",
       "[326033 rows x 32 columns]"
      ]
     },
     "execution_count": 36,
     "metadata": {},
     "output_type": "execute_result"
    }
   ],
   "source": [
    "df"
   ]
  },
  {
   "cell_type": "code",
   "execution_count": 13,
   "id": "2765b3ea",
   "metadata": {},
   "outputs": [
    {
     "data": {
      "text/plain": [
       "50"
      ]
     },
     "execution_count": 13,
     "metadata": {},
     "output_type": "execute_result"
    }
   ],
   "source": [
    "len(seq[0])"
   ]
  },
  {
   "cell_type": "code",
   "execution_count": 15,
   "id": "7dfa1553",
   "metadata": {},
   "outputs": [],
   "source": [
    "for i in seq.values:\n",
    "    l = len(i)\n",
    "    if l != 50:\n",
    "        break"
   ]
  },
  {
   "cell_type": "code",
   "execution_count": 20,
   "id": "c18c774a",
   "metadata": {},
   "outputs": [
    {
     "data": {
      "text/plain": [
       "utr            CCACTCGATTAACATGTTAACAACATACTCGTCCGGCCGATCAGCG...\n",
       "0                                                       0.000137\n",
       "1                                                       0.000109\n",
       "2                                                       0.000057\n",
       "3                                                       0.000033\n",
       "4                                                       0.000015\n",
       "5                                                       0.000016\n",
       "6                                                       0.000009\n",
       "7                                                       0.000009\n",
       "8                                                       0.000008\n",
       "9                                                       0.000009\n",
       "10                                                      0.000015\n",
       "11                                                      0.000015\n",
       "12                                                      0.000013\n",
       "13                                                      0.000017\n",
       "total_reads                                              12126.0\n",
       "total                                                   0.000463\n",
       "r0                                                      0.295038\n",
       "r1                                                      0.235525\n",
       "r2                                                      0.123528\n",
       "r3                                                      0.071705\n",
       "r4                                                      0.033134\n",
       "r5                                                      0.033645\n",
       "r6                                                      0.020343\n",
       "r7                                                       0.01985\n",
       "r8                                                      0.017988\n",
       "r9                                                      0.019283\n",
       "r10                                                     0.033252\n",
       "r11                                                     0.033252\n",
       "r12                                                     0.027581\n",
       "r13                                                     0.035877\n",
       "rl                                                      3.039939\n",
       "Name: 120605, dtype: object"
      ]
     },
     "execution_count": 20,
     "metadata": {},
     "output_type": "execute_result"
    }
   ],
   "source": [
    "df.iloc[0]"
   ]
  },
  {
   "cell_type": "code",
   "execution_count": 37,
   "id": "a4d6059b",
   "metadata": {},
   "outputs": [],
   "source": [
    "r_sum = 0\n",
    "for i in range(0,13):\n",
    "    key = str(i)\n",
    "    r_sum += df.iloc[0][key]"
   ]
  },
  {
   "cell_type": "code",
   "execution_count": 38,
   "id": "44c3bb63",
   "metadata": {},
   "outputs": [
    {
     "data": {
      "text/plain": [
       "0.00044620780714908005"
      ]
     },
     "execution_count": 38,
     "metadata": {},
     "output_type": "execute_result"
    }
   ],
   "source": [
    "r_sum"
   ]
  },
  {
   "cell_type": "code",
   "execution_count": 40,
   "id": "67833250",
   "metadata": {},
   "outputs": [
    {
     "data": {
      "text/plain": [
       "0.00013164825900565028"
      ]
     },
     "execution_count": 40,
     "metadata": {},
     "output_type": "execute_result"
    }
   ],
   "source": [
    "0.295038 * r_sum"
   ]
  },
  {
   "cell_type": "code",
   "execution_count": 39,
   "id": "a891603d",
   "metadata": {},
   "outputs": [
    {
     "data": {
      "text/plain": [
       "0.30703183092049235"
      ]
     },
     "execution_count": 39,
     "metadata": {},
     "output_type": "execute_result"
    }
   ],
   "source": [
    "0.000137 / 0.00044620780714908005"
   ]
  },
  {
   "cell_type": "code",
   "execution_count": 22,
   "id": "67a0a257",
   "metadata": {},
   "outputs": [
    {
     "data": {
      "text/plain": [
       "12126.0"
      ]
     },
     "execution_count": 22,
     "metadata": {},
     "output_type": "execute_result"
    }
   ],
   "source": [
    "df.iloc[0]['total_reads']"
   ]
  },
  {
   "cell_type": "code",
   "execution_count": 23,
   "id": "b1577567",
   "metadata": {},
   "outputs": [
    {
     "data": {
      "text/plain": [
       "1.655771044074252"
      ]
     },
     "execution_count": 23,
     "metadata": {},
     "output_type": "execute_result"
    }
   ],
   "source": [
    "0.000136547175002*12126.0"
   ]
  },
  {
   "cell_type": "code",
   "execution_count": 41,
   "id": "e501d462",
   "metadata": {},
   "outputs": [],
   "source": [
    "rfractions = ['r' + str(x) for x in range(14)]"
   ]
  },
  {
   "cell_type": "code",
   "execution_count": 42,
   "id": "231b6cef",
   "metadata": {},
   "outputs": [
    {
     "data": {
      "text/plain": [
       "['r0',\n",
       " 'r1',\n",
       " 'r2',\n",
       " 'r3',\n",
       " 'r4',\n",
       " 'r5',\n",
       " 'r6',\n",
       " 'r7',\n",
       " 'r8',\n",
       " 'r9',\n",
       " 'r10',\n",
       " 'r11',\n",
       " 'r12',\n",
       " 'r13']"
      ]
     },
     "execution_count": 42,
     "metadata": {},
     "output_type": "execute_result"
    }
   ],
   "source": [
    "rfractions"
   ]
  },
  {
   "cell_type": "code",
   "execution_count": null,
   "id": "08e4f64a",
   "metadata": {},
   "outputs": [],
   "source": []
  }
 ],
 "metadata": {
  "kernelspec": {
   "display_name": "Python 3 (ipykernel)",
   "language": "python",
   "name": "python3"
  },
  "language_info": {
   "codemirror_mode": {
    "name": "ipython",
    "version": 3
   },
   "file_extension": ".py",
   "mimetype": "text/x-python",
   "name": "python",
   "nbconvert_exporter": "python",
   "pygments_lexer": "ipython3",
   "version": "3.8.10"
  }
 },
 "nbformat": 4,
 "nbformat_minor": 5
}
