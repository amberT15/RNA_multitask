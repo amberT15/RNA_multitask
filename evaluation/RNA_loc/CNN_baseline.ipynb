{
 "cells": [
  {
   "cell_type": "code",
   "execution_count": 1,
   "metadata": {},
   "outputs": [
    {
     "name": "stderr",
     "output_type": "stream",
     "text": [
      "2023-06-01 13:00:15.091809: I tensorflow/core/platform/cpu_feature_guard.cc:182] This TensorFlow binary is optimized to use available CPU instructions in performance-critical operations.\n",
      "To enable the following instructions: AVX2 FMA, in other operations, rebuild TensorFlow with the appropriate compiler flags.\n",
      "2023-06-01 13:00:15.701307: W tensorflow/compiler/tf2tensorrt/utils/py_utils.cc:38] TF-TRT Warning: Could not find TensorRT\n"
     ]
    }
   ],
   "source": [
    "import h5py\n",
    "import sys\n",
    "import numpy as np\n",
    "import os\n",
    "os.environ['CUDA_VISIBLE_DEVICES'] = '0'\n",
    "import tensorflow as tf\n",
    "from tensorflow import keras\n",
    "import sys\n",
    "sys.path.append('/home/ztang/multitask_RNA/evaluation/')\n",
    "from sklearn import model_selection\n",
    "import scipy.stats as stats\n",
    "import pandas as pd\n",
    "\n",
    "data_file = '/home/ztang/multitask_RNA/data/RNA_loc/RNAloc.h5'"
   ]
  },
  {
   "cell_type": "code",
   "execution_count": 2,
   "metadata": {},
   "outputs": [],
   "source": [
    "f = h5py.File(data_file,'r')\n",
    "x = f['x'][()]\n",
    "y = f['y'][()]\n",
    "x_train, x_test, y_train, y_test = model_selection.train_test_split(x, y, test_size=0.1,random_state=42)"
   ]
  },
  {
   "cell_type": "code",
   "execution_count": 3,
   "metadata": {},
   "outputs": [
    {
     "name": "stderr",
     "output_type": "stream",
     "text": [
      "2023-06-01 13:00:17.736685: I tensorflow/core/common_runtime/gpu/gpu_device.cc:1635] Created device /job:localhost/replica:0/task:0/device:GPU:0 with 78865 MB memory:  -> device: 0, name: NVIDIA A100 80GB PCIe, pci bus id: 0000:07:00.0, compute capability: 8.0\n"
     ]
    }
   ],
   "source": [
    "def rna_loc_cnn (input_shape):\n",
    "    #initializer\n",
    "    initializer = keras.initializers.RandomNormal(mean=0.0, stddev=0.005)\n",
    "    #input layer\n",
    "    inputs = keras.Input(shape=input_shape, name='sequence')\n",
    "\n",
    "    #first conv block\n",
    "    nn = keras.layers.Conv1D(filters=196,\n",
    "                             kernel_size=11,\n",
    "                             padding='same',\n",
    "                             kernel_initializer = initializer)(inputs)\n",
    "    nn = keras.layers.BatchNormalization()(nn)\n",
    "    nn = keras.layers.Activation('exponential', name='filter_activation')(nn)\n",
    "    nn = keras.layers.Dropout(0.2)(nn)\n",
    "    nn = keras.layers.MaxPooling1D(pool_size=5)(nn)\n",
    "\n",
    "    #second conv block\n",
    "    nn = keras.layers.Conv1D(filters=256,\n",
    "                             kernel_size=7,\n",
    "                             padding='same',\n",
    "                             kernel_initializer = initializer)(nn)\n",
    "    nn = keras.layers.BatchNormalization()(nn)\n",
    "    nn = keras.layers.Activation('relu')(nn)\n",
    "    nn = keras.layers.MaxPool1D(pool_size=4)(nn)\n",
    "    nn = keras.layers.Dropout(0.2)(nn)\n",
    "\n",
    "    #output block\n",
    "    nn = keras.layers.Flatten()(nn)\n",
    "    nn = keras.layers.Dense(512,kernel_initializer=initializer)(nn)\n",
    "    nn = keras.layers.BatchNormalization()(nn)\n",
    "    nn = keras.layers.Activation('relu')(nn)\n",
    "    nn = keras.layers.Dropout(0.5)(nn)\n",
    "\n",
    "    nn = keras.layers.Dense(128,kernel_initializer=initializer)(nn)\n",
    "    nn = keras.layers.BatchNormalization()(nn)\n",
    "    nn = keras.layers.Activation('relu')(nn)\n",
    "    nn = keras.layers.Dropout(0.5)(nn)\n",
    "\n",
    "    outputs = keras.layers.Dense(1,activation = 'sigmoid',kernel_initializer=initializer)(nn)\n",
    "    model =  keras.Model(inputs=inputs, outputs=outputs)\n",
    "    return model\n",
    "\n",
    "earlyStopping_callback = tf.keras.callbacks.EarlyStopping(\n",
    "            patience=10, restore_best_weights=True\n",
    "        )\n",
    "reduce_lr = tf.keras.callbacks.ReduceLROnPlateau(\n",
    "            monitor='val_loss', factor=0.2,\n",
    "            patience=5, min_lr=1e-6)\n",
    "auroc = tf.keras.metrics.AUC(curve='ROC', name='auroc')\n",
    "aupr = tf.keras.metrics.AUC(curve='PR', name='aupr')\n",
    "loss = tf.keras.losses.BinaryCrossentropy(from_logits=False, label_smoothing=0)\n"
   ]
  },
  {
   "cell_type": "code",
   "execution_count": 4,
   "metadata": {},
   "outputs": [
    {
     "name": "stderr",
     "output_type": "stream",
     "text": [
      "/home/ztang/.conda/envs/jax_tf/lib/python3.9/site-packages/keras/initializers/initializers.py:120: UserWarning: The initializer RandomNormal is unseeded and being called multiple times, which will return identical values each time (even if the initializer is unseeded). Please update your code to provide a seed to the initializer, or avoid using the same initalizer instance more than once.\n",
      "  warnings.warn(\n",
      "2023-06-01 13:00:20.461902: I tensorflow/compiler/xla/stream_executor/cuda/cuda_dnn.cc:424] Loaded cuDNN version 8600\n",
      "2023-06-01 13:00:20.932033: I tensorflow/compiler/xla/stream_executor/cuda/cuda_blas.cc:637] TensorFloat-32 will be used for the matrix multiplication. This will only be logged once.\n",
      "2023-06-01 13:00:20.935258: I tensorflow/compiler/xla/service/service.cc:169] XLA service 0x7fe6080182b0 initialized for platform CUDA (this does not guarantee that XLA will be used). Devices:\n",
      "2023-06-01 13:00:20.935274: I tensorflow/compiler/xla/service/service.cc:177]   StreamExecutor device (0): NVIDIA A100 80GB PCIe, Compute Capability 8.0\n",
      "2023-06-01 13:00:20.938831: I tensorflow/compiler/mlir/tensorflow/utils/dump_mlir_util.cc:269] disabling MLIR crash reproducer, set env var `MLIR_CRASH_REPRODUCER_DIRECTORY` to enable.\n",
      "2023-06-01 13:00:21.047603: I ./tensorflow/compiler/jit/device_compiler.h:180] Compiled cluster using XLA!  This line is logged at most once for the lifetime of the process.\n"
     ]
    }
   ],
   "source": [
    "optimizer = tf.keras.optimizers.Adam(learning_rate=0.0001)\n",
    "model_neurite = rna_loc_cnn((150,4))\n",
    "model_neurite.compile(\n",
    "                loss = loss,\n",
    "                metrics=['accuracy',auroc,aupr],\n",
    "                optimizer=optimizer,\n",
    "            )\n",
    "result = model_neurite.fit(x_train,y_train[:,0],\n",
    "        batch_size=128,\n",
    "        validation_split=0.1,\n",
    "        epochs=100,\n",
    "        shuffle=True,\n",
    "        verbose=0,\n",
    "        callbacks=[earlyStopping_callback,reduce_lr],\n",
    "    )\n",
    "# import matplotlib.pyplot as plt\n",
    "# plt.plot(result.history['accuracy'])\n",
    "# plt.plot(result.history['val_accuracy'])"
   ]
  },
  {
   "cell_type": "code",
   "execution_count": 5,
   "metadata": {},
   "outputs": [],
   "source": [
    "optimizer = tf.keras.optimizers.Adam(learning_rate=0.0001)\n",
    "model_soma = rna_loc_cnn((150,4))\n",
    "model_soma.compile(\n",
    "                loss = loss,\n",
    "                metrics=['accuracy',auroc,aupr],\n",
    "                optimizer=optimizer,\n",
    "            )\n",
    "result = model_soma.fit(x_train,y_train[:,1],\n",
    "        batch_size=128,\n",
    "        validation_split=0.1,\n",
    "        epochs=100,\n",
    "        shuffle=True,\n",
    "        verbose=0,\n",
    "        callbacks=[earlyStopping_callback,reduce_lr],\n",
    "    )\n",
    "# import matplotlib.pyplot as plt\n",
    "# plt.plot(result.history['accuracy'])\n",
    "# plt.plot(result.history['val_accuracy'])"
   ]
  },
  {
   "cell_type": "code",
   "execution_count": 6,
   "metadata": {},
   "outputs": [
    {
     "name": "stdout",
     "output_type": "stream",
     "text": [
      "148/148 [==============================] - 0s 1ms/step\n",
      "148/148 [==============================] - 0s 820us/step\n"
     ]
    }
   ],
   "source": [
    "nurite_pred = model_neurite.predict(x_test)\n",
    "soma_pred = model_soma.predict(x_test)\n",
    "local_p = np.abs(nurite_pred - soma_pred)\n",
    "target_p = y_test.sum(axis = 1)"
   ]
  },
  {
   "cell_type": "code",
   "execution_count": 7,
   "metadata": {},
   "outputs": [
    {
     "name": "stdout",
     "output_type": "stream",
     "text": [
      "AUROC\n",
      "0.7682299701738147\n",
      "AUPR\n",
      "0.1837449304559851\n"
     ]
    }
   ],
   "source": [
    "from sklearn import metrics\n",
    "fpr, tpr, thresholds = metrics.roc_curve(target_p, local_p, pos_label=1)\n",
    "print('AUROC')\n",
    "print(metrics.auc(fpr, tpr))\n",
    "print('AUPR')\n",
    "print(metrics.average_precision_score(target_p,local_p))"
   ]
  },
  {
   "cell_type": "code",
   "execution_count": 8,
   "metadata": {},
   "outputs": [
    {
     "name": "stdout",
     "output_type": "stream",
     "text": [
      "148/148 [==============================] - 0s 2ms/step - loss: 0.0767 - accuracy: 0.9837 - auroc: 0.7409 - aupr: 0.1888\n"
     ]
    }
   ],
   "source": [
    "y_pred = model_neurite.evaluate(x_test,y_test[:,0])"
   ]
  },
  {
   "cell_type": "code",
   "execution_count": 9,
   "metadata": {},
   "outputs": [
    {
     "name": "stdout",
     "output_type": "stream",
     "text": [
      "148/148 [==============================] - 0s 2ms/step - loss: 0.0306 - accuracy: 0.9941 - auroc: 0.8108 - aupr: 0.0630\n"
     ]
    }
   ],
   "source": [
    "y_pred = model_soma.evaluate(x_test,y_test[:,1])"
   ]
  },
  {
   "cell_type": "code",
   "execution_count": null,
   "metadata": {},
   "outputs": [],
   "source": []
  }
 ],
 "metadata": {
  "kernelspec": {
   "display_name": "jax_tf",
   "language": "python",
   "name": "python3"
  },
  "language_info": {
   "codemirror_mode": {
    "name": "ipython",
    "version": 3
   },
   "file_extension": ".py",
   "mimetype": "text/x-python",
   "name": "python",
   "nbconvert_exporter": "python",
   "pygments_lexer": "ipython3",
   "version": "3.9.16"
  },
  "orig_nbformat": 4
 },
 "nbformat": 4,
 "nbformat_minor": 2
}
