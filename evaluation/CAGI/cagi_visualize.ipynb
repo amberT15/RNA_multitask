{
 "cells": [
  {
   "attachments": {},
   "cell_type": "markdown",
   "id": "6b98cb6b",
   "metadata": {},
   "source": [
    "## One hot models\n",
    "include one-hot CNN and one-hot Residual models"
   ]
  },
  {
   "cell_type": "code",
   "execution_count": 1,
   "id": "3db3994e",
   "metadata": {},
   "outputs": [
    {
     "name": "stderr",
     "output_type": "stream",
     "text": [
      "2023-05-16 00:44:57.635886: I tensorflow/core/platform/cpu_feature_guard.cc:182] This TensorFlow binary is optimized to use available CPU instructions in performance-critical operations.\n",
      "To enable the following instructions: AVX2 FMA, in other operations, rebuild TensorFlow with the appropriate compiler flags.\n",
      "2023-05-16 00:44:58.211346: W tensorflow/compiler/tf2tensorrt/utils/py_utils.cc:38] TF-TRT Warning: Could not find TensorRT\n"
     ]
    }
   ],
   "source": [
    "import tensorflow as tf\n",
    "import h5py \n",
    "import scipy.stats\n",
    "import numpy as np\n",
    "import os\n",
    "import pandas as pd\n",
    "os.environ['CUDA_VISIBLE_DEVICES'] = '0'\n",
    "celltype_list = ['K562','HepG2']"
   ]
  },
  {
   "cell_type": "code",
   "execution_count": 18,
   "id": "c95956e0",
   "metadata": {},
   "outputs": [
    {
     "name": "stdout",
     "output_type": "stream",
     "text": [
      "###########K562########\n",
      "base_CNN_model.h5\n"
     ]
    },
    {
     "name": "stderr",
     "output_type": "stream",
     "text": [
      "/home/ztang/.conda/envs/jax_tf/lib/python3.9/site-packages/keras/initializers/initializers.py:120: UserWarning: The initializer RandomNormal is unseeded and being called multiple times, which will return identical values each time (even if the initializer is unseeded). Please update your code to provide a seed to the initializer, or avoid using the same initalizer instance more than once.\n",
      "  warnings.warn(\n"
     ]
    },
    {
     "name": "stdout",
     "output_type": "stream",
     "text": [
      "{'PKLR': 0.42567737884642554}\n",
      "0.42567737884642554\n",
      "model.h5\n",
      "{'PKLR': 0.5509142238286401}\n",
      "0.5509142238286401\n",
      "model_0.h5\n",
      "{'PKLR': 0.36862601391068034}\n",
      "0.36862601391068034\n",
      "###########HepG2########\n",
      "base_CNN_model.h5\n"
     ]
    },
    {
     "name": "stderr",
     "output_type": "stream",
     "text": [
      "/home/ztang/.conda/envs/jax_tf/lib/python3.9/site-packages/keras/initializers/initializers.py:120: UserWarning: The initializer RandomNormal is unseeded and being called multiple times, which will return identical values each time (even if the initializer is unseeded). Please update your code to provide a seed to the initializer, or avoid using the same initalizer instance more than once.\n",
      "  warnings.warn(\n"
     ]
    },
    {
     "name": "stdout",
     "output_type": "stream",
     "text": [
      "{'LDLR': 0.3140139515408628, 'SORT1': 0.26455503079262954, 'F9': 0.35978456128820147}\n",
      "0.3127845145405646\n",
      "model.h5\n",
      "{'LDLR': 0.5142895208051962, 'SORT1': 0.4411468053560604, 'F9': 0.5025298928547497}\n",
      "0.4859887396720021\n",
      "model_0.h5\n",
      "{'LDLR': 0.4117558009709818, 'SORT1': 0.20156550190800085, 'F9': 0.2907904992830292}\n",
      "0.3013706007206706\n"
     ]
    }
   ],
   "source": [
    "tf.get_logger().setLevel('ERROR')\n",
    "for celltype in celltype_list:\n",
    "    cnn_dir = '/home/ztang/multitask_RNA/model/lenti_MPRA_onehot/'+celltype+'/base_CNN_model.h5'\n",
    "    rb_dir = '/home/ztang/multitask_RNA/model/lenti_MPRA_onehot/'+celltype+'/model.h5'\n",
    "    mprann_dir = '/home/ztang/multitask_RNA/model_rep/MPRAnn/'+celltype+'/model_0.h5'\n",
    "    print('###########' + celltype + '########')\n",
    "    exp_df = pd.read_csv('/home/ztang/multitask_RNA/data/CAGI/'+celltype+'/metadata.csv')\n",
    "    target = exp_df['6'].values.tolist()\n",
    "    \n",
    "    file = h5py.File(\"/home/ztang/multitask_RNA/data/CAGI/\"+celltype+\"/onehot.h5\", \"r\")\n",
    "    alt = file['alt']\n",
    "    ref = file['ref']\n",
    "\n",
    "    for model_dir in [cnn_dir,rb_dir,mprann_dir]:\n",
    "        print(model_dir.split('/')[-1])\n",
    "        model = tf.keras.models.load_model(model_dir)\n",
    "        alt_pred = model.predict(alt,verbose=0)\n",
    "        ref_pred = model.predict(ref,verbose = 0)\n",
    "        pred = alt_pred - ref_pred\n",
    "        perf = {}\n",
    "        for exp in exp_df['8'].unique():\n",
    "            sub_df = exp_df[exp_df['8'] == exp]\n",
    "            exp_target = np.array(target)[sub_df.index.to_list()]\n",
    "            exp_pred = np.squeeze(pred)[sub_df.index.to_list()]\n",
    "            perf[exp] = scipy.stats.pearsonr(exp_pred,exp_target)[0]\n",
    "        print(perf)\n",
    "        print(np.mean(list(perf.values())))\n",
    "\n"
   ]
  },
  {
   "cell_type": "code",
   "execution_count": null,
   "id": "a3214f4a",
   "metadata": {},
   "outputs": [],
   "source": []
  },
  {
   "attachments": {},
   "cell_type": "markdown",
   "id": "60cf13e8",
   "metadata": {},
   "source": []
  },
  {
   "attachments": {},
   "cell_type": "markdown",
   "id": "45294847",
   "metadata": {},
   "source": [
    "## Embedding models\n",
    "GPN embedding trained models"
   ]
  },
  {
   "cell_type": "code",
   "execution_count": 1,
   "id": "c4025429",
   "metadata": {},
   "outputs": [
    {
     "name": "stderr",
     "output_type": "stream",
     "text": [
      "2023-05-18 14:55:00.195360: I tensorflow/core/platform/cpu_feature_guard.cc:182] This TensorFlow binary is optimized to use available CPU instructions in performance-critical operations.\n",
      "To enable the following instructions: AVX2 FMA, in other operations, rebuild TensorFlow with the appropriate compiler flags.\n",
      "2023-05-18 14:55:00.877993: W tensorflow/compiler/tf2tensorrt/utils/py_utils.cc:38] TF-TRT Warning: Could not find TensorRT\n"
     ]
    }
   ],
   "source": [
    "import tensorflow as tf\n",
    "import h5py \n",
    "import scipy.stats\n",
    "import numpy as np\n",
    "import os\n",
    "import pandas as pd\n",
    "os.environ['CUDA_VISIBLE_DEVICES'] = '0'\n",
    "celltype_list = ['K562','HepG2']"
   ]
  },
  {
   "cell_type": "code",
   "execution_count": 2,
   "id": "805d9207",
   "metadata": {},
   "outputs": [
    {
     "name": "stdout",
     "output_type": "stream",
     "text": [
      "######K562######\n",
      "WARNING:tensorflow:Keras is training/fitting/evaluating on array-like data. Keras may not be optimized for this format, so if your input data format is supported by TensorFlow I/O (https://github.com/tensorflow/io) we recommend using that to load a Dataset instead.\n"
     ]
    },
    {
     "name": "stderr",
     "output_type": "stream",
     "text": [
      "2023-05-18 14:55:02.883370: I tensorflow/core/common_runtime/gpu/gpu_device.cc:1635] Created device /job:localhost/replica:0/task:0/device:GPU:0 with 78865 MB memory:  -> device: 0, name: NVIDIA A100 80GB PCIe, pci bus id: 0000:07:00.0, compute capability: 8.0\n",
      "/home/ztang/.conda/envs/jax_tf/lib/python3.9/site-packages/keras/initializers/initializers.py:120: UserWarning: The initializer RandomNormal is unseeded and being called multiple times, which will return identical values each time (even if the initializer is unseeded). Please update your code to provide a seed to the initializer, or avoid using the same initalizer instance more than once.\n",
      "  warnings.warn(\n",
      "2023-05-18 14:55:04.396765: I tensorflow/compiler/xla/stream_executor/cuda/cuda_blas.cc:637] TensorFloat-32 will be used for the matrix multiplication. This will only be logged once.\n",
      "2023-05-18 14:55:04.495357: I tensorflow/compiler/xla/stream_executor/cuda/cuda_dnn.cc:424] Loaded cuDNN version 8600\n"
     ]
    },
    {
     "name": "stdout",
     "output_type": "stream",
     "text": [
      "WARNING:tensorflow:Keras is training/fitting/evaluating on array-like data. Keras may not be optimized for this format, so if your input data format is supported by TensorFlow I/O (https://github.com/tensorflow/io) we recommend using that to load a Dataset instead.\n",
      "{'PKLR': 0.4567031168164604}\n",
      "0.4567031168164604\n",
      "######HepG2######\n",
      "WARNING:tensorflow:Keras is training/fitting/evaluating on array-like data. Keras may not be optimized for this format, so if your input data format is supported by TensorFlow I/O (https://github.com/tensorflow/io) we recommend using that to load a Dataset instead.\n"
     ]
    },
    {
     "name": "stderr",
     "output_type": "stream",
     "text": [
      "/home/ztang/.conda/envs/jax_tf/lib/python3.9/site-packages/keras/initializers/initializers.py:120: UserWarning: The initializer RandomNormal is unseeded and being called multiple times, which will return identical values each time (even if the initializer is unseeded). Please update your code to provide a seed to the initializer, or avoid using the same initalizer instance more than once.\n",
      "  warnings.warn(\n"
     ]
    },
    {
     "name": "stdout",
     "output_type": "stream",
     "text": [
      "WARNING:tensorflow:Keras is training/fitting/evaluating on array-like data. Keras may not be optimized for this format, so if your input data format is supported by TensorFlow I/O (https://github.com/tensorflow/io) we recommend using that to load a Dataset instead.\n",
      "{'LDLR': 0.4163374859338064, 'SORT1': 0.2790767128295285, 'F9': 0.4366837545072331}\n",
      "0.37736598442352265\n"
     ]
    }
   ],
   "source": [
    "for celltype in celltype_list:\n",
    "    print('######'+celltype+'######')\n",
    "    #Load model and dataset\n",
    "    model_dir = '/home/ztang/multitask_RNA/model/lenti_MPRA_embed/'+celltype+'/gpn.h5'\n",
    "    data = '/home/ztang/multitask_RNA/data/CAGI_embed/'+celltype+'/gpn.h5'\n",
    "    file = h5py.File(data,'r')\n",
    "    model = tf.keras.models.load_model(model_dir)\n",
    "    \n",
    "    #Read CAGI metadata\n",
    "    exp_df = pd.read_csv('/home/ztang/multitask_RNA/data/CAGI/'+celltype+'/metadata.csv')\n",
    "    target = exp_df['6'].values.tolist()\n",
    "\n",
    "    #zero-shot predictions\n",
    "    alt_pred = model.predict(file['alt'],verbose = 0)\n",
    "    ref_pred = model.predict(file['ref'],verbose=0)\n",
    "    pred = alt_pred - ref_pred\n",
    "\n",
    "    #evaluations\n",
    "    perf = {}\n",
    "    for exp in exp_df['8'].unique():\n",
    "        sub_df = exp_df[exp_df['8'] == exp]\n",
    "        exp_target = np.array(target)[sub_df.index.to_list()]\n",
    "        exp_pred = np.squeeze(pred)[sub_df.index.to_list()]\n",
    "        perf[exp] = scipy.stats.pearsonr(exp_pred,exp_target)[0]\n",
    "    print(perf)\n",
    "    print(np.mean(list(perf.values())))"
   ]
  },
  {
   "cell_type": "code",
   "execution_count": 3,
   "id": "dfbba139",
   "metadata": {},
   "outputs": [
    {
     "data": {
      "text/plain": [
       "<KeysViewHDF5 ['alt', 'ref']>"
      ]
     },
     "execution_count": 3,
     "metadata": {},
     "output_type": "execute_result"
    }
   ],
   "source": [
    "file.keys()"
   ]
  },
  {
   "cell_type": "code",
   "execution_count": null,
   "id": "0c219519",
   "metadata": {},
   "outputs": [],
   "source": []
  }
 ],
 "metadata": {
  "kernelspec": {
   "display_name": "Python 3.8.10 ('sealion_env': venv)",
   "language": "python",
   "name": "python3"
  },
  "language_info": {
   "codemirror_mode": {
    "name": "ipython",
    "version": 3
   },
   "file_extension": ".py",
   "mimetype": "text/x-python",
   "name": "python",
   "nbconvert_exporter": "python",
   "pygments_lexer": "ipython3",
   "version": "3.9.16"
  },
  "vscode": {
   "interpreter": {
    "hash": "7af5d8680701852ae53b163bbff3c93bbf756fff6d9db5099a4b55b46d482aea"
   }
  }
 },
 "nbformat": 4,
 "nbformat_minor": 5
}
