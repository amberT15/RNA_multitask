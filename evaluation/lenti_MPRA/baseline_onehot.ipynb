{
 "cells": [
  {
   "attachments": {},
   "cell_type": "markdown",
   "metadata": {},
   "source": [
    "## Train Model"
   ]
  },
  {
   "cell_type": "code",
   "execution_count": 1,
   "metadata": {},
   "outputs": [
    {
     "name": "stderr",
     "output_type": "stream",
     "text": [
      "2023-05-04 16:56:08.363971: I tensorflow/core/platform/cpu_feature_guard.cc:182] This TensorFlow binary is optimized to use available CPU instructions in performance-critical operations.\n",
      "To enable the following instructions: AVX2 FMA, in other operations, rebuild TensorFlow with the appropriate compiler flags.\n",
      "2023-05-04 16:56:08.893127: W tensorflow/compiler/tf2tensorrt/utils/py_utils.cc:38] TF-TRT Warning: Could not find TensorRT\n"
     ]
    }
   ],
   "source": [
    "import h5py\n",
    "import sys\n",
    "import mpra_model\n",
    "import numpy as np\n",
    "import os\n",
    "import tensorflow as tf\n",
    "os.environ['CUDA_VISIBLE_DEVICES'] = '0'\n",
    "from sklearn import model_selection\n",
    "import scipy.stats\n",
    "celltype = 'K562'\n",
    "file = '/home/ztang/multitask_RNA/data/lenti_MPRA/'+celltype+'_onehot.h5'\n",
    "save_model = '/home/ztang/multitask_RNA/model/lenti_MPRA_onehot/'+celltype+'/model.h5'"
   ]
  },
  {
   "cell_type": "code",
   "execution_count": 2,
   "metadata": {},
   "outputs": [],
   "source": [
    "f = h5py.File(file, 'r')\n",
    "x = f['onehot'][()]\n",
    "y = f['target'][()]\n",
    "x = np.swapaxes(x,1,2)\n",
    "x_train, x_test, y_train, y_test = model_selection.train_test_split(x, y, test_size=0.1,random_state=42)"
   ]
  },
  {
   "cell_type": "code",
   "execution_count": 3,
   "metadata": {},
   "outputs": [
    {
     "name": "stderr",
     "output_type": "stream",
     "text": [
      "2023-05-04 16:56:10.816198: I tensorflow/core/common_runtime/gpu/gpu_device.cc:1635] Created device /job:localhost/replica:0/task:0/device:GPU:0 with 78865 MB memory:  -> device: 0, name: NVIDIA A100 80GB PCIe, pci bus id: 0000:07:00.0, compute capability: 8.0\n",
      "/home/ztang/.conda/envs/jax_tf/lib/python3.9/site-packages/keras/initializers/initializers.py:120: UserWarning: The initializer RandomNormal is unseeded and being called multiple times, which will return identical values each time (even if the initializer is unseeded). Please update your code to provide a seed to the initializer, or avoid using the same initalizer instance more than once.\n",
      "  warnings.warn(\n"
     ]
    }
   ],
   "source": [
    "model = mpra_model.ResNet((230,4),1)\n",
    "earlyStopping_callback = tf.keras.callbacks.EarlyStopping(\n",
    "            patience=10, restore_best_weights=True\n",
    "        )\n",
    "reduce_lr = tf.keras.callbacks.ReduceLROnPlateau(\n",
    "            monitor='val_loss', factor=0.2,\n",
    "            patience=5, min_lr=1e-6)\n",
    "\n",
    "optimizer = tf.keras.optimizers.Adam(learning_rate=0.001)\n",
    "\n",
    "checkpoint = tf.keras.callbacks.ModelCheckpoint(save_model,\n",
    "                                    monitor='val_loss',\n",
    "                                    save_best_only=True,\n",
    "                                    mode = 'min',\n",
    "                                    save_freq='epoch',)\n",
    "model.compile(\n",
    "                loss=\"mean_squared_error\",\n",
    "                metrics=[\"mse\", \"mae\"],\n",
    "                optimizer=optimizer,\n",
    "            )"
   ]
  },
  {
   "cell_type": "code",
   "execution_count": 4,
   "metadata": {},
   "outputs": [
    {
     "name": "stdout",
     "output_type": "stream",
     "text": [
      "Epoch 1/100\n"
     ]
    },
    {
     "name": "stderr",
     "output_type": "stream",
     "text": [
      "2023-05-04 16:56:15.892459: I tensorflow/compiler/xla/stream_executor/cuda/cuda_dnn.cc:424] Loaded cuDNN version 8600\n",
      "2023-05-04 16:56:16.448433: I tensorflow/compiler/xla/stream_executor/cuda/cuda_blas.cc:637] TensorFloat-32 will be used for the matrix multiplication. This will only be logged once.\n",
      "2023-05-04 16:56:16.450228: I tensorflow/compiler/xla/service/service.cc:169] XLA service 0x561001d03be0 initialized for platform CUDA (this does not guarantee that XLA will be used). Devices:\n",
      "2023-05-04 16:56:16.450245: I tensorflow/compiler/xla/service/service.cc:177]   StreamExecutor device (0): NVIDIA A100 80GB PCIe, Compute Capability 8.0\n",
      "2023-05-04 16:56:16.453624: I tensorflow/compiler/mlir/tensorflow/utils/dump_mlir_util.cc:269] disabling MLIR crash reproducer, set env var `MLIR_CRASH_REPRODUCER_DIRECTORY` to enable.\n",
      "2023-05-04 16:56:16.561271: I ./tensorflow/compiler/jit/device_compiler.h:180] Compiled cluster using XLA!  This line is logged at most once for the lifetime of the process.\n"
     ]
    },
    {
     "name": "stdout",
     "output_type": "stream",
     "text": [
      "1432/1432 - 28s - loss: 0.1861 - mse: 0.1861 - mae: 0.3298 - val_loss: 0.1677 - val_mse: 0.1677 - val_mae: 0.3248 - lr: 0.0010 - 28s/epoch - 20ms/step\n",
      "Epoch 2/100\n",
      "1432/1432 - 21s - loss: 0.1537 - mse: 0.1537 - mae: 0.2993 - val_loss: 0.1338 - val_mse: 0.1338 - val_mae: 0.2773 - lr: 0.0010 - 21s/epoch - 15ms/step\n",
      "Epoch 3/100\n",
      "1432/1432 - 21s - loss: 0.1437 - mse: 0.1437 - mae: 0.2890 - val_loss: 0.1339 - val_mse: 0.1339 - val_mae: 0.2826 - lr: 0.0010 - 21s/epoch - 15ms/step\n",
      "Epoch 4/100\n",
      "1432/1432 - 21s - loss: 0.1370 - mse: 0.1370 - mae: 0.2821 - val_loss: 0.1315 - val_mse: 0.1315 - val_mae: 0.2697 - lr: 0.0010 - 21s/epoch - 15ms/step\n",
      "Epoch 5/100\n",
      "1432/1432 - 21s - loss: 0.1324 - mse: 0.1324 - mae: 0.2775 - val_loss: 0.1279 - val_mse: 0.1279 - val_mae: 0.2712 - lr: 0.0010 - 21s/epoch - 15ms/step\n",
      "Epoch 6/100\n",
      "1432/1432 - 21s - loss: 0.1293 - mse: 0.1293 - mae: 0.2740 - val_loss: 0.1253 - val_mse: 0.1253 - val_mae: 0.2625 - lr: 0.0010 - 21s/epoch - 15ms/step\n",
      "Epoch 7/100\n",
      "1432/1432 - 21s - loss: 0.1258 - mse: 0.1258 - mae: 0.2701 - val_loss: 0.1242 - val_mse: 0.1242 - val_mae: 0.2619 - lr: 0.0010 - 21s/epoch - 15ms/step\n",
      "Epoch 8/100\n",
      "1432/1432 - 21s - loss: 0.1227 - mse: 0.1227 - mae: 0.2668 - val_loss: 0.1178 - val_mse: 0.1178 - val_mae: 0.2580 - lr: 0.0010 - 21s/epoch - 15ms/step\n",
      "Epoch 9/100\n",
      "1432/1432 - 21s - loss: 0.1201 - mse: 0.1201 - mae: 0.2641 - val_loss: 0.1256 - val_mse: 0.1256 - val_mae: 0.2655 - lr: 0.0010 - 21s/epoch - 15ms/step\n",
      "Epoch 10/100\n",
      "1432/1432 - 21s - loss: 0.1177 - mse: 0.1177 - mae: 0.2619 - val_loss: 0.1175 - val_mse: 0.1175 - val_mae: 0.2602 - lr: 0.0010 - 21s/epoch - 15ms/step\n",
      "Epoch 11/100\n",
      "1432/1432 - 21s - loss: 0.1148 - mse: 0.1148 - mae: 0.2588 - val_loss: 0.1271 - val_mse: 0.1271 - val_mae: 0.2628 - lr: 0.0010 - 21s/epoch - 15ms/step\n",
      "Epoch 12/100\n",
      "1432/1432 - 21s - loss: 0.1123 - mse: 0.1123 - mae: 0.2560 - val_loss: 0.1285 - val_mse: 0.1285 - val_mae: 0.2642 - lr: 0.0010 - 21s/epoch - 15ms/step\n",
      "Epoch 13/100\n",
      "1432/1432 - 21s - loss: 0.1106 - mse: 0.1106 - mae: 0.2543 - val_loss: 0.1126 - val_mse: 0.1126 - val_mae: 0.2511 - lr: 0.0010 - 21s/epoch - 15ms/step\n",
      "Epoch 14/100\n",
      "1432/1432 - 21s - loss: 0.1089 - mse: 0.1089 - mae: 0.2524 - val_loss: 0.1142 - val_mse: 0.1142 - val_mae: 0.2523 - lr: 0.0010 - 21s/epoch - 15ms/step\n",
      "Epoch 15/100\n",
      "1432/1432 - 21s - loss: 0.1070 - mse: 0.1070 - mae: 0.2503 - val_loss: 0.1295 - val_mse: 0.1295 - val_mae: 0.2670 - lr: 0.0010 - 21s/epoch - 15ms/step\n",
      "Epoch 16/100\n",
      "1432/1432 - 21s - loss: 0.1043 - mse: 0.1043 - mae: 0.2475 - val_loss: 0.1226 - val_mse: 0.1226 - val_mae: 0.2589 - lr: 0.0010 - 21s/epoch - 15ms/step\n",
      "Epoch 17/100\n",
      "1432/1432 - 21s - loss: 0.1030 - mse: 0.1030 - mae: 0.2461 - val_loss: 0.1137 - val_mse: 0.1137 - val_mae: 0.2534 - lr: 0.0010 - 21s/epoch - 15ms/step\n",
      "Epoch 18/100\n",
      "1432/1432 - 21s - loss: 0.1012 - mse: 0.1012 - mae: 0.2442 - val_loss: 0.1113 - val_mse: 0.1113 - val_mae: 0.2508 - lr: 0.0010 - 21s/epoch - 15ms/step\n",
      "Epoch 19/100\n",
      "1432/1432 - 21s - loss: 0.0997 - mse: 0.0997 - mae: 0.2425 - val_loss: 0.1118 - val_mse: 0.1118 - val_mae: 0.2517 - lr: 0.0010 - 21s/epoch - 15ms/step\n",
      "Epoch 20/100\n",
      "1432/1432 - 21s - loss: 0.0978 - mse: 0.0978 - mae: 0.2404 - val_loss: 0.1515 - val_mse: 0.1515 - val_mae: 0.2846 - lr: 0.0010 - 21s/epoch - 15ms/step\n",
      "Epoch 21/100\n",
      "1432/1432 - 21s - loss: 0.0963 - mse: 0.0963 - mae: 0.2386 - val_loss: 0.1130 - val_mse: 0.1130 - val_mae: 0.2523 - lr: 0.0010 - 21s/epoch - 15ms/step\n",
      "Epoch 22/100\n",
      "1432/1432 - 21s - loss: 0.0947 - mse: 0.0947 - mae: 0.2369 - val_loss: 0.1190 - val_mse: 0.1190 - val_mae: 0.2564 - lr: 0.0010 - 21s/epoch - 15ms/step\n",
      "Epoch 23/100\n",
      "1432/1432 - 21s - loss: 0.0938 - mse: 0.0938 - mae: 0.2359 - val_loss: 0.1152 - val_mse: 0.1152 - val_mae: 0.2521 - lr: 0.0010 - 21s/epoch - 15ms/step\n",
      "Epoch 24/100\n",
      "1432/1432 - 21s - loss: 0.0875 - mse: 0.0875 - mae: 0.2283 - val_loss: 0.1170 - val_mse: 0.1170 - val_mae: 0.2540 - lr: 2.0000e-04 - 21s/epoch - 15ms/step\n",
      "Epoch 25/100\n",
      "1432/1432 - 21s - loss: 0.0857 - mse: 0.0857 - mae: 0.2260 - val_loss: 0.1139 - val_mse: 0.1139 - val_mae: 0.2514 - lr: 2.0000e-04 - 21s/epoch - 15ms/step\n",
      "Epoch 26/100\n",
      "1432/1432 - 21s - loss: 0.0843 - mse: 0.0843 - mae: 0.2244 - val_loss: 0.1119 - val_mse: 0.1119 - val_mae: 0.2495 - lr: 2.0000e-04 - 21s/epoch - 15ms/step\n",
      "Epoch 27/100\n",
      "1432/1432 - 21s - loss: 0.0831 - mse: 0.0831 - mae: 0.2231 - val_loss: 0.1206 - val_mse: 0.1206 - val_mae: 0.2564 - lr: 2.0000e-04 - 21s/epoch - 15ms/step\n",
      "Epoch 28/100\n",
      "1432/1432 - 21s - loss: 0.0831 - mse: 0.0831 - mae: 0.2230 - val_loss: 0.1126 - val_mse: 0.1126 - val_mae: 0.2501 - lr: 2.0000e-04 - 21s/epoch - 15ms/step\n"
     ]
    }
   ],
   "source": [
    "result = model.fit(x_train,y_train,\n",
    "        batch_size=128,\n",
    "        validation_split=0.1,\n",
    "        epochs=100,\n",
    "        shuffle=True,\n",
    "        verbose=2,\n",
    "        callbacks=[earlyStopping_callback,checkpoint,reduce_lr],\n",
    "    )\n"
   ]
  },
  {
   "cell_type": "code",
   "execution_count": 5,
   "metadata": {},
   "outputs": [
    {
     "data": {
      "text/plain": [
       "[<matplotlib.lines.Line2D at 0x7fd104707d90>]"
      ]
     },
     "execution_count": 5,
     "metadata": {},
     "output_type": "execute_result"
    },
    {
     "data": {
      "image/png": "[encoded data removed]",
      "text/plain": [
       "<Figure size 640x480 with 1 Axes>"
      ]
     },
     "metadata": {},
     "output_type": "display_data"
    }
   ],
   "source": [
    "import matplotlib.pyplot as plt\n",
    "plt.plot(result.history['val_loss'])"
   ]
  },
  {
   "cell_type": "code",
   "execution_count": 6,
   "metadata": {},
   "outputs": [
    {
     "name": "stdout",
     "output_type": "stream",
     "text": [
      "708/708 [==============================] - 1s 2ms/step\n"
     ]
    },
    {
     "data": {
      "text/plain": [
       "PearsonRResult(statistic=0.772497329447513, pvalue=0.0)"
      ]
     },
     "execution_count": 6,
     "metadata": {},
     "output_type": "execute_result"
    }
   ],
   "source": [
    "y_pred = model.predict(x_test)\n",
    "scipy.stats.pearsonr(np.squeeze(y_pred),y_test)"
   ]
  },
  {
   "attachments": {},
   "cell_type": "markdown",
   "metadata": {},
   "source": [
    "## Test model on corresponding CAGI"
   ]
  },
  {
   "cell_type": "code",
   "execution_count": 1,
   "metadata": {},
   "outputs": [
    {
     "name": "stderr",
     "output_type": "stream",
     "text": [
      "2023-05-04 17:12:45.041688: I tensorflow/core/platform/cpu_feature_guard.cc:182] This TensorFlow binary is optimized to use available CPU instructions in performance-critical operations.\n",
      "To enable the following instructions: AVX2 FMA, in other operations, rebuild TensorFlow with the appropriate compiler flags.\n",
      "2023-05-04 17:12:45.625612: W tensorflow/compiler/tf2tensorrt/utils/py_utils.cc:38] TF-TRT Warning: Could not find TensorRT\n"
     ]
    }
   ],
   "source": [
    "import tensorflow as tf\n",
    "from tensorflow import keras\n",
    "import h5py\n",
    "import scipy.stats\n",
    "import numpy as np\n",
    "import os\n",
    "import pandas as pd\n",
    "os.environ['CUDA_VISIBLE_DEVICES'] = '0'\n",
    "celltype = 'K562'"
   ]
  },
  {
   "cell_type": "code",
   "execution_count": 2,
   "metadata": {},
   "outputs": [
    {
     "name": "stderr",
     "output_type": "stream",
     "text": [
      "2023-05-04 17:12:48.345618: I tensorflow/core/common_runtime/gpu/gpu_device.cc:1635] Created device /job:localhost/replica:0/task:0/device:GPU:0 with 78865 MB memory:  -> device: 0, name: NVIDIA A100 80GB PCIe, pci bus id: 0000:07:00.0, compute capability: 8.0\n",
      "/home/ztang/.conda/envs/jax_tf/lib/python3.9/site-packages/keras/initializers/initializers.py:120: UserWarning: The initializer RandomNormal is unseeded and being called multiple times, which will return identical values each time (even if the initializer is unseeded). Please update your code to provide a seed to the initializer, or avoid using the same initalizer instance more than once.\n",
      "  warnings.warn(\n"
     ]
    }
   ],
   "source": [
    "model = keras.models.load_model('/home/ztang/multitask_RNA/model/lenti_MPRA_onehot/'+celltype+'/model.h5')"
   ]
  },
  {
   "cell_type": "code",
   "execution_count": 3,
   "metadata": {},
   "outputs": [
    {
     "name": "stdout",
     "output_type": "stream",
     "text": [
      "WARNING:tensorflow:Keras is training/fitting/evaluating on array-like data. Keras may not be optimized for this format, so if your input data format is supported by TensorFlow I/O (https://github.com/tensorflow/io) we recommend using that to load a Dataset instead.\n"
     ]
    },
    {
     "name": "stderr",
     "output_type": "stream",
     "text": [
      "2023-05-04 17:12:51.014371: I tensorflow/compiler/xla/stream_executor/cuda/cuda_dnn.cc:424] Loaded cuDNN version 8600\n"
     ]
    },
    {
     "name": "stdout",
     "output_type": "stream",
     "text": [
      "45/45 [==============================] - 2s 4ms/step\n"
     ]
    },
    {
     "name": "stderr",
     "output_type": "stream",
     "text": [
      "2023-05-04 17:12:51.563083: I tensorflow/compiler/xla/stream_executor/cuda/cuda_blas.cc:637] TensorFloat-32 will be used for the matrix multiplication. This will only be logged once.\n"
     ]
    },
    {
     "name": "stdout",
     "output_type": "stream",
     "text": [
      "WARNING:tensorflow:Keras is training/fitting/evaluating on array-like data. Keras may not be optimized for this format, so if your input data format is supported by TensorFlow I/O (https://github.com/tensorflow/io) we recommend using that to load a Dataset instead.\n",
      "45/45 [==============================] - 0s 2ms/step\n"
     ]
    },
    {
     "data": {
      "text/plain": [
       "(1409, 1)"
      ]
     },
     "execution_count": 3,
     "metadata": {},
     "output_type": "execute_result"
    }
   ],
   "source": [
    "file = h5py.File(\"/home/ztang/multitask_RNA/data/CAGI/\"+celltype+\"/onehot.h5\", \"r\")\n",
    "alt = file['alt']\n",
    "ref = file['ref']\n",
    "alt_pred = model.predict(alt)\n",
    "ref_pred = model.predict(ref)\n",
    "pred = alt_pred - ref_pred\n",
    "pred.shape"
   ]
  },
  {
   "cell_type": "code",
   "execution_count": 4,
   "metadata": {},
   "outputs": [],
   "source": [
    "exp_df = pd.read_csv('/home/ztang/multitask_RNA/data/CAGI/'+celltype+'/metadata.csv')\n",
    "target = exp_df['6'].values.tolist()"
   ]
  },
  {
   "cell_type": "code",
   "execution_count": 5,
   "metadata": {},
   "outputs": [
    {
     "name": "stdout",
     "output_type": "stream",
     "text": [
      "PKLR\n",
      "0.5509142238286401\n"
     ]
    },
    {
     "ename": "",
     "evalue": "",
     "output_type": "error",
     "traceback": [
      "\u001b[1;31mThe Kernel crashed while executing code in the the current cell or a previous cell. Please review the code in the cell(s) to identify a possible cause of the failure. Click <a href='https://aka.ms/vscodeJupyterKernelCrash'>here</a> for more info. View Jupyter <a href='command:jupyter.viewOutput'>log</a> for further details."
     ]
    }
   ],
   "source": [
    "start_idx=0\n",
    "perf = []\n",
    "for exp in exp_df['8'].unique():\n",
    "    sub_df = exp_df[exp_df['8'] == exp]\n",
    "    exp_target = target[start_idx:sub_df.index[-1]+1]\n",
    "    exp_pred = np.squeeze(pred)[start_idx:sub_df.index[-1]+1]\n",
    "    print(exp)\n",
    "    perf.append(scipy.stats.pearsonr(exp_pred,exp_target)[0])\n",
    "    print(scipy.stats.pearsonr(exp_pred,exp_target)[0])"
   ]
  },
  {
   "cell_type": "code",
   "execution_count": 17,
   "metadata": {},
   "outputs": [
    {
     "data": {
      "text/plain": [
       "0.4617297798235596"
      ]
     },
     "execution_count": 17,
     "metadata": {},
     "output_type": "execute_result"
    }
   ],
   "source": [
    "np.mean(perf)"
   ]
  },
  {
   "cell_type": "code",
   "execution_count": null,
   "metadata": {},
   "outputs": [],
   "source": []
  }
 ],
 "metadata": {
  "kernelspec": {
   "display_name": "tf_2",
   "language": "python",
   "name": "python3"
  },
  "language_info": {
   "codemirror_mode": {
    "name": "ipython",
    "version": 3
   },
   "file_extension": ".py",
   "mimetype": "text/x-python",
   "name": "python",
   "nbconvert_exporter": "python",
   "pygments_lexer": "ipython3",
   "version": "3.9.16"
  },
  "orig_nbformat": 4
 },
 "nbformat": 4,
 "nbformat_minor": 2
}
