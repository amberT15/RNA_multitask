{
 "cells": [
  {
   "cell_type": "code",
   "execution_count": 9,
   "metadata": {},
   "outputs": [],
   "source": [
    "import h5py\n",
    "import sys\n",
    "import os\n",
    "os.environ['CUDA_VISIBLE_DEVICES'] = '0'\n",
    "sys.path.append('/home/ztang/multitask_RNA/data_generation')\n",
    "import utils\n",
    "import numpy as np\n",
    "import nucleotide_transformer\n",
    "import haiku as hk\n",
    "import jax\n",
    "import jax.numpy as jnp\n",
    "from nucleotide_transformer.pretrained import get_pretrained_model\n",
    "from tqdm import tqdm\n",
    "model_name = '` `'"
   ]
  },
  {
   "cell_type": "code",
   "execution_count": 10,
   "metadata": {},
   "outputs": [],
   "source": [
    "data_file = h5py.File('/home/ztang/multitask_RNA/data/lenti_MPRA/HepG2_data.h5', 'r')\n",
    "sequence = data_file['seq'][()]\n",
    "target = data_file['mean'][()]"
   ]
  },
  {
   "cell_type": "code",
   "execution_count": 11,
   "metadata": {},
   "outputs": [],
   "source": [
    "parameters, forward_fn, tokenizer, config = get_pretrained_model(\n",
    "    model_name=model_name,\n",
    "    mixed_precision=False,\n",
    "    embeddings_layers_to_save=(32,),\n",
    "    attention_maps_to_save=(),\n",
    "    max_positions=41,\n",
    ")\n",
    "forward_fn = hk.transform(forward_fn)"
   ]
  },
  {
   "cell_type": "code",
   "execution_count": 12,
   "metadata": {},
   "outputs": [
    {
     "name": "stderr",
     "output_type": "stream",
     "text": [
      "100%|██████████| 139877/139877 [00:03<00:00, 46142.42it/s]\n"
     ]
    }
   ],
   "source": [
    "N,  = sequence.shape\n",
    "seq_pair = []\n",
    "for i in tqdm(range(N)):\n",
    "    seq = sequence[i].decode()\n",
    "    token_out = tokenizer.batch_tokenize([seq])\n",
    "    token_id = [b[1] for b in token_out]\n",
    "    seq_pair.append(np.squeeze(token_id))\n",
    "seq_pair = jnp.asarray(seq_pair,dtype=jnp.int32)"
   ]
  },
  {
   "cell_type": "code",
   "execution_count": 13,
   "metadata": {},
   "outputs": [
    {
     "name": "stderr",
     "output_type": "stream",
     "text": [
      "100%|██████████| 547/547 [11:02<00:00,  1.21s/it]\n"
     ]
    }
   ],
   "source": [
    "#get embedding per input sequence\n",
    "batch_size = 256\n",
    "lenti_embed = []\n",
    "random_key = jax.random.PRNGKey(0)\n",
    "for i in tqdm(range(0, N, batch_size)):\n",
    "    seq_batch = seq_pair[i:i+batch_size]\n",
    "    outs = forward_fn.apply(parameters, random_key, seq_batch)\n",
    "    lenti_embed.append(outs['embeddings_32'][0])"
   ]
  },
  {
   "cell_type": "code",
   "execution_count": 14,
   "metadata": {},
   "outputs": [
    {
     "data": {
      "text/plain": [
       "<HDF5 dataset \"target\": shape (139877,), type \"<f8\">"
      ]
     },
     "execution_count": 14,
     "metadata": {},
     "output_type": "execute_result"
    }
   ],
   "source": [
    "out_embed = h5py.File('/home/ztang/multitask_RNA/data/lenti_MPRA/HepG2_data_embed.h5', 'w')\n",
    "out_embed.create_dataset('embed', data=np.array(lenti_embed))\n",
    "out_embed.create_dataset('target', data=np.array(target))"
   ]
  },
  {
   "cell_type": "code",
   "execution_count": 8,
   "metadata": {},
   "outputs": [],
   "source": [
    "out_embed.close()"
   ]
  },
  {
   "cell_type": "code",
   "execution_count": null,
   "metadata": {},
   "outputs": [],
   "source": []
  }
 ],
 "metadata": {
  "kernelspec": {
   "display_name": "tf_2",
   "language": "python",
   "name": "python3"
  },
  "language_info": {
   "codemirror_mode": {
    "name": "ipython",
    "version": 3
   },
   "file_extension": ".py",
   "mimetype": "text/x-python",
   "name": "python",
   "nbconvert_exporter": "python",
   "pygments_lexer": "ipython3",
   "version": "3.10.10"
  },
  "orig_nbformat": 4
 },
 "nbformat": 4,
 "nbformat_minor": 2
}
