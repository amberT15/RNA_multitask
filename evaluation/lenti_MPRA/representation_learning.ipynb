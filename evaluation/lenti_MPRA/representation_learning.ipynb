{
 "cells": [
  {
   "cell_type": "code",
   "execution_count": 1,
   "metadata": {},
   "outputs": [
    {
     "name": "stderr",
     "output_type": "stream",
     "text": [
      "Failed to detect the name of this notebook, you can set it manually with the WANDB_NOTEBOOK_NAME environment variable to enable code saving.\n",
      "\u001b[34m\u001b[1mwandb\u001b[0m: Currently logged in as: \u001b[33mambert\u001b[0m. Use \u001b[1m`wandb login --relogin`\u001b[0m to force relogin\n",
      "2023-05-04 17:58:48.467413: I tensorflow/core/platform/cpu_feature_guard.cc:182] This TensorFlow binary is optimized to use available CPU instructions in performance-critical operations.\n",
      "To enable the following instructions: AVX2 FMA, in other operations, rebuild TensorFlow with the appropriate compiler flags.\n",
      "2023-05-04 17:58:48.987858: W tensorflow/compiler/tf2tensorrt/utils/py_utils.cc:38] TF-TRT Warning: Could not find TensorRT\n",
      "/home/ztang/.conda/envs/jax_tf/lib/python3.9/site-packages/tqdm/auto.py:21: TqdmWarning: IProgress not found. Please update jupyter and ipywidgets. See https://ipywidgets.readthedocs.io/en/stable/user_install.html\n",
      "  from .autonotebook import tqdm as notebook_tqdm\n"
     ]
    }
   ],
   "source": [
    "import wandb\n",
    "wandb.login()\n",
    "import tensorflow as tf\n",
    "import pandas as pd\n",
    "import mpra_model\n",
    "from ray import air,tune\n",
    "from ray.tune.integration.keras import TuneReportCallback\n",
    "from ray.tune.search.hyperopt import HyperOptSearch\n",
    "from ray.tune.schedulers import AsyncHyperBandScheduler\n",
    "from ray.air.integrations.wandb import WandbLoggerCallback\n",
    "import os\n",
    "os.environ['CUDA_VISIBLE_DEVICES']='1'"
   ]
  },
  {
   "cell_type": "code",
   "execution_count": 2,
   "metadata": {},
   "outputs": [],
   "source": [
    "cell_type = 'HepG2'\n",
    "RESULTS_DIR = '/home/ztang/multitask_RNA/evaluation/lenti_MPRA/results/'\n",
    "data_dir = '/home/ztang/multitask_RNA/data/lenti_MPRA_embed/HepG2_2B5_1000G/'\n",
    "\n",
    "config = {\n",
    "    'input_shape': (41,2560),\n",
    "    'reduce_dim':256,\n",
    "    'conv1_filter': 256,\n",
    "    'conv1_kernel':5,\n",
    "    'activation':'exponential',\n",
    "    'dropout1':0.2,\n",
    "    'res_filter':3,\n",
    "    'res_layers':2,\n",
    "    'res_pool':4,\n",
    "    'res_dropout':0.2,\n",
    "    'conv2_filter':365,\n",
    "    'conv2_kernel':3,\n",
    "    'pool2_size':2,\n",
    "    'dropout2':0.2,\n",
    "    'dense':128,\n",
    "    'dense2':64,\n",
    "    'l_rate':0.0001\n",
    "}\n"
   ]
  },
  {
   "cell_type": "code",
   "execution_count": 3,
   "metadata": {},
   "outputs": [
    {
     "name": "stderr",
     "output_type": "stream",
     "text": [
      "2023-05-04 17:58:53.301740: I tensorflow/core/common_runtime/gpu/gpu_device.cc:1635] Created device /job:localhost/replica:0/task:0/device:GPU:0 with 78865 MB memory:  -> device: 0, name: NVIDIA A100 80GB PCIe, pci bus id: 0000:47:00.0, compute capability: 8.0\n"
     ]
    }
   ],
   "source": [
    "trainset = mpra_model.make_dataset(data_dir, 'train', mpra_model.load_stats(data_dir),\n",
    "                            batch_size=128)\n",
    "validset = mpra_model.make_dataset(data_dir, 'valid', mpra_model.load_stats(data_dir),\n",
    "                            batch_size=128)"
   ]
  },
  {
   "cell_type": "code",
   "execution_count": 4,
   "metadata": {},
   "outputs": [],
   "source": [
    "def representation_training(config):\n",
    "    \n",
    "    model = mpra_model.rep_cnn(config['input_shape'],config)\n",
    "    optimizer = tf.keras.optimizers.Adam(learning_rate=config['l_rate'])\n",
    "    loss = tf.keras.losses.MeanSquaredError()\n",
    "    model.compile(optimizer=optimizer,\n",
    "                  loss=loss,\n",
    "                  metrics=['mse'])\n",
    "    model.summary()\n",
    "    earlyStopping_callback = tf.keras.callbacks.EarlyStopping(\n",
    "            patience=10, restore_best_weights=True\n",
    "        )\n",
    "    reduce_lr = tf.keras.callbacks.ReduceLROnPlateau(\n",
    "            monitor='val_loss', factor=0.2,\n",
    "            patience=5, min_lr=1e-8)\n",
    "\n",
    "    model.fit(\n",
    "         trainset,\n",
    "          epochs=100,\n",
    "          batch_size=256,\n",
    "          shuffle=False,\n",
    "          validation_data=validset,\n",
    "          callbacks=[earlyStopping_callback,reduce_lr\n",
    "                     #,TuneReportCallback({\"loss\": \"loss\",\"val_loss\":'val_loss'})\n",
    "                     ]\n",
    "      )"
   ]
  },
  {
   "cell_type": "code",
   "execution_count": 5,
   "metadata": {},
   "outputs": [
    {
     "name": "stdout",
     "output_type": "stream",
     "text": [
      "Model: \"model\"\n",
      "__________________________________________________________________________________________________\n",
      " Layer (type)                   Output Shape         Param #     Connected to                     \n",
      "==================================================================================================\n",
      " sequence (InputLayer)          [(None, 41, 2560)]   0           []                               \n",
      "                                                                                                  \n",
      " conv1d (Conv1D)                (None, 41, 256)      655616      ['sequence[0][0]']               \n",
      "                                                                                                  \n",
      " conv1d_1 (Conv1D)              (None, 41, 256)      327936      ['conv1d[0][0]']                 \n",
      "                                                                                                  \n",
      " batch_normalization (BatchNorm  (None, 41, 256)     1024        ['conv1d_1[0][0]']               \n",
      " alization)                                                                                       \n",
      "                                                                                                  \n",
      " filter_activation (Activation)  (None, 41, 256)     0           ['batch_normalization[0][0]']    \n",
      "                                                                                                  \n",
      " dropout (Dropout)              (None, 41, 256)      0           ['filter_activation[0][0]']      \n",
      "                                                                                                  \n",
      " conv1d_2 (Conv1D)              (None, 41, 256)      196608      ['dropout[0][0]']                \n",
      "                                                                                                  \n",
      " batch_normalization_1 (BatchNo  (None, 41, 256)     1024        ['conv1d_2[0][0]']               \n",
      " rmalization)                                                                                     \n",
      "                                                                                                  \n",
      " activation (Activation)        (None, 41, 256)      0           ['batch_normalization_1[0][0]']  \n",
      "                                                                                                  \n",
      " dropout_1 (Dropout)            (None, 41, 256)      0           ['activation[0][0]']             \n",
      "                                                                                                  \n",
      " conv1d_3 (Conv1D)              (None, 41, 256)      196608      ['dropout_1[0][0]']              \n",
      "                                                                                                  \n",
      " batch_normalization_2 (BatchNo  (None, 41, 256)     1024        ['conv1d_3[0][0]']               \n",
      " rmalization)                                                                                     \n",
      "                                                                                                  \n",
      " activation_1 (Activation)      (None, 41, 256)      0           ['batch_normalization_2[0][0]']  \n",
      "                                                                                                  \n",
      " dropout_2 (Dropout)            (None, 41, 256)      0           ['activation_1[0][0]']           \n",
      "                                                                                                  \n",
      " conv1d_4 (Conv1D)              (None, 41, 256)      196608      ['dropout_2[0][0]']              \n",
      "                                                                                                  \n",
      " batch_normalization_3 (BatchNo  (None, 41, 256)     1024        ['conv1d_4[0][0]']               \n",
      " rmalization)                                                                                     \n",
      "                                                                                                  \n",
      " add (Add)                      (None, 41, 256)      0           ['dropout[0][0]',                \n",
      "                                                                  'batch_normalization_3[0][0]']  \n",
      "                                                                                                  \n",
      " activation_2 (Activation)      (None, 41, 256)      0           ['add[0][0]']                    \n",
      "                                                                                                  \n",
      " max_pooling1d (MaxPooling1D)   (None, 10, 256)      0           ['activation_2[0][0]']           \n",
      "                                                                                                  \n",
      " dropout_3 (Dropout)            (None, 10, 256)      0           ['max_pooling1d[0][0]']          \n",
      "                                                                                                  \n",
      " conv1d_5 (Conv1D)              (None, 10, 365)      280685      ['dropout_3[0][0]']              \n",
      "                                                                                                  \n",
      " batch_normalization_4 (BatchNo  (None, 10, 365)     1460        ['conv1d_5[0][0]']               \n",
      " rmalization)                                                                                     \n",
      "                                                                                                  \n",
      " activation_3 (Activation)      (None, 10, 365)      0           ['batch_normalization_4[0][0]']  \n",
      "                                                                                                  \n",
      " max_pooling1d_1 (MaxPooling1D)  (None, 5, 365)      0           ['activation_3[0][0]']           \n",
      "                                                                                                  \n",
      " dropout_4 (Dropout)            (None, 5, 365)       0           ['max_pooling1d_1[0][0]']        \n",
      "                                                                                                  \n",
      " flatten (Flatten)              (None, 1825)         0           ['dropout_4[0][0]']              \n",
      "                                                                                                  \n",
      " dense (Dense)                  (None, 128)          233728      ['flatten[0][0]']                \n",
      "                                                                                                  \n",
      " batch_normalization_5 (BatchNo  (None, 128)         512         ['dense[0][0]']                  \n",
      " rmalization)                                                                                     \n",
      "                                                                                                  \n",
      " activation_4 (Activation)      (None, 128)          0           ['batch_normalization_5[0][0]']  \n",
      "                                                                                                  \n",
      " dropout_5 (Dropout)            (None, 128)          0           ['activation_4[0][0]']           \n",
      "                                                                                                  \n",
      " dense_1 (Dense)                (None, 64)           8256        ['dropout_5[0][0]']              \n",
      "                                                                                                  \n",
      " batch_normalization_6 (BatchNo  (None, 64)          256         ['dense_1[0][0]']                \n",
      " rmalization)                                                                                     \n",
      "                                                                                                  \n",
      " activation_5 (Activation)      (None, 64)           0           ['batch_normalization_6[0][0]']  \n",
      "                                                                                                  \n",
      " dropout_6 (Dropout)            (None, 64)           0           ['activation_5[0][0]']           \n",
      "                                                                                                  \n",
      " dense_2 (Dense)                (None, 1)            65          ['dropout_6[0][0]']              \n",
      "                                                                                                  \n",
      "==================================================================================================\n",
      "Total params: 2,102,434\n",
      "Trainable params: 2,099,272\n",
      "Non-trainable params: 3,162\n",
      "__________________________________________________________________________________________________\n",
      "Epoch 1/100\n"
     ]
    },
    {
     "name": "stderr",
     "output_type": "stream",
     "text": [
      "/home/ztang/.conda/envs/jax_tf/lib/python3.9/site-packages/keras/initializers/initializers.py:120: UserWarning: The initializer RandomNormal is unseeded and being called multiple times, which will return identical values each time (even if the initializer is unseeded). Please update your code to provide a seed to the initializer, or avoid using the same initalizer instance more than once.\n",
      "  warnings.warn(\n",
      "2023-05-04 17:58:54.293511: I tensorflow/core/common_runtime/executor.cc:1197] [/device:CPU:0] (DEBUG INFO) Executor start aborting (this does not indicate an error and you can ignore this message): INVALID_ARGUMENT: You must feed a value for placeholder tensor 'Placeholder/_0' with dtype string and shape [219]\n",
      "\t [[{{node Placeholder/_0}}]]\n",
      "2023-05-04 17:58:54.293779: I tensorflow/core/common_runtime/executor.cc:1197] [/device:CPU:0] (DEBUG INFO) Executor start aborting (this does not indicate an error and you can ignore this message): INVALID_ARGUMENT: You must feed a value for placeholder tensor 'Placeholder/_0' with dtype string and shape [219]\n",
      "\t [[{{node Placeholder/_0}}]]\n",
      "2023-05-04 17:58:57.018934: I tensorflow/compiler/xla/stream_executor/cuda/cuda_dnn.cc:424] Loaded cuDNN version 8600\n",
      "2023-05-04 17:58:57.540772: I tensorflow/compiler/xla/stream_executor/cuda/cuda_blas.cc:637] TensorFloat-32 will be used for the matrix multiplication. This will only be logged once.\n",
      "2023-05-04 17:58:57.542463: I tensorflow/compiler/xla/service/service.cc:169] XLA service 0x55cd401805f0 initialized for platform CUDA (this does not guarantee that XLA will be used). Devices:\n",
      "2023-05-04 17:58:57.542480: I tensorflow/compiler/xla/service/service.cc:177]   StreamExecutor device (0): NVIDIA A100 80GB PCIe, Compute Capability 8.0\n",
      "2023-05-04 17:58:57.546163: I tensorflow/compiler/mlir/tensorflow/utils/dump_mlir_util.cc:269] disabling MLIR crash reproducer, set env var `MLIR_CRASH_REPRODUCER_DIRECTORY` to enable.\n",
      "2023-05-04 17:58:57.655088: I ./tensorflow/compiler/jit/device_compiler.h:180] Compiled cluster using XLA!  This line is logged at most once for the lifetime of the process.\n"
     ]
    },
    {
     "name": "stdout",
     "output_type": "stream",
     "text": [
      "    875/Unknown - 30s 28ms/step - loss: 0.5381 - mse: 0.5381"
     ]
    },
    {
     "name": "stderr",
     "output_type": "stream",
     "text": [
      "2023-05-04 17:59:24.944784: I tensorflow/core/common_runtime/executor.cc:1197] [/device:CPU:0] (DEBUG INFO) Executor start aborting (this does not indicate an error and you can ignore this message): INVALID_ARGUMENT: You must feed a value for placeholder tensor 'Placeholder/_0' with dtype string and shape [28]\n",
      "\t [[{{node Placeholder/_0}}]]\n",
      "2023-05-04 17:59:24.944984: I tensorflow/core/common_runtime/executor.cc:1197] [/device:CPU:0] (DEBUG INFO) Executor start aborting (this does not indicate an error and you can ignore this message): INVALID_ARGUMENT: You must feed a value for placeholder tensor 'Placeholder/_0' with dtype string and shape [28]\n",
      "\t [[{{node Placeholder/_0}}]]\n"
     ]
    },
    {
     "name": "stdout",
     "output_type": "stream",
     "text": [
      "875/875 [==============================] - 42s 42ms/step - loss: 0.5381 - mse: 0.5381 - val_loss: 0.6497 - val_mse: 0.6497 - lr: 1.0000e-04\n",
      "Epoch 2/100\n",
      "875/875 [==============================] - 36s 41ms/step - loss: 0.4709 - mse: 0.4709 - val_loss: 0.5036 - val_mse: 0.5036 - lr: 1.0000e-04\n",
      "Epoch 3/100\n",
      "875/875 [==============================] - 36s 41ms/step - loss: 0.4191 - mse: 0.4191 - val_loss: 0.5130 - val_mse: 0.5130 - lr: 1.0000e-04\n",
      "Epoch 4/100\n",
      "215/875 [======>.......................] - ETA: 18s - loss: 0.3939 - mse: 0.3939"
     ]
    },
    {
     "ename": "KeyboardInterrupt",
     "evalue": "",
     "output_type": "error",
     "traceback": [
      "\u001b[0;31m---------------------------------------------------------------------------\u001b[0m",
      "\u001b[0;31mKeyboardInterrupt\u001b[0m                         Traceback (most recent call last)",
      "Cell \u001b[0;32mIn[5], line 1\u001b[0m\n\u001b[0;32m----> 1\u001b[0m representation_training(config)\n",
      "Cell \u001b[0;32mIn[4], line 17\u001b[0m, in \u001b[0;36mrepresentation_training\u001b[0;34m(config)\u001b[0m\n\u001b[1;32m     10\u001b[0m earlyStopping_callback \u001b[39m=\u001b[39m tf\u001b[39m.\u001b[39mkeras\u001b[39m.\u001b[39mcallbacks\u001b[39m.\u001b[39mEarlyStopping(\n\u001b[1;32m     11\u001b[0m         patience\u001b[39m=\u001b[39m\u001b[39m10\u001b[39m, restore_best_weights\u001b[39m=\u001b[39m\u001b[39mTrue\u001b[39;00m\n\u001b[1;32m     12\u001b[0m     )\n\u001b[1;32m     13\u001b[0m reduce_lr \u001b[39m=\u001b[39m tf\u001b[39m.\u001b[39mkeras\u001b[39m.\u001b[39mcallbacks\u001b[39m.\u001b[39mReduceLROnPlateau(\n\u001b[1;32m     14\u001b[0m         monitor\u001b[39m=\u001b[39m\u001b[39m'\u001b[39m\u001b[39mval_loss\u001b[39m\u001b[39m'\u001b[39m, factor\u001b[39m=\u001b[39m\u001b[39m0.2\u001b[39m,\n\u001b[1;32m     15\u001b[0m         patience\u001b[39m=\u001b[39m\u001b[39m5\u001b[39m, min_lr\u001b[39m=\u001b[39m\u001b[39m1e-8\u001b[39m)\n\u001b[0;32m---> 17\u001b[0m model\u001b[39m.\u001b[39;49mfit(\n\u001b[1;32m     18\u001b[0m      trainset,\n\u001b[1;32m     19\u001b[0m       epochs\u001b[39m=\u001b[39;49m\u001b[39m100\u001b[39;49m,\n\u001b[1;32m     20\u001b[0m       batch_size\u001b[39m=\u001b[39;49m\u001b[39m256\u001b[39;49m,\n\u001b[1;32m     21\u001b[0m       shuffle\u001b[39m=\u001b[39;49m\u001b[39mFalse\u001b[39;49;00m,\n\u001b[1;32m     22\u001b[0m       validation_data\u001b[39m=\u001b[39;49mvalidset,\n\u001b[1;32m     23\u001b[0m       callbacks\u001b[39m=\u001b[39;49m[earlyStopping_callback,reduce_lr\n\u001b[1;32m     24\u001b[0m                  \u001b[39m#,TuneReportCallback({\"loss\": \"loss\",\"val_loss\":'val_loss'})\u001b[39;49;00m\n\u001b[1;32m     25\u001b[0m                  ]\n\u001b[1;32m     26\u001b[0m   )\n",
      "File \u001b[0;32m~/.conda/envs/jax_tf/lib/python3.9/site-packages/keras/utils/traceback_utils.py:65\u001b[0m, in \u001b[0;36mfilter_traceback.<locals>.error_handler\u001b[0;34m(*args, **kwargs)\u001b[0m\n\u001b[1;32m     63\u001b[0m filtered_tb \u001b[39m=\u001b[39m \u001b[39mNone\u001b[39;00m\n\u001b[1;32m     64\u001b[0m \u001b[39mtry\u001b[39;00m:\n\u001b[0;32m---> 65\u001b[0m     \u001b[39mreturn\u001b[39;00m fn(\u001b[39m*\u001b[39;49margs, \u001b[39m*\u001b[39;49m\u001b[39m*\u001b[39;49mkwargs)\n\u001b[1;32m     66\u001b[0m \u001b[39mexcept\u001b[39;00m \u001b[39mException\u001b[39;00m \u001b[39mas\u001b[39;00m e:\n\u001b[1;32m     67\u001b[0m     filtered_tb \u001b[39m=\u001b[39m _process_traceback_frames(e\u001b[39m.\u001b[39m__traceback__)\n",
      "File \u001b[0;32m~/.conda/envs/jax_tf/lib/python3.9/site-packages/keras/engine/training.py:1685\u001b[0m, in \u001b[0;36mModel.fit\u001b[0;34m(self, x, y, batch_size, epochs, verbose, callbacks, validation_split, validation_data, shuffle, class_weight, sample_weight, initial_epoch, steps_per_epoch, validation_steps, validation_batch_size, validation_freq, max_queue_size, workers, use_multiprocessing)\u001b[0m\n\u001b[1;32m   1677\u001b[0m \u001b[39mwith\u001b[39;00m tf\u001b[39m.\u001b[39mprofiler\u001b[39m.\u001b[39mexperimental\u001b[39m.\u001b[39mTrace(\n\u001b[1;32m   1678\u001b[0m     \u001b[39m\"\u001b[39m\u001b[39mtrain\u001b[39m\u001b[39m\"\u001b[39m,\n\u001b[1;32m   1679\u001b[0m     epoch_num\u001b[39m=\u001b[39mepoch,\n\u001b[0;32m   (...)\u001b[0m\n\u001b[1;32m   1682\u001b[0m     _r\u001b[39m=\u001b[39m\u001b[39m1\u001b[39m,\n\u001b[1;32m   1683\u001b[0m ):\n\u001b[1;32m   1684\u001b[0m     callbacks\u001b[39m.\u001b[39mon_train_batch_begin(step)\n\u001b[0;32m-> 1685\u001b[0m     tmp_logs \u001b[39m=\u001b[39m \u001b[39mself\u001b[39;49m\u001b[39m.\u001b[39;49mtrain_function(iterator)\n\u001b[1;32m   1686\u001b[0m     \u001b[39mif\u001b[39;00m data_handler\u001b[39m.\u001b[39mshould_sync:\n\u001b[1;32m   1687\u001b[0m         context\u001b[39m.\u001b[39masync_wait()\n",
      "File \u001b[0;32m~/.conda/envs/jax_tf/lib/python3.9/site-packages/tensorflow/python/util/traceback_utils.py:150\u001b[0m, in \u001b[0;36mfilter_traceback.<locals>.error_handler\u001b[0;34m(*args, **kwargs)\u001b[0m\n\u001b[1;32m    148\u001b[0m filtered_tb \u001b[39m=\u001b[39m \u001b[39mNone\u001b[39;00m\n\u001b[1;32m    149\u001b[0m \u001b[39mtry\u001b[39;00m:\n\u001b[0;32m--> 150\u001b[0m   \u001b[39mreturn\u001b[39;00m fn(\u001b[39m*\u001b[39;49margs, \u001b[39m*\u001b[39;49m\u001b[39m*\u001b[39;49mkwargs)\n\u001b[1;32m    151\u001b[0m \u001b[39mexcept\u001b[39;00m \u001b[39mException\u001b[39;00m \u001b[39mas\u001b[39;00m e:\n\u001b[1;32m    152\u001b[0m   filtered_tb \u001b[39m=\u001b[39m _process_traceback_frames(e\u001b[39m.\u001b[39m__traceback__)\n",
      "File \u001b[0;32m~/.conda/envs/jax_tf/lib/python3.9/site-packages/tensorflow/python/eager/polymorphic_function/polymorphic_function.py:894\u001b[0m, in \u001b[0;36mFunction.__call__\u001b[0;34m(self, *args, **kwds)\u001b[0m\n\u001b[1;32m    891\u001b[0m compiler \u001b[39m=\u001b[39m \u001b[39m\"\u001b[39m\u001b[39mxla\u001b[39m\u001b[39m\"\u001b[39m \u001b[39mif\u001b[39;00m \u001b[39mself\u001b[39m\u001b[39m.\u001b[39m_jit_compile \u001b[39melse\u001b[39;00m \u001b[39m\"\u001b[39m\u001b[39mnonXla\u001b[39m\u001b[39m\"\u001b[39m\n\u001b[1;32m    893\u001b[0m \u001b[39mwith\u001b[39;00m OptionalXlaContext(\u001b[39mself\u001b[39m\u001b[39m.\u001b[39m_jit_compile):\n\u001b[0;32m--> 894\u001b[0m   result \u001b[39m=\u001b[39m \u001b[39mself\u001b[39;49m\u001b[39m.\u001b[39;49m_call(\u001b[39m*\u001b[39;49margs, \u001b[39m*\u001b[39;49m\u001b[39m*\u001b[39;49mkwds)\n\u001b[1;32m    896\u001b[0m new_tracing_count \u001b[39m=\u001b[39m \u001b[39mself\u001b[39m\u001b[39m.\u001b[39mexperimental_get_tracing_count()\n\u001b[1;32m    897\u001b[0m without_tracing \u001b[39m=\u001b[39m (tracing_count \u001b[39m==\u001b[39m new_tracing_count)\n",
      "File \u001b[0;32m~/.conda/envs/jax_tf/lib/python3.9/site-packages/tensorflow/python/eager/polymorphic_function/polymorphic_function.py:926\u001b[0m, in \u001b[0;36mFunction._call\u001b[0;34m(self, *args, **kwds)\u001b[0m\n\u001b[1;32m    923\u001b[0m   \u001b[39mself\u001b[39m\u001b[39m.\u001b[39m_lock\u001b[39m.\u001b[39mrelease()\n\u001b[1;32m    924\u001b[0m   \u001b[39m# In this case we have created variables on the first call, so we run the\u001b[39;00m\n\u001b[1;32m    925\u001b[0m   \u001b[39m# defunned version which is guaranteed to never create variables.\u001b[39;00m\n\u001b[0;32m--> 926\u001b[0m   \u001b[39mreturn\u001b[39;00m \u001b[39mself\u001b[39;49m\u001b[39m.\u001b[39;49m_no_variable_creation_fn(\u001b[39m*\u001b[39;49margs, \u001b[39m*\u001b[39;49m\u001b[39m*\u001b[39;49mkwds)  \u001b[39m# pylint: disable=not-callable\u001b[39;00m\n\u001b[1;32m    927\u001b[0m \u001b[39melif\u001b[39;00m \u001b[39mself\u001b[39m\u001b[39m.\u001b[39m_variable_creation_fn \u001b[39mis\u001b[39;00m \u001b[39mnot\u001b[39;00m \u001b[39mNone\u001b[39;00m:\n\u001b[1;32m    928\u001b[0m   \u001b[39m# Release the lock early so that multiple threads can perform the call\u001b[39;00m\n\u001b[1;32m    929\u001b[0m   \u001b[39m# in parallel.\u001b[39;00m\n\u001b[1;32m    930\u001b[0m   \u001b[39mself\u001b[39m\u001b[39m.\u001b[39m_lock\u001b[39m.\u001b[39mrelease()\n",
      "File \u001b[0;32m~/.conda/envs/jax_tf/lib/python3.9/site-packages/tensorflow/python/eager/polymorphic_function/tracing_compiler.py:143\u001b[0m, in \u001b[0;36mTracingCompiler.__call__\u001b[0;34m(self, *args, **kwargs)\u001b[0m\n\u001b[1;32m    140\u001b[0m \u001b[39mwith\u001b[39;00m \u001b[39mself\u001b[39m\u001b[39m.\u001b[39m_lock:\n\u001b[1;32m    141\u001b[0m   (concrete_function,\n\u001b[1;32m    142\u001b[0m    filtered_flat_args) \u001b[39m=\u001b[39m \u001b[39mself\u001b[39m\u001b[39m.\u001b[39m_maybe_define_function(args, kwargs)\n\u001b[0;32m--> 143\u001b[0m \u001b[39mreturn\u001b[39;00m concrete_function\u001b[39m.\u001b[39;49m_call_flat(\n\u001b[1;32m    144\u001b[0m     filtered_flat_args, captured_inputs\u001b[39m=\u001b[39;49mconcrete_function\u001b[39m.\u001b[39;49mcaptured_inputs)\n",
      "File \u001b[0;32m~/.conda/envs/jax_tf/lib/python3.9/site-packages/tensorflow/python/eager/polymorphic_function/monomorphic_function.py:1757\u001b[0m, in \u001b[0;36mConcreteFunction._call_flat\u001b[0;34m(self, args, captured_inputs, cancellation_manager)\u001b[0m\n\u001b[1;32m   1753\u001b[0m possible_gradient_type \u001b[39m=\u001b[39m gradients_util\u001b[39m.\u001b[39mPossibleTapeGradientTypes(args)\n\u001b[1;32m   1754\u001b[0m \u001b[39mif\u001b[39;00m (possible_gradient_type \u001b[39m==\u001b[39m gradients_util\u001b[39m.\u001b[39mPOSSIBLE_GRADIENT_TYPES_NONE\n\u001b[1;32m   1755\u001b[0m     \u001b[39mand\u001b[39;00m executing_eagerly):\n\u001b[1;32m   1756\u001b[0m   \u001b[39m# No tape is watching; skip to running the function.\u001b[39;00m\n\u001b[0;32m-> 1757\u001b[0m   \u001b[39mreturn\u001b[39;00m \u001b[39mself\u001b[39m\u001b[39m.\u001b[39m_build_call_outputs(\u001b[39mself\u001b[39;49m\u001b[39m.\u001b[39;49m_inference_function\u001b[39m.\u001b[39;49mcall(\n\u001b[1;32m   1758\u001b[0m       ctx, args, cancellation_manager\u001b[39m=\u001b[39;49mcancellation_manager))\n\u001b[1;32m   1759\u001b[0m forward_backward \u001b[39m=\u001b[39m \u001b[39mself\u001b[39m\u001b[39m.\u001b[39m_select_forward_and_backward_functions(\n\u001b[1;32m   1760\u001b[0m     args,\n\u001b[1;32m   1761\u001b[0m     possible_gradient_type,\n\u001b[1;32m   1762\u001b[0m     executing_eagerly)\n\u001b[1;32m   1763\u001b[0m forward_function, args_with_tangents \u001b[39m=\u001b[39m forward_backward\u001b[39m.\u001b[39mforward()\n",
      "File \u001b[0;32m~/.conda/envs/jax_tf/lib/python3.9/site-packages/tensorflow/python/eager/polymorphic_function/monomorphic_function.py:381\u001b[0m, in \u001b[0;36m_EagerDefinedFunction.call\u001b[0;34m(self, ctx, args, cancellation_manager)\u001b[0m\n\u001b[1;32m    379\u001b[0m \u001b[39mwith\u001b[39;00m _InterpolateFunctionError(\u001b[39mself\u001b[39m):\n\u001b[1;32m    380\u001b[0m   \u001b[39mif\u001b[39;00m cancellation_manager \u001b[39mis\u001b[39;00m \u001b[39mNone\u001b[39;00m:\n\u001b[0;32m--> 381\u001b[0m     outputs \u001b[39m=\u001b[39m execute\u001b[39m.\u001b[39;49mexecute(\n\u001b[1;32m    382\u001b[0m         \u001b[39mstr\u001b[39;49m(\u001b[39mself\u001b[39;49m\u001b[39m.\u001b[39;49msignature\u001b[39m.\u001b[39;49mname),\n\u001b[1;32m    383\u001b[0m         num_outputs\u001b[39m=\u001b[39;49m\u001b[39mself\u001b[39;49m\u001b[39m.\u001b[39;49m_num_outputs,\n\u001b[1;32m    384\u001b[0m         inputs\u001b[39m=\u001b[39;49margs,\n\u001b[1;32m    385\u001b[0m         attrs\u001b[39m=\u001b[39;49mattrs,\n\u001b[1;32m    386\u001b[0m         ctx\u001b[39m=\u001b[39;49mctx)\n\u001b[1;32m    387\u001b[0m   \u001b[39melse\u001b[39;00m:\n\u001b[1;32m    388\u001b[0m     outputs \u001b[39m=\u001b[39m execute\u001b[39m.\u001b[39mexecute_with_cancellation(\n\u001b[1;32m    389\u001b[0m         \u001b[39mstr\u001b[39m(\u001b[39mself\u001b[39m\u001b[39m.\u001b[39msignature\u001b[39m.\u001b[39mname),\n\u001b[1;32m    390\u001b[0m         num_outputs\u001b[39m=\u001b[39m\u001b[39mself\u001b[39m\u001b[39m.\u001b[39m_num_outputs,\n\u001b[0;32m   (...)\u001b[0m\n\u001b[1;32m    393\u001b[0m         ctx\u001b[39m=\u001b[39mctx,\n\u001b[1;32m    394\u001b[0m         cancellation_manager\u001b[39m=\u001b[39mcancellation_manager)\n",
      "File \u001b[0;32m~/.conda/envs/jax_tf/lib/python3.9/site-packages/tensorflow/python/eager/execute.py:52\u001b[0m, in \u001b[0;36mquick_execute\u001b[0;34m(op_name, num_outputs, inputs, attrs, ctx, name)\u001b[0m\n\u001b[1;32m     50\u001b[0m \u001b[39mtry\u001b[39;00m:\n\u001b[1;32m     51\u001b[0m   ctx\u001b[39m.\u001b[39mensure_initialized()\n\u001b[0;32m---> 52\u001b[0m   tensors \u001b[39m=\u001b[39m pywrap_tfe\u001b[39m.\u001b[39;49mTFE_Py_Execute(ctx\u001b[39m.\u001b[39;49m_handle, device_name, op_name,\n\u001b[1;32m     53\u001b[0m                                       inputs, attrs, num_outputs)\n\u001b[1;32m     54\u001b[0m \u001b[39mexcept\u001b[39;00m core\u001b[39m.\u001b[39m_NotOkStatusException \u001b[39mas\u001b[39;00m e:\n\u001b[1;32m     55\u001b[0m   \u001b[39mif\u001b[39;00m name \u001b[39mis\u001b[39;00m \u001b[39mnot\u001b[39;00m \u001b[39mNone\u001b[39;00m:\n",
      "\u001b[0;31mKeyboardInterrupt\u001b[0m: "
     ]
    }
   ],
   "source": [
    "representation_training(config)"
   ]
  },
  {
   "cell_type": "code",
   "execution_count": 5,
   "metadata": {},
   "outputs": [],
   "source": [
    "def tune_lentiMPRA(num_training_iterations):\n",
    "    sched = AsyncHyperBandScheduler(\n",
    "        time_attr=\"training_iteration\", max_t=400, grace_period=20\n",
    "    )\n",
    "\n",
    "    tuner = tune.Tuner(\n",
    "        tune.with_resources(representation_training, resources={\"cpu\": 4, \"gpu\": 1}),\n",
    "        tune_config=tune.TuneConfig(\n",
    "            search_alg = HyperOptSearch(),\n",
    "            metric=\"val_loss\",\n",
    "            mode=\"min\",\n",
    "            scheduler=sched,\n",
    "            num_samples=30,\n",
    "        ),\n",
    "        run_config=air.RunConfig(\n",
    "            name=\"lentiMPRA_rep_training\",\n",
    "            stop={\"training_iteration\": num_training_iterations},\n",
    "            callbacks=[WandbLoggerCallback(project=\"nuc_transfromer_lentiMPRA\")]\n",
    "        ),\n",
    "        param_space=config,\n",
    "    )\n",
    "    results = tuner.fit()\n",
    "\n",
    "    print(\"Best hyperparameters found were: \", results.get_best_result().config)"
   ]
  },
  {
   "cell_type": "code",
   "execution_count": 5,
   "metadata": {},
   "outputs": [
    {
     "name": "stderr",
     "output_type": "stream",
     "text": [
      "2023-04-27 19:40:03,222\tINFO worker.py:1616 -- Started a local Ray instance. View the dashboard at \u001b[1m\u001b[32m127.0.0.1:8265 \u001b[39m\u001b[22m\n",
      "2023-04-27 19:40:11,580\tINFO tune.py:218 -- Initializing Ray automatically. For cluster usage or custom Ray initialization, call `ray.init(...)` before `Tuner(...)`.\n"
     ]
    },
    {
     "data": {
      "text/html": [
       "<div class=\"tuneStatus\">\n",
       "  <div style=\"display: flex;flex-direction: row\">\n",
       "    <div style=\"display: flex;flex-direction: column;\">\n",
       "      <h3>Tune Status</h3>\n",
       "      <table>\n",
       "<tbody>\n",
       "<tr><td>Current time:</td><td>2023-04-27 19:40:36</td></tr>\n",
       "<tr><td>Running for: </td><td>00:00:25.27        </td></tr>\n",
       "<tr><td>Memory:      </td><td>46.3/503.0 GiB     </td></tr>\n",
       "</tbody>\n",
       "</table>\n",
       "    </div>\n",
       "    <div class=\"vDivider\"></div>\n",
       "    <div class=\"systemInfo\">\n",
       "      <h3>System Info</h3>\n",
       "      Using AsyncHyperBand: num_stopped=0<br>Bracket: Iter 320.000: None | Iter 80.000: None | Iter 20.000: None<br>Logical resource usage: 4.0/32 CPUs, 1.0/1 GPUs (0.0/1.0 accelerator_type:A100)\n",
       "    </div>\n",
       "    \n",
       "  </div>\n",
       "  <div class=\"hDivider\"></div>\n",
       "  <div class=\"trialStatus\">\n",
       "    <h3>Trial Status</h3>\n",
       "    <table>\n",
       "<thead>\n",
       "<tr><th>Trial name                      </th><th>status  </th><th>loc               </th><th>activation  </th><th style=\"text-align: right;\">  conv1_filter</th><th style=\"text-align: right;\">  conv1_kernel</th><th style=\"text-align: right;\">  conv2_filter</th><th style=\"text-align: right;\">  conv2_kernel</th><th style=\"text-align: right;\">  dense</th><th style=\"text-align: right;\">  dropout1</th><th style=\"text-align: right;\">  dropout2</th><th>input_shape  </th><th style=\"text-align: right;\">   l_rate</th><th style=\"text-align: right;\">  pool1_size</th><th style=\"text-align: right;\">  pool2_size</th></tr>\n",
       "</thead>\n",
       "<tbody>\n",
       "<tr><td>representation_training_2e2d0aae</td><td>RUNNING </td><td>143.48.63.1:498008</td><td>exponential </td><td style=\"text-align: right;\">           119</td><td style=\"text-align: right;\">             7</td><td style=\"text-align: right;\">           108</td><td style=\"text-align: right;\">             6</td><td style=\"text-align: right;\">     99</td><td style=\"text-align: right;\">  0.287106</td><td style=\"text-align: right;\">  0.598508</td><td>(41, 2560)   </td><td style=\"text-align: right;\">0.0976868</td><td style=\"text-align: right;\">           2</td><td style=\"text-align: right;\">           7</td></tr>\n",
       "<tr><td>representation_training_8a89e926</td><td>PENDING </td><td>                  </td><td>exponential </td><td style=\"text-align: right;\">            97</td><td style=\"text-align: right;\">             7</td><td style=\"text-align: right;\">            83</td><td style=\"text-align: right;\">             6</td><td style=\"text-align: right;\">     98</td><td style=\"text-align: right;\">  0.483386</td><td style=\"text-align: right;\">  0.503921</td><td>(41, 2560)   </td><td style=\"text-align: right;\">0.0396073</td><td style=\"text-align: right;\">           5</td><td style=\"text-align: right;\">           5</td></tr>\n",
       "</tbody>\n",
       "</table>\n",
       "  </div>\n",
       "</div>\n",
       "<style>\n",
       ".tuneStatus {\n",
       "  color: var(--jp-ui-font-color1);\n",
       "}\n",
       ".tuneStatus .systemInfo {\n",
       "  display: flex;\n",
       "  flex-direction: column;\n",
       "}\n",
       ".tuneStatus td {\n",
       "  white-space: nowrap;\n",
       "}\n",
       ".tuneStatus .trialStatus {\n",
       "  display: flex;\n",
       "  flex-direction: column;\n",
       "}\n",
       ".tuneStatus h3 {\n",
       "  font-weight: bold;\n",
       "}\n",
       ".tuneStatus .hDivider {\n",
       "  border-bottom-width: var(--jp-border-width);\n",
       "  border-bottom-color: var(--jp-border-color0);\n",
       "  border-bottom-style: solid;\n",
       "}\n",
       ".tuneStatus .vDivider {\n",
       "  border-left-width: var(--jp-border-width);\n",
       "  border-left-color: var(--jp-border-color0);\n",
       "  border-left-style: solid;\n",
       "  margin: 0.5em 1em 0.5em 1em;\n",
       "}\n",
       "</style>\n"
      ],
      "text/plain": [
       "<IPython.core.display.HTML object>"
      ]
     },
     "metadata": {},
     "output_type": "display_data"
    },
    {
     "name": "stderr",
     "output_type": "stream",
     "text": [
      "2023-04-27 19:40:11,605\tINFO wandb.py:315 -- Already logged into W&B.\n",
      "\u001b[2m\u001b[36m(_WandbLoggingActor pid=497950)\u001b[0m wandb: Currently logged in as: ambert. Use `wandb login --relogin` to force relogin\n",
      "\u001b[2m\u001b[36m(pid=498008)\u001b[0m 2023-04-27 19:40:14.509378: W tensorflow/compiler/tf2tensorrt/utils/py_utils.cc:38] TF-TRT Warning: Could not find TensorRT\n",
      "\u001b[2m\u001b[36m(_WandbLoggingActor pid=497950)\u001b[0m wandb: Tracking run with wandb version 0.15.0\n",
      "\u001b[2m\u001b[36m(_WandbLoggingActor pid=497950)\u001b[0m wandb: Run data is saved locally in /om/home/ztang/ray_results/lentiMPRA_rep_training/representation_training_2e2d0aae_1_activation=exponential,conv1_filter=119,conv1_kernel=7,conv2_filter=108,conv2_kernel=6,dense=99_2023-04-27_19-40-11/wandb/run-20230427_194013-2e2d0aae\n",
      "\u001b[2m\u001b[36m(_WandbLoggingActor pid=497950)\u001b[0m wandb: Run `wandb offline` to turn off syncing.\n",
      "\u001b[2m\u001b[36m(_WandbLoggingActor pid=497950)\u001b[0m wandb: Syncing run representation_training_2e2d0aae\n",
      "\u001b[2m\u001b[36m(_WandbLoggingActor pid=497950)\u001b[0m wandb: ⭐️ View project at https://wandb.ai/ambert/nuc_transfromer_lentiMPRA\n",
      "\u001b[2m\u001b[36m(_WandbLoggingActor pid=497950)\u001b[0m wandb: 🚀 View run at https://wandb.ai/ambert/nuc_transfromer_lentiMPRA/runs/2e2d0aae\n"
     ]
    },
    {
     "name": "stdout",
     "output_type": "stream",
     "text": [
      "\u001b[2m\u001b[36m(representation_training pid=498008)\u001b[0m Model: \"model\"\n",
      "\u001b[2m\u001b[36m(representation_training pid=498008)\u001b[0m _________________________________________________________________\n",
      "\u001b[2m\u001b[36m(representation_training pid=498008)\u001b[0m  Layer (type)                Output Shape              Param #   \n",
      "\u001b[2m\u001b[36m(representation_training pid=498008)\u001b[0m =================================================================\n",
      "\u001b[2m\u001b[36m(representation_training pid=498008)\u001b[0m  sequence (InputLayer)       [(None, 41, 2560)]        0         \n",
      "\u001b[2m\u001b[36m(representation_training pid=498008)\u001b[0m                                                                  \n",
      "\u001b[2m\u001b[36m(representation_training pid=498008)\u001b[0m  conv1d (Conv1D)             (None, 41, 119)           2132599   \n",
      "\u001b[2m\u001b[36m(representation_training pid=498008)\u001b[0m                                                                  \n",
      "\u001b[2m\u001b[36m(representation_training pid=498008)\u001b[0m  batch_normalization (BatchN  (None, 41, 119)          476       \n",
      "\u001b[2m\u001b[36m(representation_training pid=498008)\u001b[0m  ormalization)                                                   \n",
      "\u001b[2m\u001b[36m(representation_training pid=498008)\u001b[0m                                                                  \n",
      "\u001b[2m\u001b[36m(representation_training pid=498008)\u001b[0m  filter_activation (Activati  (None, 41, 119)          0         \n",
      "\u001b[2m\u001b[36m(representation_training pid=498008)\u001b[0m  on)                                                             \n",
      "\u001b[2m\u001b[36m(representation_training pid=498008)\u001b[0m                                                                  \n",
      "\u001b[2m\u001b[36m(representation_training pid=498008)\u001b[0m  max_pooling1d (MaxPooling1D  (None, 20, 119)          0         \n",
      "\u001b[2m\u001b[36m(representation_training pid=498008)\u001b[0m  )                                                               \n",
      "\u001b[2m\u001b[36m(representation_training pid=498008)\u001b[0m                                                                  \n",
      "\u001b[2m\u001b[36m(representation_training pid=498008)\u001b[0m  dropout (Dropout)           (None, 20, 119)           0         \n",
      "\u001b[2m\u001b[36m(representation_training pid=498008)\u001b[0m                                                                  \n",
      "\u001b[2m\u001b[36m(representation_training pid=498008)\u001b[0m  conv1d_1 (Conv1D)           (None, 20, 108)           77220     \n",
      "\u001b[2m\u001b[36m(representation_training pid=498008)\u001b[0m                                                                  \n",
      "\u001b[2m\u001b[36m(representation_training pid=498008)\u001b[0m  batch_normalization_1 (Batc  (None, 20, 108)          432       \n",
      "\u001b[2m\u001b[36m(representation_training pid=498008)\u001b[0m  hNormalization)                                                 \n",
      "\u001b[2m\u001b[36m(representation_training pid=498008)\u001b[0m                                                                  \n",
      "\u001b[2m\u001b[36m(representation_training pid=498008)\u001b[0m  activation (Activation)     (None, 20, 108)           0         \n",
      "\u001b[2m\u001b[36m(representation_training pid=498008)\u001b[0m                                                                  \n",
      "\u001b[2m\u001b[36m(representation_training pid=498008)\u001b[0m  max_pooling1d_1 (MaxPooling  (None, 2, 108)           0         \n",
      "\u001b[2m\u001b[36m(representation_training pid=498008)\u001b[0m  1D)                                                             \n",
      "\u001b[2m\u001b[36m(representation_training pid=498008)\u001b[0m                                                                  \n",
      "\u001b[2m\u001b[36m(representation_training pid=498008)\u001b[0m  dropout_1 (Dropout)         (None, 2, 108)            0         \n",
      "\u001b[2m\u001b[36m(representation_training pid=498008)\u001b[0m                                                                  \n",
      "\u001b[2m\u001b[36m(representation_training pid=498008)\u001b[0m  flatten (Flatten)           (None, 216)               0         \n",
      "\u001b[2m\u001b[36m(representation_training pid=498008)\u001b[0m                                                                  \n",
      "\u001b[2m\u001b[36m(representation_training pid=498008)\u001b[0m  dense (Dense)               (None, 99)                21483     \n",
      "\u001b[2m\u001b[36m(representation_training pid=498008)\u001b[0m                                                                  \n",
      "\u001b[2m\u001b[36m(representation_training pid=498008)\u001b[0m  batch_normalization_2 (Batc  (None, 99)               396       \n",
      "\u001b[2m\u001b[36m(representation_training pid=498008)\u001b[0m  hNormalization)                                                 \n",
      "\u001b[2m\u001b[36m(representation_training pid=498008)\u001b[0m                                                                  \n",
      "\u001b[2m\u001b[36m(representation_training pid=498008)\u001b[0m  activation_1 (Activation)   (None, 99)                0         \n",
      "\u001b[2m\u001b[36m(representation_training pid=498008)\u001b[0m                                                                  \n",
      "\u001b[2m\u001b[36m(representation_training pid=498008)\u001b[0m  dropout_2 (Dropout)         (None, 99)                0         \n",
      "\u001b[2m\u001b[36m(representation_training pid=498008)\u001b[0m                                                                  \n",
      "\u001b[2m\u001b[36m(representation_training pid=498008)\u001b[0m  dense_1 (Dense)             (None, 1)                 100       \n",
      "\u001b[2m\u001b[36m(representation_training pid=498008)\u001b[0m                                                                  \n",
      "\u001b[2m\u001b[36m(representation_training pid=498008)\u001b[0m  activation_2 (Activation)   (None, 1)                 0         \n",
      "\u001b[2m\u001b[36m(representation_training pid=498008)\u001b[0m                                                                  \n",
      "\u001b[2m\u001b[36m(representation_training pid=498008)\u001b[0m =================================================================\n",
      "\u001b[2m\u001b[36m(representation_training pid=498008)\u001b[0m Total params: 2,232,706\n",
      "\u001b[2m\u001b[36m(representation_training pid=498008)\u001b[0m Trainable params: 2,232,054\n",
      "\u001b[2m\u001b[36m(representation_training pid=498008)\u001b[0m Non-trainable params: 652\n",
      "\u001b[2m\u001b[36m(representation_training pid=498008)\u001b[0m _________________________________________________________________\n",
      "\u001b[2m\u001b[36m(representation_training pid=498008)\u001b[0m Epoch 1/100\n"
     ]
    },
    {
     "name": "stderr",
     "output_type": "stream",
     "text": [
      "\u001b[2m\u001b[36m(representation_training pid=498008)\u001b[0m WARNING:tensorflow:Keras is training/fitting/evaluating on array-like data. Keras may not be optimized for this format, so if your input data format is supported by TensorFlow I/O (https://github.com/tensorflow/io) we recommend using that to load a Dataset instead.\n"
     ]
    },
    {
     "name": "stdout",
     "output_type": "stream",
     "text": [
      "  1/438 [..............................] - ETA: 1:21:35 - loss: 2.1960 - mse: 2.1960\n",
      "  4/438 [..............................] - ETA: 14:41 - loss: 8.7355 - mse: 8.7355  \n"
     ]
    },
    {
     "name": "stderr",
     "output_type": "stream",
     "text": [
      "2023-04-27 19:40:39,874\tWARNING tune.py:184 -- Stop signal received (e.g. via SIGINT/Ctrl+C), ending Ray Tune run. This will try to checkpoint the experiment state one last time. Press CTRL+C (or send SIGINT/SIGKILL/SIGTERM) to skip. \n"
     ]
    }
   ],
   "source": [
    "tune_lentiMPRA(num_training_iterations=1)"
   ]
  },
  {
   "cell_type": "code",
   "execution_count": 4,
   "metadata": {},
   "outputs": [
    {
     "ename": "AttributeError",
     "evalue": "module 'ray.tune.search' has no attribute 'bayesopt'",
     "output_type": "error",
     "traceback": [
      "\u001b[0;31m---------------------------------------------------------------------------\u001b[0m",
      "\u001b[0;31mAttributeError\u001b[0m                            Traceback (most recent call last)",
      "Cell \u001b[0;32mIn[4], line 2\u001b[0m\n\u001b[1;32m      1\u001b[0m smoke_test \u001b[39m=\u001b[39m \u001b[39mTrue\u001b[39;00m\n\u001b[0;32m----> 2\u001b[0m algo \u001b[39m=\u001b[39m tune\u001b[39m.\u001b[39;49msearch\u001b[39m.\u001b[39;49mbayesopt\u001b[39m.\u001b[39mBayesOptSearch()  \u001b[39m# For testing purposes: set this to False to run the full experiment\u001b[39;00m\n\u001b[1;32m      3\u001b[0m analysis \u001b[39m=\u001b[39m tune\u001b[39m.\u001b[39mrun(\n\u001b[1;32m      4\u001b[0m     representation_training,\n\u001b[1;32m      5\u001b[0m     name\u001b[39m=\u001b[39m\u001b[39m\"\u001b[39m\u001b[39mlentiMPRA_rep_training\u001b[39m\u001b[39m\"\u001b[39m,\n\u001b[0;32m   (...)\u001b[0m\n\u001b[1;32m     24\u001b[0m     config\u001b[39m=\u001b[39mconfig\n\u001b[1;32m     25\u001b[0m )\n",
      "\u001b[0;31mAttributeError\u001b[0m: module 'ray.tune.search' has no attribute 'bayesopt'"
     ]
    }
   ],
   "source": [
    "smoke_test = True\n",
    "algo = tune.search.bayesopt.BayesOptSearch()  # For testing purposes: set this to False to run the full experiment\n",
    "analysis = tune.run(\n",
    "    representation_training,\n",
    "    name=\"lentiMPRA_rep_training\",\n",
    "    callbacks=[WandbLoggerCallback(project=\"nuc_transfromer_lentiMPRA\")],\n",
    "    scheduler=AsyncHyperBandScheduler(\n",
    "        time_attr=\"training_iteration\",\n",
    "        max_t=400,\n",
    "        grace_period=20\n",
    "    ),\n",
    "    search_alg= algo,\n",
    "    metric=\"mse\",\n",
    "    mode=\"min\",\n",
    "    stop={\n",
    "        \"mse\": 0.01,\n",
    "        \"training_iteration\": 1 if smoke_test else 100\n",
    "    },\n",
    "    num_samples=2 if smoke_test else 50,\n",
    "    resources_per_trial={\n",
    "        \"cpu\": 4,\n",
    "        \"gpu\": 1\n",
    "    },\n",
    "    config=config\n",
    ")"
   ]
  },
  {
   "cell_type": "code",
   "execution_count": null,
   "metadata": {},
   "outputs": [],
   "source": []
  },
  {
   "cell_type": "code",
   "execution_count": null,
   "metadata": {},
   "outputs": [],
   "source": [
    "RESULTS_DIR = '/home/ztang/multitask_RNA/evaluation/lenti_MPRA/results/'\n",
    "\n",
    "pd.DataFrame.from_dict(\n",
    "        analysis.best_config,\n",
    "        orient='index'\n",
    ").to_csv(\n",
    "        RESULTS_DIR + 'tune_best.csv',\n",
    "        header=True,\n",
    "        index=True\n",
    "        )\n",
    "analysis.results_df.to_csv(RESULTS_DIR + 'tune_all.csv')"
   ]
  }
 ],
 "metadata": {
  "kernelspec": {
   "display_name": "torch_env",
   "language": "python",
   "name": "python3"
  },
  "language_info": {
   "codemirror_mode": {
    "name": "ipython",
    "version": 3
   },
   "file_extension": ".py",
   "mimetype": "text/x-python",
   "name": "python",
   "nbconvert_exporter": "python",
   "pygments_lexer": "ipython3",
   "version": "3.9.16"
  },
  "orig_nbformat": 4
 },
 "nbformat": 4,
 "nbformat_minor": 2
}
