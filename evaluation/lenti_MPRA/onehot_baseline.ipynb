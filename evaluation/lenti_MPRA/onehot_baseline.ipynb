{
 "cells": [
  {
   "cell_type": "code",
   "execution_count": 1,
   "metadata": {},
   "outputs": [],
   "source": [
    "import h5py\n",
    "import torch\n",
    "from torch.utils.data import DataLoader\n",
    "import pytorch_lightning as pl\n",
    "from torchinfo import summary\n",
    "import sys\n",
    "sys.path.append('/home/amber/multitask_RNA/evaluation/')\n",
    "import mpra_model\n",
    "import os\n",
    "os.environ['CUDA_VISIBLE_DEVICES'] = '1'\n",
    "torch.set_default_dtype(torch.float32)"
   ]
  },
  {
   "cell_type": "code",
   "execution_count": 2,
   "metadata": {},
   "outputs": [],
   "source": [
    "file = '/home/amber/multitask_RNA/data/lenti_MPRA/K562_onehot.h5'\n",
    "model = mpra_model.MPRA_model(filter_num=192,kernel_size=7,residual_num=2,exp_num=1)"
   ]
  },
  {
   "cell_type": "code",
   "execution_count": 3,
   "metadata": {},
   "outputs": [],
   "source": [
    "dataset = mpra_model.onehot_dataset(file)\n",
    "train,valid = torch.utils.data.random_split(dataset,[int(len(dataset)*0.9),len(dataset)-int(len(dataset)*0.9)])\n",
    "train_loader = DataLoader(train, num_workers=4,batch_size = 256)\n",
    "valid_loader = DataLoader(valid, num_workers=4,batch_size = 256)"
   ]
  },
  {
   "cell_type": "code",
   "execution_count": 5,
   "metadata": {},
   "outputs": [
    {
     "name": "stderr",
     "output_type": "stream",
     "text": [
      "/home/amber/tf_2/lib/python3.8/site-packages/pytorch_lightning/trainer/connectors/accelerator_connector.py:467: LightningDeprecationWarning: Setting `Trainer(gpus=0)` is deprecated in v1.7 and will be removed in v2.0. Please use `Trainer(accelerator='gpu', devices=0)` instead.\n",
      "  rank_zero_deprecation(\n",
      "GPU available: True (cuda), used: False\n",
      "TPU available: False, using: 0 TPU cores\n",
      "IPU available: False, using: 0 IPUs\n",
      "HPU available: False, using: 0 HPUs\n",
      "/home/amber/tf_2/lib/python3.8/site-packages/pytorch_lightning/trainer/setup.py:175: PossibleUserWarning: GPU available but not used. Set `accelerator` and `devices` using `Trainer(accelerator='gpu', devices=1)`.\n",
      "  rank_zero_warn(\n",
      "\n",
      "   | Name         | Type        | Params\n",
      "----------------------------------------------\n",
      "0  | loss_func    | MSELoss     | 0     \n",
      "1  | first_conv   | Conv1d      | 5.6 K \n",
      "2  | batch1       | BatchNorm1d | 384   \n",
      "3  | maxpool      | MaxPool1d   | 0     \n",
      "4  | residual     | Sequential  | 775 K \n",
      "5  | flat         | Flatten     | 0     \n",
      "6  | linear       | Linear      | 258 K \n",
      "7  | batch2       | BatchNorm1d | 384   \n",
      "8  | last_act     | ReLU        | 0     \n",
      "9  | last_dropout | Dropout     | 0     \n",
      "10 | dense        | Linear      | 24.7 K\n",
      "11 | dense2       | Linear      | 129   \n",
      "----------------------------------------------\n",
      "1.1 M     Trainable params\n",
      "0         Non-trainable params\n",
      "1.1 M     Total params\n",
      "4.261     Total estimated model params size (MB)\n"
     ]
    },
    {
     "data": {
      "application/vnd.jupyter.widget-view+json": {
       "model_id": "0b88c28b08b948498dc297acb05ec132",
       "version_major": 2,
       "version_minor": 0
      },
      "text/plain": [
       "Sanity Checking: 0it [00:00, ?it/s]"
      ]
     },
     "metadata": {},
     "output_type": "display_data"
    },
    {
     "data": {
      "application/vnd.jupyter.widget-view+json": {
       "model_id": "01f2d8c62e8243cc9bbbab4184cb5c07",
       "version_major": 2,
       "version_minor": 0
      },
      "text/plain": [
       "Training: 0it [00:00, ?it/s]"
      ]
     },
     "metadata": {},
     "output_type": "display_data"
    },
    {
     "name": "stderr",
     "output_type": "stream",
     "text": [
      "/home/amber/tf_2/lib/python3.8/site-packages/pytorch_lightning/trainer/call.py:48: UserWarning: Detected KeyboardInterrupt, attempting graceful shutdown...\n",
      "  rank_zero_warn(\"Detected KeyboardInterrupt, attempting graceful shutdown...\")\n"
     ]
    }
   ],
   "source": [
    "from pytorch_lightning.callbacks.early_stopping import EarlyStopping\n",
    "from pytorch_lightning.callbacks import ModelCheckpoint,LearningRateMonitor\n",
    "\n",
    "checkpoint_callback = ModelCheckpoint(dirpath ='/home/amber/multitask_RNA/model/lenti_MPRA_onehot/K562' ,\n",
    "                                        save_top_k=1,\n",
    "                                        monitor=\"val_loss\", \n",
    "                                        mode=\"min\")\n",
    "earlystop = EarlyStopping(monitor=\"val_loss\",\n",
    "                            mode=\"min\",patience=7)\n",
    "lr_monitor = LearningRateMonitor(logging_interval='epoch')\n",
    "\n",
    "\n",
    "trainer = pl.Trainer(gpus=0,detect_anomaly=True,max_epochs=100,\n",
    "                    callbacks=[earlystop,lr_monitor])\n",
    "history = trainer.fit(model=model,train_dataloaders=train_loader,val_dataloaders = valid_loader)"
   ]
  },
  {
   "cell_type": "code",
   "execution_count": null,
   "metadata": {},
   "outputs": [],
   "source": []
  },
  {
   "cell_type": "code",
   "execution_count": 6,
   "metadata": {},
   "outputs": [
    {
     "name": "stdout",
     "output_type": "stream",
     "text": [
      "torch.Size([128, 192, 7])\n",
      "torch.Size([128, 1344])\n"
     ]
    },
    {
     "data": {
      "text/plain": [
       "==========================================================================================\n",
       "Layer (type:depth-idx)                   Output Shape              Param #\n",
       "==========================================================================================\n",
       "MPRA_model                               [128, 1]                  --\n",
       "├─MSELoss: 1-1                           --                        --\n",
       "├─Conv1d: 1-2                            [128, 192, 230]           5,568\n",
       "├─BatchNorm1d: 1-3                       [128, 192, 230]           384\n",
       "├─MaxPool1d: 1-4                         [128, 192, 28]            --\n",
       "├─Sequential: 1-5                        [128, 192, 7]             --\n",
       "│    └─dilated_residual: 2-1             [128, 192, 28]            --\n",
       "│    │    └─Sequential: 3-1              [128, 192, 28]            775,872\n",
       "│    │    └─ReLU: 3-2                    [128, 192, 28]            --\n",
       "│    └─MaxPool1d: 2-2                    [128, 192, 7]             --\n",
       "├─Flatten: 1-6                           [128, 1344]               --\n",
       "├─Linear: 1-7                            [128, 192]                258,240\n",
       "├─BatchNorm1d: 1-8                       [128, 192]                384\n",
       "├─ReLU: 1-9                              [128, 192]                --\n",
       "├─Dropout: 1-10                          [128, 192]                --\n",
       "├─Linear: 1-11                           [128, 128]                24,704\n",
       "├─Linear: 1-12                           [128, 1]                  129\n",
       "==========================================================================================\n",
       "Total params: 1,065,281\n",
       "Trainable params: 1,065,281\n",
       "Non-trainable params: 0\n",
       "Total mult-adds (G): 2.98\n",
       "==========================================================================================\n",
       "Input size (MB): 0.47\n",
       "Forward/backward pass size (MB): 124.00\n",
       "Params size (MB): 4.26\n",
       "Estimated Total Size (MB): 128.73\n",
       "=========================================================================================="
      ]
     },
     "execution_count": 6,
     "metadata": {},
     "output_type": "execute_result"
    }
   ],
   "source": [
    "summary(model, input_size=(128, 4, 230), device='cuda')"
   ]
  },
  {
   "cell_type": "code",
   "execution_count": null,
   "metadata": {},
   "outputs": [],
   "source": []
  }
 ],
 "metadata": {
  "kernelspec": {
   "display_name": "tf_2",
   "language": "python",
   "name": "python3"
  },
  "language_info": {
   "codemirror_mode": {
    "name": "ipython",
    "version": 3
   },
   "file_extension": ".py",
   "mimetype": "text/x-python",
   "name": "python",
   "nbconvert_exporter": "python",
   "pygments_lexer": "ipython3",
   "version": "3.8.10"
  },
  "orig_nbformat": 4
 },
 "nbformat": 4,
 "nbformat_minor": 2
}
