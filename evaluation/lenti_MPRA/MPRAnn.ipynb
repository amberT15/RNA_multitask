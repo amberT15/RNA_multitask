{
 "cells": [
  {
   "attachments": {},
   "cell_type": "markdown",
   "metadata": {},
   "source": [
    "## Train Model"
   ]
  },
  {
   "cell_type": "code",
   "execution_count": 1,
   "metadata": {},
   "outputs": [
    {
     "name": "stderr",
     "output_type": "stream",
     "text": [
      "2023-05-04 17:39:23.813545: I tensorflow/core/platform/cpu_feature_guard.cc:182] This TensorFlow binary is optimized to use available CPU instructions in performance-critical operations.\n",
      "To enable the following instructions: AVX2 FMA, in other operations, rebuild TensorFlow with the appropriate compiler flags.\n",
      "2023-05-04 17:39:24.419468: W tensorflow/compiler/tf2tensorrt/utils/py_utils.cc:38] TF-TRT Warning: Could not find TensorRT\n"
     ]
    }
   ],
   "source": [
    "import h5py\n",
    "import sys\n",
    "sys.path.append('/home/ztang/multitask_RNA/evaluation/')\n",
    "import mpra_model\n",
    "import numpy as np\n",
    "import os\n",
    "import tensorflow as tf\n",
    "os.environ['CUDA_VISIBLE_DEVICES'] = '0'\n",
    "from sklearn import model_selection\n",
    "import scipy.stats\n",
    "celltype = 'K562'"
   ]
  },
  {
   "cell_type": "code",
   "execution_count": 2,
   "metadata": {},
   "outputs": [],
   "source": [
    "file = '/home/ztang/multitask_RNA/data/lenti_MPRA/'+celltype+'_onehot_rc.h5'\n",
    "f = h5py.File(file, 'r')\n",
    "x = f['onehot'][()]\n",
    "y = f['target'][()]\n",
    "x = np.swapaxes(x,1,2)\n",
    "x_train, x_test, y_train, y_test = model_selection.train_test_split(x, y, test_size=0.1, random_state=42)"
   ]
  },
  {
   "attachments": {},
   "cell_type": "markdown",
   "metadata": {},
   "source": [
    "## Multiple models for ensemble"
   ]
  },
  {
   "cell_type": "code",
   "execution_count": 3,
   "metadata": {},
   "outputs": [
    {
     "name": "stderr",
     "output_type": "stream",
     "text": [
      "2023-05-04 17:39:30.686591: I tensorflow/core/common_runtime/gpu/gpu_device.cc:1635] Created device /job:localhost/replica:0/task:0/device:GPU:0 with 78865 MB memory:  -> device: 0, name: NVIDIA A100 80GB PCIe, pci bus id: 0000:07:00.0, compute capability: 8.0\n"
     ]
    },
    {
     "name": "stdout",
     "output_type": "stream",
     "text": [
      "Epoch 1/100\n"
     ]
    },
    {
     "name": "stderr",
     "output_type": "stream",
     "text": [
      "2023-05-04 17:39:35.867773: I tensorflow/compiler/xla/stream_executor/cuda/cuda_dnn.cc:424] Loaded cuDNN version 8600\n",
      "2023-05-04 17:39:36.439351: I tensorflow/compiler/xla/stream_executor/cuda/cuda_blas.cc:637] TensorFloat-32 will be used for the matrix multiplication. This will only be logged once.\n",
      "2023-05-04 17:39:36.440844: I tensorflow/compiler/xla/service/service.cc:169] XLA service 0x55990f54c060 initialized for platform CUDA (this does not guarantee that XLA will be used). Devices:\n",
      "2023-05-04 17:39:36.440862: I tensorflow/compiler/xla/service/service.cc:177]   StreamExecutor device (0): NVIDIA A100 80GB PCIe, Compute Capability 8.0\n",
      "2023-05-04 17:39:36.444525: I tensorflow/compiler/mlir/tensorflow/utils/dump_mlir_util.cc:269] disabling MLIR crash reproducer, set env var `MLIR_CRASH_REPRODUCER_DIRECTORY` to enable.\n",
      "2023-05-04 17:39:36.561859: I ./tensorflow/compiler/jit/device_compiler.h:180] Compiled cluster using XLA!  This line is logged at most once for the lifetime of the process.\n"
     ]
    },
    {
     "name": "stdout",
     "output_type": "stream",
     "text": [
      "5728/5728 - 35s - loss: 0.2034 - mse: 0.2034 - mae: 0.3449 - val_loss: 0.2339 - val_mse: 0.2339 - val_mae: 0.3562 - 35s/epoch - 6ms/step\n",
      "Epoch 2/100\n",
      "5728/5728 - 29s - loss: 0.1821 - mse: 0.1821 - mae: 0.3258 - val_loss: 0.1835 - val_mse: 0.1835 - val_mae: 0.3359 - 29s/epoch - 5ms/step\n",
      "Epoch 3/100\n",
      "5728/5728 - 28s - loss: 0.1724 - mse: 0.1724 - mae: 0.3167 - val_loss: 0.1736 - val_mse: 0.1736 - val_mae: 0.3258 - 28s/epoch - 5ms/step\n",
      "Epoch 4/100\n",
      "5728/5728 - 28s - loss: 0.1658 - mse: 0.1658 - mae: 0.3106 - val_loss: 0.1848 - val_mse: 0.1848 - val_mae: 0.3275 - 28s/epoch - 5ms/step\n",
      "Epoch 5/100\n",
      "5728/5728 - 29s - loss: 0.1611 - mse: 0.1611 - mae: 0.3063 - val_loss: 0.1668 - val_mse: 0.1668 - val_mae: 0.3059 - 29s/epoch - 5ms/step\n",
      "Epoch 6/100\n",
      "5728/5728 - 28s - loss: 0.1567 - mse: 0.1567 - mae: 0.3018 - val_loss: 0.1608 - val_mse: 0.1608 - val_mae: 0.3028 - 28s/epoch - 5ms/step\n",
      "Epoch 7/100\n",
      "5728/5728 - 28s - loss: 0.1533 - mse: 0.1533 - mae: 0.2987 - val_loss: 0.1649 - val_mse: 0.1649 - val_mae: 0.3040 - 28s/epoch - 5ms/step\n",
      "Epoch 8/100\n",
      "5728/5728 - 28s - loss: 0.1501 - mse: 0.1501 - mae: 0.2955 - val_loss: 0.1870 - val_mse: 0.1870 - val_mae: 0.3381 - 28s/epoch - 5ms/step\n",
      "Epoch 9/100\n",
      "5728/5728 - 28s - loss: 0.1466 - mse: 0.1466 - mae: 0.2922 - val_loss: 0.1564 - val_mse: 0.1564 - val_mae: 0.2966 - 28s/epoch - 5ms/step\n",
      "Epoch 10/100\n",
      "5728/5728 - 29s - loss: 0.1431 - mse: 0.1431 - mae: 0.2888 - val_loss: 0.1565 - val_mse: 0.1565 - val_mae: 0.2973 - 29s/epoch - 5ms/step\n",
      "Epoch 11/100\n",
      "5728/5728 - 28s - loss: 0.1407 - mse: 0.1407 - mae: 0.2863 - val_loss: 0.1697 - val_mse: 0.1697 - val_mae: 0.3033 - 28s/epoch - 5ms/step\n",
      "Epoch 12/100\n",
      "5728/5728 - 28s - loss: 0.1379 - mse: 0.1379 - mae: 0.2835 - val_loss: 0.1946 - val_mse: 0.1946 - val_mae: 0.3222 - 28s/epoch - 5ms/step\n",
      "Epoch 13/100\n",
      "5728/5728 - 28s - loss: 0.1350 - mse: 0.1350 - mae: 0.2806 - val_loss: 0.2279 - val_mse: 0.2279 - val_mae: 0.3808 - 28s/epoch - 5ms/step\n",
      "Epoch 14/100\n",
      "5728/5728 - 29s - loss: 0.1326 - mse: 0.1326 - mae: 0.2781 - val_loss: 0.1561 - val_mse: 0.1561 - val_mae: 0.3000 - 29s/epoch - 5ms/step\n",
      "Epoch 15/100\n",
      "5728/5728 - 28s - loss: 0.1296 - mse: 0.1296 - mae: 0.2753 - val_loss: 0.1739 - val_mse: 0.1739 - val_mae: 0.3061 - 28s/epoch - 5ms/step\n",
      "Epoch 16/100\n",
      "5728/5728 - 27s - loss: 0.1274 - mse: 0.1274 - mae: 0.2730 - val_loss: 0.1564 - val_mse: 0.1564 - val_mae: 0.2953 - 27s/epoch - 5ms/step\n",
      "Epoch 17/100\n",
      "5728/5728 - 28s - loss: 0.1250 - mse: 0.1250 - mae: 0.2704 - val_loss: 0.1630 - val_mse: 0.1630 - val_mae: 0.2972 - 28s/epoch - 5ms/step\n",
      "Epoch 18/100\n",
      "5728/5728 - 28s - loss: 0.1224 - mse: 0.1224 - mae: 0.2679 - val_loss: 0.1554 - val_mse: 0.1554 - val_mae: 0.3038 - 28s/epoch - 5ms/step\n",
      "Epoch 19/100\n",
      "5728/5728 - 28s - loss: 0.1205 - mse: 0.1205 - mae: 0.2660 - val_loss: 0.1555 - val_mse: 0.1555 - val_mae: 0.2917 - 28s/epoch - 5ms/step\n",
      "Epoch 20/100\n",
      "5728/5728 - 29s - loss: 0.1184 - mse: 0.1184 - mae: 0.2638 - val_loss: 0.1464 - val_mse: 0.1464 - val_mae: 0.2889 - 29s/epoch - 5ms/step\n",
      "Epoch 21/100\n",
      "5728/5728 - 29s - loss: 0.1162 - mse: 0.1162 - mae: 0.2613 - val_loss: 0.2170 - val_mse: 0.2170 - val_mae: 0.3383 - 29s/epoch - 5ms/step\n",
      "Epoch 22/100\n",
      "5728/5728 - 29s - loss: 0.1150 - mse: 0.1150 - mae: 0.2601 - val_loss: 0.1572 - val_mse: 0.1572 - val_mae: 0.2943 - 29s/epoch - 5ms/step\n",
      "Epoch 23/100\n",
      "5728/5728 - 29s - loss: 0.1133 - mse: 0.1133 - mae: 0.2582 - val_loss: 0.1851 - val_mse: 0.1851 - val_mae: 0.3137 - 29s/epoch - 5ms/step\n",
      "Epoch 24/100\n",
      "5728/5728 - 28s - loss: 0.1120 - mse: 0.1120 - mae: 0.2568 - val_loss: 0.1454 - val_mse: 0.1454 - val_mae: 0.2885 - 28s/epoch - 5ms/step\n",
      "Epoch 25/100\n",
      "5728/5728 - 28s - loss: 0.1105 - mse: 0.1105 - mae: 0.2550 - val_loss: 0.2166 - val_mse: 0.2166 - val_mae: 0.3699 - 28s/epoch - 5ms/step\n",
      "Epoch 26/100\n",
      "5728/5728 - 29s - loss: 0.1095 - mse: 0.1095 - mae: 0.2541 - val_loss: 0.2130 - val_mse: 0.2130 - val_mae: 0.3369 - 29s/epoch - 5ms/step\n",
      "Epoch 27/100\n",
      "5728/5728 - 29s - loss: 0.1084 - mse: 0.1084 - mae: 0.2531 - val_loss: 0.1502 - val_mse: 0.1502 - val_mae: 0.2881 - 29s/epoch - 5ms/step\n",
      "Epoch 28/100\n",
      "5728/5728 - 28s - loss: 0.1071 - mse: 0.1071 - mae: 0.2516 - val_loss: 0.1770 - val_mse: 0.1770 - val_mae: 0.3074 - 28s/epoch - 5ms/step\n",
      "Epoch 29/100\n",
      "5728/5728 - 29s - loss: 0.1063 - mse: 0.1063 - mae: 0.2506 - val_loss: 0.1824 - val_mse: 0.1824 - val_mae: 0.3111 - 29s/epoch - 5ms/step\n",
      "Epoch 30/100\n",
      "5728/5728 - 28s - loss: 0.1056 - mse: 0.1056 - mae: 0.2499 - val_loss: 0.1455 - val_mse: 0.1455 - val_mae: 0.2855 - 28s/epoch - 5ms/step\n",
      "Epoch 31/100\n",
      "5728/5728 - 28s - loss: 0.1047 - mse: 0.1047 - mae: 0.2490 - val_loss: 0.1492 - val_mse: 0.1492 - val_mae: 0.2891 - 28s/epoch - 5ms/step\n",
      "Epoch 32/100\n",
      "5728/5728 - 29s - loss: 0.1044 - mse: 0.1044 - mae: 0.2484 - val_loss: 0.4214 - val_mse: 0.4214 - val_mae: 0.5247 - 29s/epoch - 5ms/step\n",
      "Epoch 33/100\n",
      "5728/5728 - 28s - loss: 0.1028 - mse: 0.1028 - mae: 0.2468 - val_loss: 0.1466 - val_mse: 0.1466 - val_mae: 0.2924 - 28s/epoch - 5ms/step\n",
      "Epoch 34/100\n",
      "5728/5728 - 28s - loss: 0.1021 - mse: 0.1021 - mae: 0.2459 - val_loss: 0.1655 - val_mse: 0.1655 - val_mae: 0.2979 - 28s/epoch - 5ms/step\n"
     ]
    }
   ],
   "source": [
    "model_count = 1\n",
    "for i in range(model_count):\n",
    "    model = mpra_model.MPRAnn((None,230,4),(None,1))\n",
    "    earlyStopping_callback = tf.keras.callbacks.EarlyStopping(\n",
    "                patience=10, restore_best_weights=True\n",
    "            )\n",
    "    \n",
    "    optimizer = tf.keras.optimizers.Adam(learning_rate=0.001)\n",
    "\n",
    "    checkpoint = tf.keras.callbacks.ModelCheckpoint('/home/ztang/multitask_RNA/model_rep/MPRAnn/'+celltype+'/model_'+str(i)+'.h5',\n",
    "                                        monitor='val_loss',\n",
    "                                        save_best_only=True,\n",
    "                                        mode = 'min',\n",
    "                                        save_freq='epoch',)\n",
    "    model.compile(\n",
    "                    loss=\"mean_squared_error\",\n",
    "                    metrics=[\"mse\", \"mae\"],\n",
    "                    optimizer=optimizer,\n",
    "                )\n",
    "    result = model.fit(x_train,y_train,\n",
    "        batch_size=64,\n",
    "        validation_split=0.1,\n",
    "        epochs=100,\n",
    "        shuffle=True,\n",
    "        verbose=2,\n",
    "        callbacks=[earlyStopping_callback,checkpoint],\n",
    "    )\n",
    "    tf.keras.backend.clear_session()\n"
   ]
  },
  {
   "cell_type": "code",
   "execution_count": 13,
   "metadata": {},
   "outputs": [
    {
     "data": {
      "text/plain": [
       "[<matplotlib.lines.Line2D at 0x7f707062c850>]"
      ]
     },
     "execution_count": 13,
     "metadata": {},
     "output_type": "execute_result"
    },
    {
     "data": {
      "image/png": "[encoded data removed]",
      "text/plain": [
       "<Figure size 640x480 with 1 Axes>"
      ]
     },
     "metadata": {},
     "output_type": "display_data"
    }
   ],
   "source": [
    "import matplotlib.pyplot as plt\n",
    "plt.plot(result.history['val_loss'])"
   ]
  },
  {
   "cell_type": "code",
   "execution_count": 14,
   "metadata": {},
   "outputs": [
    {
     "name": "stdout",
     "output_type": "stream",
     "text": [
      "1415/1415 [==============================] - 2s 1ms/step\n"
     ]
    }
   ],
   "source": [
    "y_pred = np.zeros(y_test.shape)\n",
    "for i in range(model_count):\n",
    "    model = tf.keras.models.load_model('/home/ztang/multitask_RNA/model_rep/MPRAnn/'+celltype+'/model_'+str(i)+'.h5')\n",
    "    y_pred += np.squeeze(model.predict(x_test))"
   ]
  },
  {
   "cell_type": "code",
   "execution_count": 15,
   "metadata": {},
   "outputs": [
    {
     "data": {
      "text/plain": [
       "PearsonRResult(statistic=0.6946396922381959, pvalue=0.0)"
      ]
     },
     "execution_count": 15,
     "metadata": {},
     "output_type": "execute_result"
    }
   ],
   "source": [
    "y_pred = y_pred / model_count\n",
    "scipy.stats.pearsonr(y_test, y_pred)"
   ]
  },
  {
   "attachments": {},
   "cell_type": "markdown",
   "metadata": {},
   "source": [
    "## Test model on corresponding CAGI"
   ]
  },
  {
   "cell_type": "code",
   "execution_count": 16,
   "metadata": {},
   "outputs": [],
   "source": [
    "import tensorflow as tf\n",
    "from tensorflow import keras\n",
    "import h5py\n",
    "import scipy.stats\n",
    "import numpy as np\n",
    "import os\n",
    "import pandas as pd\n",
    "os.environ['CUDA_VISIBLE_DEVICES'] = '0'\n",
    "celltype = 'K562'\n",
    "model_num = 0"
   ]
  },
  {
   "cell_type": "code",
   "execution_count": 17,
   "metadata": {},
   "outputs": [],
   "source": [
    "model = tf.keras.models.load_model('/home/ztang/multitask_RNA/model_rep/MPRAnn/'+celltype+'/model_'+str(model_num)+'.h5')"
   ]
  },
  {
   "cell_type": "code",
   "execution_count": 18,
   "metadata": {},
   "outputs": [
    {
     "name": "stdout",
     "output_type": "stream",
     "text": [
      "WARNING:tensorflow:Keras is training/fitting/evaluating on array-like data. Keras may not be optimized for this format, so if your input data format is supported by TensorFlow I/O (https://github.com/tensorflow/io) we recommend using that to load a Dataset instead.\n",
      "45/45 [==============================] - 0s 1ms/step\n",
      "WARNING:tensorflow:Keras is training/fitting/evaluating on array-like data. Keras may not be optimized for this format, so if your input data format is supported by TensorFlow I/O (https://github.com/tensorflow/io) we recommend using that to load a Dataset instead.\n",
      "45/45 [==============================] - 0s 1ms/step\n"
     ]
    }
   ],
   "source": [
    "file = h5py.File(\"/home/ztang/multitask_RNA/data/CAGI/\"+celltype+\"/onehot.h5\", \"r\")\n",
    "alt = file['alt']\n",
    "ref = file['ref']\n",
    "alt_pred = model.predict(alt)\n",
    "ref_pred = model.predict(ref)\n",
    "pred = alt_pred - ref_pred"
   ]
  },
  {
   "cell_type": "code",
   "execution_count": 19,
   "metadata": {},
   "outputs": [],
   "source": [
    "exp_df = pd.read_csv('/home/ztang/multitask_RNA/data/CAGI/'+celltype+'/metadata.csv')\n",
    "target = exp_df['6'].values.tolist()"
   ]
  },
  {
   "cell_type": "code",
   "execution_count": 20,
   "metadata": {},
   "outputs": [
    {
     "name": "stdout",
     "output_type": "stream",
     "text": [
      "PKLR\n",
      "0.3686260139129207\n"
     ]
    }
   ],
   "source": [
    "start_idx=0\n",
    "perf = []\n",
    "for exp in exp_df['8'].unique():\n",
    "    sub_df = exp_df[exp_df['8'] == exp]\n",
    "    exp_target = target[start_idx:sub_df.index[-1]+1]\n",
    "    exp_pred = np.squeeze(pred)[start_idx:sub_df.index[-1]+1]\n",
    "    print(exp)\n",
    "    perf.append(scipy.stats.pearsonr(exp_pred,exp_target)[0])\n",
    "    print(scipy.stats.pearsonr(exp_pred,exp_target)[0])"
   ]
  },
  {
   "cell_type": "code",
   "execution_count": 12,
   "metadata": {},
   "outputs": [
    {
     "data": {
      "text/plain": [
       "0.3686260139129207"
      ]
     },
     "execution_count": 12,
     "metadata": {},
     "output_type": "execute_result"
    }
   ],
   "source": [
    "np.mean(perf)"
   ]
  },
  {
   "cell_type": "code",
   "execution_count": null,
   "metadata": {},
   "outputs": [],
   "source": []
  }
 ],
 "metadata": {
  "kernelspec": {
   "display_name": "tf_2",
   "language": "python",
   "name": "python3"
  },
  "language_info": {
   "codemirror_mode": {
    "name": "ipython",
    "version": 3
   },
   "file_extension": ".py",
   "mimetype": "text/x-python",
   "name": "python",
   "nbconvert_exporter": "python",
   "pygments_lexer": "ipython3",
   "version": "3.9.16"
  },
  "orig_nbformat": 4
 },
 "nbformat": 4,
 "nbformat_minor": 2
}
