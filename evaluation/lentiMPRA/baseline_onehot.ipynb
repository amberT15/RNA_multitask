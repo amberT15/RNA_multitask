{
 "cells": [
  {
   "attachments": {},
   "cell_type": "markdown",
   "metadata": {},
   "source": [
    "## Train Model"
   ]
  },
  {
   "cell_type": "code",
   "execution_count": 1,
   "metadata": {},
   "outputs": [
    {
     "name": "stderr",
     "output_type": "stream",
     "text": [
      "2023-05-15 10:08:50.210881: I tensorflow/core/platform/cpu_feature_guard.cc:182] This TensorFlow binary is optimized to use available CPU instructions in performance-critical operations.\n",
      "To enable the following instructions: AVX2 FMA, in other operations, rebuild TensorFlow with the appropriate compiler flags.\n",
      "2023-05-15 10:08:50.766639: W tensorflow/compiler/tf2tensorrt/utils/py_utils.cc:38] TF-TRT Warning: Could not find TensorRT\n"
     ]
    }
   ],
   "source": [
    "import h5py\n",
    "import sys\n",
    "import numpy as np\n",
    "import os\n",
    "os.environ['CUDA_VISIBLE_DEVICES'] = '0'\n",
    "import tensorflow as tf\n",
    "import sys\n",
    "sys.path.append('/home/ztang/multitask_RNA/evaluation/rep_learning/')\n",
    "import mpra_model\n",
    "from sklearn import model_selection\n",
    "import scipy.stats\n",
    "celltype = 'HepG2'\n",
    "file = '/home/ztang/multitask_RNA/data/lenti_MPRA/'+celltype+'_onehot.h5'\n",
    "save_model = '/home/ztang/multitask_RNA/model/lenti_MPRA_onehot/'+celltype+'/base_CNN_model.h5'"
   ]
  },
  {
   "cell_type": "code",
   "execution_count": 2,
   "metadata": {},
   "outputs": [],
   "source": [
    "f = h5py.File(file, 'r')\n",
    "x = f['onehot'][()]\n",
    "y = f['target'][()]\n",
    "x = np.swapaxes(x,1,2)\n",
    "x_train, x_test, y_train, y_test = model_selection.train_test_split(x, y, test_size=0.1,random_state=42)"
   ]
  },
  {
   "cell_type": "code",
   "execution_count": 3,
   "metadata": {},
   "outputs": [
    {
     "name": "stderr",
     "output_type": "stream",
     "text": [
      "2023-05-12 10:59:28.410872: I tensorflow/core/common_runtime/gpu/gpu_device.cc:1635] Created device /job:localhost/replica:0/task:0/device:GPU:0 with 78865 MB memory:  -> device: 0, name: NVIDIA A100 80GB PCIe, pci bus id: 0000:07:00.0, compute capability: 8.0\n",
      "/home/ztang/.conda/envs/jax_tf/lib/python3.9/site-packages/keras/initializers/initializers.py:120: UserWarning: The initializer RandomNormal is unseeded and being called multiple times, which will return identical values each time (even if the initializer is unseeded). Please update your code to provide a seed to the initializer, or avoid using the same initalizer instance more than once.\n",
      "  warnings.warn(\n"
     ]
    }
   ],
   "source": [
    "cnn_config = {\n",
    "    'activation':'exponential',\n",
    "    'reduce_dim': 196,\n",
    "    'conv1_filter':196,\n",
    "    'conv1_kernel':7,\n",
    "    'dropout1':0.2,\n",
    "    'res_pool':5,\n",
    "    'res_dropout':0.2,\n",
    "    'conv2_filter':256,\n",
    "    'conv2_kernel':7,\n",
    "    'pool2_size':4,\n",
    "    'dropout2':0.2,\n",
    "    'dense':512,\n",
    "    'dense2':256,\n",
    "    'l_rate':0.0001\n",
    "}\n",
    "model=mpra_model.rep_cnn((230,4),cnn_config)"
   ]
  },
  {
   "cell_type": "code",
   "execution_count": 4,
   "metadata": {},
   "outputs": [],
   "source": [
    "#model = mpra_model.ResNet((230,4),1)\n",
    "earlyStopping_callback = tf.keras.callbacks.EarlyStopping(\n",
    "            patience=10, restore_best_weights=True\n",
    "        )\n",
    "reduce_lr = tf.keras.callbacks.ReduceLROnPlateau(\n",
    "            monitor='val_loss', factor=0.2,\n",
    "            patience=5, min_lr=1e-6)\n",
    "\n",
    "optimizer = tf.keras.optimizers.Adam(learning_rate=0.001)\n",
    "\n",
    "checkpoint = tf.keras.callbacks.ModelCheckpoint(save_model,\n",
    "                                    monitor='val_loss',\n",
    "                                    save_best_only=True,\n",
    "                                    mode = 'min',\n",
    "                                    save_freq='epoch',)\n",
    "model.compile(\n",
    "                loss=\"mean_squared_error\",\n",
    "                metrics=[\"mse\", \"mae\"],\n",
    "                optimizer=optimizer,\n",
    "            )"
   ]
  },
  {
   "cell_type": "code",
   "execution_count": 5,
   "metadata": {},
   "outputs": [
    {
     "name": "stdout",
     "output_type": "stream",
     "text": [
      "Epoch 1/100\n"
     ]
    },
    {
     "name": "stderr",
     "output_type": "stream",
     "text": [
      "2023-05-12 10:59:36.192418: I tensorflow/compiler/xla/stream_executor/cuda/cuda_dnn.cc:424] Loaded cuDNN version 8600\n",
      "2023-05-12 10:59:36.804465: I tensorflow/compiler/xla/stream_executor/cuda/cuda_blas.cc:637] TensorFloat-32 will be used for the matrix multiplication. This will only be logged once.\n",
      "2023-05-12 10:59:36.807767: I tensorflow/compiler/xla/service/service.cc:169] XLA service 0x5644cf687630 initialized for platform CUDA (this does not guarantee that XLA will be used). Devices:\n",
      "2023-05-12 10:59:36.807786: I tensorflow/compiler/xla/service/service.cc:177]   StreamExecutor device (0): NVIDIA A100 80GB PCIe, Compute Capability 8.0\n",
      "2023-05-12 10:59:36.811503: I tensorflow/compiler/mlir/tensorflow/utils/dump_mlir_util.cc:269] disabling MLIR crash reproducer, set env var `MLIR_CRASH_REPRODUCER_DIRECTORY` to enable.\n",
      "2023-05-12 10:59:36.922359: I ./tensorflow/compiler/jit/device_compiler.h:180] Compiled cluster using XLA!  This line is logged at most once for the lifetime of the process.\n"
     ]
    },
    {
     "name": "stdout",
     "output_type": "stream",
     "text": [
      "1432/1432 - 13s - loss: 0.1996 - mse: 0.1996 - mae: 0.3418 - val_loss: 0.1770 - val_mse: 0.1770 - val_mae: 0.3231 - lr: 0.0010 - 13s/epoch - 9ms/step\n",
      "Epoch 2/100\n",
      "1432/1432 - 7s - loss: 0.1708 - mse: 0.1708 - mae: 0.3154 - val_loss: 0.2039 - val_mse: 0.2039 - val_mae: 0.3623 - lr: 0.0010 - 7s/epoch - 5ms/step\n",
      "Epoch 3/100\n",
      "1432/1432 - 7s - loss: 0.1602 - mse: 0.1602 - mae: 0.3058 - val_loss: 0.1917 - val_mse: 0.1917 - val_mae: 0.3371 - lr: 0.0010 - 7s/epoch - 5ms/step\n",
      "Epoch 4/100\n",
      "1432/1432 - 8s - loss: 0.1521 - mse: 0.1521 - mae: 0.2978 - val_loss: 0.1809 - val_mse: 0.1809 - val_mae: 0.3331 - lr: 0.0010 - 8s/epoch - 5ms/step\n",
      "Epoch 5/100\n",
      "1432/1432 - 8s - loss: 0.1454 - mse: 0.1454 - mae: 0.2913 - val_loss: 0.1483 - val_mse: 0.1483 - val_mae: 0.2968 - lr: 0.0010 - 8s/epoch - 5ms/step\n",
      "Epoch 6/100\n",
      "1432/1432 - 7s - loss: 0.1390 - mse: 0.1390 - mae: 0.2850 - val_loss: 0.1885 - val_mse: 0.1885 - val_mae: 0.3276 - lr: 0.0010 - 7s/epoch - 5ms/step\n",
      "Epoch 7/100\n",
      "1432/1432 - 7s - loss: 0.1343 - mse: 0.1343 - mae: 0.2804 - val_loss: 0.1733 - val_mse: 0.1733 - val_mae: 0.3174 - lr: 0.0010 - 7s/epoch - 5ms/step\n",
      "Epoch 8/100\n",
      "1432/1432 - 7s - loss: 0.1286 - mse: 0.1286 - mae: 0.2751 - val_loss: 0.1714 - val_mse: 0.1714 - val_mae: 0.3138 - lr: 0.0010 - 7s/epoch - 5ms/step\n",
      "Epoch 9/100\n",
      "1432/1432 - 7s - loss: 0.1244 - mse: 0.1244 - mae: 0.2707 - val_loss: 0.1523 - val_mse: 0.1523 - val_mae: 0.2996 - lr: 0.0010 - 7s/epoch - 5ms/step\n",
      "Epoch 10/100\n",
      "1432/1432 - 7s - loss: 0.1198 - mse: 0.1198 - mae: 0.2662 - val_loss: 0.1711 - val_mse: 0.1711 - val_mae: 0.3235 - lr: 0.0010 - 7s/epoch - 5ms/step\n",
      "Epoch 11/100\n",
      "1432/1432 - 7s - loss: 0.1080 - mse: 0.1080 - mae: 0.2536 - val_loss: 0.1511 - val_mse: 0.1511 - val_mae: 0.2967 - lr: 2.0000e-04 - 7s/epoch - 5ms/step\n",
      "Epoch 12/100\n",
      "1432/1432 - 7s - loss: 0.1047 - mse: 0.1047 - mae: 0.2500 - val_loss: 0.2182 - val_mse: 0.2182 - val_mae: 0.3651 - lr: 2.0000e-04 - 7s/epoch - 5ms/step\n",
      "Epoch 13/100\n",
      "1432/1432 - 7s - loss: 0.1022 - mse: 0.1022 - mae: 0.2470 - val_loss: 0.1604 - val_mse: 0.1604 - val_mae: 0.3055 - lr: 2.0000e-04 - 7s/epoch - 5ms/step\n",
      "Epoch 14/100\n",
      "1432/1432 - 7s - loss: 0.1011 - mse: 0.1011 - mae: 0.2460 - val_loss: 0.1583 - val_mse: 0.1583 - val_mae: 0.3044 - lr: 2.0000e-04 - 7s/epoch - 5ms/step\n",
      "Epoch 15/100\n",
      "1432/1432 - 7s - loss: 0.0995 - mse: 0.0995 - mae: 0.2439 - val_loss: 0.1632 - val_mse: 0.1632 - val_mae: 0.3088 - lr: 2.0000e-04 - 7s/epoch - 5ms/step\n"
     ]
    }
   ],
   "source": [
    "result = model.fit(x_train,y_train,\n",
    "        batch_size=128,\n",
    "        validation_split=0.1,\n",
    "        epochs=100,\n",
    "        shuffle=True,\n",
    "        verbose=2,\n",
    "        callbacks=[earlyStopping_callback,checkpoint,reduce_lr],\n",
    "    )\n"
   ]
  },
  {
   "cell_type": "code",
   "execution_count": 6,
   "metadata": {},
   "outputs": [
    {
     "data": {
      "text/plain": [
       "[<matplotlib.lines.Line2D at 0x7f728c0579d0>]"
      ]
     },
     "execution_count": 6,
     "metadata": {},
     "output_type": "execute_result"
    },
    {
     "data": {
      "image/png": "[encoded data removed]",
      "text/plain": [
       "<Figure size 640x480 with 1 Axes>"
      ]
     },
     "metadata": {},
     "output_type": "display_data"
    }
   ],
   "source": [
    "import matplotlib.pyplot as plt\n",
    "plt.plot(result.history['val_loss'])"
   ]
  },
  {
   "cell_type": "code",
   "execution_count": 11,
   "metadata": {},
   "outputs": [
    {
     "name": "stdout",
     "output_type": "stream",
     "text": [
      "708/708 [==============================] - 1s 888us/step\n"
     ]
    },
    {
     "data": {
      "text/plain": [
       "PearsonRResult(statistic=0.7036211396663091, pvalue=0.0)"
      ]
     },
     "execution_count": 11,
     "metadata": {},
     "output_type": "execute_result"
    }
   ],
   "source": [
    "y_pred = model.predict(x_test)\n",
    "scipy.stats.pearsonr(np.squeeze(y_pred),y_test)"
   ]
  },
  {
   "cell_type": "code",
   "execution_count": 9,
   "metadata": {},
   "outputs": [],
   "source": []
  },
  {
   "attachments": {},
   "cell_type": "markdown",
   "metadata": {},
   "source": [
    "## Test model on corresponding CAGI"
   ]
  },
  {
   "cell_type": "code",
   "execution_count": 1,
   "metadata": {},
   "outputs": [
    {
     "name": "stderr",
     "output_type": "stream",
     "text": [
      "2023-05-30 11:34:22.623399: I tensorflow/core/platform/cpu_feature_guard.cc:182] This TensorFlow binary is optimized to use available CPU instructions in performance-critical operations.\n",
      "To enable the following instructions: AVX2 FMA, in other operations, rebuild TensorFlow with the appropriate compiler flags.\n",
      "2023-05-30 11:34:23.313575: W tensorflow/compiler/tf2tensorrt/utils/py_utils.cc:38] TF-TRT Warning: Could not find TensorRT\n"
     ]
    }
   ],
   "source": [
    "import tensorflow as tf\n",
    "from tensorflow import keras\n",
    "import h5py\n",
    "import scipy.stats\n",
    "import numpy as np\n",
    "import os\n",
    "import pandas as pd\n",
    "from sklearn import model_selection\n",
    "os.environ['CUDA_VISIBLE_DEVICES'] = '0'\n",
    "celltype = 'HepG2'"
   ]
  },
  {
   "cell_type": "code",
   "execution_count": 2,
   "metadata": {},
   "outputs": [
    {
     "name": "stderr",
     "output_type": "stream",
     "text": [
      "2023-05-30 11:34:26.062872: I tensorflow/core/common_runtime/gpu/gpu_device.cc:1635] Created device /job:localhost/replica:0/task:0/device:GPU:0 with 78865 MB memory:  -> device: 0, name: NVIDIA A100 80GB PCIe, pci bus id: 0000:07:00.0, compute capability: 8.0\n",
      "/home/ztang/.conda/envs/jax_tf/lib/python3.9/site-packages/keras/initializers/initializers.py:120: UserWarning: The initializer RandomNormal is unseeded and being called multiple times, which will return identical values each time (even if the initializer is unseeded). Please update your code to provide a seed to the initializer, or avoid using the same initalizer instance more than once.\n",
      "  warnings.warn(\n"
     ]
    }
   ],
   "source": [
    "model = keras.models.load_model('/home/ztang/multitask_RNA/model/lenti_MPRA_onehot/'+celltype+'/ResNet.h5')"
   ]
  },
  {
   "cell_type": "code",
   "execution_count": 3,
   "metadata": {},
   "outputs": [
    {
     "name": "stderr",
     "output_type": "stream",
     "text": [
      "2023-05-30 11:34:29.054550: I tensorflow/compiler/xla/stream_executor/cuda/cuda_dnn.cc:424] Loaded cuDNN version 8600\n"
     ]
    },
    {
     "name": "stdout",
     "output_type": "stream",
     "text": [
      " 80/438 [====>.........................] - ETA: 0s - loss: 0.2798 - mse: 0.2798 - mae: 0.3904 "
     ]
    },
    {
     "name": "stderr",
     "output_type": "stream",
     "text": [
      "2023-05-30 11:34:29.606967: I tensorflow/compiler/xla/stream_executor/cuda/cuda_blas.cc:637] TensorFloat-32 will be used for the matrix multiplication. This will only be logged once.\n"
     ]
    },
    {
     "name": "stdout",
     "output_type": "stream",
     "text": [
      "438/438 [==============================] - 2s 2ms/step - loss: 0.2749 - mse: 0.2749 - mae: 0.3891\n"
     ]
    },
    {
     "data": {
      "text/plain": [
       "[0.2749405801296234, 0.2749405801296234, 0.38910195231437683]"
      ]
     },
     "execution_count": 3,
     "metadata": {},
     "output_type": "execute_result"
    }
   ],
   "source": [
    "f = h5py.File('/home/ztang/multitask_RNA/data/lenti_MPRA/'+celltype+'_onehot.h5', 'r')\n",
    "x = f['onehot'][()]\n",
    "y = f['target'][()]\n",
    "x = np.swapaxes(x,1,2)\n",
    "x_train, x_test, y_train, y_test = model_selection.train_test_split(x, y, test_size=0.1,random_state=42)\n",
    "model.evaluate(x_test,y_test)"
   ]
  },
  {
   "cell_type": "code",
   "execution_count": 4,
   "metadata": {},
   "outputs": [
    {
     "name": "stdout",
     "output_type": "stream",
     "text": [
      "438/438 [==============================] - 1s 1ms/step\n"
     ]
    },
    {
     "data": {
      "text/plain": [
       "PearsonRResult(statistic=0.7467120731312961, pvalue=0.0)"
      ]
     },
     "execution_count": 4,
     "metadata": {},
     "output_type": "execute_result"
    }
   ],
   "source": [
    "y_pred = model.predict(x_test)\n",
    "scipy.stats.pearsonr(np.squeeze(y_pred),y_test)"
   ]
  },
  {
   "cell_type": "code",
   "execution_count": 5,
   "metadata": {},
   "outputs": [
    {
     "name": "stdout",
     "output_type": "stream",
     "text": [
      "WARNING:tensorflow:Keras is training/fitting/evaluating on array-like data. Keras may not be optimized for this format, so if your input data format is supported by TensorFlow I/O (https://github.com/tensorflow/io) we recommend using that to load a Dataset instead.\n",
      "114/114 [==============================] - 0s 3ms/step\n",
      "WARNING:tensorflow:Keras is training/fitting/evaluating on array-like data. Keras may not be optimized for this format, so if your input data format is supported by TensorFlow I/O (https://github.com/tensorflow/io) we recommend using that to load a Dataset instead.\n",
      "114/114 [==============================] - 0s 2ms/step\n"
     ]
    },
    {
     "data": {
      "text/plain": [
       "(3647, 1)"
      ]
     },
     "execution_count": 5,
     "metadata": {},
     "output_type": "execute_result"
    }
   ],
   "source": [
    "file = h5py.File(\"/home/ztang/multitask_RNA/data/CAGI/\"+celltype+\"/onehot.h5\", \"r\")\n",
    "alt = file['alt']\n",
    "ref = file['ref']\n",
    "alt_pred = model.predict(alt)\n",
    "ref_pred = model.predict(ref)\n",
    "pred = alt_pred - ref_pred\n",
    "pred.shape"
   ]
  },
  {
   "cell_type": "code",
   "execution_count": 7,
   "metadata": {},
   "outputs": [],
   "source": [
    "exp_df = pd.read_csv('/home/ztang/multitask_RNA/data/CAGI/'+celltype+'/metadata.csv')\n",
    "target = exp_df['6'].values.tolist()"
   ]
  },
  {
   "cell_type": "code",
   "execution_count": 8,
   "metadata": {},
   "outputs": [
    {
     "name": "stdout",
     "output_type": "stream",
     "text": [
      "LDLR\n",
      "0.5142324165067679\n",
      "SORT1\n",
      "0.4413440653055404\n",
      "F9\n",
      "0.5024588640603587\n"
     ]
    }
   ],
   "source": [
    "start_idx=0\n",
    "perf = []\n",
    "for exp in exp_df['8'].unique():\n",
    "    sub_df = exp_df[exp_df['8'] == exp]\n",
    "    exp_target = np.array(target)[sub_df.index.to_list()]\n",
    "    exp_pred = np.squeeze(pred)[sub_df.index.to_list()]\n",
    "    print(exp)\n",
    "    perf.append(scipy.stats.pearsonr(exp_pred,exp_target)[0])\n",
    "    print(scipy.stats.pearsonr(exp_pred,exp_target)[0])"
   ]
  },
  {
   "cell_type": "code",
   "execution_count": 9,
   "metadata": {},
   "outputs": [
    {
     "data": {
      "text/plain": [
       "0.4860117819575556"
      ]
     },
     "execution_count": 9,
     "metadata": {},
     "output_type": "execute_result"
    }
   ],
   "source": [
    "np.mean(perf)"
   ]
  },
  {
   "cell_type": "code",
   "execution_count": null,
   "metadata": {},
   "outputs": [],
   "source": []
  },
  {
   "attachments": {},
   "cell_type": "markdown",
   "metadata": {},
   "source": [
    "## Test Model on all CAGI"
   ]
  },
  {
   "cell_type": "code",
   "execution_count": 6,
   "metadata": {},
   "outputs": [],
   "source": [
    "import tensorflow as tf\n",
    "from tensorflow import keras\n",
    "import h5py\n",
    "import scipy.stats\n",
    "import numpy as np\n",
    "import os\n",
    "import pandas as pd\n",
    "from sklearn import model_selection\n",
    "os.environ['CUDA_VISIBLE_DEVICES'] = '0'\n",
    "celltype = 'HepG2'"
   ]
  },
  {
   "cell_type": "code",
   "execution_count": 7,
   "metadata": {},
   "outputs": [
    {
     "name": "stderr",
     "output_type": "stream",
     "text": [
      "/home/ztang/.conda/envs/jax_tf/lib/python3.9/site-packages/keras/initializers/initializers.py:120: UserWarning: The initializer RandomNormal is unseeded and being called multiple times, which will return identical values each time (even if the initializer is unseeded). Please update your code to provide a seed to the initializer, or avoid using the same initalizer instance more than once.\n",
      "  warnings.warn(\n"
     ]
    }
   ],
   "source": [
    "model = keras.models.load_model('/home/ztang/multitask_RNA/model/lenti_MPRA_onehot/'+celltype+'/model.h5')"
   ]
  },
  {
   "cell_type": "code",
   "execution_count": 8,
   "metadata": {},
   "outputs": [
    {
     "name": "stdout",
     "output_type": "stream",
     "text": [
      "WARNING:tensorflow:Keras is training/fitting/evaluating on array-like data. Keras may not be optimized for this format, so if your input data format is supported by TensorFlow I/O (https://github.com/tensorflow/io) we recommend using that to load a Dataset instead.\n",
      "577/577 [==============================] - 1s 2ms/step\n",
      "WARNING:tensorflow:Keras is training/fitting/evaluating on array-like data. Keras may not be optimized for this format, so if your input data format is supported by TensorFlow I/O (https://github.com/tensorflow/io) we recommend using that to load a Dataset instead.\n",
      "577/577 [==============================] - 1s 2ms/step\n"
     ]
    },
    {
     "data": {
      "text/plain": [
       "(18442, 1)"
      ]
     },
     "execution_count": 8,
     "metadata": {},
     "output_type": "execute_result"
    }
   ],
   "source": [
    "file = h5py.File(\"/home/ztang/multitask_RNA/data/CAGI/230/CAGI_onehot.h5\", \"r\")\n",
    "alt = file['alt']\n",
    "ref = file['ref']\n",
    "alt_pred = model.predict(alt)\n",
    "ref_pred = model.predict(ref)\n",
    "pred = alt_pred - ref_pred\n",
    "pred.shape"
   ]
  },
  {
   "cell_type": "code",
   "execution_count": 4,
   "metadata": {},
   "outputs": [],
   "source": [
    "cagi_df = pd.read_csv('../../data/CAGI/230/final_cagi_metadata.csv',\n",
    "                      index_col=0).reset_index()\n",
    "exp_list = cagi_df['8'].unique()\n",
    "target = cagi_df['6'].values.tolist()"
   ]
  },
  {
   "cell_type": "code",
   "execution_count": 5,
   "metadata": {},
   "outputs": [
    {
     "name": "stdout",
     "output_type": "stream",
     "text": [
      "ZFAND3\n",
      "0.15465819899600972\n",
      "HBG1\n",
      "0.500305593364831\n",
      "MSMB\n",
      "0.15821832204934658\n",
      "LDLR\n",
      "0.5142324165067679\n",
      "MYCrs6983267\n",
      "0.10543490873494954\n",
      "SORT1\n",
      "0.4413440653055404\n",
      "PKLR\n",
      "0.15013411708997187\n",
      "F9\n",
      "0.5024588640603587\n",
      "TERT-HEK293T\n",
      "0.34290043918129154\n",
      "IRF6\n",
      "0.12146037283839597\n",
      "HBB\n",
      "0.4180177630054858\n",
      "TERT-GBM\n",
      "0.47675383572259294\n",
      "IRF4\n",
      "0.35491145901932336\n",
      "GP1BB\n",
      "0.3457299743434953\n",
      "HNF4A\n",
      "0.21191333064947326\n"
     ]
    }
   ],
   "source": [
    "import scipy.stats as stats\n",
    "perf = []\n",
    "sanity_check = 0\n",
    "for exp in cagi_df['8'].unique():\n",
    "    sub_df = cagi_df[cagi_df['8'] == exp]\n",
    "    sanity_check += len(sub_df)\n",
    "    exp_target = np.array(target)[sub_df.index.to_list()]\n",
    "    exp_pred = np.squeeze(pred)[sub_df.index.to_list()]\n",
    "    print(exp)\n",
    "    perf.append(stats.pearsonr(exp_pred,exp_target)[0])\n",
    "    print(stats.pearsonr(exp_pred,exp_target)[0])"
   ]
  },
  {
   "cell_type": "code",
   "execution_count": 7,
   "metadata": {},
   "outputs": [
    {
     "data": {
      "text/plain": [
       "0.31989824787275883"
      ]
     },
     "execution_count": 7,
     "metadata": {},
     "output_type": "execute_result"
    },
    {
     "ename": "",
     "evalue": "",
     "output_type": "error",
     "traceback": [
      "\u001b[1;31mThe Kernel crashed while executing code in the the current cell or a previous cell. Please review the code in the cell(s) to identify a possible cause of the failure. Click <a href='https://aka.ms/vscodeJupyterKernelCrash'>here</a> for more info. View Jupyter <a href='command:jupyter.viewOutput'>log</a> for further details."
     ]
    }
   ],
   "source": [
    "np.mean(perf)"
   ]
  },
  {
   "cell_type": "code",
   "execution_count": null,
   "metadata": {},
   "outputs": [],
   "source": []
  }
 ],
 "metadata": {
  "kernelspec": {
   "display_name": "tf_2",
   "language": "python",
   "name": "python3"
  },
  "language_info": {
   "codemirror_mode": {
    "name": "ipython",
    "version": 3
   },
   "file_extension": ".py",
   "mimetype": "text/x-python",
   "name": "python",
   "nbconvert_exporter": "python",
   "pygments_lexer": "ipython3",
   "version": "3.9.16"
  },
  "orig_nbformat": 4
 },
 "nbformat": 4,
 "nbformat_minor": 2
}
