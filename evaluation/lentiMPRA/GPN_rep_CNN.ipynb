{
 "cells": [
  {
   "cell_type": "code",
   "execution_count": 17,
   "metadata": {},
   "outputs": [],
   "source": [
    "import importlib\n",
    "import tensorflow as tf\n",
    "import pandas as pd\n",
    "import mpra_model\n",
    "import h5py\n",
    "importlib.reload(mpra_model)\n",
    "import numpy as np\n",
    "from tqdm import tqdm\n",
    "import sklearn\n",
    "from sklearn import model_selection\n",
    "import os\n",
    "os.environ['CUDA_VISIBLE_DEVICES']='0'\n",
    "cell_type = 'K562'"
   ]
  },
  {
   "cell_type": "code",
   "execution_count": 18,
   "metadata": {},
   "outputs": [],
   "source": [
    "cnn_config = {\n",
    "    'input_shape': (41,2560),\n",
    "    'activation':'exponential',\n",
    "    'reduce_dim': 128,\n",
    "    'conv1_filter':196,\n",
    "    'conv1_kernel':7,\n",
    "    'dropout1':0.2,\n",
    "    'res_filter':5,\n",
    "    'res_layers':3,\n",
    "    'res_pool':5,\n",
    "    'res_dropout':0.2,\n",
    "    'conv2_filter':256,\n",
    "    'conv2_kernel':7,\n",
    "    'pool2_size':4,\n",
    "    'dropout2':0.2,\n",
    "    'dense':512,\n",
    "    'dense2':256,\n",
    "    'l_rate':0.0001\n",
    "}"
   ]
  },
  {
   "cell_type": "code",
   "execution_count": 3,
   "metadata": {},
   "outputs": [
    {
     "name": "stderr",
     "output_type": "stream",
     "text": [
      "2023-05-16 13:02:20.344832: I tensorflow/core/common_runtime/gpu/gpu_device.cc:1635] Created device /job:localhost/replica:0/task:0/device:GPU:0 with 78865 MB memory:  -> device: 0, name: NVIDIA A100 80GB PCIe, pci bus id: 0000:07:00.0, compute capability: 8.0\n"
     ]
    }
   ],
   "source": [
    "tf.keras.backend.clear_session()\n",
    "\n",
    "data_dir = '/home/ztang/multitask_RNA/data/lenti_MPRA_embed/HepG2_seq_2B5_1000G/'\n",
    "\n",
    "trainset = mpra_model.make_dataset(data_dir, 'train', mpra_model.load_stats(data_dir),\n",
    "                            batch_size=128,seqs = False)\n",
    "validset = mpra_model.make_dataset(data_dir, 'valid', mpra_model.load_stats(data_dir),\n",
    "                            batch_size=128,seqs = False)\n",
    "testset = mpra_model.make_dataset(data_dir, 'test', mpra_model.load_stats(data_dir),\n",
    "                            batch_size=128,seqs = False)"
   ]
  },
  {
   "cell_type": "code",
   "execution_count": 19,
   "metadata": {},
   "outputs": [
    {
     "name": "stderr",
     "output_type": "stream",
     "text": [
      "2023-05-18 13:49:04.084304: W tensorflow/tsl/framework/cpu_allocator_impl.cc:83] Allocation of 86325145600 exceeds 10% of free system memory.\n"
     ]
    }
   ],
   "source": [
    "file = h5py.File('/home/ztang/multitask_RNA/data/lenti_MPRA_embed/gpn_'+cell_type+'.h5','r')\n",
    "seq = file['seq'][()]\n",
    "target = file['mean'][()]\n",
    "x_train,x_test,y_train,y_test=model_selection.train_test_split(seq,target,random_state=42,test_size=0.1)\n",
    "x_train,x_valid,y_train,y_valid = model_selection.train_test_split(x_train,y_train,random_state=42,test_size=0.1)\n",
    "with tf.device(\"CPU\"):\n",
    "        trainset = tf.data.Dataset.from_tensor_slices((x_train,y_train)).shuffle(256*4).batch(256)\n",
    "        validset = tf.data.Dataset.from_tensor_slices((x_valid,y_valid)).shuffle(256*4).batch(256)\n",
    "        testset = tf.data.Dataset.from_tensor_slices((x_test,y_test)).shuffle(256*4).batch(256)"
   ]
  },
  {
   "cell_type": "code",
   "execution_count": 20,
   "metadata": {},
   "outputs": [],
   "source": [
    "model = mpra_model.rep_cnn((230,512),cnn_config)\n",
    "#model = mpra_model.rep_cnn(cnn_config['input_shape'],cnn_config)\n",
    "#model = mpra_model.rep_onehot(onehot_config['input_shape'],onehot_config)\n",
    "#model = mpra_model.ResNet((230,512),1)"
   ]
  },
  {
   "cell_type": "code",
   "execution_count": 21,
   "metadata": {},
   "outputs": [
    {
     "name": "stderr",
     "output_type": "stream",
     "text": [
      "2023-05-18 13:50:34.222827: I tensorflow/core/common_runtime/executor.cc:1197] [/device:CPU:0] (DEBUG INFO) Executor start aborting (this does not indicate an error and you can ignore this message): INVALID_ARGUMENT: You must feed a value for placeholder tensor 'Placeholder/_0' with dtype float and shape [183265,230,512]\n",
      "\t [[{{node Placeholder/_0}}]]\n",
      "2023-05-18 13:50:34.223130: I tensorflow/core/common_runtime/executor.cc:1197] [/device:CPU:0] (DEBUG INFO) Executor start aborting (this does not indicate an error and you can ignore this message): INVALID_ARGUMENT: You must feed a value for placeholder tensor 'Placeholder/_1' with dtype double and shape [183265]\n",
      "\t [[{{node Placeholder/_1}}]]\n"
     ]
    },
    {
     "name": "stdout",
     "output_type": "stream",
     "text": [
      "Epoch 1/100\n",
      "715/716 [============================>.] - ETA: 0s - loss: 0.1978 - mse: 0.1978"
     ]
    },
    {
     "name": "stderr",
     "output_type": "stream",
     "text": [
      "2023-05-18 13:51:04.380090: I tensorflow/core/common_runtime/executor.cc:1197] [/device:CPU:0] (DEBUG INFO) Executor start aborting (this does not indicate an error and you can ignore this message): INVALID_ARGUMENT: You must feed a value for placeholder tensor 'Placeholder/_0' with dtype float and shape [20363,230,512]\n",
      "\t [[{{node Placeholder/_0}}]]\n",
      "2023-05-18 13:51:04.380329: I tensorflow/core/common_runtime/executor.cc:1197] [/device:CPU:0] (DEBUG INFO) Executor start aborting (this does not indicate an error and you can ignore this message): INVALID_ARGUMENT: You must feed a value for placeholder tensor 'Placeholder/_1' with dtype double and shape [20363]\n",
      "\t [[{{node Placeholder/_1}}]]\n"
     ]
    },
    {
     "name": "stdout",
     "output_type": "stream",
     "text": [
      "716/716 [==============================] - 30s 38ms/step - loss: 0.1977 - mse: 0.1977 - val_loss: 0.1846 - val_mse: 0.1846 - lr: 1.0000e-04\n",
      "Epoch 2/100\n",
      "716/716 [==============================] - 22s 31ms/step - loss: 0.1591 - mse: 0.1591 - val_loss: 0.1632 - val_mse: 0.1632 - lr: 1.0000e-04\n",
      "Epoch 3/100\n",
      "716/716 [==============================] - 23s 31ms/step - loss: 0.1423 - mse: 0.1423 - val_loss: 0.1412 - val_mse: 0.1412 - lr: 1.0000e-04\n",
      "Epoch 4/100\n",
      "716/716 [==============================] - 22s 31ms/step - loss: 0.1321 - mse: 0.1321 - val_loss: 0.1444 - val_mse: 0.1444 - lr: 1.0000e-04\n",
      "Epoch 5/100\n",
      "716/716 [==============================] - 22s 31ms/step - loss: 0.1232 - mse: 0.1232 - val_loss: 0.1349 - val_mse: 0.1349 - lr: 1.0000e-04\n",
      "Epoch 6/100\n",
      "716/716 [==============================] - 22s 31ms/step - loss: 0.1160 - mse: 0.1160 - val_loss: 0.1463 - val_mse: 0.1463 - lr: 1.0000e-04\n",
      "Epoch 7/100\n",
      "716/716 [==============================] - 22s 31ms/step - loss: 0.1097 - mse: 0.1097 - val_loss: 0.1858 - val_mse: 0.1858 - lr: 1.0000e-04\n",
      "Epoch 8/100\n",
      "716/716 [==============================] - 22s 31ms/step - loss: 0.1035 - mse: 0.1035 - val_loss: 0.1718 - val_mse: 0.1718 - lr: 1.0000e-04\n",
      "Epoch 9/100\n",
      "716/716 [==============================] - 22s 31ms/step - loss: 0.0989 - mse: 0.0989 - val_loss: 0.2589 - val_mse: 0.2589 - lr: 1.0000e-04\n",
      "Epoch 10/100\n",
      "716/716 [==============================] - 22s 31ms/step - loss: 0.0937 - mse: 0.0937 - val_loss: 0.2221 - val_mse: 0.2221 - lr: 1.0000e-04\n",
      "Epoch 11/100\n",
      "716/716 [==============================] - 22s 31ms/step - loss: 0.0826 - mse: 0.0826 - val_loss: 0.1525 - val_mse: 0.1525 - lr: 2.0000e-05\n",
      "Epoch 12/100\n",
      "716/716 [==============================] - 22s 31ms/step - loss: 0.0784 - mse: 0.0784 - val_loss: 0.1522 - val_mse: 0.1522 - lr: 2.0000e-05\n",
      "Epoch 13/100\n",
      "716/716 [==============================] - 22s 31ms/step - loss: 0.0767 - mse: 0.0767 - val_loss: 0.1567 - val_mse: 0.1567 - lr: 2.0000e-05\n",
      "Epoch 14/100\n",
      "716/716 [==============================] - 22s 31ms/step - loss: 0.0747 - mse: 0.0747 - val_loss: 0.1673 - val_mse: 0.1673 - lr: 2.0000e-05\n",
      "Epoch 15/100\n",
      "716/716 [==============================] - 22s 31ms/step - loss: 0.0729 - mse: 0.0729 - val_loss: 0.1847 - val_mse: 0.1847 - lr: 2.0000e-05\n"
     ]
    },
    {
     "data": {
      "text/plain": [
       "<keras.callbacks.History at 0x7f92680942e0>"
      ]
     },
     "execution_count": 21,
     "metadata": {},
     "output_type": "execute_result"
    }
   ],
   "source": [
    "optimizer = tf.keras.optimizers.Adam(learning_rate=cnn_config['l_rate'])\n",
    "loss = tf.keras.losses.MeanSquaredError()\n",
    "model.compile(optimizer=optimizer,\n",
    "                loss=loss,\n",
    "                metrics=['mse'])\n",
    "earlyStopping_callback = tf.keras.callbacks.EarlyStopping(\n",
    "        patience=10, restore_best_weights=True\n",
    "    )\n",
    "reduce_lr = tf.keras.callbacks.ReduceLROnPlateau(\n",
    "        monitor='val_loss', factor=0.2,\n",
    "        patience=5, min_lr=1e-8)\n",
    "checkpoint = tf.keras.callbacks.ModelCheckpoint(\n",
    "                                    '/home/ztang/multitask_RNA/model/lenti_MPRA_embed/'+cell_type+'/gpn.h5',\n",
    "                                    monitor='val_loss',\n",
    "                                    save_best_only=True,\n",
    "                                    mode = 'min',\n",
    "                                    save_freq='epoch',)\n",
    "model.fit(\n",
    "        trainset,\n",
    "        epochs=100,\n",
    "        batch_size=512,\n",
    "        shuffle=True,\n",
    "        validation_data = validset,\n",
    "        callbacks=[earlyStopping_callback,reduce_lr\n",
    "                   ,checkpoint\n",
    "                    #,TuneReportCallback({\"loss\": \"loss\",\"val_loss\":'val_loss'})\n",
    "                    ]\n",
    "    )"
   ]
  },
  {
   "cell_type": "code",
   "execution_count": 14,
   "metadata": {},
   "outputs": [],
   "source": [
    "#model.evaluate(testset)"
   ]
  },
  {
   "cell_type": "code",
   "execution_count": 8,
   "metadata": {},
   "outputs": [
    {
     "name": "stdout",
     "output_type": "stream",
     "text": [
      "438/438 [==============================] - 2s 4ms/step\n"
     ]
    }
   ],
   "source": [
    "pred_y = model.predict(x_test)"
   ]
  },
  {
   "cell_type": "code",
   "execution_count": 22,
   "metadata": {},
   "outputs": [
    {
     "name": "stderr",
     "output_type": "stream",
     "text": [
      "2023-05-18 13:56:20.876397: I tensorflow/core/common_runtime/executor.cc:1197] [/device:CPU:0] (DEBUG INFO) Executor start aborting (this does not indicate an error and you can ignore this message): INVALID_ARGUMENT: You must feed a value for placeholder tensor 'Placeholder/_0' with dtype float and shape [22626,230,512]\n",
      "\t [[{{node Placeholder/_0}}]]\n",
      "2023-05-18 13:56:20.876665: I tensorflow/core/common_runtime/executor.cc:1197] [/device:CPU:0] (DEBUG INFO) Executor start aborting (this does not indicate an error and you can ignore this message): INVALID_ARGUMENT: You must feed a value for placeholder tensor 'Placeholder/_1' with dtype double and shape [22626]\n",
      "\t [[{{node Placeholder/_1}}]]\n"
     ]
    },
    {
     "name": "stdout",
     "output_type": "stream",
     "text": [
      "8/8 [==============================] - 0s 3ms/step\n",
      "8/8 [==============================] - 0s 3ms/step\n",
      "8/8 [==============================] - 0s 3ms/step\n",
      "8/8 [==============================] - 0s 3ms/step\n",
      "8/8 [==============================] - 0s 3ms/step\n",
      "8/8 [==============================] - 0s 4ms/step\n",
      "8/8 [==============================] - 0s 3ms/step\n",
      "8/8 [==============================] - 0s 3ms/step\n",
      "8/8 [==============================] - 0s 3ms/step\n",
      "8/8 [==============================] - 0s 4ms/step\n",
      "8/8 [==============================] - 0s 3ms/step\n",
      "8/8 [==============================] - 0s 4ms/step\n",
      "8/8 [==============================] - 0s 3ms/step\n",
      "8/8 [==============================] - 0s 3ms/step\n",
      "8/8 [==============================] - 0s 3ms/step\n",
      "8/8 [==============================] - 0s 3ms/step\n",
      "8/8 [==============================] - 0s 3ms/step\n",
      "8/8 [==============================] - 0s 4ms/step\n",
      "8/8 [==============================] - 0s 3ms/step\n",
      "8/8 [==============================] - 0s 3ms/step\n",
      "8/8 [==============================] - 0s 3ms/step\n",
      "8/8 [==============================] - 0s 3ms/step\n",
      "8/8 [==============================] - 0s 3ms/step\n",
      "8/8 [==============================] - 0s 3ms/step\n",
      "8/8 [==============================] - 0s 4ms/step\n",
      "8/8 [==============================] - 0s 4ms/step\n",
      "8/8 [==============================] - 0s 3ms/step\n",
      "8/8 [==============================] - 0s 3ms/step\n",
      "8/8 [==============================] - 0s 3ms/step\n",
      "8/8 [==============================] - 0s 3ms/step\n",
      "8/8 [==============================] - 0s 3ms/step\n",
      "8/8 [==============================] - 0s 3ms/step\n",
      "8/8 [==============================] - 0s 3ms/step\n",
      "8/8 [==============================] - 0s 3ms/step\n",
      "8/8 [==============================] - 0s 3ms/step\n",
      "8/8 [==============================] - 0s 3ms/step\n",
      "8/8 [==============================] - 0s 3ms/step\n",
      "8/8 [==============================] - 0s 3ms/step\n",
      "8/8 [==============================] - 0s 3ms/step\n",
      "8/8 [==============================] - 0s 3ms/step\n",
      "8/8 [==============================] - 0s 3ms/step\n",
      "8/8 [==============================] - 0s 3ms/step\n",
      "8/8 [==============================] - 0s 3ms/step\n",
      "8/8 [==============================] - 0s 3ms/step\n",
      "8/8 [==============================] - 0s 3ms/step\n",
      "8/8 [==============================] - 0s 3ms/step\n",
      "8/8 [==============================] - 0s 3ms/step\n",
      "8/8 [==============================] - 0s 3ms/step\n",
      "8/8 [==============================] - 0s 3ms/step\n",
      "8/8 [==============================] - 0s 3ms/step\n",
      "8/8 [==============================] - 0s 4ms/step\n",
      "8/8 [==============================] - 0s 3ms/step\n",
      "8/8 [==============================] - 0s 3ms/step\n",
      "8/8 [==============================] - 0s 3ms/step\n",
      "8/8 [==============================] - 0s 3ms/step\n",
      "8/8 [==============================] - 0s 3ms/step\n",
      "8/8 [==============================] - 0s 3ms/step\n",
      "8/8 [==============================] - 0s 3ms/step\n",
      "8/8 [==============================] - 0s 3ms/step\n",
      "8/8 [==============================] - 0s 3ms/step\n",
      "8/8 [==============================] - 0s 3ms/step\n",
      "8/8 [==============================] - 0s 3ms/step\n",
      "8/8 [==============================] - 0s 3ms/step\n",
      "8/8 [==============================] - 0s 3ms/step\n",
      "8/8 [==============================] - 0s 3ms/step\n",
      "8/8 [==============================] - 0s 3ms/step\n",
      "8/8 [==============================] - 0s 3ms/step\n",
      "8/8 [==============================] - 0s 3ms/step\n",
      "8/8 [==============================] - 0s 3ms/step\n",
      "8/8 [==============================] - 0s 3ms/step\n",
      "8/8 [==============================] - 0s 3ms/step\n",
      "8/8 [==============================] - 0s 3ms/step\n",
      "8/8 [==============================] - 0s 3ms/step\n",
      "8/8 [==============================] - 0s 3ms/step\n",
      "8/8 [==============================] - 0s 3ms/step\n",
      "8/8 [==============================] - 0s 3ms/step\n",
      "8/8 [==============================] - 0s 3ms/step\n",
      "8/8 [==============================] - 0s 3ms/step\n",
      "8/8 [==============================] - 0s 3ms/step\n",
      "8/8 [==============================] - 0s 3ms/step\n",
      "8/8 [==============================] - 0s 3ms/step\n",
      "8/8 [==============================] - 0s 3ms/step\n",
      "8/8 [==============================] - 0s 3ms/step\n",
      "8/8 [==============================] - 0s 3ms/step\n",
      "8/8 [==============================] - 0s 3ms/step\n",
      "8/8 [==============================] - 0s 3ms/step\n",
      "8/8 [==============================] - 0s 3ms/step\n",
      "8/8 [==============================] - 0s 3ms/step\n",
      "4/4 [==============================] - 0s 3ms/step\n"
     ]
    }
   ],
   "source": [
    "pred_y = []\n",
    "y_test = []\n",
    "for i,(x,y) in enumerate(testset):\n",
    "    pred_y.extend(model.predict(x))\n",
    "    y_test.extend(y)"
   ]
  },
  {
   "cell_type": "code",
   "execution_count": 23,
   "metadata": {},
   "outputs": [
    {
     "data": {
      "text/plain": [
       "PearsonRResult(statistic=0.7128779753912131, pvalue=0.0)"
      ]
     },
     "execution_count": 23,
     "metadata": {},
     "output_type": "execute_result"
    }
   ],
   "source": [
    "import scipy.stats\n",
    "scipy.stats.pearsonr(np.squeeze(pred_y),np.squeeze(y_test))"
   ]
  },
  {
   "attachments": {},
   "cell_type": "markdown",
   "metadata": {},
   "source": [
    "## CAGI test?"
   ]
  },
  {
   "cell_type": "code",
   "execution_count": null,
   "metadata": {},
   "outputs": [],
   "source": []
  }
 ],
 "metadata": {
  "kernelspec": {
   "display_name": "torch_env",
   "language": "python",
   "name": "python3"
  },
  "language_info": {
   "codemirror_mode": {
    "name": "ipython",
    "version": 3
   },
   "file_extension": ".py",
   "mimetype": "text/x-python",
   "name": "python",
   "nbconvert_exporter": "python",
   "pygments_lexer": "ipython3",
   "version": "3.9.16"
  },
  "orig_nbformat": 4
 },
 "nbformat": 4,
 "nbformat_minor": 2
}
