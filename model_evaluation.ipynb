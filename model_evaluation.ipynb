{
 "cells": [
  {
   "cell_type": "markdown",
   "id": "7ad292b8",
   "metadata": {},
   "source": [
    "# Annotation model evaluation"
   ]
  },
  {
   "cell_type": "code",
   "execution_count": 1,
   "id": "9c3e2d9f",
   "metadata": {},
   "outputs": [],
   "source": [
    "import tensorflow as tf\n",
    "import h5py\n",
    "import numpy as np\n",
    "from sklearn.metrics import average_precision_score\n",
    "import rna_model\n",
    "import torch\n",
    "import h5py\n",
    "from torch.utils.data import DataLoader\n",
    "from tqdm import tqdm\n",
    "import glob\n"
   ]
  },
  {
   "cell_type": "code",
   "execution_count": 2,
   "id": "52b46519",
   "metadata": {},
   "outputs": [
    {
     "name": "stdout",
     "output_type": "stream",
     "text": [
      "(38555, 2000, 4)\n"
     ]
    }
   ],
   "source": [
    "data_dir = './data/annotation/2000_1000_UTR.h5'\n",
    "test_loader = DataLoader(rna_model.h5dataset(data_dir,'test')\n",
    "                    ,num_workers=4,pin_memory=True,batch_size = 128)\n",
    "f = h5py.File(data_dir,'r')\n",
    "y_test = f['y_test'][()]\n",
    "print(y_test.shape)\n",
    "f.close()"
   ]
  },
  {
   "cell_type": "code",
   "execution_count": 3,
   "id": "14b312e3",
   "metadata": {
    "scrolled": true
   },
   "outputs": [
    {
     "data": {
      "text/plain": [
       "<All keys matched successfully>"
      ]
     },
     "execution_count": 3,
     "metadata": {},
     "output_type": "execute_result"
    }
   ],
   "source": [
    "#pytorch load model\n",
    "model_dir = glob.glob('/home/amber/multitask_RNA/wandb/run-*zai2tsbz/files/best_model.ckpt')[0]\n",
    "#model = rna_model.Residual_annotation((4,3000),(3,2000),32,0.01)\n",
    "model = rna_model.Splice_AI_2K((4,3000),(3,2000),32,0.001)\n",
    "model.load_state_dict(torch.load(model_dir)['state_dict'])"
   ]
  },
  {
   "cell_type": "code",
   "execution_count": 4,
   "id": "519844e5",
   "metadata": {},
   "outputs": [
    {
     "name": "stdout",
     "output_type": "stream",
     "text": [
      "CPU times: user 1 µs, sys: 2 µs, total: 3 µs\n",
      "Wall time: 6.91 µs\n"
     ]
    },
    {
     "name": "stderr",
     "output_type": "stream",
     "text": [
      "100%|████████████████████████████████████████| 302/302 [05:59<00:00,  1.19s/it]\n"
     ]
    }
   ],
   "source": [
    "%time\n",
    "pred_list = []\n",
    "for i, batch in enumerate(tqdm(test_loader)):\n",
    "        pred =model.predict_step(batch[0],i)\n",
    "        pred_list.extend(torch.nn.functional.softmax(pred,dim = 1).detach().numpy())\n",
    "pred_list = np.array(pred_list)"
   ]
  },
  {
   "cell_type": "code",
   "execution_count": 5,
   "id": "9805799e",
   "metadata": {},
   "outputs": [],
   "source": [
    "splice_test= y_test[:,:,:3]\n",
    "splice_pred = np.swapaxes(np.array(pred_list),1,2)"
   ]
  },
  {
   "cell_type": "code",
   "execution_count": 6,
   "id": "cc5d75d1",
   "metadata": {},
   "outputs": [],
   "source": [
    "Y_true_1 = []\n",
    "Y_true_2 = []\n",
    "Y_pred_1 = []\n",
    "Y_pred_2 = []\n",
    "is_expr = (splice_test.sum(axis=(1,2)) >= 1)\n",
    "Y_true_1=splice_test[is_expr, :, 1].flatten()\n",
    "Y_true_2=splice_test[is_expr, :, 2].flatten()\n",
    "Y_pred_1=splice_pred[is_expr, :, 1].flatten()\n",
    "Y_pred_2=splice_pred[is_expr, :, 2].flatten()"
   ]
  },
  {
   "cell_type": "code",
   "execution_count": 7,
   "id": "ebea13a2",
   "metadata": {},
   "outputs": [],
   "source": [
    "# task 1 , 2 are donor/acceptor respectively\n",
    "def print_topl_statistics(y_true, y_pred):\n",
    "    # Prints the following information: top-kL statistics for k=0.5,1,2,4,\n",
    "    # auprc, thresholds for k=0.5,1,2,4, number of true splice sites.\n",
    "\n",
    "    idx_true = np.nonzero(y_true == 1)[0]\n",
    "    argsorted_y_pred = np.argsort(y_pred)\n",
    "    sorted_y_pred = np.sort(y_pred)\n",
    "\n",
    "    topkl_accuracy = []\n",
    "    threshold = []\n",
    "\n",
    "    for top_length in [0.5, 1, 2, 4]:\n",
    "\n",
    "        idx_pred = argsorted_y_pred[-int(top_length*len(idx_true)):]\n",
    "\n",
    "        topkl_accuracy += [np.size(np.intersect1d(idx_true, idx_pred)) \\\n",
    "                  / float(min(len(idx_pred), len(idx_true)))]\n",
    "        threshold += [sorted_y_pred[-int(top_length*len(idx_true))]]\n",
    "\n",
    "    auprc = average_precision_score(y_true, y_pred)\n",
    "\n",
    "    print ((\"%.4f\\t\\033[91m%.4f\\t\\033[0m%.4f\\t%.4f\\t\\033[94m%.4f\\t\\033[0m\"\n",
    "          + \"%.4f\\t%.4f\\t%.4f\\t%.4f\\t%d\") % (\n",
    "          topkl_accuracy[0], topkl_accuracy[1], topkl_accuracy[2],\n",
    "          topkl_accuracy[3], auprc, threshold[0], threshold[1],\n",
    "          threshold[2], threshold[3], len(idx_true)))"
   ]
  },
  {
   "cell_type": "code",
   "execution_count": 8,
   "id": "7f28a23d",
   "metadata": {
    "scrolled": false
   },
   "outputs": [
    {
     "name": "stdout",
     "output_type": "stream",
     "text": [
      "\n",
      "\u001b[1mDonor:\u001b[0m\n",
      "0.4938\t\u001b[91m0.4794\t\u001b[0m0.8375\t0.9356\t\u001b[94m0.4476\t\u001b[0m0.4882\t0.4723\t0.1395\t0.0071\t9583\n",
      "\n",
      "\u001b[1mAcceptor:\u001b[0m\n",
      "0.4932\t\u001b[91m0.4847\t\u001b[0m0.8391\t0.9336\t\u001b[94m0.4460\t\u001b[0m0.4899\t0.4750\t0.1400\t0.0071\t9583\n"
     ]
    }
   ],
   "source": [
    "#top k for splice sites similar to Splice AI?\n",
    "print (\"\\n\\033[1mDonor:\\033[0m\")\n",
    "print_topl_statistics(np.asarray(Y_true_1),\n",
    "                    np.asarray(Y_pred_1))\n",
    "\n",
    "print (\"\\n\\033[1mAcceptor:\\033[0m\")\n",
    "print_topl_statistics(np.asarray(Y_true_2),\n",
    "                          np.asarray(Y_pred_2))"
   ]
  },
  {
   "cell_type": "markdown",
   "id": "1799a2ff",
   "metadata": {},
   "source": [
    "## Binary RBP model evaluation"
   ]
  },
  {
   "cell_type": "code",
   "execution_count": 1,
   "id": "41b9431a",
   "metadata": {},
   "outputs": [
    {
     "name": "stderr",
     "output_type": "stream",
     "text": [
      "Using TensorFlow backend.\n"
     ]
    }
   ],
   "source": [
    "import tensorflow as tf\n",
    "import h5py\n",
    "import numpy as np\n",
    "import rna_model\n",
    "import torch\n",
    "import h5py\n",
    "from torch.utils.data import DataLoader\n",
    "from tqdm import tqdm\n",
    "import glob\n",
    "import pytorch_lightning as pl\n",
    "from torchinfo import summary\n",
    "import sklearn.metrics as skl"
   ]
  },
  {
   "cell_type": "code",
   "execution_count": 2,
   "id": "5e1b1a77",
   "metadata": {},
   "outputs": [
    {
     "name": "stdout",
     "output_type": "stream",
     "text": [
      "(2819, 120)\n"
     ]
    }
   ],
   "source": [
    "data_dir = './data/RBP/i_2000_replicate_binary/i_2000_replicate_binary.h5'\n",
    "test_loader = DataLoader(rna_model.h5dataset(data_dir,'test')\n",
    "                    ,num_workers=4,pin_memory=True,batch_size = 64)\n",
    "f = h5py.File(data_dir,'r')\n",
    "y_test = f['y_test'][()]\n",
    "print(y_test.shape)\n",
    "f.close()"
   ]
  },
  {
   "cell_type": "code",
   "execution_count": 4,
   "id": "39a5d62b",
   "metadata": {},
   "outputs": [
    {
     "data": {
      "text/plain": [
       "<All keys matched successfully>"
      ]
     },
     "execution_count": 4,
     "metadata": {},
     "output_type": "execute_result"
    }
   ],
   "source": [
    "model_dir = glob.glob('/home/amber/multitask_RNA/wandb/run*m9rrwfw8/files/best_model.ckpt')[0]\n",
    "model=rna_model.rbp_cnn(120,0.004)\n",
    "model.load_state_dict(torch.load(model_dir)['state_dict'])"
   ]
  },
  {
   "cell_type": "code",
   "execution_count": 5,
   "id": "50c427e8",
   "metadata": {},
   "outputs": [
    {
     "name": "stderr",
     "output_type": "stream",
     "text": [
      "100%|█████████████████████████████████████| 45/45 [00:10<00:00,  4.15it/s]\n"
     ]
    }
   ],
   "source": [
    "pred_list = []\n",
    "for i, batch in enumerate(tqdm(test_loader)):\n",
    "        pred =model.predict_step(batch[0],i)\n",
    "        pred_list.extend(pred.detach().numpy())\n",
    "pred_list = np.array(pred_list)"
   ]
  },
  {
   "cell_type": "code",
   "execution_count": 6,
   "id": "36a80c42",
   "metadata": {},
   "outputs": [
    {
     "name": "stdout",
     "output_type": "stream",
     "text": [
      "tensor(0.9796)\n",
      "tensor(0.7709)\n",
      "tensor(0.2125)\n"
     ]
    },
    {
     "name": "stderr",
     "output_type": "stream",
     "text": [
      "/home/amber/tf_2/lib/python3.8/site-packages/torchmetrics/utilities/prints.py:36: UserWarning: No positive samples in targets, true positive value should be meaningless. Returning zero tensor in true positive score\n",
      "  warnings.warn(*args, **kwargs)\n",
      "/home/amber/tf_2/lib/python3.8/site-packages/torchmetrics/functional/classification/average_precision.py:166: UserWarning: Average precision score for one or more classes was `nan`. Ignoring these classes in average\n",
      "  warnings.warn(\n"
     ]
    }
   ],
   "source": [
    "#Torch metrics\n",
    "from torchmetrics import AUROC,AveragePrecision,Accuracy\n",
    "accuracy = Accuracy()\n",
    "print(accuracy(torch.tensor(pred_list),torch.tensor(y_test)))\n",
    "auroc = AUROC(num_classes = 120)\n",
    "print(auroc(torch.tensor(pred_list),torch.tensor(y_test)))\n",
    "average_precision = AveragePrecision(num_classes=120)\n",
    "print(average_precision(torch.tensor(pred_list),torch.tensor(y_test)))"
   ]
  },
  {
   "cell_type": "code",
   "execution_count": 7,
   "id": "66dfb7db",
   "metadata": {},
   "outputs": [
    {
     "name": "stdout",
     "output_type": "stream",
     "text": [
      "0.9795642662882819\n",
      "0.8486948792437075\n",
      "0.193024797354515\n"
     ]
    },
    {
     "name": "stderr",
     "output_type": "stream",
     "text": [
      "/home/amber/tf_2/lib/python3.8/site-packages/sklearn/metrics/_ranking.py:877: UserWarning: No positive class found in y_true, recall is set to one for all thresholds.\n",
      "  warnings.warn(\n",
      "/home/amber/tf_2/lib/python3.8/site-packages/sklearn/metrics/_ranking.py:877: UserWarning: No positive class found in y_true, recall is set to one for all thresholds.\n",
      "  warnings.warn(\n",
      "/home/amber/tf_2/lib/python3.8/site-packages/sklearn/metrics/_ranking.py:877: UserWarning: No positive class found in y_true, recall is set to one for all thresholds.\n",
      "  warnings.warn(\n",
      "/home/amber/tf_2/lib/python3.8/site-packages/sklearn/metrics/_ranking.py:877: UserWarning: No positive class found in y_true, recall is set to one for all thresholds.\n",
      "  warnings.warn(\n",
      "/home/amber/tf_2/lib/python3.8/site-packages/sklearn/metrics/_ranking.py:877: UserWarning: No positive class found in y_true, recall is set to one for all thresholds.\n",
      "  warnings.warn(\n",
      "/home/amber/tf_2/lib/python3.8/site-packages/sklearn/metrics/_ranking.py:877: UserWarning: No positive class found in y_true, recall is set to one for all thresholds.\n",
      "  warnings.warn(\n",
      "/home/amber/tf_2/lib/python3.8/site-packages/sklearn/metrics/_ranking.py:877: UserWarning: No positive class found in y_true, recall is set to one for all thresholds.\n",
      "  warnings.warn(\n",
      "/home/amber/tf_2/lib/python3.8/site-packages/sklearn/metrics/_ranking.py:877: UserWarning: No positive class found in y_true, recall is set to one for all thresholds.\n",
      "  warnings.warn(\n",
      "/home/amber/tf_2/lib/python3.8/site-packages/sklearn/metrics/_ranking.py:877: UserWarning: No positive class found in y_true, recall is set to one for all thresholds.\n",
      "  warnings.warn(\n",
      "/home/amber/tf_2/lib/python3.8/site-packages/sklearn/metrics/_ranking.py:877: UserWarning: No positive class found in y_true, recall is set to one for all thresholds.\n",
      "  warnings.warn(\n",
      "/home/amber/tf_2/lib/python3.8/site-packages/sklearn/metrics/_ranking.py:877: UserWarning: No positive class found in y_true, recall is set to one for all thresholds.\n",
      "  warnings.warn(\n"
     ]
    }
   ],
   "source": [
    "pred_list_label = (pred_list > 0.5) \n",
    "print(skl.accuracy_score(y_test.flatten(),pred_list_label.flatten()))\n",
    "auc = 0\n",
    "class_i = 0\n",
    "for i in range(120):\n",
    "    try:\n",
    "        auc += skl.roc_auc_score(y_test[:,i],pred_list[:,i])\n",
    "        class_i += 1\n",
    "    except:\n",
    "        next\n",
    "        \n",
    "print(auc / class_i)\n",
    "print(skl.average_precision_score(y_test,pred_list))"
   ]
  },
  {
   "cell_type": "markdown",
   "id": "cdc92273",
   "metadata": {},
   "source": [
    "## Keras model with sklearn evaluation"
   ]
  },
  {
   "cell_type": "code",
   "execution_count": 7,
   "id": "f4865c53",
   "metadata": {},
   "outputs": [],
   "source": [
    "import tensorflow as tf\n",
    "from tensorflow import keras\n",
    "import sklearn.metrics as skl\n",
    "import glob\n",
    "import h5py"
   ]
  },
  {
   "cell_type": "code",
   "execution_count": 8,
   "id": "292aaac4",
   "metadata": {},
   "outputs": [
    {
     "name": "stderr",
     "output_type": "stream",
     "text": [
      "2022-06-16 23:13:20.422842: I tensorflow/core/platform/cpu_feature_guard.cc:151] This TensorFlow binary is optimized with oneAPI Deep Neural Network Library (oneDNN) to use the following CPU instructions in performance-critical operations:  AVX2 FMA\n",
      "To enable them in other operations, rebuild TensorFlow with the appropriate compiler flags.\n",
      "2022-06-16 23:13:20.721686: I tensorflow/core/common_runtime/gpu/gpu_device.cc:1525] Created device /job:localhost/replica:0/task:0/device:GPU:0 with 10418 MB memory:  -> device: 0, name: NVIDIA RTX A4000, pci bus id: 0000:c2:00.0, compute capability: 8.6\n"
     ]
    }
   ],
   "source": [
    "model_dir = glob.glob('/home/amber/multitask_RNA/keras_script/wandb/run-*1pa6q71c/files/model-best.h5')[0]\n",
    "model = tf.keras.models.load_model(model_dir,compile=False)"
   ]
  },
  {
   "cell_type": "code",
   "execution_count": 9,
   "id": "d6048c73",
   "metadata": {},
   "outputs": [
    {
     "name": "stdout",
     "output_type": "stream",
     "text": [
      "(2819, 120)\n",
      "(2819, 2000, 4)\n"
     ]
    }
   ],
   "source": [
    "data_dir = './data/RBP/i_2000_replicate_binary/i_2000_replicate_binary.h5'\n",
    "f = h5py.File(data_dir,'r')\n",
    "y_test = f['y_test'][()]\n",
    "x_test = f['x_test'][()]\n",
    "print(y_test.shape)\n",
    "print(x_test.shape)\n",
    "f.close()"
   ]
  },
  {
   "cell_type": "code",
   "execution_count": 17,
   "id": "18e469b6",
   "metadata": {},
   "outputs": [],
   "source": [
    "auroc = tf.keras.metrics.AUC(curve='ROC', name='auroc')\n",
    "aupr = tf.keras.metrics.AUC(curve='PR', name='aupr')\n",
    "model.compile(\n",
    "            tf.keras.optimizers.Adam(learning_rate = 0.001),\n",
    "             loss = tf.keras.losses.BinaryCrossentropy(from_logits=False, label_smoothing=0),\n",
    "             metrics=['binary_accuracy',auroc,aupr]\n",
    "             )"
   ]
  },
  {
   "cell_type": "code",
   "execution_count": 18,
   "id": "8a60c0fd",
   "metadata": {},
   "outputs": [
    {
     "name": "stdout",
     "output_type": "stream",
     "text": [
      "89/89 [==============================] - 1s 7ms/step - loss: 0.0657 - binary_accuracy: 0.9803 - auroc: 0.9197 - aupr: 0.4171\n"
     ]
    },
    {
     "data": {
      "text/plain": [
       "[0.06566571444272995,\n",
       " 0.9802645444869995,\n",
       " 0.9196731448173523,\n",
       " 0.4171285033226013]"
      ]
     },
     "execution_count": 18,
     "metadata": {},
     "output_type": "execute_result"
    }
   ],
   "source": [
    "model.evaluate(x_test,y_test)"
   ]
  },
  {
   "cell_type": "code",
   "execution_count": 12,
   "id": "6499d26c",
   "metadata": {},
   "outputs": [],
   "source": [
    "pred_test = model.predict(x_test)"
   ]
  },
  {
   "cell_type": "code",
   "execution_count": 16,
   "id": "3f46ea2c",
   "metadata": {},
   "outputs": [
    {
     "name": "stdout",
     "output_type": "stream",
     "text": [
      "0.9802648693390091\n",
      "0.8486160148422788\n",
      "0.21685788253870014\n"
     ]
    },
    {
     "name": "stderr",
     "output_type": "stream",
     "text": [
      "/home/amber/tf_2/lib/python3.8/site-packages/sklearn/metrics/_ranking.py:877: UserWarning: No positive class found in y_true, recall is set to one for all thresholds.\n",
      "  warnings.warn(\n",
      "/home/amber/tf_2/lib/python3.8/site-packages/sklearn/metrics/_ranking.py:877: UserWarning: No positive class found in y_true, recall is set to one for all thresholds.\n",
      "  warnings.warn(\n",
      "/home/amber/tf_2/lib/python3.8/site-packages/sklearn/metrics/_ranking.py:877: UserWarning: No positive class found in y_true, recall is set to one for all thresholds.\n",
      "  warnings.warn(\n",
      "/home/amber/tf_2/lib/python3.8/site-packages/sklearn/metrics/_ranking.py:877: UserWarning: No positive class found in y_true, recall is set to one for all thresholds.\n",
      "  warnings.warn(\n",
      "/home/amber/tf_2/lib/python3.8/site-packages/sklearn/metrics/_ranking.py:877: UserWarning: No positive class found in y_true, recall is set to one for all thresholds.\n",
      "  warnings.warn(\n",
      "/home/amber/tf_2/lib/python3.8/site-packages/sklearn/metrics/_ranking.py:877: UserWarning: No positive class found in y_true, recall is set to one for all thresholds.\n",
      "  warnings.warn(\n",
      "/home/amber/tf_2/lib/python3.8/site-packages/sklearn/metrics/_ranking.py:877: UserWarning: No positive class found in y_true, recall is set to one for all thresholds.\n",
      "  warnings.warn(\n",
      "/home/amber/tf_2/lib/python3.8/site-packages/sklearn/metrics/_ranking.py:877: UserWarning: No positive class found in y_true, recall is set to one for all thresholds.\n",
      "  warnings.warn(\n",
      "/home/amber/tf_2/lib/python3.8/site-packages/sklearn/metrics/_ranking.py:877: UserWarning: No positive class found in y_true, recall is set to one for all thresholds.\n",
      "  warnings.warn(\n",
      "/home/amber/tf_2/lib/python3.8/site-packages/sklearn/metrics/_ranking.py:877: UserWarning: No positive class found in y_true, recall is set to one for all thresholds.\n",
      "  warnings.warn(\n",
      "/home/amber/tf_2/lib/python3.8/site-packages/sklearn/metrics/_ranking.py:877: UserWarning: No positive class found in y_true, recall is set to one for all thresholds.\n",
      "  warnings.warn(\n"
     ]
    }
   ],
   "source": [
    "pred_test_label = (pred_test > 0.5) \n",
    "print(skl.accuracy_score(y_test.flatten(),pred_test_label.flatten()))\n",
    "auc = 0\n",
    "class_i = 0\n",
    "for i in range(120):\n",
    "    try:\n",
    "        auc += skl.roc_auc_score(y_test[:,i],pred_test[:,i])\n",
    "        class_i += 1\n",
    "    except:\n",
    "        next\n",
    "        \n",
    "print(auc / class_i)\n",
    "print(skl.average_precision_score(y_test,pred_test))"
   ]
  },
  {
   "cell_type": "code",
   "execution_count": 10,
   "id": "cff6a7dd",
   "metadata": {},
   "outputs": [
    {
     "data": {
      "text/plain": [
       "2433"
      ]
     },
     "execution_count": 10,
     "metadata": {},
     "output_type": "execute_result"
    }
   ],
   "source": [
    "pred_test_label.sum()"
   ]
  },
  {
   "cell_type": "code",
   "execution_count": null,
   "id": "9213460d",
   "metadata": {},
   "outputs": [],
   "source": []
  }
 ],
 "metadata": {
  "kernelspec": {
   "display_name": "Python 3 (ipykernel)",
   "language": "python",
   "name": "python3"
  },
  "language_info": {
   "codemirror_mode": {
    "name": "ipython",
    "version": 3
   },
   "file_extension": ".py",
   "mimetype": "text/x-python",
   "name": "python",
   "nbconvert_exporter": "python",
   "pygments_lexer": "ipython3",
   "version": "3.8.10"
  }
 },
 "nbformat": 4,
 "nbformat_minor": 5
}
