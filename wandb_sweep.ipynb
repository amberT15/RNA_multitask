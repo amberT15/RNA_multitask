{
 "cells": [
  {
   "cell_type": "code",
   "execution_count": 1,
   "id": "0ded54f1",
   "metadata": {},
   "outputs": [
    {
     "name": "stderr",
     "output_type": "stream",
     "text": [
      "\u001b[34m\u001b[1mwandb\u001b[0m: Currently logged in as: \u001b[33mambert\u001b[0m. Use \u001b[1m`wandb login --relogin`\u001b[0m to force relogin\n"
     ]
    },
    {
     "data": {
      "text/plain": [
       "True"
      ]
     },
     "execution_count": 1,
     "metadata": {},
     "output_type": "execute_result"
    }
   ],
   "source": [
    "import wandb\n",
    "import itertools\n",
    "wandb.login()"
   ]
  },
  {
   "cell_type": "code",
   "execution_count": 3,
   "id": "b8b98488",
   "metadata": {},
   "outputs": [
    {
     "name": "stdout",
     "output_type": "stream",
     "text": [
      "{'method': 'grid', 'metric': {'name': 'val_loss', 'goal': 'minimize'}, 'parameters': {'dataset': {'value': '/home/amber/multitask_RNA/data/RBP/i_2000_replicate_binary/i_2000_replicate_binary.h5'}, 'epochs': {'value': 100}, 'batch_size': {'value': 64}, 'patience': {'value': 10}, 'model': {'value': 'rbp_cnn'}, 'lr': {'value': 0.001}}}\n",
      "Create sweep with ID: n1ig8vzu\n",
      "Sweep URL: https://wandb.ai/ambert/rbp_binary/sweeps/n1ig8vzu\n"
     ]
    }
   ],
   "source": [
    "sweep_config = {\n",
    "    'method': 'grid'\n",
    "    }\n",
    "\n",
    "metric = {\n",
    "    'name': 'val_loss',\n",
    "    'goal': 'minimize'   \n",
    "    }\n",
    "\n",
    "sweep_config['metric'] = metric\n",
    "parameters_dict = {\n",
    "    \"dataset\":{\n",
    "        'value': '/home/amber/multitask_RNA/data/RBP/i_2000_replicate_binary/i_2000_replicate_binary.h5'             \n",
    "    },\n",
    "    \"epochs\": {\n",
    "        'value': 100\n",
    "    },\n",
    "    \"batch_size\": {\n",
    "        'value': 64\n",
    "    },\n",
    "    \"patience\" :{\n",
    "        'value': 10\n",
    "    }, \n",
    "    \"model\":{\n",
    "        'value':'rbp_cnn'\n",
    "    },\n",
    "    \"lr\": {\n",
    "        'value':0.001\n",
    "    }\n",
    "} \n",
    "sweep_config['parameters'] = parameters_dict\n",
    "print(sweep_config)\n",
    "\n",
    "sweep_id = wandb.sweep(sweep_config, project=\"rbp_binary\")"
   ]
  },
  {
   "cell_type": "code",
   "execution_count": 2,
   "id": "ef3261ca",
   "metadata": {},
   "outputs": [
    {
     "name": "stdout",
     "output_type": "stream",
     "text": [
      "{'method': 'grid', 'metric': {'name': 'val_loss', 'goal': 'minimize'}, 'parameters': {'data': {'value': '/home/amber/multitask_RNA/data/annotation/2000_1000.h5'}, 'epochs': {'value': 100}, 'batch_size': {'value': 64}, 'input_shape': {'value': (4, 3000)}, 'output_shape': {'value': (3, 2000)}, 'patience': {'value': 5}, 'model': {'value': 'Splice_AI_80'}, 'lr': {'value': 0.004}, 'L': {'value': 32}}}\n",
      "Create sweep with ID: 7bv8qnnl\n",
      "Sweep URL: https://wandb.ai/ambert/annotation_3k/sweeps/7bv8qnnl\n"
     ]
    }
   ],
   "source": [
    "sweep_config = {\n",
    "    'method': 'grid'\n",
    "    }\n",
    "\n",
    "metric = {\n",
    "    'name': 'val_loss',\n",
    "    'goal': 'minimize'   \n",
    "    }\n",
    "\n",
    "sweep_config['metric'] = metric\n",
    "parameters_dict = {\n",
    "    \"data\":{\n",
    "        'value': '/home/amber/multitask_RNA/data/annotation/2000_1000.h5'             \n",
    "    },\n",
    "    \"epochs\": {\n",
    "        'value': 100\n",
    "    },\n",
    "    \"batch_size\": {\n",
    "        'value': 64\n",
    "    },\n",
    "    \"input_shape\":{\n",
    "        'value': (4,3000)\n",
    "    },\n",
    "    \"output_shape\":{\n",
    "        'value': (3,2000)\n",
    "    },\n",
    "    \"patience\" :{\n",
    "        'value': 5\n",
    "    }, \n",
    "    \"model\":{\n",
    "        'value':'Splice_AI_80'\n",
    "    },\n",
    "    \"lr\": {\n",
    "        'value':0.004\n",
    "    },\n",
    "    \"L\":{\n",
    "        'value':32\n",
    "    }\n",
    "} \n",
    "sweep_config['parameters'] = parameters_dict\n",
    "print(sweep_config)\n",
    "\n",
    "sweep_id = wandb.sweep(sweep_config, project=\"annotation_3k\")"
   ]
  },
  {
   "cell_type": "code",
   "execution_count": 3,
   "id": "7aa8695b",
   "metadata": {},
   "outputs": [
    {
     "name": "stdout",
     "output_type": "stream",
     "text": [
      "{'method': 'grid', 'metric': {'name': 'val_loss', 'goal': 'minimize'}, 'parameters': {'data': {'value': '/home/amber/multitask_RNA/data/annotation/2000_1000_UTR.h5'}, 'epochs': {'value': 100}, 'batch_size': {'value': 64}, 'input_shape': {'value': (4, 3000)}, 'output_shape': {'value': (4, 2000)}, 'patience': {'value': 5}, 'model': {'values': ['Splice_AI_80', 'Splice_AI_2K']}, 'lr': {'value': 0.004}, 'L': {'value': 48}}}\n",
      "Create sweep with ID: lzlsys24\n",
      "Sweep URL: https://wandb.ai/ambert/annotation_3k/sweeps/lzlsys24\n"
     ]
    }
   ],
   "source": [
    "sweep_config = {\n",
    "    'method': 'grid'\n",
    "    }\n",
    "\n",
    "metric = {\n",
    "    'name': 'val_loss',\n",
    "    'goal': 'minimize'   \n",
    "    }\n",
    "\n",
    "sweep_config['metric'] = metric\n",
    "parameters_dict = {\n",
    "    \"data\":{\n",
    "        'value': '/home/amber/multitask_RNA/data/annotation/2000_1000_UTR.h5'             \n",
    "    },\n",
    "    \"epochs\": {\n",
    "        'value': 100\n",
    "    },\n",
    "    \"batch_size\": {\n",
    "        'value': 64\n",
    "    },\n",
    "    \"input_shape\":{\n",
    "        'value': (4,3000)\n",
    "    },\n",
    "    \"output_shape\":{\n",
    "        'value': (4,2000)\n",
    "    },\n",
    "    \"patience\" :{\n",
    "        'value': 5\n",
    "    }, \n",
    "    \"model\":{\n",
    "        'values':['Splice_AI_80','Splice_AI_2K']\n",
    "    },\n",
    "    \"lr\": {\n",
    "        'value':0.004\n",
    "    },\n",
    "    \"L\":{\n",
    "        'value':48\n",
    "    }\n",
    "} \n",
    "sweep_config['parameters'] = parameters_dict\n",
    "print(sweep_config)\n",
    "\n",
    "sweep_id = wandb.sweep(sweep_config, project=\"annotation_3k\")"
   ]
  },
  {
   "cell_type": "code",
   "execution_count": null,
   "id": "7ac1c3e2",
   "metadata": {},
   "outputs": [],
   "source": []
  }
 ],
 "metadata": {
  "kernelspec": {
   "display_name": "Python 3 (ipykernel)",
   "language": "python",
   "name": "python3"
  },
  "language_info": {
   "codemirror_mode": {
    "name": "ipython",
    "version": 3
   },
   "file_extension": ".py",
   "mimetype": "text/x-python",
   "name": "python",
   "nbconvert_exporter": "python",
   "pygments_lexer": "ipython3",
   "version": "3.8.10"
  }
 },
 "nbformat": 4,
 "nbformat_minor": 5
}
