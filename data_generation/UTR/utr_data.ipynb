{
 "cells": [
  {
   "cell_type": "code",
   "execution_count": 1,
   "id": "7ceb2cd6",
   "metadata": {},
   "outputs": [],
   "source": [
    "import pandas as pd\n",
    "import numpy as np\n",
    "import sklearn\n",
    "from sklearn import preprocessing\n",
    "import h5py\n",
    "import sys\n",
    "sys.path.append('/home/amber/multitask_RNA/DNA_BERT_rep/')\n",
    "from dna_tokenizer import DNATokenizer"
   ]
  },
  {
   "cell_type": "code",
   "execution_count": 2,
   "id": "e3b0283d",
   "metadata": {},
   "outputs": [],
   "source": [
    "def one_hot_encode(df, col='utr', seq_len=50):\n",
    "    # Dictionary returning one-hot encoding of nucleotides. \n",
    "    nuc_d = {'a':[1,0,0,0],'c':[0,1,0,0],'g':[0,0,1,0],'t':[0,0,0,1], 'n':[0,0,0,0]}\n",
    "    \n",
    "    # Creat empty matrix.\n",
    "    vectors=[]\n",
    "    \n",
    "    # Iterate through UTRs and one-hot encode\n",
    "    for i,seq in enumerate(df[col].str[:seq_len]): \n",
    "        seq = seq.upper()\n",
    "        split_seq = np.array([seq[i:i+6] for i in range(0, len(seq)-6+1, 1)])\n",
    "        split_seq = ' '.join(split_seq)\n",
    "        #a = np.array([nuc_d[x] for x in seq])\n",
    "        #vectors[i] = seq\n",
    "        vectors.append(split_seq)\n",
    "    return vectors\n",
    "\n",
    "tokenizer = DNATokenizer('/home/amber/multitask_RNA/DNA_BERT_rep/vocab.txt')"
   ]
  },
  {
   "cell_type": "markdown",
   "id": "e689c5e9",
   "metadata": {},
   "source": [
    "## UTR MRL"
   ]
  },
  {
   "cell_type": "code",
   "execution_count": 3,
   "id": "158d4ab1",
   "metadata": {},
   "outputs": [
    {
     "name": "stderr",
     "output_type": "stream",
     "text": [
      "/tmp/ipykernel_3297180/3656379683.py:22: SettingWithCopyWarning: \n",
      "A value is trying to be set on a copy of a slice from a DataFrame.\n",
      "Try using .loc[row_indexer,col_indexer] = value instead\n",
      "\n",
      "See the caveats in the documentation: https://pandas.pydata.org/pandas-docs/stable/user_guide/indexing.html#returning-a-view-versus-a-copy\n",
      "  e_train.loc[:,'scaled_rl'] = preprocessing.StandardScaler().fit_transform(e_train.loc[:,'rl'].values.reshape(-1,1))\n",
      "/tmp/ipykernel_3297180/3656379683.py:23: SettingWithCopyWarning: \n",
      "A value is trying to be set on a copy of a slice from a DataFrame.\n",
      "Try using .loc[row_indexer,col_indexer] = value instead\n",
      "\n",
      "See the caveats in the documentation: https://pandas.pydata.org/pandas-docs/stable/user_guide/indexing.html#returning-a-view-versus-a-copy\n",
      "  e_test.loc[:,'scaled_rl'] = preprocessing.StandardScaler().fit_transform(e_test.loc[:,'rl'].values.reshape(-1,1))\n"
     ]
    }
   ],
   "source": [
    "#df = pd.read_pickle('../data/egfp_unmod_1.pkl')\n",
    "df = pd.read_csv('../data/UTR/raw_csv/GSM3130435_egfp_unmod_1.csv')\n",
    "df.sort_values('total_reads', inplace=True, ascending=False)\n",
    "df.reset_index(inplace=True, drop=True)\n",
    "df = df.iloc[:280000]\n",
    "\n",
    "# The training set has 260k UTRs and the test set has 20k UTRs.\n",
    "e_test = df.iloc[:20000]\n",
    "e_train = df.iloc[20000:]\n",
    "\n",
    "# One-hot encode both training and test UTRs\n",
    "seq_e_train = one_hot_encode(e_train,seq_len=50)\n",
    "train_seq = tokenizer.batch_encode_plus(seq_e_train,return_tensors='pt',\n",
    "                                    add_special_tokens=True)\n",
    "train_seq = train_seq['input_ids'].numpy()\n",
    "seq_e_test = one_hot_encode(e_test, seq_len=50)\n",
    "test_seq = tokenizer.batch_encode_plus(seq_e_test,return_tensors='pt',\n",
    "                                    add_special_tokens=True)\n",
    "test_seq = test_seq['input_ids'].numpy()\n",
    "\n",
    "# Scale the training mean ribosome load values\n",
    "e_train.loc[:,'scaled_rl'] = preprocessing.StandardScaler().fit_transform(e_train.loc[:,'rl'].values.reshape(-1,1))\n",
    "e_test.loc[:,'scaled_rl'] = preprocessing.StandardScaler().fit_transform(e_test.loc[:,'rl'].values.reshape(-1,1))"
   ]
  },
  {
   "cell_type": "code",
   "execution_count": 4,
   "id": "2330b2bd",
   "metadata": {},
   "outputs": [],
   "source": [
    "file_name = '../data/UTR/utr_mrl.h5'\n",
    "h5f = h5py.File(file_name, 'w')\n",
    "h5f.create_dataset('x_train',data = train_seq)\n",
    "h5f.create_dataset('y_train',data= e_train.loc[:,'scaled_rl'].values)\n",
    "h5f.create_dataset('x_test',data = test_seq)\n",
    "h5f.create_dataset('y_test',data = e_test.loc[:,'scaled_rl'].values)\n",
    "h5f.close()"
   ]
  },
  {
   "cell_type": "markdown",
   "id": "54c19f20",
   "metadata": {},
   "source": [
    "## UTR poly"
   ]
  },
  {
   "cell_type": "code",
   "execution_count": 5,
   "id": "0b558f49",
   "metadata": {},
   "outputs": [],
   "source": [
    "df = pd.read_csv('../data/UTR/raw_csv/GSM3130435_egfp_unmod_1.csv')\n",
    "df.sort_values('total_reads', inplace=True, ascending=False)\n",
    "df.reset_index(inplace=True, drop=True)\n",
    "df = df.iloc[:280000]\n",
    "\n",
    "# The training set has 260k UTRs and the test set has 20k UTRs.\n",
    "e_test = df[:20000]\n",
    "e_train = df[20000:]\n",
    "\n",
    "seq_e_train = one_hot_encode(e_train,seq_len=50)\n",
    "train_seq = tokenizer.batch_encode_plus(seq_e_train,return_tensors='pt',\n",
    "                                    add_special_tokens=True)\n",
    "train_seq = train_seq['input_ids'].numpy()\n",
    "seq_e_test = one_hot_encode(e_test, seq_len=50)\n",
    "test_seq = tokenizer.batch_encode_plus(seq_e_test,return_tensors='pt',\n",
    "                                    add_special_tokens=True)\n",
    "test_seq = test_seq['input_ids'].numpy()\n",
    "\n",
    "rfractions = ['r' + str(x) for x in range(14)]\n",
    "# Convert e_train into a matrix with relative polysome abundance for each UTR.\n",
    "e_train = e_train[rfractions].values\n",
    "e_test = e_test[rfractions].values"
   ]
  },
  {
   "cell_type": "code",
   "execution_count": 6,
   "id": "babbf357",
   "metadata": {},
   "outputs": [],
   "source": [
    "file_name = '../data/UTR/utr_poly.h5'\n",
    "h5f = h5py.File(file_name, 'w')\n",
    "h5f.create_dataset('x_train',data = train_seq)\n",
    "h5f.create_dataset('y_train',data= e_train)\n",
    "h5f.create_dataset('x_test',data = test_seq)\n",
    "h5f.create_dataset('y_test',data = e_test)\n",
    "h5f.close()"
   ]
  },
  {
   "cell_type": "code",
   "execution_count": null,
   "id": "36255354",
   "metadata": {},
   "outputs": [],
   "source": []
  }
 ],
 "metadata": {
  "kernelspec": {
   "display_name": "Python 3.8.10 ('tf_2': venv)",
   "language": "python",
   "name": "python3"
  },
  "language_info": {
   "codemirror_mode": {
    "name": "ipython",
    "version": 3
   },
   "file_extension": ".py",
   "mimetype": "text/x-python",
   "name": "python",
   "nbconvert_exporter": "python",
   "pygments_lexer": "ipython3",
   "version": "3.8.10"
  },
  "vscode": {
   "interpreter": {
    "hash": "9e8284e1417b754e460c2bde3a4a4837c482fa82ceb7d52f4acbe340dd4b4559"
   }
  }
 },
 "nbformat": 4,
 "nbformat_minor": 5
}
