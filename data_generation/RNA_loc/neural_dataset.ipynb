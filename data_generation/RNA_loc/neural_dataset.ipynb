{
 "cells": [
  {
   "cell_type": "code",
   "execution_count": 1,
   "id": "1a899b71",
   "metadata": {},
   "outputs": [],
   "source": [
    "import numpy as np\n",
    "import pandas as pd\n",
    "rna_local = pd.read_csv('/home/ztang/multitask_RNA/data/RNA_loc/TableS2.csv',index_col = 0)"
   ]
  },
  {
   "cell_type": "code",
   "execution_count": 2,
   "id": "efef0d9e",
   "metadata": {},
   "outputs": [
    {
     "data": {
      "text/plain": [
       "Index(['gene name', 'position in 3UTR', 'subset', 'changes',\n",
       "       'logFC(neurite/soma) - CAD', 'p-value logFC(neurite/soma) - CAD',\n",
       "       'logFC(neurite/soma) - Neuro-2a',\n",
       "       'p-value logFC(neurite/soma) - Neuro-2a', 'logFC(4h/0h ActD)',\n",
       "       'p-value logFC(4h/0h ActD)', 'logFC(24h/0h ActD)',\n",
       "       'p-value logFC(24h/0h ActD)', 'number of reads - CAD',\n",
       "       'minimum number of reads - CAD', 'number of reads - Neuro-2a',\n",
       "       ' minimum number of reads - Neuro-2a',\n",
       "       'full library sequence (primers-barcode-test sequence)'],\n",
       "      dtype='object')"
      ]
     },
     "execution_count": 2,
     "metadata": {},
     "output_type": "execute_result"
    }
   ],
   "source": [
    "rna_local.columns"
   ]
  },
  {
   "cell_type": "code",
   "execution_count": 3,
   "id": "dfbbfa6a",
   "metadata": {},
   "outputs": [],
   "source": [
    "def onehotcoding(seq):\n",
    "    IN_MAP = np.asarray([[0, 0, 0, 0],\n",
    "                     [1, 0, 0, 0],\n",
    "                     [0, 1, 0, 0],\n",
    "                     [0, 0, 1, 0],\n",
    "                     [0, 0, 0, 1]])\n",
    "    seq = seq.upper().replace('A', '1').replace('C', '2')\n",
    "    seq = seq.replace('G', '3').replace('T', '4').replace('N', '0')\n",
    "    return IN_MAP[np.array(list(seq)).astype(int)]"
   ]
  },
  {
   "cell_type": "code",
   "execution_count": 11,
   "id": "dab954ce",
   "metadata": {},
   "outputs": [],
   "source": [
    "x = []\n",
    "y = []\n",
    "for (i,row) in rna_local.iterrows():\n",
    "    seq = row['full library sequence (primers-barcode-test sequence)'][30:-18]\n",
    "    vector = np.array([row['logFC(neurite/soma) - CAD'], row['logFC(neurite/soma) - Neuro-2a']])\n",
    "    p_value =np.array([row['p-value logFC(neurite/soma) - CAD'], row['p-value logFC(neurite/soma) - Neuro-2a']])\n",
    "    onehot = onehotcoding(seq)\n",
    "    x.append(onehot)\n",
    "    temp = np.array([0,0])\n",
    "    if (p_value < 0.05).all() and (vector>0).all():\n",
    "        temp[0] = 1\n",
    "    elif (p_value < 0.05).all() and (vector<0).all():\n",
    "        temp[1] = 1\n",
    "        # print(vector)\n",
    "        # print(p_value)\n",
    "    y.append(temp)"
   ]
  },
  {
   "cell_type": "code",
   "execution_count": 5,
   "id": "9578357d",
   "metadata": {
    "scrolled": true
   },
   "outputs": [],
   "source": [
    "import h5py\n",
    "file_name = '/home/ztang/multitask_RNA/data/RNA_loc/RNAloc.h5'\n",
    "h5f = h5py.File(file_name, 'w')\n",
    "h5f.create_dataset('x',data = np.array(x))\n",
    "h5f.create_dataset('y',data =np.array(y))\n",
    "h5f.close()"
   ]
  },
  {
   "cell_type": "code",
   "execution_count": null,
   "id": "ceda43fd",
   "metadata": {},
   "outputs": [],
   "source": []
  }
 ],
 "metadata": {
  "kernelspec": {
   "display_name": "Python 3.8.10 ('tf_2': venv)",
   "language": "python",
   "name": "python3"
  },
  "language_info": {
   "codemirror_mode": {
    "name": "ipython",
    "version": 3
   },
   "file_extension": ".py",
   "mimetype": "text/x-python",
   "name": "python",
   "nbconvert_exporter": "python",
   "pygments_lexer": "ipython3",
   "version": "3.9.16"
  },
  "vscode": {
   "interpreter": {
    "hash": "9e8284e1417b754e460c2bde3a4a4837c482fa82ceb7d52f4acbe340dd4b4559"
   }
  }
 },
 "nbformat": 4,
 "nbformat_minor": 5
}
