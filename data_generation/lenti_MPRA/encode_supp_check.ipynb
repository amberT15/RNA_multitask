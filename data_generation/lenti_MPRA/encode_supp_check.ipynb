{
 "cells": [
  {
   "cell_type": "code",
   "execution_count": 1,
   "metadata": {},
   "outputs": [],
   "source": [
    "import numpy as np\n",
    "import pandas as pd\n",
    "import gzip"
   ]
  },
  {
   "cell_type": "code",
   "execution_count": 2,
   "metadata": {},
   "outputs": [],
   "source": [
    "def parse_fasta_to_dict(filepath):\n",
    "\n",
    "  sequences = {}\n",
    "  prev_line_was_sequence = False\n",
    "  with gzip.open(filepath, \"r\") as f:  \n",
    "    for line in f:\n",
    "      line = line.strip()\n",
    "      # handle blank lines\n",
    "      if not line:\n",
    "        continue\n",
    "      is_description = line.startswith(b\">\")\n",
    "      if is_description:\n",
    "        description = line[1:].strip()  # prune \">\" char\n",
    "        description = str(description, 'UTF-8')\n",
    "        sequences[description] = ''\n",
    "        prev_line_was_sequence = False\n",
    "      else:  # is sequence data\n",
    "        sequence = line.upper()\n",
    "        if prev_line_was_sequence:\n",
    "          # This accounts for sequences that span multiple lines.\n",
    "          sequences[-1] += sequence\n",
    "        else:\n",
    "          sequences[description] = str(sequence, 'UTF-8')\n",
    "        prev_line_was_sequence = True\n",
    "  return sequences"
   ]
  },
  {
   "cell_type": "code",
   "execution_count": 3,
   "metadata": {},
   "outputs": [],
   "source": [
    "#encode:\n",
    "e_fa = parse_fasta_to_dict('/home/ztang/multitask_RNA/data/lenti_MPRA/encode/ENCFF254RKL.fasta.gz')\n",
    "e_tsv = pd.read_csv('/home/ztang/multitask_RNA/data/lenti_MPRA/encode/ENCFF351HBM.tsv',delimiter='\\t')\n",
    "#supp:\n",
    "s_fa = pd.read_csv('/home/ztang/multitask_RNA/data/lenti_MPRA/HepG2_seq.csv')\n",
    "s_tsv = pd.read_csv('/home/ztang/multitask_RNA/data/lenti_MPRA/HepG2_data.csv')"
   ]
  },
  {
   "cell_type": "code",
   "execution_count": 5,
   "metadata": {},
   "outputs": [],
   "source": [
    "s_set = set(s_fa['230nt sequence (15nt 5\\' adaptor - 200nt element - 15nt 3\\' adaptor)'].to_list())\n",
    "e_set = set(e_fa.values())"
   ]
  },
  {
   "cell_type": "code",
   "execution_count": 6,
   "metadata": {},
   "outputs": [
    {
     "name": "stdout",
     "output_type": "stream",
     "text": [
      "208947\n",
      "163506\n"
     ]
    }
   ],
   "source": [
    "print(len(e_set))\n",
    "print(len(s_set))"
   ]
  },
  {
   "cell_type": "code",
   "execution_count": 7,
   "metadata": {},
   "outputs": [
    {
     "data": {
      "text/plain": [
       "1269"
      ]
     },
     "execution_count": 7,
     "metadata": {},
     "output_type": "execute_result"
    }
   ],
   "source": [
    "overlap = list(e_set & s_set)\n",
    "len(overlap)"
   ]
  },
  {
   "cell_type": "code",
   "execution_count": null,
   "metadata": {},
   "outputs": [],
   "source": []
  }
 ],
 "metadata": {
  "kernelspec": {
   "display_name": "jax_tf",
   "language": "python",
   "name": "python3"
  },
  "language_info": {
   "codemirror_mode": {
    "name": "ipython",
    "version": 3
   },
   "file_extension": ".py",
   "mimetype": "text/x-python",
   "name": "python",
   "nbconvert_exporter": "python",
   "pygments_lexer": "ipython3",
   "version": "3.9.16"
  },
  "orig_nbformat": 4
 },
 "nbformat": 4,
 "nbformat_minor": 2
}
