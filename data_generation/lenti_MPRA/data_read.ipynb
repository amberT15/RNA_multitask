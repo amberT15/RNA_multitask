{
 "cells": [
  {
   "cell_type": "code",
   "execution_count": 1,
   "metadata": {},
   "outputs": [],
   "source": [
    "import pandas as pd\n",
    "import numpy as np\n",
    "import h5py\n",
    "import sys\n",
    "sys.path.append('../')\n",
    "import utils\n",
    "cell_type =['K562','HepG2','WTC11']"
   ]
  },
  {
   "cell_type": "code",
   "execution_count": 2,
   "metadata": {},
   "outputs": [],
   "source": [
    "\n",
    "for ct in cell_type:\n",
    "    out_file = h5py.File('/home/amber/multitask_RNA/data/lenti_MPRA/'+ct+'_data.h5','w')\n",
    "    data_file = '/home/amber/multitask_RNA/data/lenti_MPRA/'+ct+'_data.csv'\n",
    "    seq_file = '/home/amber/multitask_RNA/data/lenti_MPRA/'+ct+'_seq.csv'\n",
    "    data_df = pd.read_csv(data_file,usecols=['name','mean'])\n",
    "    seq_df = pd.read_csv(seq_file,usecols=['name',\"230nt sequence (15nt 5' adaptor - 200nt element - 15nt 3' adaptor)\"])\n",
    "    select_df = pd.concat([data_df.set_index('name'),seq_df.set_index('name')], axis=1, join='inner')\n",
    "    select_df.rename(columns = {\"230nt sequence (15nt 5' adaptor - 200nt element - 15nt 3' adaptor)\":'seq'}, inplace = True)\n",
    "    out_file.create_dataset('seq',data=select_df['seq'].values)\n",
    "    out_file.create_dataset('mean',data=select_df['mean'].values)\n",
    "    out_file.close()"
   ]
  },
  {
   "cell_type": "code",
   "execution_count": 8,
   "metadata": {},
   "outputs": [],
   "source": [
    "onehot_list = []\n",
    "for ct in cell_type:\n",
    "    in_file = h5py.File('/home/amber/multitask_RNA/data/lenti_MPRA/'+ct+'_data.h5','r')\n",
    "    out_file = h5py.File('/home/amber/multitask_RNA/data/lenti_MPRA/'+ct+'_onehot.h5','w')\n",
    "    seq = in_file['seq']\n",
    "    for i in range(len(seq)):\n",
    "        seq_onehot = utils.seq_to_onehot(seq[i].decode())\n",
    "        onehot_list.append(seq_onehot.T)\n",
    "    target = in_file['mean'][()]\n",
    "    out_file.create_dataset('onehot',data=np.array(onehot_list))\n",
    "    out_file.create_dataset('target',data=target)\n",
    "    out_file.close()\n",
    "    "
   ]
  },
  {
   "cell_type": "code",
   "execution_count": null,
   "metadata": {},
   "outputs": [],
   "source": []
  }
 ],
 "metadata": {
  "kernelspec": {
   "display_name": "jax-jk",
   "language": "python",
   "name": "python3"
  },
  "language_info": {
   "codemirror_mode": {
    "name": "ipython",
    "version": 3
   },
   "file_extension": ".py",
   "mimetype": "text/x-python",
   "name": "python",
   "nbconvert_exporter": "python",
   "pygments_lexer": "ipython3",
   "version": "3.8.10"
  },
  "orig_nbformat": 4
 },
 "nbformat": 4,
 "nbformat_minor": 2
}
