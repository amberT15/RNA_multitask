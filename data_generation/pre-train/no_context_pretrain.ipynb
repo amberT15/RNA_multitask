{
 "cells": [
  {
   "cell_type": "code",
   "execution_count": 15,
   "metadata": {},
   "outputs": [],
   "source": [
    "import pandas as pd\n",
    "import numpy as np\n",
    "import math\n",
    "from tqdm import tqdm\n",
    "import random\n",
    "import h5py\n",
    "length = 510*6"
   ]
  },
  {
   "cell_type": "code",
   "execution_count": 9,
   "metadata": {},
   "outputs": [],
   "source": [
    "annot_df = pd.read_csv('../../data/annotation/cannonical_annotation.csv',sep = '\\t',header = 0,index_col = 0)\n",
    "transcript_df = pd.read_csv('../../data/annotation/annot_label.csv',sep = '\\t',header = 0)\n",
    "transcript_df['length'] = np.absolute(transcript_df['Start']-transcript_df['End'])\n",
    "annot_df = annot_df[annot_df['Annotation'].isin(['exon','UTR',])]\n",
    "annot_df['GeneID']=pd.Categorical(annot_df['GeneID'],transcript_df['Gene'])\n",
    "annot_df = annot_df.sort_values(by=['Chrom','GeneID','Start']).reset_index()"
   ]
  },
  {
   "cell_type": "code",
   "execution_count": 10,
   "metadata": {},
   "outputs": [],
   "source": [
    "chrom = []\n",
    "strand = []\n",
    "start_l = []\n",
    "end_l = []\n",
    "gene = []\n",
    "for index,row in transcript_df.iterrows():\n",
    "    start = row['Start']\n",
    "    end = row['End']\n",
    "    split = [(round(length*i)+start, round(length*(i+1))+start) for i in range(int(math.ceil((end-start)/length)))]\n",
    "    for entry in split:\n",
    "        chrom.append(row['Chr'])\n",
    "        strand.append(row['Strand'])\n",
    "        start_l.append(entry[0])\n",
    "        end_l.append(entry[1])\n",
    "        gene.append(row['Gene'])\n",
    "    "
   ]
  },
  {
   "cell_type": "code",
   "execution_count": 11,
   "metadata": {},
   "outputs": [],
   "source": [
    "bed_df = pd.DataFrame({'Chr':chrom,'Start':start_l,'End':end_l,'Strand':strand,'Gene':gene})\n",
    "bed_df['Gene']=pd.Categorical(bed_df['Gene'],transcript_df['Gene'])\n",
    "bed_df = bed_df.sort_values(by=['Chr','Gene','Start'])"
   ]
  },
  {
   "cell_type": "code",
   "execution_count": 12,
   "metadata": {},
   "outputs": [],
   "source": [
    "transcript_df.to_csv('/home/amber/multitask_RNA/data/pre-train/510_6/transcript.bed',\n",
    "                index=False,header=False,sep='\\t',columns=['Chr','Start','End','Gene','length','Strand'])"
   ]
  },
  {
   "cell_type": "code",
   "execution_count": 13,
   "metadata": {},
   "outputs": [],
   "source": [
    "bed_df = bed_df[['Chr','Start','End','Gene','Gene','Strand']]\n",
    "bed_df.to_csv('/home/amber/multitask_RNA/data/pre-train/510_6/rna_selection.bed',\n",
    "                index=False,header=False,sep = '\\t')\n",
    "annot_df = annot_df[['Chrom','Start','End','Annotation','GeneID','Strand']]\n",
    "annot_df.to_csv('/home/amber/multitask_RNA/data/pre-train/510_6/annot.bed',\n",
    "                index=False,header=False,sep='\\t')"
   ]
  },
  {
   "cell_type": "code",
   "execution_count": null,
   "metadata": {},
   "outputs": [],
   "source": [
    "! bedtools subtract -s -a transcript.bed -b annot.bed > intron.bed"
   ]
  },
  {
   "cell_type": "code",
   "execution_count": 14,
   "metadata": {},
   "outputs": [],
   "source": [
    "intron_df = pd.read_csv('../../data/pre-train/510_6/intron.bed',sep = '\\t',header = None,\n",
    "                        names = ['Chrom','Start','End','Annotation','GeneID','Strand'],index_col = None)\n",
    "intron_df['GeneID'] = intron_df['Annotation']\n",
    "intron_df['Annotation']='intron'\n",
    "all_annot_df = pd.concat([intron_df,annot_df])\n",
    "all_annot_df.to_csv('/home/amber/multitask_RNA/data/pre-train/510_6/annot.bed',\n",
    "                index=False,header=False,sep='\\t')"
   ]
  },
  {
   "cell_type": "code",
   "execution_count": null,
   "metadata": {},
   "outputs": [],
   "source": [
    "! bedtools sort -i annot.bed > annot.sorted.bed\n",
    "! bedtools intersect -s -a ./rna_selection.bed -b ./annot.sorted.bed  -wa -wb > label.bed"
   ]
  },
  {
   "cell_type": "code",
   "execution_count": 15,
   "metadata": {},
   "outputs": [],
   "source": [
    "final_df = pd.read_csv('../../data/pre-train/510_6/label.bed',sep = '\\t',header = None,index_col = None)\n",
    "bed_df.columns.values[4] = \"Annotation\"\n",
    "unique_label = final_df.groupby([0,1,2,3,5])[9].unique()\n",
    "test = unique_label.values\n",
    "for i in range(len(test)):\n",
    "    label_str = ','.join(test[i])\n",
    "    test[i] = label_str\n",
    "bed_df['Annotation'] = test"
   ]
  },
  {
   "cell_type": "code",
   "execution_count": null,
   "metadata": {},
   "outputs": [],
   "source": [
    "bed_df.to_csv('/home/amber/multitask_RNA/data/pre-train/510_6/rna_selection.bed',\n",
    "                index=False,header=False,sep='\\t')"
   ]
  },
  {
   "cell_type": "code",
   "execution_count": 8,
   "metadata": {},
   "outputs": [
    {
     "name": "stderr",
     "output_type": "stream",
     "text": [
      "100%|██████████| 672165/672165 [00:01<00:00, 464840.69it/s]\n"
     ]
    }
   ],
   "source": [
    "fasta = open('/home/amber/multitask_RNA/data/pre-train/510_6/rna_seq.fa', 'r')\n",
    "lines = fasta.readlines()\n",
    "seq = []\n",
    "# Strips the newline character\n",
    "for line in tqdm(lines[1::2]):\n",
    "    if line[0] == '>':\n",
    "        print('error in line count')\n",
    "        break\n",
    "    else:\n",
    "        seq.append(line.strip().upper())\n"
   ]
  },
  {
   "cell_type": "code",
   "execution_count": 17,
   "metadata": {},
   "outputs": [],
   "source": [
    "bed_df = pd.read_csv('../../data/pre-train/510_6/rna_selection.bed',\n",
    "                    sep = '\\t',header = None,index_col = None)"
   ]
  },
  {
   "cell_type": "code",
   "execution_count": 18,
   "metadata": {},
   "outputs": [],
   "source": [
    "labels=bed_df[4]\n",
    "selected_id = []\n",
    "intron_id = []\n",
    "for i in range(len(labels)):\n",
    "    label = labels[i].split(',')\n",
    "    if (len(label) > 1) or ('UTR' in label) or ('exon' in label):\n",
    "        selected_id.append(i)\n",
    "    else:\n",
    "        intron_id.append(i)\n",
    "        "
   ]
  },
  {
   "cell_type": "code",
   "execution_count": 19,
   "metadata": {},
   "outputs": [
    {
     "name": "stdout",
     "output_type": "stream",
     "text": [
      "224547\n",
      "447623\n"
     ]
    }
   ],
   "source": [
    "print(len(selected_id))\n",
    "print(len(intron_id))"
   ]
  },
  {
   "cell_type": "code",
   "execution_count": 11,
   "metadata": {},
   "outputs": [],
   "source": [
    "random.shuffle(seq)\n",
    "data_length = len(seq)\n",
    "train_data = seq[:int(data_length*0.9)]\n",
    "valid_data = seq[int(data_length*0.9):]"
   ]
  },
  {
   "cell_type": "code",
   "execution_count": 16,
   "metadata": {},
   "outputs": [],
   "source": [
    "file_name = '/home/amber/multitask_RNA/data/pre-train/510_6/rna_seq.h5'\n",
    "h5f = h5py.File(file_name, 'w')\n",
    "h5f.create_dataset('train',data = train_data)\n",
    "h5f.create_dataset('valid',data = valid_data)\n",
    "h5f.close()"
   ]
  }
 ],
 "metadata": {
  "kernelspec": {
   "display_name": "Python 3.8.10 ('tf_2': venv)",
   "language": "python",
   "name": "python3"
  },
  "language_info": {
   "codemirror_mode": {
    "name": "ipython",
    "version": 3
   },
   "file_extension": ".py",
   "mimetype": "text/x-python",
   "name": "python",
   "nbconvert_exporter": "python",
   "pygments_lexer": "ipython3",
   "version": "3.8.10"
  },
  "orig_nbformat": 4,
  "vscode": {
   "interpreter": {
    "hash": "9e8284e1417b754e460c2bde3a4a4837c482fa82ceb7d52f4acbe340dd4b4559"
   }
  }
 },
 "nbformat": 4,
 "nbformat_minor": 2
}
