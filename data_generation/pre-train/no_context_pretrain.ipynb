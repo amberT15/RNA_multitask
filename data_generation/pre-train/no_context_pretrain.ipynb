{
 "cells": [
  {
   "cell_type": "code",
   "execution_count": 1,
   "metadata": {},
   "outputs": [],
   "source": [
    "import pandas as pd\n",
    "import numpy as np\n",
    "import math\n",
    "from tqdm import tqdm\n",
    "import random\n",
    "import h5py\n",
    "length = 510*6"
   ]
  },
  {
   "cell_type": "code",
   "execution_count": 2,
   "metadata": {},
   "outputs": [],
   "source": [
    "annot_df = pd.read_csv('../../data/annotation/cannonical_annotation.csv',sep = '\\t',header = 0,index_col = 0)\n",
    "transcript_df = pd.read_csv('../../data/annotation/annot_label.csv',sep = '\\t',header = 0)\n",
    "transcript_df['length'] = np.absolute(transcript_df['Start']-transcript_df['End'])\n",
    "annot_df = annot_df[annot_df['Annotation'].isin(['exon','UTR',])]\n",
    "annot_df['GeneID']=pd.Categorical(annot_df['GeneID'],transcript_df['Gene'])\n",
    "annot_df = annot_df.sort_values(by=['Chrom','GeneID','Start']).reset_index()"
   ]
  },
  {
   "cell_type": "code",
   "execution_count": 3,
   "metadata": {},
   "outputs": [],
   "source": [
    "chrom = []\n",
    "strand = []\n",
    "start_l = []\n",
    "end_l = []\n",
    "gene = []\n",
    "for index,row in transcript_df.iterrows():\n",
    "    start = row['Start']\n",
    "    end = row['End']\n",
    "    split = [(round(length*i)+start, round(length*(i+1))+start) for i in range(int(math.ceil((end-start)/length)))]\n",
    "    for entry in split:\n",
    "        chrom.append(row['Chr'])\n",
    "        strand.append(row['Strand'])\n",
    "        start_l.append(entry[0])\n",
    "        end_l.append(entry[1])\n",
    "        gene.append(row['Gene'])\n",
    "    "
   ]
  },
  {
   "cell_type": "code",
   "execution_count": 4,
   "metadata": {},
   "outputs": [
    {
     "data": {
      "text/plain": [
       "672170"
      ]
     },
     "execution_count": 4,
     "metadata": {},
     "output_type": "execute_result"
    }
   ],
   "source": [
    "bed_df = pd.DataFrame({'Chr':chrom,'Start':start_l,'End':end_l,'Strand':strand,'Gene':gene})\n",
    "bed_df['Gene']=pd.Categorical(bed_df['Gene'],transcript_df['Gene'])\n",
    "bed_df = bed_df.sort_values(by=['Chr','Gene','Start'])\n",
    "len(bed_df)"
   ]
  },
  {
   "cell_type": "code",
   "execution_count": 5,
   "metadata": {},
   "outputs": [
    {
     "data": {
      "text/plain": [
       "672133"
      ]
     },
     "execution_count": 5,
     "metadata": {},
     "output_type": "execute_result"
    }
   ],
   "source": [
    "bed_df = bed_df.drop(bed_df[bed_df['Chr']=='chrM'].index)\n",
    "len(bed_df)"
   ]
  },
  {
   "cell_type": "code",
   "execution_count": 6,
   "metadata": {},
   "outputs": [],
   "source": [
    "transcript_df.to_csv('/home/amber/multitask_RNA/data/pre-train/510_6/transcript.bed',\n",
    "                index=False,header=False,sep='\\t',columns=['Chr','Start','End','Gene','length','Strand'])"
   ]
  },
  {
   "cell_type": "code",
   "execution_count": 7,
   "metadata": {},
   "outputs": [],
   "source": [
    "bed_df = bed_df[['Chr','Start','End','Gene','Gene','Strand']]\n",
    "bed_df.to_csv('/home/amber/multitask_RNA/data/pre-train/510_6/rna_selection.bed',\n",
    "                index=False,header=False,sep = '\\t')\n",
    "annot_df = annot_df[['Chrom','Start','End','Annotation','GeneID','Strand']]\n",
    "annot_df.to_csv('/home/amber/multitask_RNA/data/pre-train/510_6/annot.bed',\n",
    "                index=False,header=False,sep='\\t')"
   ]
  },
  {
   "cell_type": "code",
   "execution_count": null,
   "metadata": {},
   "outputs": [],
   "source": [
    "! bedtools subtract -s -a transcript.bed -b annot.bed > intron.bed"
   ]
  },
  {
   "cell_type": "code",
   "execution_count": 8,
   "metadata": {},
   "outputs": [],
   "source": [
    "intron_df = pd.read_csv('../../data/pre-train/510_6/intron.bed',sep = '\\t',header = None,\n",
    "                        names = ['Chrom','Start','End','Annotation','GeneID','Strand'],index_col = None)\n",
    "intron_df['GeneID'] = intron_df['Annotation']\n",
    "intron_df['Annotation']='intron'\n",
    "all_annot_df = pd.concat([intron_df,annot_df])\n",
    "all_annot_df.to_csv('/home/amber/multitask_RNA/data/pre-train/510_6/annot.bed',\n",
    "                index=False,header=False,sep='\\t')"
   ]
  },
  {
   "cell_type": "code",
   "execution_count": null,
   "metadata": {},
   "outputs": [],
   "source": [
    "! bedtools sort -i annot.bed > annot.sorted.bed\n",
    "! bedtools intersect -s -a ./rna_selection.bed -b ./annot.sorted.bed  -wa -wb > label.bed"
   ]
  },
  {
   "cell_type": "code",
   "execution_count": 2,
   "metadata": {},
   "outputs": [
    {
     "ename": "NameError",
     "evalue": "name 'bed_df' is not defined",
     "output_type": "error",
     "traceback": [
      "\u001b[0;31m---------------------------------------------------------------------------\u001b[0m",
      "\u001b[0;31mNameError\u001b[0m                                 Traceback (most recent call last)",
      "\u001b[1;32m/home/amber/multitask_RNA/data_generation/pre-train/no_context_pretrain.ipynb Cell 11\u001b[0m in \u001b[0;36m<module>\u001b[0;34m\u001b[0m\n\u001b[1;32m      <a href='vscode-notebook-cell://ssh-remote%2Bcitra/home/amber/multitask_RNA/data_generation/pre-train/no_context_pretrain.ipynb#X13sdnNjb2RlLXJlbW90ZQ%3D%3D?line=0'>1</a>\u001b[0m final_df \u001b[39m=\u001b[39m pd\u001b[39m.\u001b[39mread_csv(\u001b[39m'\u001b[39m\u001b[39m../../data/pre-train/510_6/label.bed\u001b[39m\u001b[39m'\u001b[39m,sep \u001b[39m=\u001b[39m \u001b[39m'\u001b[39m\u001b[39m\\t\u001b[39;00m\u001b[39m'\u001b[39m,header \u001b[39m=\u001b[39m \u001b[39mNone\u001b[39;00m,index_col \u001b[39m=\u001b[39m \u001b[39mNone\u001b[39;00m)\n\u001b[0;32m----> <a href='vscode-notebook-cell://ssh-remote%2Bcitra/home/amber/multitask_RNA/data_generation/pre-train/no_context_pretrain.ipynb#X13sdnNjb2RlLXJlbW90ZQ%3D%3D?line=1'>2</a>\u001b[0m bed_df\u001b[39m.\u001b[39mcolumns\u001b[39m.\u001b[39mvalues[\u001b[39m4\u001b[39m] \u001b[39m=\u001b[39m \u001b[39m\"\u001b[39m\u001b[39mAnnotation\u001b[39m\u001b[39m\"\u001b[39m\n\u001b[1;32m      <a href='vscode-notebook-cell://ssh-remote%2Bcitra/home/amber/multitask_RNA/data_generation/pre-train/no_context_pretrain.ipynb#X13sdnNjb2RlLXJlbW90ZQ%3D%3D?line=2'>3</a>\u001b[0m unique_label \u001b[39m=\u001b[39m final_df\u001b[39m.\u001b[39mgroupby([\u001b[39m0\u001b[39m,\u001b[39m1\u001b[39m,\u001b[39m2\u001b[39m,\u001b[39m3\u001b[39m,\u001b[39m5\u001b[39m])[\u001b[39m9\u001b[39m]\u001b[39m.\u001b[39munique()\n\u001b[1;32m      <a href='vscode-notebook-cell://ssh-remote%2Bcitra/home/amber/multitask_RNA/data_generation/pre-train/no_context_pretrain.ipynb#X13sdnNjb2RlLXJlbW90ZQ%3D%3D?line=3'>4</a>\u001b[0m test \u001b[39m=\u001b[39m unique_label\u001b[39m.\u001b[39mvalues\n",
      "\u001b[0;31mNameError\u001b[0m: name 'bed_df' is not defined"
     ]
    }
   ],
   "source": [
    "final_df = pd.read_csv('../../data/pre-train/510_6/label.bed',sep = '\\t',header = None,index_col = None)\n",
    "bed_df.columns.values[4] = \"Annotation\"\n",
    "unique_label = final_df.groupby([0,1,2,3,5])[9].unique()\n",
    "test = unique_label.values\n",
    "for i in range(len(test)):\n",
    "    label_str = ','.join(test[i])\n",
    "    test[i] = label_str\n",
    "bed_df['Annotation'] = test"
   ]
  },
  {
   "cell_type": "code",
   "execution_count": 10,
   "metadata": {},
   "outputs": [],
   "source": [
    "bed_df.to_csv('/home/amber/multitask_RNA/data/pre-train/510_6/rna_selection.bed',\n",
    "                index=False,header=False,sep='\\t')"
   ]
  },
  {
   "cell_type": "code",
   "execution_count": null,
   "metadata": {},
   "outputs": [],
   "source": [
    "! bedtools sort -i ./rna_selection.bed > rna_selection.sorted.bed\n",
    "! bedtools getfasta -fi /home/amber/ref/hg38/hg38.fa -bed ./rna_selection.sorted.bed > rna_seq.fa"
   ]
  },
  {
   "cell_type": "code",
   "execution_count": 11,
   "metadata": {},
   "outputs": [],
   "source": [
    "file = open('/home/amber/multitask_RNA/data/pre-train/510_6/rna_seq.fa')\n",
    "fa_lines = file.readlines()\n",
    "empty_index = []\n",
    "empty_region = []\n",
    "for i in range(0,len(fa_lines)):\n",
    "    line = fa_lines[i]\n",
    "    if line[0] =='>':\n",
    "        continue\n",
    "    elif line.strip().upper().count('N') >= 0.5*len(line.strip()):\n",
    "        empty_index.append(int((i-1)/2))\n",
    "        empty_region.append(fa_lines[i-1])\n",
    "   "
   ]
  },
  {
   "cell_type": "code",
   "execution_count": 12,
   "metadata": {},
   "outputs": [
    {
     "data": {
      "text/plain": [
       "323"
      ]
     },
     "execution_count": 12,
     "metadata": {},
     "output_type": "execute_result"
    }
   ],
   "source": [
    "len(empty_index)"
   ]
  },
  {
   "cell_type": "code",
   "execution_count": 13,
   "metadata": {},
   "outputs": [],
   "source": [
    "bed_df = pd.read_csv('../../data/pre-train/510_6/rna_selection.sorted.bed',\n",
    "                    sep = '\\t',header = None,index_col = None,\n",
    "                    names=['Chr','Start','End','Gene','Annot','Strand'])\n",
    "bed_df = bed_df.drop(empty_index)\n",
    "bed_df.to_csv('/home/amber/multitask_RNA/data/pre-train/510_6/rna_selection.sorted.bed',\n",
    "                index=False,header=False,sep='\\t')"
   ]
  },
  {
   "cell_type": "code",
   "execution_count": null,
   "metadata": {},
   "outputs": [],
   "source": [
    "! bedtools getfasta -fi /home/amber/ref/hg38/hg38.fa -bed ./rna_selection.sorted.bed > rna_seq.fa"
   ]
  },
  {
   "cell_type": "code",
   "execution_count": 14,
   "metadata": {},
   "outputs": [
    {
     "name": "stderr",
     "output_type": "stream",
     "text": [
      "100%|██████████| 671810/671810 [00:02<00:00, 326691.78it/s]\n"
     ]
    }
   ],
   "source": [
    "fasta = open('/home/amber/multitask_RNA/data/pre-train/510_6/rna_seq.fa', 'r')\n",
    "lines = fasta.readlines()\n",
    "seq = []\n",
    "# Strips the newline character\n",
    "for line in tqdm(lines[1::2]):\n",
    "    if line[0] == '>':\n",
    "        print('error in line count')\n",
    "        break\n",
    "    else:\n",
    "        seq.append(line.strip().upper())\n"
   ]
  },
  {
   "cell_type": "code",
   "execution_count": 15,
   "metadata": {},
   "outputs": [],
   "source": [
    "bed_df = pd.read_csv('../../data/pre-train/510_6/rna_selection.sorted.bed',\n",
    "                    sep = '\\t',header = None,index_col = None)"
   ]
  },
  {
   "cell_type": "code",
   "execution_count": 16,
   "metadata": {},
   "outputs": [],
   "source": [
    "labels=bed_df[4]\n",
    "selected_id = []\n",
    "intron_id = []\n",
    "for i in range(len(labels)):\n",
    "    label = labels[i].split(',')\n",
    "    if (len(label) > 1) or ('UTR' in label) or ('exon' in label):\n",
    "        selected_id.append(i)\n",
    "    else:\n",
    "        intron_id.append(i)\n",
    "        "
   ]
  },
  {
   "cell_type": "code",
   "execution_count": 17,
   "metadata": {},
   "outputs": [
    {
     "name": "stdout",
     "output_type": "stream",
     "text": [
      "224495\n",
      "447315\n"
     ]
    }
   ],
   "source": [
    "print(len(selected_id))\n",
    "print(len(intron_id))"
   ]
  },
  {
   "cell_type": "code",
   "execution_count": 18,
   "metadata": {},
   "outputs": [],
   "source": [
    "random.shuffle(seq)\n",
    "data_length = len(seq)\n",
    "train_data = seq[:int(data_length*0.9)]\n",
    "valid_data = seq[int(data_length*0.9):]"
   ]
  },
  {
   "cell_type": "code",
   "execution_count": 19,
   "metadata": {},
   "outputs": [],
   "source": [
    "file_name = '/home/amber/multitask_RNA/data/pre-train/510_6/rna_seq.h5'\n",
    "h5f = h5py.File(file_name, 'w')\n",
    "h5f.create_dataset('train',data = train_data)\n",
    "h5f.create_dataset('valid',data = valid_data)\n",
    "h5f.close()"
   ]
  },
  {
   "cell_type": "code",
   "execution_count": null,
   "metadata": {},
   "outputs": [],
   "source": []
  },
  {
   "cell_type": "code",
   "execution_count": null,
   "metadata": {},
   "outputs": [],
   "source": []
  },
  {
   "cell_type": "markdown",
   "metadata": {},
   "source": [
    "##  Double check"
   ]
  },
  {
   "cell_type": "code",
   "execution_count": 1,
   "metadata": {},
   "outputs": [],
   "source": [
    "import h5py"
   ]
  },
  {
   "cell_type": "code",
   "execution_count": 3,
   "metadata": {},
   "outputs": [],
   "source": [
    "dataset = h5py.File('../../data/pre-train/510_6/rna_seq.h5','r')"
   ]
  },
  {
   "cell_type": "code",
   "execution_count": 6,
   "metadata": {},
   "outputs": [],
   "source": [
    "train_seq = dataset['train']\n",
    "valid_seq = dataset['valid']"
   ]
  },
  {
   "cell_type": "code",
   "execution_count": 10,
   "metadata": {},
   "outputs": [],
   "source": [
    "for seq in valid_seq:\n",
    "    seq = seq.decode()\n",
    "    if seq.upper() == 'N'*len(seq):\n",
    "        print(seq) \n",
    "    break"
   ]
  },
  {
   "cell_type": "code",
   "execution_count": null,
   "metadata": {},
   "outputs": [],
   "source": []
  }
 ],
 "metadata": {
  "kernelspec": {
   "display_name": "Python 3.8.10 ('tf_2': venv)",
   "language": "python",
   "name": "python3"
  },
  "language_info": {
   "codemirror_mode": {
    "name": "ipython",
    "version": 3
   },
   "file_extension": ".py",
   "mimetype": "text/x-python",
   "name": "python",
   "nbconvert_exporter": "python",
   "pygments_lexer": "ipython3",
   "version": "3.8.10"
  },
  "orig_nbformat": 4,
  "vscode": {
   "interpreter": {
    "hash": "9e8284e1417b754e460c2bde3a4a4837c482fa82ceb7d52f4acbe340dd4b4559"
   }
  }
 },
 "nbformat": 4,
 "nbformat_minor": 2
}
