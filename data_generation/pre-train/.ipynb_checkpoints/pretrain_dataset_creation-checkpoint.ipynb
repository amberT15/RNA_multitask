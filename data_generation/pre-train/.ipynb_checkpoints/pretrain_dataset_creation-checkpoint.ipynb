{
 "cells": [
  {
   "cell_type": "markdown",
   "id": "3e974555",
   "metadata": {},
   "source": [
    "## Data generation code (overlapping kmer)"
   ]
  },
  {
   "cell_type": "code",
   "execution_count": 40,
   "id": "56d638f0",
   "metadata": {},
   "outputs": [],
   "source": [
    "import pandas as pd\n",
    "import numpy as np\n",
    "import math\n",
    "import random\n",
    "from tqdm import tqdm\n",
    "import h5py\n",
    "length = 510"
   ]
  },
  {
   "cell_type": "code",
   "execution_count": 2,
   "id": "97e08670",
   "metadata": {},
   "outputs": [],
   "source": [
    "annot_df = pd.read_csv('../../data/annotation/cannonical_annotation.csv',sep = '\\t',header = 0,index_col = 0)\n",
    "transcript_df = pd.read_csv('../../data/annotation/annot_label.csv',sep = '\\t',header = 0)\n",
    "transcript_df['length'] = np.absolute(transcript_df['Start']-transcript_df['End'])\n",
    "annot_df = annot_df[annot_df['Annotation'].isin(['exon','UTR',])]\n",
    "annot_df['GeneID']=pd.Categorical(annot_df['GeneID'],transcript_df['Gene'])\n",
    "annot_df = annot_df.sort_values(by=['Chrom','GeneID','Start']).reset_index()"
   ]
  },
  {
   "cell_type": "code",
   "execution_count": 3,
   "id": "133a6a89",
   "metadata": {},
   "outputs": [],
   "source": [
    "chrom = []\n",
    "strand = []\n",
    "start_l = []\n",
    "end_l = []\n",
    "gene = []\n",
    "for index,row in transcript_df.iterrows():\n",
    "    start = row['Start']\n",
    "    end = row['End']\n",
    "    split = [(round(length*i)+start, round(length*(i+1))+start) for i in range(int(math.ceil((end-start)/length)))]\n",
    "    for entry in split:\n",
    "        chrom.append(row['Chr'])\n",
    "        strand.append(row['Strand'])\n",
    "        start_l.append(entry[0])\n",
    "        end_l.append(entry[1])\n",
    "        gene.append(row['Gene'])\n",
    "    "
   ]
  },
  {
   "cell_type": "code",
   "execution_count": 4,
   "id": "9bf1f0b6",
   "metadata": {},
   "outputs": [
    {
     "data": {
      "text/plain": [
       "3834691"
      ]
     },
     "execution_count": 4,
     "metadata": {},
     "output_type": "execute_result"
    }
   ],
   "source": [
    "bed_df = pd.DataFrame({'Chr':chrom,'Start':start_l,'End':end_l,'Strand':strand,'Gene':gene})\n",
    "bed_df['Gene']=pd.Categorical(bed_df['Gene'],transcript_df['Gene'])\n",
    "bed_df = bed_df.sort_values(by=['Chr','Gene','Start'])\n",
    "len(bed_df)"
   ]
  },
  {
   "cell_type": "code",
   "execution_count": 5,
   "id": "3c23a1b9",
   "metadata": {},
   "outputs": [
    {
     "data": {
      "text/plain": [
       "3834633"
      ]
     },
     "execution_count": 5,
     "metadata": {},
     "output_type": "execute_result"
    }
   ],
   "source": [
    "bed_df = bed_df.drop(bed_df[bed_df['Chr']=='chrM'].index)\n",
    "len(bed_df)"
   ]
  },
  {
   "cell_type": "code",
   "execution_count": 6,
   "id": "e7bf3561",
   "metadata": {},
   "outputs": [],
   "source": [
    "transcript_df.to_csv('/home/amber/multitask_RNA/data/pre-train/510/transcript.bed',\n",
    "                index=False,header=False,sep='\\t',columns=['Chr','Start','End','Gene','length','Strand'])"
   ]
  },
  {
   "cell_type": "code",
   "execution_count": 7,
   "id": "dfb94e38",
   "metadata": {},
   "outputs": [],
   "source": [
    "bed_df = bed_df[['Chr','Start','End','Gene','Gene','Strand']]\n",
    "bed_df.to_csv('/home/amber/multitask_RNA/data/pre-train/510/rna_selection.bed',\n",
    "                index=False,header=False,sep = '\\t')\n",
    "annot_df = annot_df[['Chrom','Start','End','Annotation','GeneID','Strand']]\n",
    "annot_df.to_csv('/home/amber/multitask_RNA/data/pre-train/510/annot.bed',\n",
    "                index=False,header=False,sep='\\t')"
   ]
  },
  {
   "cell_type": "code",
   "execution_count": null,
   "id": "8358d85d",
   "metadata": {},
   "outputs": [],
   "source": [
    "! bedtools subtract -s -a transcript.bed -b annot.bed > intron.bed"
   ]
  },
  {
   "cell_type": "code",
   "execution_count": 8,
   "id": "181ffd3e",
   "metadata": {},
   "outputs": [],
   "source": [
    "intron_df = pd.read_csv('../../data/pre-train/510/intron.bed',sep = '\\t',header = None,\n",
    "                        names = ['Chrom','Start','End','Annotation','GeneID','Strand'],index_col = None)\n",
    "intron_df['GeneID'] = intron_df['Annotation']\n",
    "intron_df['Annotation']='intron'\n",
    "all_annot_df = pd.concat([intron_df,annot_df])\n",
    "all_annot_df.to_csv('/home/amber/multitask_RNA/data/pre-train/510/annot.bed',\n",
    "                index=False,header=False,sep='\\t')"
   ]
  },
  {
   "cell_type": "code",
   "execution_count": null,
   "id": "d1e7e97f",
   "metadata": {},
   "outputs": [],
   "source": [
    "! bedtools sort -i annot.bed > annot.sorted.bed\n",
    "! bedtools intersect -s -a ./rna_selection.bed -b ./annot.bed  -wa -wb > label.bed"
   ]
  },
  {
   "cell_type": "code",
   "execution_count": 17,
   "id": "854b2af7",
   "metadata": {},
   "outputs": [],
   "source": [
    "final_df = pd.read_csv('../../data/pre-train/510/label.bed',sep = '\\t',header = None,index_col = None)\n",
    "bed_df.columns.values[4] = \"Annotation\"\n",
    "unique_label = final_df.groupby([0,1,2,3,5])[9].unique()\n",
    "test = unique_label.values\n",
    "for i in range(len(test)):\n",
    "    label_str = ','.join(test[i])\n",
    "    test[i] = label_str\n",
    "bed_df['Annotation'] = test"
   ]
  },
  {
   "cell_type": "code",
   "execution_count": 18,
   "id": "bc7c7320",
   "metadata": {},
   "outputs": [],
   "source": [
    "bed_df.to_csv('/home/amber/multitask_RNA/data/pre-train/510/rna_selection.bed',\n",
    "                index=False,header=False,sep='\\t')"
   ]
  },
  {
   "cell_type": "markdown",
   "id": "22424aa3",
   "metadata": {},
   "source": [
    "## Empty sequence throw out"
   ]
  },
  {
   "cell_type": "code",
   "execution_count": null,
   "id": "5cdb7f95",
   "metadata": {},
   "outputs": [],
   "source": [
    "! bedtools sort -i ./rna_selection.bed > rna_selection.sorted.bed\n",
    "! bedtools getfasta -fi /home/amber/ref/hg38/hg38.fa -bed ./rna_selection.sorted.bed > rna_seq.fa"
   ]
  },
  {
   "cell_type": "code",
   "execution_count": 19,
   "id": "cc5c4382",
   "metadata": {},
   "outputs": [],
   "source": [
    "file = open('/home/amber/multitask_RNA/data/pre-train/510/rna_seq.fa')\n",
    "fa_lines = file.readlines()\n",
    "empty_index = []\n",
    "empty_region = []\n",
    "for i in range(0,len(fa_lines)):\n",
    "    line = fa_lines[i]\n",
    "    if line[0] =='>':\n",
    "        continue\n",
    "    elif line.strip().upper().count('N') >= 0.5*len(line.strip()):\n",
    "        empty_index.append(int((i-1)/2))\n",
    "        empty_region.append(fa_lines[i-1])\n",
    "   "
   ]
  },
  {
   "cell_type": "code",
   "execution_count": 20,
   "id": "595a023b",
   "metadata": {},
   "outputs": [
    {
     "data": {
      "text/plain": [
       "1907"
      ]
     },
     "execution_count": 20,
     "metadata": {},
     "output_type": "execute_result"
    }
   ],
   "source": [
    "len(empty_index)"
   ]
  },
  {
   "cell_type": "code",
   "execution_count": 21,
   "id": "508b79ff",
   "metadata": {},
   "outputs": [],
   "source": [
    "bed_df = pd.read_csv('../../data/pre-train/510/rna_selection.sorted.bed',\n",
    "                    sep = '\\t',header = None,index_col = None,\n",
    "                    names=['Chr','Start','End','Gene','Annot','Strand'])\n",
    "bed_df = bed_df.drop(empty_index)\n",
    "bed_df.to_csv('/home/amber/multitask_RNA/data/pre-train/510/rna_selection.sorted.bed',\n",
    "                index=False,header=False,sep='\\t')"
   ]
  },
  {
   "cell_type": "code",
   "execution_count": null,
   "id": "47a6f418",
   "metadata": {},
   "outputs": [],
   "source": [
    "! bedtools getfasta -fi /home/amber/ref/hg38/hg38.fa -bed ./rna_selection.sorted.bed > rna_seq.fa"
   ]
  },
  {
   "cell_type": "markdown",
   "id": "0816fe4c",
   "metadata": {},
   "source": [
    "## Subsample sequence for balance class"
   ]
  },
  {
   "cell_type": "code",
   "execution_count": 22,
   "id": "ed548a36",
   "metadata": {},
   "outputs": [],
   "source": [
    "bed_df = pd.read_csv('../../data/pre-train/510/rna_selection.sorted.bed',\n",
    "                    sep = '\\t',header = None,index_col = None)"
   ]
  },
  {
   "cell_type": "code",
   "execution_count": 23,
   "id": "b3b2bda4",
   "metadata": {},
   "outputs": [],
   "source": [
    "labels=bed_df[4]\n",
    "selected_id = []\n",
    "intron_id = []\n",
    "for i in range(len(labels)):\n",
    "    label = labels[i].split(',')\n",
    "    if (len(label) > 1) or ('UTR' in label) or ('exon' in label):\n",
    "        selected_id.append(i)\n",
    "    else:\n",
    "        intron_id.append(i)\n",
    "        "
   ]
  },
  {
   "cell_type": "code",
   "execution_count": 25,
   "id": "bbc2b282",
   "metadata": {},
   "outputs": [
    {
     "name": "stdout",
     "output_type": "stream",
     "text": [
      "479938\n",
      "3352788\n",
      "719907\n"
     ]
    }
   ],
   "source": [
    "print(len(selected_id))\n",
    "print(len(intron_id))\n",
    "sub_size = int(0.5*len(selected_id))\n",
    "selected_id.extend(random.choices(intron_id,k=sub_size))\n",
    "print(len(selected_id))"
   ]
  },
  {
   "cell_type": "code",
   "execution_count": 34,
   "id": "decd7523",
   "metadata": {},
   "outputs": [
    {
     "name": "stderr",
     "output_type": "stream",
     "text": [
      "100%|██████████| 3832726/3832726 [00:02<00:00, 1352633.41it/s]\n"
     ]
    }
   ],
   "source": [
    "fasta = open('../../data/pre-train/'+str(length)+'/rna_seq.fa', 'r')\n",
    "lines = fasta.readlines()\n",
    "seq = []\n",
    "# Strips the newline character\n",
    "for line in tqdm(lines[1::2]):\n",
    "    if line[0] == '>':\n",
    "        print('error in line count')\n",
    "        break\n",
    "    else:\n",
    "        seq.append(line.strip().upper())"
   ]
  },
  {
   "cell_type": "code",
   "execution_count": 38,
   "id": "fb8bf3fd",
   "metadata": {},
   "outputs": [
    {
     "name": "stdout",
     "output_type": "stream",
     "text": [
      "719907\n"
     ]
    }
   ],
   "source": [
    "selected_seq = [seq[i] for i in selected_id]\n",
    "data_length = len(selected_seq)\n",
    "print(data_length)"
   ]
  },
  {
   "cell_type": "code",
   "execution_count": 39,
   "id": "b9c78e34",
   "metadata": {},
   "outputs": [],
   "source": [
    "random.shuffle(selected_seq)\n",
    "train_data = selected_seq[:int(data_length*0.9)]\n",
    "valid_data = selected_seq[int(data_length*0.9):]"
   ]
  },
  {
   "cell_type": "code",
   "execution_count": 41,
   "id": "9f11a3e5",
   "metadata": {},
   "outputs": [],
   "source": [
    "file_name = '../../data/pre-train/'+str(length)+'/rna_seq.h5'\n",
    "h5f = h5py.File(file_name, 'w')\n",
    "h5f.create_dataset('train',data = train_data)\n",
    "h5f.create_dataset('valid',data = valid_data)\n",
    "h5f.close()"
   ]
  },
  {
   "cell_type": "code",
   "execution_count": null,
   "id": "f1f0491a",
   "metadata": {},
   "outputs": [],
   "source": []
  }
 ],
 "metadata": {
  "kernelspec": {
   "display_name": "Python 3 (ipykernel)",
   "language": "python",
   "name": "python3"
  },
  "language_info": {
   "codemirror_mode": {
    "name": "ipython",
    "version": 3
   },
   "file_extension": ".py",
   "mimetype": "text/x-python",
   "name": "python",
   "nbconvert_exporter": "python",
   "pygments_lexer": "ipython3",
   "version": "3.8.10"
  },
  "vscode": {
   "interpreter": {
    "hash": "9e8284e1417b754e460c2bde3a4a4837c482fa82ceb7d52f4acbe340dd4b4559"
   }
  }
 },
 "nbformat": 4,
 "nbformat_minor": 5
}
