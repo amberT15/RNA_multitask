{
 "cells": [
  {
   "cell_type": "markdown",
   "id": "95a7fe9d",
   "metadata": {},
   "source": [
    "# Selecting canonical transcript per gene (both coding and non-coding)"
   ]
  },
  {
   "cell_type": "code",
   "execution_count": 1,
   "id": "99208f39",
   "metadata": {},
   "outputs": [],
   "source": [
    "import pandas as pd\n",
    "import numpy as np\n",
    "from tqdm import tqdm\n",
    "import glob\n",
    "import math\n",
    "import os\n",
    "import util\n",
    "import random\n",
    "import h5py\n",
    "import subprocess \n",
    "\n",
    "seq_length = 3072\n",
    "species = 'human'\n",
    "data_dir = '/home/amber/multitask_RNA/data/species/' + species\n",
    "annotation_file = glob.glob(data_dir + '/*.gtf')[0]\n",
    "reference_genome = glob.glob(data_dir + '/*.fa')[0]\n",
    "output_fa = data_dir+'/selected_seq.fa'\n",
    "bed_file = data_dir+'/selected_seq.bed'\n",
    "h5_file = data_dir+'/'+str(seq_length)+'_onehot.h5'"
   ]
  },
  {
   "cell_type": "code",
   "execution_count": 2,
   "id": "d3889fe9",
   "metadata": {},
   "outputs": [
    {
     "name": "stderr",
     "output_type": "stream",
     "text": [
      "/tmp/ipykernel_1769549/3274229866.py:3: FutureWarning: In a future version of pandas all arguments of DataFrame.drop except for the argument 'labels' will be keyword-only.\n",
      "  annotation_df = annotation_df.drop('Phase', 1)\n",
      "/tmp/ipykernel_1769549/3274229866.py:4: FutureWarning: In a future version of pandas all arguments of DataFrame.drop except for the argument 'labels' will be keyword-only.\n",
      "  annotation_df = annotation_df.drop('Score', 1)\n"
     ]
    }
   ],
   "source": [
    "colnames=['Chrom', 'Database', 'Annotation', 'Start','End','Score','Strand','Phase','Notes'] \n",
    "annotation_df = pd.read_csv(annotation_file,sep='\\t',skiprows=5,names=colnames,header=None)\n",
    "annotation_df = annotation_df.drop('Phase', 1)\n",
    "annotation_df = annotation_df.drop('Score', 1)\n",
    "annotation_df['GeneID'] = annotation_df['Notes'].apply(lambda x: x.split('\"')[1])\n",
    "annotation_df['TranscriptID'] = annotation_df['Notes'].apply(lambda x : x.split('\"')[3])"
   ]
  },
  {
   "cell_type": "code",
   "execution_count": 3,
   "id": "e08ed098",
   "metadata": {},
   "outputs": [],
   "source": [
    "trans_id_list = []\n",
    "gene_list = annotation_df['GeneID'].unique()\n",
    "all_transcript_df = annotation_df[annotation_df['Annotation'] == 'transcript']"
   ]
  },
  {
   "cell_type": "code",
   "execution_count": 4,
   "id": "9ab26617",
   "metadata": {},
   "outputs": [
    {
     "data": {
      "text/html": [
       "<div>\n",
       "<style scoped>\n",
       "    .dataframe tbody tr th:only-of-type {\n",
       "        vertical-align: middle;\n",
       "    }\n",
       "\n",
       "    .dataframe tbody tr th {\n",
       "        vertical-align: top;\n",
       "    }\n",
       "\n",
       "    .dataframe thead th {\n",
       "        text-align: right;\n",
       "    }\n",
       "</style>\n",
       "<table border=\"1\" class=\"dataframe\">\n",
       "  <thead>\n",
       "    <tr style=\"text-align: right;\">\n",
       "      <th></th>\n",
       "      <th>Chrom</th>\n",
       "      <th>Database</th>\n",
       "      <th>Annotation</th>\n",
       "      <th>Start</th>\n",
       "      <th>End</th>\n",
       "      <th>Strand</th>\n",
       "      <th>Notes</th>\n",
       "      <th>GeneID</th>\n",
       "      <th>TranscriptID</th>\n",
       "    </tr>\n",
       "  </thead>\n",
       "  <tbody>\n",
       "    <tr>\n",
       "      <th>1</th>\n",
       "      <td>V</td>\n",
       "      <td>WormBase</td>\n",
       "      <td>transcript</td>\n",
       "      <td>9244402</td>\n",
       "      <td>9246360</td>\n",
       "      <td>-</td>\n",
       "      <td>gene_id \"WBGene00000003\"; transcript_id \"F07C3...</td>\n",
       "      <td>WBGene00000003</td>\n",
       "      <td>F07C3.7.1</td>\n",
       "    </tr>\n",
       "    <tr>\n",
       "      <th>15</th>\n",
       "      <td>V</td>\n",
       "      <td>WormBase</td>\n",
       "      <td>transcript</td>\n",
       "      <td>11466842</td>\n",
       "      <td>11470663</td>\n",
       "      <td>-</td>\n",
       "      <td>gene_id \"WBGene00000007\"; transcript_id \"T11F9...</td>\n",
       "      <td>WBGene00000007</td>\n",
       "      <td>T11F9.4a.1</td>\n",
       "    </tr>\n",
       "    <tr>\n",
       "      <th>36</th>\n",
       "      <td>V</td>\n",
       "      <td>WormBase</td>\n",
       "      <td>transcript</td>\n",
       "      <td>11466970</td>\n",
       "      <td>11469164</td>\n",
       "      <td>-</td>\n",
       "      <td>gene_id \"WBGene00000007\"; transcript_id \"T11F9...</td>\n",
       "      <td>WBGene00000007</td>\n",
       "      <td>T11F9.4b.1</td>\n",
       "    </tr>\n",
       "    <tr>\n",
       "      <th>54</th>\n",
       "      <td>V</td>\n",
       "      <td>WormBase</td>\n",
       "      <td>transcript</td>\n",
       "      <td>15817410</td>\n",
       "      <td>15817846</td>\n",
       "      <td>-</td>\n",
       "      <td>gene_id \"WBGene00000014\"; transcript_id \"F54B8...</td>\n",
       "      <td>WBGene00000014</td>\n",
       "      <td>F54B8.5.1</td>\n",
       "    </tr>\n",
       "    <tr>\n",
       "      <th>62</th>\n",
       "      <td>V</td>\n",
       "      <td>WormBase</td>\n",
       "      <td>transcript</td>\n",
       "      <td>20557876</td>\n",
       "      <td>20558370</td>\n",
       "      <td>-</td>\n",
       "      <td>gene_id \"WBGene00000015\"; transcript_id \"Y38H6...</td>\n",
       "      <td>WBGene00000015</td>\n",
       "      <td>Y38H6C.22.1</td>\n",
       "    </tr>\n",
       "    <tr>\n",
       "      <th>...</th>\n",
       "      <td>...</td>\n",
       "      <td>...</td>\n",
       "      <td>...</td>\n",
       "      <td>...</td>\n",
       "      <td>...</td>\n",
       "      <td>...</td>\n",
       "      <td>...</td>\n",
       "      <td>...</td>\n",
       "      <td>...</td>\n",
       "    </tr>\n",
       "    <tr>\n",
       "      <th>703277</th>\n",
       "      <td>MtDNA</td>\n",
       "      <td>WormBase</td>\n",
       "      <td>transcript</td>\n",
       "      <td>9538</td>\n",
       "      <td>9591</td>\n",
       "      <td>+</td>\n",
       "      <td>gene_id \"WBGene00014469\"; transcript_id \"MTCE....</td>\n",
       "      <td>WBGene00014469</td>\n",
       "      <td>MTCE.29</td>\n",
       "    </tr>\n",
       "    <tr>\n",
       "      <th>703280</th>\n",
       "      <td>MtDNA</td>\n",
       "      <td>WormBase</td>\n",
       "      <td>transcript</td>\n",
       "      <td>9593</td>\n",
       "      <td>9647</td>\n",
       "      <td>+</td>\n",
       "      <td>gene_id \"WBGene00014470\"; transcript_id \"MTCE....</td>\n",
       "      <td>WBGene00014470</td>\n",
       "      <td>MTCE.30</td>\n",
       "    </tr>\n",
       "    <tr>\n",
       "      <th>703283</th>\n",
       "      <td>MtDNA</td>\n",
       "      <td>WormBase</td>\n",
       "      <td>transcript</td>\n",
       "      <td>10348</td>\n",
       "      <td>10401</td>\n",
       "      <td>+</td>\n",
       "      <td>gene_id \"WBGene00014471\"; transcript_id \"MTCE....</td>\n",
       "      <td>WBGene00014471</td>\n",
       "      <td>MTCE.32</td>\n",
       "    </tr>\n",
       "    <tr>\n",
       "      <th>703286</th>\n",
       "      <td>MtDNA</td>\n",
       "      <td>WormBase</td>\n",
       "      <td>transcript</td>\n",
       "      <td>10403</td>\n",
       "      <td>11354</td>\n",
       "      <td>+</td>\n",
       "      <td>gene_id \"WBGene00014472\"; transcript_id \"MTCE....</td>\n",
       "      <td>WBGene00014472</td>\n",
       "      <td>MTCE.33</td>\n",
       "    </tr>\n",
       "    <tr>\n",
       "      <th>703289</th>\n",
       "      <td>MtDNA</td>\n",
       "      <td>WormBase</td>\n",
       "      <td>transcript</td>\n",
       "      <td>13275</td>\n",
       "      <td>13327</td>\n",
       "      <td>+</td>\n",
       "      <td>gene_id \"WBGene00014473\"; transcript_id \"MTCE....</td>\n",
       "      <td>WBGene00014473</td>\n",
       "      <td>MTCE.36</td>\n",
       "    </tr>\n",
       "  </tbody>\n",
       "</table>\n",
       "<p>60000 rows × 9 columns</p>\n",
       "</div>"
      ],
      "text/plain": [
       "        Chrom  Database  Annotation     Start       End Strand  \\\n",
       "1           V  WormBase  transcript   9244402   9246360      -   \n",
       "15          V  WormBase  transcript  11466842  11470663      -   \n",
       "36          V  WormBase  transcript  11466970  11469164      -   \n",
       "54          V  WormBase  transcript  15817410  15817846      -   \n",
       "62          V  WormBase  transcript  20557876  20558370      -   \n",
       "...       ...       ...         ...       ...       ...    ...   \n",
       "703277  MtDNA  WormBase  transcript      9538      9591      +   \n",
       "703280  MtDNA  WormBase  transcript      9593      9647      +   \n",
       "703283  MtDNA  WormBase  transcript     10348     10401      +   \n",
       "703286  MtDNA  WormBase  transcript     10403     11354      +   \n",
       "703289  MtDNA  WormBase  transcript     13275     13327      +   \n",
       "\n",
       "                                                    Notes          GeneID  \\\n",
       "1       gene_id \"WBGene00000003\"; transcript_id \"F07C3...  WBGene00000003   \n",
       "15      gene_id \"WBGene00000007\"; transcript_id \"T11F9...  WBGene00000007   \n",
       "36      gene_id \"WBGene00000007\"; transcript_id \"T11F9...  WBGene00000007   \n",
       "54      gene_id \"WBGene00000014\"; transcript_id \"F54B8...  WBGene00000014   \n",
       "62      gene_id \"WBGene00000015\"; transcript_id \"Y38H6...  WBGene00000015   \n",
       "...                                                   ...             ...   \n",
       "703277  gene_id \"WBGene00014469\"; transcript_id \"MTCE....  WBGene00014469   \n",
       "703280  gene_id \"WBGene00014470\"; transcript_id \"MTCE....  WBGene00014470   \n",
       "703283  gene_id \"WBGene00014471\"; transcript_id \"MTCE....  WBGene00014471   \n",
       "703286  gene_id \"WBGene00014472\"; transcript_id \"MTCE....  WBGene00014472   \n",
       "703289  gene_id \"WBGene00014473\"; transcript_id \"MTCE....  WBGene00014473   \n",
       "\n",
       "       TranscriptID  \n",
       "1         F07C3.7.1  \n",
       "15       T11F9.4a.1  \n",
       "36       T11F9.4b.1  \n",
       "54        F54B8.5.1  \n",
       "62      Y38H6C.22.1  \n",
       "...             ...  \n",
       "703277      MTCE.29  \n",
       "703280      MTCE.30  \n",
       "703283      MTCE.32  \n",
       "703286      MTCE.33  \n",
       "703289      MTCE.36  \n",
       "\n",
       "[60000 rows x 9 columns]"
      ]
     },
     "execution_count": 4,
     "metadata": {},
     "output_type": "execute_result"
    }
   ],
   "source": [
    "all_transcript_df"
   ]
  },
  {
   "cell_type": "code",
   "execution_count": null,
   "id": "10436f90",
   "metadata": {},
   "outputs": [
    {
     "name": "stderr",
     "output_type": "stream",
     "text": [
      " 84%|███████████████████████████████████████████████████████████████            | 39457/46926 [03:22<00:40, 185.21it/s]"
     ]
    }
   ],
   "source": [
    "for gene in tqdm(gene_list,total=len(gene_list)):\n",
    "    transcript_df = all_transcript_df[all_transcript_df['GeneID']==gene]\n",
    "    trans_length = np.absolute(transcript_df['End'] - transcript_df['Start'])\n",
    "    max_trans_index = np.argmax(trans_length)\n",
    "    max_trans = transcript_df.iloc[max_trans_index]\n",
    "    max_id = max_trans['Notes'].split('\"')[3]\n",
    "    trans_id_list.append(max_id)"
   ]
  },
  {
   "cell_type": "code",
   "execution_count": null,
   "id": "fa8e5aa5",
   "metadata": {},
   "outputs": [],
   "source": [
    "transcript_flag = (all_transcript_df['TranscriptID'].isin(trans_id_list))\n",
    "cannonical_df = all_transcript_df[transcript_flag]"
   ]
  },
  {
   "cell_type": "code",
   "execution_count": null,
   "id": "9748df8d",
   "metadata": {},
   "outputs": [],
   "source": [
    "cannonical_df.to_csv(data_dir + '/cannonical_transcript.csv',sep='\\t',\n",
    "                     columns=['Chrom', 'Database', 'Annotation', 'Start','End','Strand','GeneID','TranscriptID'])"
   ]
  },
  {
   "cell_type": "code",
   "execution_count": null,
   "id": "861592db",
   "metadata": {},
   "outputs": [],
   "source": [
    "cannonical_df"
   ]
  },
  {
   "cell_type": "markdown",
   "id": "1c924a08",
   "metadata": {},
   "source": [
    "# Spliting each transcript into required sequence length\n",
    "\n",
    "Reaching out of transcript range when lenght can't be fully divided to keep as much information as possible"
   ]
  },
  {
   "cell_type": "code",
   "execution_count": 2,
   "id": "81cdfd43",
   "metadata": {},
   "outputs": [],
   "source": [
    "cannonical_df = pd.read_csv(data_dir + '/cannonical_transcript.csv',sep='\\t',index_col = 0)"
   ]
  },
  {
   "cell_type": "code",
   "execution_count": 8,
   "id": "d00e831e",
   "metadata": {},
   "outputs": [
    {
     "name": "stderr",
     "output_type": "stream",
     "text": [
      "1it [00:00, 88.92it/s]"
     ]
    },
    {
     "name": "stdout",
     "output_type": "stream",
     "text": [
      "Chrom                        chr1\n",
      "Database                   HAVANA\n",
      "Annotation             transcript\n",
      "Start                       14404\n",
      "End                         29570\n",
      "Strand                          -\n",
      "GeneID          ENSG00000227232.5\n",
      "TranscriptID    ENST00000488147.1\n",
      "Name: 13, dtype: object\n"
     ]
    },
    {
     "name": "stderr",
     "output_type": "stream",
     "text": [
      "\n"
     ]
    }
   ],
   "source": [
    "chrom = []\n",
    "strand = []\n",
    "start_l = []\n",
    "end_l = []\n",
    "gene = []\n",
    "for index,row in tqdm(cannonical_df.iterrows()):\n",
    "    start = row['Start']\n",
    "    end = row['End']\n",
    "    length = end - start\n",
    "    \n",
    "    split_count = int(math.ceil((end-start)/length))\n",
    "    total_length = split_count * seq_length\n",
    "    pad_length = (total_length - length)/2\n",
    "    #pad toward both side unless exceeds genome size (how to judge chrom size)\n",
    "    start = start - math.ceil(pad_length)\n",
    "    end = end + math.floor(pad_length)\n",
    "    if length >= 3072:\n",
    "        print(row)\n",
    "        break\n",
    "    if start < 0:\n",
    "        start = 0\n",
    "        end = end - start\n",
    "    split = [(round(seq_length*i)+start, round(seq_length*(i+1))+start) for i in range(split_count)]\n",
    "    for entry in split:\n",
    "        chrom.append(row['Chrom'])\n",
    "        strand.append(row['Strand'])\n",
    "        start_l.append(entry[0])\n",
    "        end_l.append(entry[1])\n",
    "        gene.append(row['GeneID'])\n",
    "    "
   ]
  },
  {
   "cell_type": "code",
   "execution_count": 9,
   "id": "2480a28d",
   "metadata": {},
   "outputs": [
    {
     "data": {
      "text/plain": [
       "1"
      ]
     },
     "execution_count": 9,
     "metadata": {},
     "output_type": "execute_result"
    }
   ],
   "source": [
    "split_count"
   ]
  },
  {
   "cell_type": "code",
   "execution_count": 5,
   "id": "8f51b962",
   "metadata": {},
   "outputs": [
    {
     "data": {
      "text/plain": [
       "61544"
      ]
     },
     "execution_count": 5,
     "metadata": {},
     "output_type": "execute_result"
    }
   ],
   "source": [
    "len(cannonical_df)"
   ]
  },
  {
   "cell_type": "code",
   "execution_count": 4,
   "id": "221cd8d8",
   "metadata": {},
   "outputs": [
    {
     "data": {
      "text/plain": [
       "61544"
      ]
     },
     "execution_count": 4,
     "metadata": {},
     "output_type": "execute_result"
    }
   ],
   "source": [
    "len(chrom)"
   ]
  },
  {
   "cell_type": "code",
   "execution_count": 11,
   "id": "11683dcc",
   "metadata": {},
   "outputs": [],
   "source": [
    "bed_df = pd.DataFrame({'Chr':chrom,'Start':start_l,'End':end_l,'Strand':strand,'Gene':gene})\n",
    "bed_df = bed_df.sort_values(by=['Chr','Start','Gene'])"
   ]
  },
  {
   "cell_type": "code",
   "execution_count": 12,
   "id": "d97080cd",
   "metadata": {},
   "outputs": [],
   "source": [
    "bed_df = bed_df[['Chr','Start','End','Gene','Gene','Strand']]\n",
    "if ('chr' in bed_df['Chr'][0] )== False:\n",
    "    bed_df['Chr'] = 'chr' + bed_df['Chr'].astype(str)"
   ]
  },
  {
   "cell_type": "code",
   "execution_count": 13,
   "id": "38254a8d",
   "metadata": {},
   "outputs": [],
   "source": [
    "bed_df.to_csv( bed_file,\n",
    "                index=False,header=False,sep = '\\t')"
   ]
  },
  {
   "cell_type": "code",
   "execution_count": 14,
   "id": "0267fb75",
   "metadata": {},
   "outputs": [
    {
     "name": "stderr",
     "output_type": "stream",
     "text": [
      "Feature (chr3R:32076377-32079449) beyond the length of chr3R size (32079331 bp).  Skipping.\n",
      "Feature (chr3R:32077062-32080134) beyond the length of chr3R size (32079331 bp).  Skipping.\n",
      "Feature (chr3R:32077077-32080149) beyond the length of chr3R size (32079331 bp).  Skipping.\n",
      "Feature (chr3R:32077361-32080433) beyond the length of chr3R size (32079331 bp).  Skipping.\n",
      "WARNING. chromosome (chrmitochondrion_genome) was not found in the FASTA file. Skipping.\n",
      "WARNING. chromosome (chrmitochondrion_genome) was not found in the FASTA file. Skipping.\n",
      "WARNING. chromosome (chrmitochondrion_genome) was not found in the FASTA file. Skipping.\n",
      "WARNING. chromosome (chrmitochondrion_genome) was not found in the FASTA file. Skipping.\n",
      "WARNING. chromosome (chrmitochondrion_genome) was not found in the FASTA file. Skipping.\n",
      "WARNING. chromosome (chrmitochondrion_genome) was not found in the FASTA file. Skipping.\n",
      "WARNING. chromosome (chrmitochondrion_genome) was not found in the FASTA file. Skipping.\n",
      "WARNING. chromosome (chrmitochondrion_genome) was not found in the FASTA file. Skipping.\n",
      "WARNING. chromosome (chrmitochondrion_genome) was not found in the FASTA file. Skipping.\n",
      "WARNING. chromosome (chrmitochondrion_genome) was not found in the FASTA file. Skipping.\n",
      "WARNING. chromosome (chrmitochondrion_genome) was not found in the FASTA file. Skipping.\n",
      "WARNING. chromosome (chrmitochondrion_genome) was not found in the FASTA file. Skipping.\n",
      "WARNING. chromosome (chrmitochondrion_genome) was not found in the FASTA file. Skipping.\n",
      "WARNING. chromosome (chrmitochondrion_genome) was not found in the FASTA file. Skipping.\n",
      "WARNING. chromosome (chrmitochondrion_genome) was not found in the FASTA file. Skipping.\n",
      "WARNING. chromosome (chrmitochondrion_genome) was not found in the FASTA file. Skipping.\n",
      "WARNING. chromosome (chrmitochondrion_genome) was not found in the FASTA file. Skipping.\n",
      "WARNING. chromosome (chrmitochondrion_genome) was not found in the FASTA file. Skipping.\n",
      "WARNING. chromosome (chrmitochondrion_genome) was not found in the FASTA file. Skipping.\n",
      "WARNING. chromosome (chrmitochondrion_genome) was not found in the FASTA file. Skipping.\n",
      "WARNING. chromosome (chrmitochondrion_genome) was not found in the FASTA file. Skipping.\n",
      "WARNING. chromosome (chrmitochondrion_genome) was not found in the FASTA file. Skipping.\n",
      "WARNING. chromosome (chrmitochondrion_genome) was not found in the FASTA file. Skipping.\n",
      "WARNING. chromosome (chrmitochondrion_genome) was not found in the FASTA file. Skipping.\n",
      "WARNING. chromosome (chrmitochondrion_genome) was not found in the FASTA file. Skipping.\n",
      "WARNING. chromosome (chrmitochondrion_genome) was not found in the FASTA file. Skipping.\n",
      "WARNING. chromosome (chrmitochondrion_genome) was not found in the FASTA file. Skipping.\n",
      "WARNING. chromosome (chrmitochondrion_genome) was not found in the FASTA file. Skipping.\n",
      "WARNING. chromosome (chrmitochondrion_genome) was not found in the FASTA file. Skipping.\n",
      "WARNING. chromosome (chrmitochondrion_genome) was not found in the FASTA file. Skipping.\n",
      "WARNING. chromosome (chrmitochondrion_genome) was not found in the FASTA file. Skipping.\n",
      "WARNING. chromosome (chrmitochondrion_genome) was not found in the FASTA file. Skipping.\n",
      "WARNING. chromosome (chrmitochondrion_genome) was not found in the FASTA file. Skipping.\n",
      "WARNING. chromosome (chrmitochondrion_genome) was not found in the FASTA file. Skipping.\n",
      "WARNING. chromosome (chrmitochondrion_genome) was not found in the FASTA file. Skipping.\n",
      "WARNING. chromosome (chrmitochondrion_genome) was not found in the FASTA file. Skipping.\n",
      "WARNING. chromosome (chrmitochondrion_genome) was not found in the FASTA file. Skipping.\n",
      "WARNING. chromosome (chrmitochondrion_genome) was not found in the FASTA file. Skipping.\n"
     ]
    },
    {
     "data": {
      "text/plain": [
       "0"
      ]
     },
     "execution_count": 14,
     "metadata": {},
     "output_type": "execute_result"
    }
   ],
   "source": [
    "cmd = ['bedtools', 'getfasta', '-fi', reference_genome, '-bed', bed_file, '-fo', output_fa]\n",
    "subprocess.Popen(cmd).wait()"
   ]
  },
  {
   "cell_type": "markdown",
   "id": "a2600489",
   "metadata": {},
   "source": [
    "# Convert Fasta file to onehot .h5"
   ]
  },
  {
   "cell_type": "code",
   "execution_count": 15,
   "id": "7a2b951b",
   "metadata": {},
   "outputs": [
    {
     "name": "stderr",
     "output_type": "stream",
     "text": [
      "100%|████████████████████████████████████████████████████████████████████████| 23840/23840 [00:00<00:00, 275305.15it/s]\n"
     ]
    }
   ],
   "source": [
    "fasta = open(output_fa, 'r')\n",
    "lines = fasta.readlines()\n",
    "seq = []\n",
    "# Strips the newline character\n",
    "for line in tqdm(lines[1::2]):\n",
    "    if line[0] == '>':\n",
    "        print('error in line count')\n",
    "        break\n",
    "    else:\n",
    "        seq.append(line.strip().upper())\n"
   ]
  },
  {
   "cell_type": "code",
   "execution_count": 16,
   "id": "9b15b492",
   "metadata": {},
   "outputs": [],
   "source": [
    "random.shuffle(seq)\n",
    "data_length = len(seq)\n",
    "train_data = seq[:int(data_length*0.9)]\n",
    "valid_data = seq[int(data_length*0.9):]"
   ]
  },
  {
   "cell_type": "code",
   "execution_count": 17,
   "id": "92223989",
   "metadata": {},
   "outputs": [],
   "source": [
    "valid_code = []\n",
    "for seq in valid_data:\n",
    "    valid_code.append(util.seq_to_onehot(seq))"
   ]
  },
  {
   "cell_type": "code",
   "execution_count": 18,
   "id": "7b07e048",
   "metadata": {},
   "outputs": [],
   "source": [
    "train_code = []\n",
    "for seq in train_data:\n",
    "    train_code.append(util.seq_to_onehot(seq))"
   ]
  },
  {
   "cell_type": "code",
   "execution_count": 19,
   "id": "46e6bf69",
   "metadata": {},
   "outputs": [],
   "source": [
    "h5f = h5py.File(h5_file, 'w')\n",
    "h5f.create_dataset('train',data = train_code)\n",
    "h5f.create_dataset('valid',data = valid_code)\n",
    "h5f.close()"
   ]
  },
  {
   "cell_type": "code",
   "execution_count": null,
   "id": "cc3384b1",
   "metadata": {},
   "outputs": [],
   "source": []
  },
  {
   "cell_type": "markdown",
   "id": "f11b8a1f",
   "metadata": {},
   "source": [
    "# Concatenate existing species data into a virtual dataset file"
   ]
  },
  {
   "cell_type": "code",
   "execution_count": 8,
   "id": "cf186489",
   "metadata": {},
   "outputs": [],
   "source": [
    "import glob\n",
    "import h5py\n",
    "import numpy as np\n",
    "species_dir = '/home/amber/multitask_RNA/data/species/'"
   ]
  },
  {
   "cell_type": "code",
   "execution_count": 2,
   "id": "2b398932",
   "metadata": {},
   "outputs": [],
   "source": [
    "h5_files = glob.glob(species_dir+'*/*.h5')\n",
    "num_file = len(h5_files)"
   ]
  },
  {
   "cell_type": "code",
   "execution_count": 3,
   "id": "a5385d4b",
   "metadata": {},
   "outputs": [],
   "source": [
    "train_len = 0\n",
    "valid_len = 0\n",
    "train_len_dict = {}\n",
    "valid_len_dict={}\n",
    "for file in h5_files:\n",
    "    temp_access = h5py.File(file,'r')\n",
    "    train_len += len(temp_access['train'])\n",
    "    train_len_dict[file] = len(temp_access['train'])\n",
    "    valid_len += len(temp_access['valid'])\n",
    "    valid_len_dict[file] = len(temp_access['valid'])"
   ]
  },
  {
   "cell_type": "code",
   "execution_count": 16,
   "id": "8ed29c56",
   "metadata": {},
   "outputs": [],
   "source": [
    "train_layout = h5py.VirtualLayout(shape=(train_len,4,3072), dtype=\"f2\")\n",
    "valid_layout = h5py.VirtualLayout(shape=(valid_len,4,3072), dtype=\"f2\")"
   ]
  },
  {
   "cell_type": "code",
   "execution_count": 7,
   "id": "f7b9e964",
   "metadata": {},
   "outputs": [],
   "source": [
    "train_idx = 0\n",
    "valid_idx = 0\n",
    "for file in h5_files:\n",
    "    train_len = train_len_dict[file]\n",
    "    valid_len = valid_len_dict[file]\n",
    "    train_source = h5py.VirtualSource(file,'train',shape = (train_len,4,3072))\n",
    "    valid_source = h5py.VirtualSource(file,'valid',shape =(valid_len,4,3072))\n",
    "    train_layout[train_idx:train_idx+train_len] = train_source\n",
    "    valid_layout[valid_idx:valid_idx+valid_len] = valid_source\n",
    "    train_idx += train_len\n",
    "    valid_idx += valid_len"
   ]
  },
  {
   "cell_type": "code",
   "execution_count": 9,
   "id": "ec413dd6",
   "metadata": {},
   "outputs": [],
   "source": [
    "with h5py.File(species_dir + \"combined_vds.h5\", \"w\") as f:\n",
    "    f.create_virtual_dataset(\"train\", train_layout, fillvalue=-1)\n",
    "    f.create_virtual_dataset(\"valid\",valid_layout,fillvalue=-1)"
   ]
  },
  {
   "cell_type": "code",
   "execution_count": 10,
   "id": "c9c922ba",
   "metadata": {},
   "outputs": [],
   "source": []
  },
  {
   "cell_type": "code",
   "execution_count": null,
   "id": "18e479ef",
   "metadata": {},
   "outputs": [],
   "source": []
  },
  {
   "cell_type": "markdown",
   "id": "ca73db63",
   "metadata": {},
   "source": [
    "# Filter for empty sequence?"
   ]
  },
  {
   "cell_type": "code",
   "execution_count": 2,
   "id": "fa8452a2",
   "metadata": {},
   "outputs": [],
   "source": [
    "# read data back\n",
    "# virtual dataset is transparent for reader!\n",
    "f =  h5py.File(species_dir + \"combined_vds.h5\", \"r\")\n",
    "   \n"
   ]
  },
  {
   "cell_type": "code",
   "execution_count": 31,
   "id": "b761cac9",
   "metadata": {},
   "outputs": [
    {
     "data": {
      "text/plain": [
       "array([[0., 0., 1., ..., 0., 0., 0.],\n",
       "       [0., 0., 0., ..., 0., 0., 1.],\n",
       "       [0., 0., 0., ..., 0., 0., 0.],\n",
       "       [1., 1., 0., ..., 1., 1., 0.]], dtype=float16)"
      ]
     },
     "execution_count": 31,
     "metadata": {},
     "output_type": "execute_result"
    }
   ],
   "source": []
  },
  {
   "cell_type": "code",
   "execution_count": null,
   "id": "05eac96d",
   "metadata": {},
   "outputs": [],
   "source": []
  }
 ],
 "metadata": {
  "kernelspec": {
   "display_name": "Python 3 (ipykernel)",
   "language": "python",
   "name": "python3"
  },
  "language_info": {
   "codemirror_mode": {
    "name": "ipython",
    "version": 3
   },
   "file_extension": ".py",
   "mimetype": "text/x-python",
   "name": "python",
   "nbconvert_exporter": "python",
   "pygments_lexer": "ipython3",
   "version": "3.8.10"
  }
 },
 "nbformat": 4,
 "nbformat_minor": 5
}
