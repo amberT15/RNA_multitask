{
 "cells": [
  {
   "cell_type": "code",
   "execution_count": 13,
   "id": "f56b12cc",
   "metadata": {},
   "outputs": [],
   "source": [
    "import pandas as pd\n",
    "import numpy as np\n",
    "import math\n",
    "length = 510"
   ]
  },
  {
   "cell_type": "code",
   "execution_count": 2,
   "id": "6883e541",
   "metadata": {},
   "outputs": [],
   "source": [
    "annot_df = pd.read_csv('../data/annotation/cannonical_annotation.csv',sep = '\\t',header = 0,index_col = 0)\n",
    "transcript_df = pd.read_csv('../data/annotation/annot_label.csv',sep = '\\t',header = 0)\n",
    "transcript_df['length'] = np.absolute(transcript_df['Start']-transcript_df['End'])\n",
    "#How many sequences if we fully chop transcriptome\n",
    "np.sum(np.ceil(transcript_df['length']/length))\n",
    "annot_df = annot_df[annot_df['Annotation'].isin(['exon','UTR',])]\n",
    "annot_df['GeneID']=pd.Categorical(annot_df['GeneID'],transcript_df['Gene'])\n",
    "annot_df = annot_df.sort_values(by=['Chrom','GeneID','Start']).reset_index()"
   ]
  },
  {
   "cell_type": "code",
   "execution_count": 3,
   "id": "b1b4a62e",
   "metadata": {},
   "outputs": [],
   "source": [
    "reverse_strand = {'+':'-','-':'+'}\n",
    "\n",
    "chrom = []\n",
    "strand = []\n",
    "start_l = []\n",
    "end_l = []\n",
    "gene = []\n",
    "for index,row in transcript_df.iterrows():\n",
    "    start = row['Start']\n",
    "    end = row['End']\n",
    "    split = [(round(length*i)+start, round(length*(i+1))+start) for i in range(int(math.ceil((end-start)/length)))]\n",
    "    for entry in split:\n",
    "        chrom.append(row['Chr'])\n",
    "        strand.append(reverse_strand[row['Strand']])\n",
    "        start_l.append(entry[0])\n",
    "        end_l.append(entry[1])\n",
    "        gene.append(row['Gene'])\n",
    "    "
   ]
  },
  {
   "cell_type": "code",
   "execution_count": 4,
   "id": "85212861",
   "metadata": {},
   "outputs": [],
   "source": [
    "bed_df = pd.DataFrame({'Chr':chrom,'Start':start_l,'End':end_l,'Strand':strand,'Gene':gene})\n",
    "bed_df['Gene']=pd.Categorical(bed_df['Gene'],transcript_df['Gene'])\n",
    "bed_df = bed_df.sort_values(by=['Chr','Gene','Start'])"
   ]
  },
  {
   "cell_type": "code",
   "execution_count": 5,
   "id": "9448d977",
   "metadata": {},
   "outputs": [],
   "source": [
    "bed_pointer = 0\n",
    "annot_pointer = 0\n",
    "label = np.empty(len(bed_df), dtype=object)\n",
    "label[...] = [set()for _ in range(label.shape[0])]\n",
    "#while bed_df.iloc[bed_pointer]['Gene'] == annot_df.iloc[annot_pointer]['GeneID']:\n",
    "while bed_pointer < len(bed_df)-1  or annot_pointer < len(annot_df)-1:\n",
    "    bed_row = bed_df.iloc[bed_pointer]\n",
    "    annot_row = annot_df.iloc[annot_pointer]\n",
    "    #chromosome check:\n",
    "    if bed_row['Chr'] < annot_row['Chrom']:\n",
    "        bed_pointer += 1\n",
    "        continue\n",
    "    elif bed_row['Chr'] > annot_row['Chrom']:\n",
    "        annot_pointer += 1\n",
    "        continue\n",
    "    #not overlapping， move pointer \n",
    "    if bed_row['End'] <= annot_row['Start']:\n",
    "        bed_pointer += 1\n",
    "        continue\n",
    "    elif bed_row['Start'] >= annot_row['End']:\n",
    "        annot_pointer += 1\n",
    "        continue\n",
    "    #overlapping\n",
    "    if max(bed_row['Start'], annot_row['Start']) <= min(bed_row['End'], annot_row['End']):\n",
    "        #complete overlap:\n",
    "        if (bed_row['Start'] >= annot_row['Start']) and (bed_row['End'] <= annot_row['End']):\n",
    "            label[bed_pointer].add(annot_row['Annotation'])\n",
    "            bed_pointer += 1 \n",
    "        #partial overlap\n",
    "        elif bed_row['Start'] <= annot_row['Start']:\n",
    "            label[bed_pointer].update(['junction',annot_row['Annotation']])\n",
    "            bed_pointer += 1\n",
    "        #partial overlap\n",
    "        elif bed_row['End'] >= annot_row['End']:\n",
    "            label[bed_pointer].update([annot_row['Annotation'],'junction'])\n",
    "            annot_pointer += 1\n",
    "               "
   ]
  },
  {
   "cell_type": "code",
   "execution_count": 6,
   "id": "4da9318b",
   "metadata": {},
   "outputs": [],
   "source": [
    "label_list = [list(ele) for ele in label]\n",
    "label = [','.join(ele) for ele in label_list]\n",
    "bed_df['Label'] = label\n",
    "bed_df['Label'] = bed_df['Label'].replace(r'^\\s*$', 'intron', regex=True)"
   ]
  },
  {
   "cell_type": "code",
   "execution_count": 7,
   "id": "5a3e55ba",
   "metadata": {},
   "outputs": [],
   "source": [
    "bed_df.to_csv('../data/pre-train/'+str(length)+'/rna_selection.bed',sep = '\\t', index=False, header = False)"
   ]
  },
  {
   "cell_type": "code",
   "execution_count": 8,
   "id": "d99232e6",
   "metadata": {},
   "outputs": [
    {
     "name": "stderr",
     "output_type": "stream",
     "text": [
      "100%|██████████| 7669382/7669382 [00:05<00:00, 1511546.34it/s]\n"
     ]
    }
   ],
   "source": [
    "from tqdm import tqdm\n",
    "\n",
    "fasta = open('../data/pre-train/'+str(length)+'/rna_seq.fa', 'r')\n",
    "lines = fasta.readlines()\n",
    "seq = []\n",
    "# Strips the newline character\n",
    "for line in tqdm(lines):\n",
    "    if line[0] == '>':\n",
    "        next\n",
    "    else: \n",
    "        seq.append(line.strip().upper())"
   ]
  },
  {
   "cell_type": "code",
   "execution_count": 9,
   "id": "b29a9b0c",
   "metadata": {},
   "outputs": [],
   "source": [
    "import random\n",
    "random.shuffle(seq)\n",
    "data_length = len(seq)\n",
    "train_data = seq[:int(data_length*0.8)]\n",
    "valid_data = seq[int(data_length*0.8):int(data_length*0.9)]\n",
    "test_data = seq[int(data_length*0.9):]"
   ]
  },
  {
   "cell_type": "code",
   "execution_count": 14,
   "id": "2afcae97",
   "metadata": {},
   "outputs": [],
   "source": [
    "import h5py\n",
    "import numpy as np\n",
    "file_name = '../data/pre-train/'+str(length)+'/rna_seq.h5'\n",
    "h5f = h5py.File(file_name, 'w')\n",
    "h5f.create_dataset('train',data = train_data)\n",
    "h5f.create_dataset('valid',data = valid_data)\n",
    "h5f.create_dataset('test',data = test_data)\n",
    "h5f.close()"
   ]
  },
  {
   "cell_type": "code",
   "execution_count": 7,
   "id": "650d29ac",
   "metadata": {},
   "outputs": [],
   "source": [
    "import h5py\n",
    "import numpy as np\n",
    "file_name = '../data/pre-train/rna_seq.h5'\n",
    "h5f = h5py.File(file_name, 'r')['seq']"
   ]
  },
  {
   "cell_type": "code",
   "execution_count": 8,
   "id": "6a8e0ece",
   "metadata": {},
   "outputs": [],
   "source": [
    "import re\n",
    "pattern = '[^ACGTN]'\n",
    "count = 0\n",
    "for seq in h5f:\n",
    "    seq = seq.decode('utf-8')\n",
    "    search = re.search(pattern, seq, flags=0)\n",
    "    if  search != None:\n",
    "        count+=1\n",
    "        print(search)\n",
    "        break"
   ]
  },
  {
   "cell_type": "code",
   "execution_count": null,
   "id": "f83ef64a",
   "metadata": {},
   "outputs": [],
   "source": [
    "import pandas as pd\n",
    "import numpy as np"
   ]
  },
  {
   "cell_type": "code",
   "execution_count": null,
   "id": "9e512872",
   "metadata": {},
   "outputs": [],
   "source": [
    "bed_df = pd.read_csv('../data/pre-train/region_selection.bed',sep='\\t',index_col=None)\n",
    "\n",
    "bed_df['Label'].unique()"
   ]
  },
  {
   "cell_type": "code",
   "execution_count": null,
   "id": "6389e78e",
   "metadata": {},
   "outputs": [],
   "source": []
  },
  {
   "cell_type": "code",
   "execution_count": null,
   "id": "712b3416",
   "metadata": {},
   "outputs": [],
   "source": [
    "bed_df[bed_df['Label'].str.contains(\"intron\")]"
   ]
  },
  {
   "cell_type": "markdown",
   "id": "d097ef55",
   "metadata": {},
   "source": [
    "Count of reads containing each label\n",
    "\n",
    "'UTR':19953\n",
    "\n",
    "'exon':363682\n",
    "\n",
    "'junction': 284194\n",
    "\n",
    "'intron': 3455744\n",
    "\n",
    "\n",
    "\n",
    "Not balanced. Sub-sample?\n",
    "\n",
    "Total read :3819756"
   ]
  },
  {
   "cell_type": "code",
   "execution_count": null,
   "id": "154842f4",
   "metadata": {},
   "outputs": [],
   "source": [
    "len('CTTCTATTTATTTATTTATTTATTTATTTGTTTGTTTTAGAAGATTCTATGTTAATATTTTATGTGT')"
   ]
  },
  {
   "cell_type": "code",
   "execution_count": null,
   "id": "3e974555",
   "metadata": {},
   "outputs": [],
   "source": []
  }
 ],
 "metadata": {
  "kernelspec": {
   "display_name": "Python 3.8.10 ('tf_2': venv)",
   "language": "python",
   "name": "python3"
  },
  "language_info": {
   "codemirror_mode": {
    "name": "ipython",
    "version": 3
   },
   "file_extension": ".py",
   "mimetype": "text/x-python",
   "name": "python",
   "nbconvert_exporter": "python",
   "pygments_lexer": "ipython3",
   "version": "3.8.10"
  },
  "vscode": {
   "interpreter": {
    "hash": "9e8284e1417b754e460c2bde3a4a4837c482fa82ceb7d52f4acbe340dd4b4559"
   }
  }
 },
 "nbformat": 4,
 "nbformat_minor": 5
}
