{
 "cells": [
  {
   "cell_type": "markdown",
   "id": "56c2a78b",
   "metadata": {},
   "source": [
    "## Old data generation code"
   ]
  },
  {
   "cell_type": "code",
   "execution_count": 1,
   "id": "f56b12cc",
   "metadata": {},
   "outputs": [],
   "source": [
    "import pandas as pd\n",
    "import numpy as np\n",
    "import math\n",
    "length = 510"
   ]
  },
  {
   "cell_type": "code",
   "execution_count": 2,
   "id": "6883e541",
   "metadata": {},
   "outputs": [],
   "source": [
    "annot_df = pd.read_csv('../../data/annotation/cannonical_annotation.csv',sep = '\\t',header = 0,index_col = 0)\n",
    "transcript_df = pd.read_csv('../../data/annotation/annot_label.csv',sep = '\\t',header = 0)\n",
    "transcript_df['length'] = np.absolute(transcript_df['Start']-transcript_df['End'])\n",
    "#How many sequences if we fully chop transcriptome\n",
    "np.sum(np.ceil(transcript_df['length']/length))\n",
    "annot_df = annot_df[annot_df['Annotation'].isin(['exon','UTR',])]\n",
    "annot_df['GeneID']=pd.Categorical(annot_df['GeneID'],transcript_df['Gene'])\n",
    "annot_df = annot_df.sort_values(by=['Chrom','GeneID','Start']).reset_index()"
   ]
  },
  {
   "cell_type": "code",
   "execution_count": 3,
   "id": "b1b4a62e",
   "metadata": {},
   "outputs": [],
   "source": [
    "reverse_strand = {'+':'-','-':'+'}\n",
    "\n",
    "chrom = []\n",
    "strand = []\n",
    "start_l = []\n",
    "end_l = []\n",
    "gene = []\n",
    "for index,row in transcript_df.iterrows():\n",
    "    start = row['Start']\n",
    "    end = row['End']\n",
    "    split = [(round(length*i)+start, round(length*(i+1))+start) for i in range(int(math.ceil((end-start)/length)))]\n",
    "    for entry in split:\n",
    "        chrom.append(row['Chr'])\n",
    "        strand.append(reverse_strand[row['Strand']])\n",
    "        start_l.append(entry[0])\n",
    "        end_l.append(entry[1])\n",
    "        gene.append(row['Gene'])\n",
    "    "
   ]
  },
  {
   "cell_type": "code",
   "execution_count": 4,
   "id": "85212861",
   "metadata": {},
   "outputs": [],
   "source": [
    "bed_df = pd.DataFrame({'Chr':chrom,'Start':start_l,'End':end_l,'Strand':strand,'Gene':gene})\n",
    "bed_df['Gene']=pd.Categorical(bed_df['Gene'],transcript_df['Gene'])\n",
    "bed_df = bed_df.sort_values(by=['Chr','Gene','Start'])"
   ]
  },
  {
   "cell_type": "code",
   "execution_count": 5,
   "id": "9448d977",
   "metadata": {},
   "outputs": [],
   "source": [
    "bed_pointer = 0\n",
    "annot_pointer = 0\n",
    "label = np.empty(len(bed_df), dtype=object)\n",
    "label[...] = [set()for _ in range(label.shape[0])]\n",
    "#while bed_df.iloc[bed_pointer]['Gene'] == annot_df.iloc[annot_pointer]['GeneID']:\n",
    "while bed_pointer < len(bed_df)-1  or annot_pointer < len(annot_df)-1:\n",
    "    bed_row = bed_df.iloc[bed_pointer]\n",
    "    annot_row = annot_df.iloc[annot_pointer]\n",
    "    #chromosome check:\n",
    "    if bed_row['Chr'] < annot_row['Chrom']:\n",
    "        bed_pointer += 1\n",
    "        continue\n",
    "    elif bed_row['Chr'] > annot_row['Chrom']:\n",
    "        annot_pointer += 1\n",
    "        continue\n",
    "    #not overlapping， move pointer \n",
    "    if bed_row['End'] <= annot_row['Start']:\n",
    "        bed_pointer += 1\n",
    "        continue\n",
    "    elif bed_row['Start'] >= annot_row['End']:\n",
    "        annot_pointer += 1\n",
    "        continue\n",
    "    #overlapping\n",
    "    if max(bed_row['Start'], annot_row['Start']) <= min(bed_row['End'], annot_row['End']):\n",
    "        #complete overlap:\n",
    "        if (bed_row['Start'] >= annot_row['Start']) and (bed_row['End'] <= annot_row['End']):\n",
    "            label[bed_pointer].add(annot_row['Annotation'])\n",
    "            bed_pointer += 1 \n",
    "        #partial overlap\n",
    "        elif bed_row['Start'] <= annot_row['Start']:\n",
    "            label[bed_pointer].update(['junction',annot_row['Annotation']])\n",
    "            bed_pointer += 1\n",
    "        #partial overlap\n",
    "        elif bed_row['End'] >= annot_row['End']:\n",
    "            label[bed_pointer].update([annot_row['Annotation'],'junction'])\n",
    "            annot_pointer += 1\n",
    "               "
   ]
  },
  {
   "cell_type": "code",
   "execution_count": 6,
   "id": "4da9318b",
   "metadata": {},
   "outputs": [],
   "source": [
    "label_list = [list(ele) for ele in label]\n",
    "label = [','.join(ele) for ele in label_list]\n",
    "bed_df['Label'] = label\n",
    "bed_df['Label'] = bed_df['Label'].replace(r'^\\s*$', 'intron', regex=True)"
   ]
  },
  {
   "cell_type": "code",
   "execution_count": 8,
   "id": "5a3e55ba",
   "metadata": {},
   "outputs": [],
   "source": [
    "bed_df.to_csv('../../data/pre-train/'+'test'+'/rna_selection.bed',sep = '\\t', index=False, header = False)"
   ]
  },
  {
   "cell_type": "code",
   "execution_count": 8,
   "id": "d99232e6",
   "metadata": {},
   "outputs": [
    {
     "name": "stderr",
     "output_type": "stream",
     "text": [
      "100%|██████████| 7669382/7669382 [00:05<00:00, 1511546.34it/s]\n"
     ]
    }
   ],
   "source": [
    "from tqdm import tqdm\n",
    "\n",
    "fasta = open('../data/pre-train/'+str(length)+'/rna_seq.fa', 'r')\n",
    "lines = fasta.readlines()\n",
    "seq = []\n",
    "# Strips the newline character\n",
    "for line in tqdm(lines):\n",
    "    if line[0] == '>':\n",
    "        next\n",
    "    else: \n",
    "        seq.append(line.strip().upper())"
   ]
  },
  {
   "cell_type": "code",
   "execution_count": 9,
   "id": "b29a9b0c",
   "metadata": {},
   "outputs": [],
   "source": [
    "import random\n",
    "random.shuffle(seq)\n",
    "data_length = len(seq)\n",
    "train_data = seq[:int(data_length*0.8)]\n",
    "valid_data = seq[int(data_length*0.8):int(data_length*0.9)]\n",
    "test_data = seq[int(data_length*0.9):]"
   ]
  },
  {
   "cell_type": "code",
   "execution_count": 14,
   "id": "2afcae97",
   "metadata": {},
   "outputs": [],
   "source": [
    "import h5py\n",
    "import numpy as np\n",
    "file_name = '../data/pre-train/'+str(length)+'/rna_seq.h5'\n",
    "h5f = h5py.File(file_name, 'w')\n",
    "h5f.create_dataset('train',data = train_data)\n",
    "h5f.create_dataset('valid',data = valid_data)\n",
    "h5f.create_dataset('test',data = test_data)\n",
    "h5f.close()"
   ]
  },
  {
   "cell_type": "code",
   "execution_count": 7,
   "id": "650d29ac",
   "metadata": {},
   "outputs": [],
   "source": [
    "import h5py\n",
    "import numpy as np\n",
    "file_name = '../data/pre-train/rna_seq.h5'\n",
    "h5f = h5py.File(file_name, 'r')['seq']"
   ]
  },
  {
   "cell_type": "code",
   "execution_count": 8,
   "id": "6a8e0ece",
   "metadata": {},
   "outputs": [],
   "source": [
    "import re\n",
    "pattern = '[^ACGTN]'\n",
    "count = 0\n",
    "for seq in h5f:\n",
    "    seq = seq.decode('utf-8')\n",
    "    search = re.search(pattern, seq, flags=0)\n",
    "    if  search != None:\n",
    "        count+=1\n",
    "        print(search)\n",
    "        break"
   ]
  },
  {
   "cell_type": "code",
   "execution_count": null,
   "id": "f83ef64a",
   "metadata": {},
   "outputs": [],
   "source": [
    "import pandas as pd\n",
    "import numpy as np"
   ]
  },
  {
   "cell_type": "code",
   "execution_count": null,
   "id": "9e512872",
   "metadata": {},
   "outputs": [],
   "source": [
    "bed_df = pd.read_csv('../data/pre-train/region_selection.bed',sep='\\t',index_col=None)\n",
    "\n",
    "bed_df['Label'].unique()"
   ]
  },
  {
   "cell_type": "markdown",
   "id": "d097ef55",
   "metadata": {},
   "source": [
    "Count of reads containing each label\n",
    "\n",
    "'UTR':19953\n",
    "\n",
    "'exon':363682\n",
    "\n",
    "'junction': 284194\n",
    "\n",
    "'intron': 3455744\n",
    "\n",
    "\n",
    "\n",
    "Not balanced. Sub-sample?\n",
    "\n",
    "Total read :3819756"
   ]
  },
  {
   "cell_type": "markdown",
   "id": "3e974555",
   "metadata": {},
   "source": [
    "## Annotation label double check"
   ]
  },
  {
   "cell_type": "code",
   "execution_count": 1,
   "id": "56d638f0",
   "metadata": {},
   "outputs": [],
   "source": [
    "import pandas as pd\n",
    "import numpy as np\n",
    "import math\n",
    "length = 510"
   ]
  },
  {
   "cell_type": "code",
   "execution_count": 2,
   "id": "97e08670",
   "metadata": {},
   "outputs": [],
   "source": [
    "annot_df = pd.read_csv('../../data/annotation/cannonical_annotation.csv',sep = '\\t',header = 0,index_col = 0)\n",
    "transcript_df = pd.read_csv('../../data/annotation/annot_label.csv',sep = '\\t',header = 0)\n",
    "transcript_df['length'] = np.absolute(transcript_df['Start']-transcript_df['End'])\n",
    "annot_df = annot_df[annot_df['Annotation'].isin(['exon','UTR',])]\n",
    "annot_df['GeneID']=pd.Categorical(annot_df['GeneID'],transcript_df['Gene'])\n",
    "annot_df = annot_df.sort_values(by=['Chrom','GeneID','Start']).reset_index()"
   ]
  },
  {
   "cell_type": "code",
   "execution_count": 5,
   "id": "133a6a89",
   "metadata": {},
   "outputs": [],
   "source": [
    "chrom = []\n",
    "strand = []\n",
    "start_l = []\n",
    "end_l = []\n",
    "gene = []\n",
    "for index,row in transcript_df.iterrows():\n",
    "    start = row['Start']\n",
    "    end = row['End']\n",
    "    split = [(round(length*i)+start, round(length*(i+1))+start) for i in range(int(math.ceil((end-start)/length)))]\n",
    "    for entry in split:\n",
    "        chrom.append(row['Chr'])\n",
    "        strand.append(row['Strand'])\n",
    "        start_l.append(entry[0])\n",
    "        end_l.append(entry[1])\n",
    "        gene.append(row['Gene'])\n",
    "    "
   ]
  },
  {
   "cell_type": "code",
   "execution_count": 6,
   "id": "9bf1f0b6",
   "metadata": {},
   "outputs": [],
   "source": [
    "bed_df = pd.DataFrame({'Chr':chrom,'Start':start_l,'End':end_l,'Strand':strand,'Gene':gene})\n",
    "bed_df['Gene']=pd.Categorical(bed_df['Gene'],transcript_df['Gene'])\n",
    "bed_df = bed_df.sort_values(by=['Chr','Gene','Start'])"
   ]
  },
  {
   "cell_type": "code",
   "execution_count": 9,
   "id": "e7bf3561",
   "metadata": {},
   "outputs": [],
   "source": [
    "transcript_df.to_csv('/home/amber/multitask_RNA/data/pre-train/510/transcript.bed',\n",
    "                index=False,header=False,sep='\\t',columns=['Chr','Start','End','Gene','length','Strand'])"
   ]
  },
  {
   "cell_type": "code",
   "execution_count": 10,
   "id": "dfb94e38",
   "metadata": {},
   "outputs": [],
   "source": [
    "bed_df = bed_df[['Chr','Start','End','Gene','Gene','Strand']]\n",
    "bed_df.to_csv('/home/amber/multitask_RNA/data/pre-train/510/rna_selection.bed',\n",
    "                index=False,header=False,sep = '\\t')"
   ]
  },
  {
   "cell_type": "code",
   "execution_count": 11,
   "id": "b40e60d2",
   "metadata": {},
   "outputs": [],
   "source": [
    "annot_df = annot_df[['Chrom','Start','End','Annotation','GeneID','Strand']]\n",
    "annot_df.to_csv('/home/amber/multitask_RNA/data/pre-train/510/annot.bed',\n",
    "                index=False,header=False,sep='\\t')"
   ]
  },
  {
   "cell_type": "code",
   "execution_count": null,
   "id": "8358d85d",
   "metadata": {},
   "outputs": [],
   "source": [
    "! bedtools subtract -s -a transcript.bed -b annot.bed > intron.bed"
   ]
  },
  {
   "cell_type": "code",
   "execution_count": 12,
   "id": "181ffd3e",
   "metadata": {},
   "outputs": [],
   "source": [
    "intron_df = pd.read_csv('../../data/pre-train/510/intron.bed',sep = '\\t',header = None,\n",
    "                        names = ['Chrom','Start','End','Annotation','GeneID','Strand'],index_col = None)\n",
    "intron_df['GeneID'] = intron_df['Annotation']\n",
    "intron_df['Annotation']='intron'\n",
    "all_annot_df = pd.concat([intron_df,annot_df])"
   ]
  },
  {
   "cell_type": "code",
   "execution_count": 14,
   "id": "495c47c1",
   "metadata": {},
   "outputs": [],
   "source": [
    "all_annot_df.to_csv('/home/amber/multitask_RNA/data/pre-train/510/annot.bed',\n",
    "                index=False,header=False,sep='\\t')"
   ]
  },
  {
   "cell_type": "code",
   "execution_count": null,
   "id": "d1e7e97f",
   "metadata": {},
   "outputs": [],
   "source": [
    "! bedtools sort -i annot.bed > annot.sorted.bed"
   ]
  },
  {
   "cell_type": "code",
   "execution_count": null,
   "id": "f43e354a",
   "metadata": {},
   "outputs": [],
   "source": [
    "! bedtools intersect -s -a ./rna_selection.bed -b ./annot.bed  -wa -wb > label.bed"
   ]
  },
  {
   "cell_type": "code",
   "execution_count": 15,
   "id": "854b2af7",
   "metadata": {},
   "outputs": [],
   "source": [
    "final_df = pd.read_csv('../../data/pre-train/510/label.bed',sep = '\\t',header = None,index_col = None)"
   ]
  },
  {
   "cell_type": "code",
   "execution_count": 38,
   "id": "9fd195d0",
   "metadata": {},
   "outputs": [],
   "source": [
    "bed_df.columns.values[4] = \"Annotation\""
   ]
  },
  {
   "cell_type": "code",
   "execution_count": 22,
   "id": "5ba6be07",
   "metadata": {},
   "outputs": [],
   "source": [
    "unique_label = final_df.groupby([0,1,2,3,5])[9].unique()\n"
   ]
  },
  {
   "cell_type": "code",
   "execution_count": 41,
   "id": "a9b84eed",
   "metadata": {},
   "outputs": [],
   "source": [
    "test = unique_label.values\n",
    "for i in range(len(test)):\n",
    "    label_str = ','.join(test[i])\n",
    "    test[i] = label_str"
   ]
  },
  {
   "cell_type": "code",
   "execution_count": 43,
   "id": "233e37b0",
   "metadata": {},
   "outputs": [
    {
     "name": "stderr",
     "output_type": "stream",
     "text": [
      "/tmp/ipykernel_205187/4113080471.py:1: SettingWithCopyWarning: \n",
      "A value is trying to be set on a copy of a slice from a DataFrame.\n",
      "Try using .loc[row_indexer,col_indexer] = value instead\n",
      "\n",
      "See the caveats in the documentation: https://pandas.pydata.org/pandas-docs/stable/user_guide/indexing.html#returning-a-view-versus-a-copy\n",
      "  bed_df['Annotation'] = test\n"
     ]
    }
   ],
   "source": [
    "bed_df['Annotation'] = test"
   ]
  },
  {
   "cell_type": "code",
   "execution_count": 45,
   "id": "bc7c7320",
   "metadata": {},
   "outputs": [],
   "source": [
    "bed_df.to_csv('/home/amber/multitask_RNA/data/pre-train/510/rna_selection.bed',\n",
    "                index=False,header=False,sep='\\t')"
   ]
  },
  {
   "cell_type": "code",
   "execution_count": null,
   "id": "5cdb7f95",
   "metadata": {},
   "outputs": [],
   "source": [
    "\n"
   ]
  },
  {
   "cell_type": "markdown",
   "id": "0816fe4c",
   "metadata": {},
   "source": [
    "## Subsample sequence for balance class"
   ]
  },
  {
   "cell_type": "code",
   "execution_count": 25,
   "id": "990b9a67",
   "metadata": {},
   "outputs": [],
   "source": [
    "import pandas as pd\n",
    "import h5py\n",
    "import numpy as np\n",
    "from tqdm import tqdm\n",
    "import random\n",
    "length=510"
   ]
  },
  {
   "cell_type": "code",
   "execution_count": 22,
   "id": "ed548a36",
   "metadata": {},
   "outputs": [],
   "source": [
    "bed_df = pd.read_csv('../../data/pre-train/510/rna_selection.bed',\n",
    "                    sep = '\\t',header = None,index_col = None)"
   ]
  },
  {
   "cell_type": "code",
   "execution_count": 23,
   "id": "b3b2bda4",
   "metadata": {},
   "outputs": [],
   "source": [
    "labels=bed_df[4]\n",
    "selected_id = []\n",
    "intron_id = []\n",
    "for i in range(len(labels)):\n",
    "    label = labels[i].split(',')\n",
    "    if (len(label) > 1) or ('UTR' in label) or ('exon' in label):\n",
    "        selected_id.append(i)\n",
    "    else:\n",
    "        intron_id.append(i)\n",
    "        "
   ]
  },
  {
   "cell_type": "code",
   "execution_count": 24,
   "id": "bbc2b282",
   "metadata": {},
   "outputs": [
    {
     "name": "stdout",
     "output_type": "stream",
     "text": [
      "480026\n",
      "3354665\n",
      "720039\n"
     ]
    }
   ],
   "source": [
    "print(len(selected_id))\n",
    "print(len(intron_id))\n",
    "sub_size = int(0.5*len(selected_id))\n",
    "selected_id.extend(random.choices(intron_id,k=sub_size))\n",
    "print(len(selected_id))"
   ]
  },
  {
   "cell_type": "code",
   "execution_count": 35,
   "id": "decd7523",
   "metadata": {},
   "outputs": [
    {
     "name": "stderr",
     "output_type": "stream",
     "text": [
      "100%|██████████| 720039/720039 [00:00<00:00, 822567.31it/s]\n"
     ]
    }
   ],
   "source": [
    "fasta = open('../../data/pre-train/'+str(length)+'/rna_seq.fa', 'r')\n",
    "line_number = np.array(selected_id)*2+1\n",
    "lines = fasta.readlines()\n",
    "seq = []\n",
    "# Strips the newline character\n",
    "for line_i in tqdm(line_number):\n",
    "    if line[0] == '>':\n",
    "        print('error in line count')\n",
    "        break\n",
    "    else:\n",
    "        seq.append(lines[line_i].strip().upper())"
   ]
  },
  {
   "cell_type": "code",
   "execution_count": 37,
   "id": "b9c78e34",
   "metadata": {},
   "outputs": [],
   "source": [
    "random.shuffle(seq)\n",
    "data_length = len(seq)\n",
    "train_data = seq[:int(data_length*0.9)]\n",
    "valid_data = seq[int(data_length*0.9):]"
   ]
  },
  {
   "cell_type": "code",
   "execution_count": 38,
   "id": "9f11a3e5",
   "metadata": {},
   "outputs": [
    {
     "ename": "FileNotFoundError",
     "evalue": "[Errno 2] Unable to create file (unable to open file: name = '../data/pre-train/510/rna_seq.h5', errno = 2, error message = 'No such file or directory', flags = 13, o_flags = 242)",
     "output_type": "error",
     "traceback": [
      "\u001b[0;31m---------------------------------------------------------------------------\u001b[0m",
      "\u001b[0;31mFileNotFoundError\u001b[0m                         Traceback (most recent call last)",
      "\u001b[1;32m/home/amber/multitask_RNA/data_generation/pre-train/pretrain_dataset_creation.ipynb Cell 44\u001b[0m in \u001b[0;36m<module>\u001b[0;34m\u001b[0m\n\u001b[1;32m      <a href='vscode-notebook-cell://ssh-remote%2Bcitra/home/amber/multitask_RNA/data_generation/pre-train/pretrain_dataset_creation.ipynb#Y121sdnNjb2RlLXJlbW90ZQ%3D%3D?line=0'>1</a>\u001b[0m file_name \u001b[39m=\u001b[39m \u001b[39m'\u001b[39m\u001b[39m../data/pre-train/\u001b[39m\u001b[39m'\u001b[39m\u001b[39m+\u001b[39m\u001b[39mstr\u001b[39m(length)\u001b[39m+\u001b[39m\u001b[39m'\u001b[39m\u001b[39m/rna_seq.h5\u001b[39m\u001b[39m'\u001b[39m\n\u001b[0;32m----> <a href='vscode-notebook-cell://ssh-remote%2Bcitra/home/amber/multitask_RNA/data_generation/pre-train/pretrain_dataset_creation.ipynb#Y121sdnNjb2RlLXJlbW90ZQ%3D%3D?line=1'>2</a>\u001b[0m h5f \u001b[39m=\u001b[39m h5py\u001b[39m.\u001b[39;49mFile(file_name, \u001b[39m'\u001b[39;49m\u001b[39mw\u001b[39;49m\u001b[39m'\u001b[39;49m)\n\u001b[1;32m      <a href='vscode-notebook-cell://ssh-remote%2Bcitra/home/amber/multitask_RNA/data_generation/pre-train/pretrain_dataset_creation.ipynb#Y121sdnNjb2RlLXJlbW90ZQ%3D%3D?line=2'>3</a>\u001b[0m h5f\u001b[39m.\u001b[39mcreate_dataset(\u001b[39m'\u001b[39m\u001b[39mtrain\u001b[39m\u001b[39m'\u001b[39m,data \u001b[39m=\u001b[39m train_data)\n\u001b[1;32m      <a href='vscode-notebook-cell://ssh-remote%2Bcitra/home/amber/multitask_RNA/data_generation/pre-train/pretrain_dataset_creation.ipynb#Y121sdnNjb2RlLXJlbW90ZQ%3D%3D?line=3'>4</a>\u001b[0m h5f\u001b[39m.\u001b[39mcreate_dataset(\u001b[39m'\u001b[39m\u001b[39mvalid\u001b[39m\u001b[39m'\u001b[39m,data \u001b[39m=\u001b[39m valid_data)\n",
      "File \u001b[0;32m~/tf_2/lib/python3.8/site-packages/h5py/_hl/files.py:507\u001b[0m, in \u001b[0;36mFile.__init__\u001b[0;34m(self, name, mode, driver, libver, userblock_size, swmr, rdcc_nslots, rdcc_nbytes, rdcc_w0, track_order, fs_strategy, fs_persist, fs_threshold, fs_page_size, page_buf_size, min_meta_keep, min_raw_keep, locking, **kwds)\u001b[0m\n\u001b[1;32m    502\u001b[0m     fapl \u001b[39m=\u001b[39m make_fapl(driver, libver, rdcc_nslots, rdcc_nbytes, rdcc_w0,\n\u001b[1;32m    503\u001b[0m                      locking, page_buf_size, min_meta_keep, min_raw_keep, \u001b[39m*\u001b[39m\u001b[39m*\u001b[39mkwds)\n\u001b[1;32m    504\u001b[0m     fcpl \u001b[39m=\u001b[39m make_fcpl(track_order\u001b[39m=\u001b[39mtrack_order, fs_strategy\u001b[39m=\u001b[39mfs_strategy,\n\u001b[1;32m    505\u001b[0m                      fs_persist\u001b[39m=\u001b[39mfs_persist, fs_threshold\u001b[39m=\u001b[39mfs_threshold,\n\u001b[1;32m    506\u001b[0m                      fs_page_size\u001b[39m=\u001b[39mfs_page_size)\n\u001b[0;32m--> 507\u001b[0m     fid \u001b[39m=\u001b[39m make_fid(name, mode, userblock_size, fapl, fcpl, swmr\u001b[39m=\u001b[39;49mswmr)\n\u001b[1;32m    509\u001b[0m \u001b[39mif\u001b[39;00m \u001b[39misinstance\u001b[39m(libver, \u001b[39mtuple\u001b[39m):\n\u001b[1;32m    510\u001b[0m     \u001b[39mself\u001b[39m\u001b[39m.\u001b[39m_libver \u001b[39m=\u001b[39m libver\n",
      "File \u001b[0;32m~/tf_2/lib/python3.8/site-packages/h5py/_hl/files.py:226\u001b[0m, in \u001b[0;36mmake_fid\u001b[0;34m(name, mode, userblock_size, fapl, fcpl, swmr)\u001b[0m\n\u001b[1;32m    224\u001b[0m     fid \u001b[39m=\u001b[39m h5f\u001b[39m.\u001b[39mcreate(name, h5f\u001b[39m.\u001b[39mACC_EXCL, fapl\u001b[39m=\u001b[39mfapl, fcpl\u001b[39m=\u001b[39mfcpl)\n\u001b[1;32m    225\u001b[0m \u001b[39melif\u001b[39;00m mode \u001b[39m==\u001b[39m \u001b[39m'\u001b[39m\u001b[39mw\u001b[39m\u001b[39m'\u001b[39m:\n\u001b[0;32m--> 226\u001b[0m     fid \u001b[39m=\u001b[39m h5f\u001b[39m.\u001b[39;49mcreate(name, h5f\u001b[39m.\u001b[39;49mACC_TRUNC, fapl\u001b[39m=\u001b[39;49mfapl, fcpl\u001b[39m=\u001b[39;49mfcpl)\n\u001b[1;32m    227\u001b[0m \u001b[39melif\u001b[39;00m mode \u001b[39m==\u001b[39m \u001b[39m'\u001b[39m\u001b[39ma\u001b[39m\u001b[39m'\u001b[39m:\n\u001b[1;32m    228\u001b[0m     \u001b[39m# Open in append mode (read/write).\u001b[39;00m\n\u001b[1;32m    229\u001b[0m     \u001b[39m# If that fails, create a new file only if it won't clobber an\u001b[39;00m\n\u001b[1;32m    230\u001b[0m     \u001b[39m# existing one (ACC_EXCL)\u001b[39;00m\n\u001b[1;32m    231\u001b[0m     \u001b[39mtry\u001b[39;00m:\n",
      "File \u001b[0;32mh5py/_objects.pyx:54\u001b[0m, in \u001b[0;36mh5py._objects.with_phil.wrapper\u001b[0;34m()\u001b[0m\n",
      "File \u001b[0;32mh5py/_objects.pyx:55\u001b[0m, in \u001b[0;36mh5py._objects.with_phil.wrapper\u001b[0;34m()\u001b[0m\n",
      "File \u001b[0;32mh5py/h5f.pyx:126\u001b[0m, in \u001b[0;36mh5py.h5f.create\u001b[0;34m()\u001b[0m\n",
      "\u001b[0;31mFileNotFoundError\u001b[0m: [Errno 2] Unable to create file (unable to open file: name = '../data/pre-train/510/rna_seq.h5', errno = 2, error message = 'No such file or directory', flags = 13, o_flags = 242)"
     ]
    }
   ],
   "source": [
    "file_name = '../../data/pre-train/'+str(length)+'/rna_seq.h5'\n",
    "h5f = h5py.File(file_name, 'w')\n",
    "h5f.create_dataset('train',data = train_data)\n",
    "h5f.create_dataset('valid',data = valid_data)\n",
    "h5f.close()"
   ]
  },
  {
   "cell_type": "code",
   "execution_count": null,
   "id": "f1f0491a",
   "metadata": {},
   "outputs": [],
   "source": []
  }
 ],
 "metadata": {
  "kernelspec": {
   "display_name": "Python 3.8.10 ('tf_2': venv)",
   "language": "python",
   "name": "python3"
  },
  "language_info": {
   "codemirror_mode": {
    "name": "ipython",
    "version": 3
   },
   "file_extension": ".py",
   "mimetype": "text/x-python",
   "name": "python",
   "nbconvert_exporter": "python",
   "pygments_lexer": "ipython3",
   "version": "3.8.10"
  },
  "vscode": {
   "interpreter": {
    "hash": "9e8284e1417b754e460c2bde3a4a4837c482fa82ceb7d52f4acbe340dd4b4559"
   }
  }
 },
 "nbformat": 4,
 "nbformat_minor": 5
}
