{
 "cells": [
  {
   "cell_type": "code",
   "execution_count": 1,
   "metadata": {},
   "outputs": [
    {
     "name": "stderr",
     "output_type": "stream",
     "text": [
      "2023-04-25 13:23:18.624157: I tensorflow/core/platform/cpu_feature_guard.cc:182] This TensorFlow binary is optimized to use available CPU instructions in performance-critical operations.\n",
      "To enable the following instructions: AVX2 FMA, in other operations, rebuild TensorFlow with the appropriate compiler flags.\n",
      "2023-04-25 13:23:19.173400: W tensorflow/compiler/tf2tensorrt/utils/py_utils.cc:38] TF-TRT Warning: Could not find TensorRT\n"
     ]
    }
   ],
   "source": [
    "import sys\n",
    "import numpy as np\n",
    "import os, h5py\n",
    "import pandas as pd\n",
    "from gopher import variant_effect"
   ]
  },
  {
   "cell_type": "code",
   "execution_count": 2,
   "metadata": {},
   "outputs": [],
   "source": [
    "# read df and add strand\n",
    "all_dfs = []\n",
    "cagi_data = '../../data/CAGI/raw/'\n",
    "\n",
    "for filename in os.listdir(cagi_data):\n",
    "    prefix, regulator = filename.split('.tsv')[0].split('_')\n",
    "\n",
    "    one_reg = pd.read_csv(os.path.join(cagi_data,filename), skiprows=7, sep='\\t', header=None)\n",
    "    one_reg['regulator'] = regulator\n",
    "    one_reg['set'] = prefix\n",
    "    all_dfs.append(one_reg)\n",
    "\n",
    "combined_cagi = pd.concat(all_dfs)\n",
    "combined_cagi.insert(4, 'strand', '+')\n",
    "combined_cagi.insert(2,'end',combined_cagi.iloc[:,1]+1)\n",
    "combined_cagi.iloc[:,0] = 'chr'+combined_cagi.iloc[:,0].astype(str)\n"
   ]
  },
  {
   "cell_type": "code",
   "execution_count": 12,
   "metadata": {},
   "outputs": [],
   "source": [
    "K562_file = '../../data/CAGI/K562_cagi.bed'\n",
    "K562_cagi = combined_cagi[combined_cagi['regulator']=='PKLR']\n",
    "K562_cagi.to_csv(K562_file, sep='\\t', header=False, index=None)\n",
    "hepg2_file = '../../data/CAGI/HepG2_cagi.bed'\n",
    "exp_list = ['F9','LDLR','SORT1']\n",
    "hepg2_cagi = combined_cagi[combined_cagi['regulator'].isin(exp_list)]\n",
    "hepg2_cagi.to_csv(hepg2_file, sep='\\t', header=False, index=None)"
   ]
  },
  {
   "cell_type": "code",
   "execution_count": 14,
   "metadata": {},
   "outputs": [],
   "source": [
    "output_filename = '../../data/CAGI/cagi_hepg2_230.bed'\n",
    "variant_effect.expand_range(hepg2_file, output_filename,window=230)\n",
    "output_filename = '../../data/CAGI/cagi_k562_230.bed'\n",
    "variant_effect.expand_range(K562_file, output_filename,window=230)"
   ]
  },
  {
   "cell_type": "code",
   "execution_count": 15,
   "metadata": {},
   "outputs": [],
   "source": [
    "!bedtools getfasta -fi /home/ztang/ref/hg19/hg19.fa -bed /home/ztang/multitask_RNA/data/CAGI/cagi_hepg2_230.bed -fo /home/ztang/multitask_RNA/data/CAGI/cagi_hepg2.fa\n",
    "!bedtools getfasta -fi /home/ztang/ref/hg19/hg19.fa -bed /home/ztang/multitask_RNA/data/CAGI/cagi_k562_230.bed -fo /home/ztang/multitask_RNA/data/CAGI/cagi_k562.fa"
   ]
  },
  {
   "cell_type": "code",
   "execution_count": 33,
   "metadata": {},
   "outputs": [],
   "source": [
    "for celltype in ['k562','hepg2']:\n",
    "    fa_filename = '../../data/CAGI/cagi_'+celltype+'.fa'\n",
    "    output_filename = '../../data/CAGI/cagi_'+celltype+'_230.bed'\n",
    "    coords_list, seqs_list = variant_effect.convert_bed_to_seq(output_filename, fa_filename, genomefile='/home/ztang/ref/hg19/hg19.fa')\n",
    "    window = 230\n",
    "    bad_lines = []\n",
    "    N = len(seqs_list)\n",
    "    nonneg_df = pd.read_csv(output_filename, sep='\\t', header=None)\n",
    "    mid = window // 2\n",
    "    onehot_ref = []\n",
    "    onehot_alt = []\n",
    "    coord_np = np.empty((N, 4)) # chrom, start, end coordinate array\n",
    "    pos_dict = {'+': 114, '-':115}\n",
    "    for i,(chr_s_e, seq) in enumerate(zip(coords_list, seqs_list)):\n",
    "        alt = ''\n",
    "        strand = chr_s_e.split('(')[-1].split(')')[0]\n",
    "        pos = pos_dict[strand]\n",
    "    #     coord_np[i,3] = pos_dict[strand] - 1535\n",
    "\n",
    "        if seq[pos] != nonneg_df.iloc[i, 3]:\n",
    "    #         print('Error in line ' + str(i))\n",
    "            bad_lines.append(i)\n",
    "        else:\n",
    "            alt = nonneg_df.iloc[i,4]\n",
    "\n",
    "            onehot = variant_effect.dna_one_hot(seq)\n",
    "            mutated_onehot = onehot.copy()\n",
    "            mutated_onehot[pos] = variant_effect.dna_one_hot(alt)[0]\n",
    "            onehot_ref.append(onehot)\n",
    "\n",
    "            onehot_alt.append(mutated_onehot) \n",
    "\n",
    "    onehot_alt = np.array(onehot_alt)\n",
    "    onehot_ref = np.array(onehot_ref)\n",
    "\n",
    "    included_df = nonneg_df[~nonneg_df.index.isin(bad_lines)]\n",
    "    included_df.to_csv('../../data/CAGI/'+celltype+'_metadata.csv')\n",
    "\n",
    "    onehot_ref_alt = h5py.File('../../data/CAGI/'+celltype+'_onehot.h5', 'w')\n",
    "    onehot_ref_alt.create_dataset('ref', data=onehot_ref)\n",
    "    onehot_ref_alt.create_dataset('alt', data=onehot_alt)\n",
    "    onehot_ref_alt.close()"
   ]
  },
  {
   "cell_type": "code",
   "execution_count": 34,
   "metadata": {},
   "outputs": [
    {
     "data": {
      "text/plain": [
       "[1385, 1386, 1387, 2056, 2057]"
      ]
     },
     "execution_count": 34,
     "metadata": {},
     "output_type": "execute_result"
    }
   ],
   "source": [
    "bad_lines"
   ]
  },
  {
   "cell_type": "code",
   "execution_count": 39,
   "metadata": {},
   "outputs": [
    {
     "data": {
      "text/plain": [
       "'G'"
      ]
     },
     "execution_count": 39,
     "metadata": {},
     "output_type": "execute_result"
    }
   ],
   "source": [
    "seqs_list[2056][1]"
   ]
  },
  {
   "cell_type": "code",
   "execution_count": 38,
   "metadata": {},
   "outputs": [
    {
     "data": {
      "text/plain": [
       "0         chr1\n",
       "1    109817158\n",
       "2    109817388\n",
       "3            C\n",
       "4            A\n",
       "5            +\n",
       "6        -0.23\n",
       "7         0.02\n",
       "8        SORT1\n",
       "9    challenge\n",
       "Name: 2056, dtype: object"
      ]
     },
     "execution_count": 38,
     "metadata": {},
     "output_type": "execute_result"
    }
   ],
   "source": [
    "nonneg_df.iloc[2056]"
   ]
  },
  {
   "cell_type": "code",
   "execution_count": null,
   "metadata": {},
   "outputs": [],
   "source": []
  }
 ],
 "metadata": {
  "kernelspec": {
   "display_name": "tf_torch",
   "language": "python",
   "name": "python3"
  },
  "language_info": {
   "codemirror_mode": {
    "name": "ipython",
    "version": 3
   },
   "file_extension": ".py",
   "mimetype": "text/x-python",
   "name": "python",
   "nbconvert_exporter": "python",
   "pygments_lexer": "ipython3",
   "version": "3.10.10"
  },
  "orig_nbformat": 4
 },
 "nbformat": 4,
 "nbformat_minor": 2
}
