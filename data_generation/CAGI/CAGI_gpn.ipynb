{
 "cells": [
  {
   "cell_type": "code",
   "execution_count": 4,
   "metadata": {},
   "outputs": [
    {
     "name": "stderr",
     "output_type": "stream",
     "text": [
      "Some weights of the model checkpoint at /home/ztang/multitask_RNA/model/GPN_human/checkpoint-2000000 were not used when initializing ConvNetModel: ['cls.decoder.2.weight', 'cls.decoder.3.weight', 'cls.decoder.0.weight', 'cls.decoder.2.bias', 'cls.decoder.3.bias', 'cls.decoder.0.bias']\n",
      "- This IS expected if you are initializing ConvNetModel from the checkpoint of a model trained on another task or with another architecture (e.g. initializing a BertForSequenceClassification model from a BertForPreTraining model).\n",
      "- This IS NOT expected if you are initializing ConvNetModel from the checkpoint of a model that you expect to be exactly identical (initializing a BertForSequenceClassification model from a BertForSequenceClassification model).\n"
     ]
    }
   ],
   "source": [
    "import gpn.model\n",
    "import matplotlib.pyplot as plt\n",
    "import pandas as pd\n",
    "import seaborn as sns\n",
    "from sklearn.preprocessing import StandardScaler\n",
    "import torch\n",
    "from transformers import AutoModel, AutoModelForMaskedLM, AutoTokenizer\n",
    "import h5py\n",
    "import sys\n",
    "from tqdm import tqdm\n",
    "import numpy as np\n",
    "sys.path.append('../')\n",
    "import utils\n",
    "import os\n",
    "from tqdm import tqdm\n",
    "os.environ['CUDA_VISIBLE_DEVICES'] = '0'\n",
    "\n",
    "model = AutoModel.from_pretrained(\"/home/ztang/multitask_RNA/model/GPN_human/checkpoint-2000000\").to('cuda')\n",
    "tokenizer = AutoTokenizer.from_pretrained(\"/home/ztang/multitask_RNA/model/GPN_human/checkpoint-2000000\")\n",
    "\n",
    "celltype = 'K562'\n",
    "file = h5py.File('/home/ztang/multitask_RNA/data/CAGI/'+celltype+'/onehot.h5','r')"
   ]
  },
  {
   "cell_type": "code",
   "execution_count": 5,
   "metadata": {},
   "outputs": [
    {
     "name": "stderr",
     "output_type": "stream",
     "text": [
      "100%|██████████| 23/23 [00:01<00:00, 17.12it/s]\n",
      "100%|██████████| 23/23 [00:01<00:00, 17.32it/s]\n"
     ]
    }
   ],
   "source": [
    "gpn_output = h5py.File('../../data/CAGI_embed/'+celltype+'/gpn.h5','w')\n",
    "N,L,A = file['alt'].shape\n",
    "batch_size = 64\n",
    "\n",
    "for set in ['alt','ref']:\n",
    "    embed = []\n",
    "    for i in tqdm(range(0,N,batch_size)):\n",
    "        onehot_seq = file[set][i:i+batch_size]\n",
    "        seq = utils.onehot_to_seq(onehot_seq)\n",
    "        token = tokenizer.batch_encode_plus(seq)['input_ids']\n",
    "        output = model(torch.tensor(token).to('cuda')).last_hidden_state.cpu().detach().numpy()\n",
    "        embed.extend(output)\n",
    "    gpn_output.create_dataset(name=set,data = np.array(embed))\n"
   ]
  },
  {
   "cell_type": "code",
   "execution_count": 6,
   "metadata": {},
   "outputs": [],
   "source": [
    "gpn_output.close()"
   ]
  },
  {
   "cell_type": "code",
   "execution_count": null,
   "metadata": {},
   "outputs": [],
   "source": []
  }
 ],
 "metadata": {
  "kernelspec": {
   "display_name": "gpn_env",
   "language": "python",
   "name": "python3"
  },
  "language_info": {
   "codemirror_mode": {
    "name": "ipython",
    "version": 3
   },
   "file_extension": ".py",
   "mimetype": "text/x-python",
   "name": "python",
   "nbconvert_exporter": "python",
   "pygments_lexer": "ipython3",
   "version": "3.9.0"
  },
  "orig_nbformat": 4
 },
 "nbformat": 4,
 "nbformat_minor": 2
}
