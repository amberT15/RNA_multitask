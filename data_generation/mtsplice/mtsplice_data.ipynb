{
 "cells": [
  {
   "cell_type": "code",
   "execution_count": 1,
   "metadata": {},
   "outputs": [],
   "source": [
    "import mt_preprocess\n",
    "import h5py\n",
    "import numpy as np\n",
    "import example\n",
    "from tqdm import tqdm\n",
    "import math\n",
    "from math import exp"
   ]
  },
  {
   "cell_type": "code",
   "execution_count": 2,
   "metadata": {},
   "outputs": [
    {
     "name": "stderr",
     "output_type": "stream",
     "text": [
      "100%|██████████| 11840/11840 [00:04<00:00, 2479.94it/s]\n",
      "100%|██████████| 1088/1088 [00:00<00:00, 2523.11it/s]\n",
      "100%|██████████| 38028/38028 [00:15<00:00, 2474.24it/s]\n"
     ]
    }
   ],
   "source": [
    "file = h5py.File('../../data/mtsplice/seq.h5','w')\n",
    "\n",
    "for set in ['test','valid','train']:\n",
    "    seq_cache=[]\n",
    "    target_cache=[]\n",
    "    mean_cache = []\n",
    "    data_loader = mt_preprocess.Ascot('../../data/mtsplice/gtex_'+set+'_psi.csv',\n",
    "                                    '/home/ztang/ref/hg38/hg38.fa',\n",
    "                                    length = 400,\n",
    "                                    tissues=mt_preprocess.tissues,\n",
    "                                    encode=True,\n",
    "                                    pad_trim_same_l=False,\n",
    "                                    flanking=300,\n",
    "                                    flanking_exons=False,\n",
    "                                    region_anno=False,\n",
    "                                    seq_align='both',\n",
    "                                    mean_inpute=False,\n",
    "                                    use_logit=True)\n",
    "    len = data_loader.__len__()\n",
    "    for i in tqdm(range(len)):\n",
    "        item = data_loader.__getitem__(i)\n",
    "        target = item[1]\n",
    "        seq = np.concatenate((item[0]['seql'],item[0]['seqr']))\n",
    "        seq_cache.append(seq)\n",
    "        target_cache.append(target)\n",
    "        mean_cache.append(item[0]['mean'])\n",
    "\n",
    "    file.create_dataset('x_'+set, data= np.array(seq_cache))\n",
    "    file.create_dataset('y_'+set, data = np.array(target_cache))\n",
    "    file.create_dataset('m_'+set, data = np.array(mean_cache))\n",
    "\n",
    "file.close()\n"
   ]
  },
  {
   "cell_type": "code",
   "execution_count": 6,
   "metadata": {},
   "outputs": [
    {
     "name": "stderr",
     "output_type": "stream",
     "text": [
      "100%|██████████| 11840/11840 [00:04<00:00, 2434.93it/s]\n",
      "100%|██████████| 1088/1088 [00:00<00:00, 2441.32it/s]\n",
      "100%|██████████| 38028/38028 [00:15<00:00, 2436.26it/s]\n"
     ]
    }
   ],
   "source": [
    "file = h5py.File('../../data/mtsplice/delta_logit.h5','w')\n",
    "\n",
    "for set in ['test','valid','train']:\n",
    "    seq_cache=[]\n",
    "    target_cache=[]\n",
    "    data_loader = mt_preprocess.Ascot('../../data/mtsplice/gtex_'+set+'_psi.csv',\n",
    "                                    '/home/ztang/ref/hg38/hg38.fa',\n",
    "                                    length = 400,\n",
    "                                    tissues=mt_preprocess.tissues,\n",
    "                                    encode=True,\n",
    "                                    pad_trim_same_l=False,\n",
    "                                    flanking=300,\n",
    "                                    flanking_exons=False,\n",
    "                                    region_anno=False,\n",
    "                                    seq_align='both',\n",
    "                                    mean_inpute=False,\n",
    "                                    use_logit=True)\n",
    "    len = data_loader.__len__()\n",
    "    for i in tqdm(range(len)):\n",
    "        item = data_loader.__getitem__(i)\n",
    "        target = item[1]\n",
    "        mean = item[0]['mean']\n",
    "        target = target - mean\n",
    "        target_m = np.vstack((target,mean))\n",
    "        seq = np.concatenate((item[0]['seql'],item[0]['seqr']))\n",
    "        seq_cache.append(seq)\n",
    "        target_cache.append(target_m.T)\n",
    "\n",
    "    file.create_dataset('x_'+set, data= np.array(seq_cache))\n",
    "    file.create_dataset('y_'+set, data = np.array(target_cache))\n",
    "\n",
    "file.close()\n"
   ]
  },
  {
   "cell_type": "code",
   "execution_count": 9,
   "metadata": {},
   "outputs": [
    {
     "data": {
      "text/plain": [
       "array([[        nan, -2.4671269 ],\n",
       "       [-9.04578856, -2.4671269 ],\n",
       "       [-0.34818145, -2.4671269 ],\n",
       "       [ 0.50135   , -2.4671269 ],\n",
       "       [ 0.34207485, -2.4671269 ],\n",
       "       [ 0.14253629, -2.4671269 ],\n",
       "       [ 0.06571263, -2.4671269 ],\n",
       "       [-0.11301685, -2.4671269 ],\n",
       "       [        nan, -2.4671269 ],\n",
       "       [-0.88277719, -2.4671269 ],\n",
       "       [-9.04578856, -2.4671269 ],\n",
       "       [-0.51037526, -2.4671269 ],\n",
       "       [-1.26429163, -2.4671269 ],\n",
       "       [-1.01138451, -2.4671269 ],\n",
       "       [-0.66131572, -2.4671269 ],\n",
       "       [-1.16725974, -2.4671269 ],\n",
       "       [-0.67856257, -2.4671269 ],\n",
       "       [-0.49513809, -2.4671269 ],\n",
       "       [-0.97398028, -2.4671269 ],\n",
       "       [-9.04578856, -2.4671269 ],\n",
       "       [-0.82870996, -2.4671269 ],\n",
       "       [-9.04578856, -2.4671269 ],\n",
       "       [ 0.08085199, -2.4671269 ],\n",
       "       [ 0.09377274, -2.4671269 ],\n",
       "       [-0.04518233, -2.4671269 ],\n",
       "       [ 0.18611429, -2.4671269 ],\n",
       "       [        nan, -2.4671269 ],\n",
       "       [        nan, -2.4671269 ],\n",
       "       [ 0.12860562, -2.4671269 ],\n",
       "       [ 0.38057854, -2.4671269 ],\n",
       "       [-0.31989091, -2.4671269 ],\n",
       "       [-0.08323006, -2.4671269 ],\n",
       "       [ 0.5798511 , -2.4671269 ],\n",
       "       [ 0.74914294, -2.4671269 ],\n",
       "       [ 0.39672966, -2.4671269 ],\n",
       "       [ 0.15415636, -2.4671269 ],\n",
       "       [-0.06063358, -2.4671269 ],\n",
       "       [ 0.17197521, -2.4671269 ],\n",
       "       [ 0.22663671, -2.4671269 ],\n",
       "       [-0.3230531 , -2.4671269 ],\n",
       "       [-0.26110461, -2.4671269 ],\n",
       "       [-0.03431005, -2.4671269 ],\n",
       "       [ 0.04803661, -2.4671269 ],\n",
       "       [ 0.86126679, -2.4671269 ],\n",
       "       [ 0.36080504, -2.4671269 ],\n",
       "       [ 0.55617301, -2.4671269 ],\n",
       "       [ 0.58365191, -2.4671269 ],\n",
       "       [ 0.48747077, -2.4671269 ],\n",
       "       [-0.09080488, -2.4671269 ],\n",
       "       [ 0.53546285, -2.4671269 ],\n",
       "       [ 0.32403065, -2.4671269 ],\n",
       "       [ 0.09247851, -2.4671269 ],\n",
       "       [ 0.95647046, -2.4671269 ],\n",
       "       [ 0.09455716, -2.4671269 ],\n",
       "       [-0.05396917, -2.4671269 ],\n",
       "       [ 0.26988736, -2.4671269 ]])"
      ]
     },
     "execution_count": 9,
     "metadata": {},
     "output_type": "execute_result"
    }
   ],
   "source": [
    "np.array(target_cache)[0]"
   ]
  },
  {
   "cell_type": "code",
   "execution_count": 15,
   "metadata": {},
   "outputs": [],
   "source": [
    "import mt_preprocess\n",
    "import h5py\n",
    "import numpy as np\n",
    "import example\n",
    "from tqdm import tqdm\n",
    "import math\n",
    "from math import exp\n",
    "import sys\n",
    "sys.path.append('/home/ztang/multitask_RNA/data_generation/mtsplice/')\n",
    "import sequence \n",
    "data_loader = mt_preprocess.Ascot('../../data/mtsplice/gtex_test_psi.csv',\n",
    "                                    '/home/ztang/ref/hg19/hg19.fa',\n",
    "                                    length = 400,\n",
    "                                    tissues=mt_preprocess.tissues,\n",
    "                                    encode=True,\n",
    "                                    pad_trim_same_l=False,\n",
    "                                    flanking=300,\n",
    "                                    flanking_exons=False,\n",
    "                                    region_anno=False,\n",
    "                                    seq_align='both',\n",
    "                                    mean_inpute=False,\n",
    "                                    use_logit=True)"
   ]
  },
  {
   "cell_type": "code",
   "execution_count": 16,
   "metadata": {},
   "outputs": [
    {
     "data": {
      "text/plain": [
       "chrom                        chr2\n",
       "exon_start               94792313\n",
       "exon_end                 94792358\n",
       "intron_start             94791144\n",
       "intron_end               94795795\n",
       "strand                          -\n",
       "exon_id                  GT_01122\n",
       "gene_id         ENSG00000204717.4\n",
       "Name: 280, dtype: object"
      ]
     },
     "execution_count": 16,
     "metadata": {},
     "output_type": "execute_result"
    }
   ],
   "source": [
    "\n",
    "e_exon = data_loader.exons.iloc[280]\n",
    "data_loader.exons.iloc[280]"
   ]
  },
  {
   "cell_type": "code",
   "execution_count": 17,
   "metadata": {},
   "outputs": [],
   "source": [
    "seq = data_loader.fasta.get_seq(e_exon.chrom,e_exon.exon_start - 300,e_exon.exon_end+300,True)"
   ]
  },
  {
   "cell_type": "code",
   "execution_count": 18,
   "metadata": {},
   "outputs": [],
   "source": [
    "seq = seq.seq.upper()"
   ]
  },
  {
   "cell_type": "code",
   "execution_count": 20,
   "metadata": {},
   "outputs": [
    {
     "data": {
      "text/plain": [
       "array([[0., 0., 0., 0.],\n",
       "       [0., 0., 0., 0.],\n",
       "       [0., 0., 0., 0.],\n",
       "       ...,\n",
       "       [0., 0., 0., 0.],\n",
       "       [0., 0., 0., 0.],\n",
       "       [0., 0., 0., 0.]])"
      ]
     },
     "execution_count": 20,
     "metadata": {},
     "output_type": "execute_result"
    }
   ],
   "source": [
    "sequence.encodeDNA([seq],maxlen=400,seq_align='start')[0]"
   ]
  },
  {
   "cell_type": "code",
   "execution_count": 3,
   "metadata": {},
   "outputs": [
    {
     "name": "stdout",
     "output_type": "stream",
     "text": [
      "646\n"
     ]
    },
    {
     "data": {
      "text/plain": [
       "{'fasta': 'NNNNNNNNNNNNNNNNNNNNNNNNNNNNNNNNNNNNNNNNNNNNNNNNNNNNNNNNNNNNNNNNNNNNNNNNNNNNNNNNNNNNNNNNNNNNNNNNNNNNNNNNNNNNNNNNNNNNNNNNNNNNNNNNNNNNNNNNNNNNNNNNNNNNNNNNNNNNNNNNNNNNNNNNNNNNNNNNNNNNNNNNNNNNNNNNNNNNNNNNNNNNNNNNNNNNNNNNNNNNNNNNNNNNNNNNNNNNNNNNNNNNNNNNNNNNNNNNNNNNNNNNNNNNNNNNNNNNNNNNNNNNNNNNNNNNNNNNNNNNNNNNNNNNNNNNNNNNNNNNNNNNNNNNNNNNNNNNNNNNNNNNNNNNNNNNNNNNNNNNNNNNNNNNNNNNNNNNNNNNNNNNNNNNNNNNNNNNNNNNNNNNNNNNNNNNNNNNNNNNNNNNNNNNNNNNNNNNNNNNNNNNNNNNNNNNNNNNNNNNNNNNNNNNNNNNNNNNNNNNNNNNNNNNNNNNNNNNNNNNNNNNNNNNNNNNNNNNNNNNNNNNNNNNNNNNNNNNNNNNNNNNNNNNNNNNNNNNNNNNNNNNNNNNNNNNNNNNNNNNNNNNNNNNNNNNNNNNNNNNNNNNNNNNNNNNNNNNNNNNNNNNNNNNNNNNNNNNNNNNNNNNNN',\n",
       " 'seql': array([[0., 0., 0., 0.],\n",
       "        [0., 0., 0., 0.],\n",
       "        [0., 0., 0., 0.],\n",
       "        ...,\n",
       "        [0., 0., 0., 0.],\n",
       "        [0., 0., 0., 0.],\n",
       "        [0., 0., 0., 0.]]),\n",
       " 'seqr': array([[0., 0., 0., 0.],\n",
       "        [0., 0., 0., 0.],\n",
       "        [0., 0., 0., 0.],\n",
       "        ...,\n",
       "        [0., 0., 0., 0.],\n",
       "        [0., 0., 0., 0.],\n",
       "        [0., 0., 0., 0.]]),\n",
       " 'mean': array([1.50703529, 1.50703529, 1.50703529, 1.50703529, 1.50703529,\n",
       "        1.50703529, 1.50703529, 1.50703529, 1.50703529, 1.50703529,\n",
       "        1.50703529, 1.50703529, 1.50703529, 1.50703529, 1.50703529,\n",
       "        1.50703529, 1.50703529, 1.50703529, 1.50703529, 1.50703529,\n",
       "        1.50703529, 1.50703529, 1.50703529, 1.50703529, 1.50703529,\n",
       "        1.50703529, 1.50703529, 1.50703529, 1.50703529, 1.50703529,\n",
       "        1.50703529, 1.50703529, 1.50703529, 1.50703529, 1.50703529,\n",
       "        1.50703529, 1.50703529, 1.50703529, 1.50703529, 1.50703529,\n",
       "        1.50703529, 1.50703529, 1.50703529, 1.50703529, 1.50703529,\n",
       "        1.50703529, 1.50703529, 1.50703529, 1.50703529, 1.50703529,\n",
       "        1.50703529, 1.50703529, 1.50703529, 1.50703529, 1.50703529,\n",
       "        1.50703529]),\n",
       " 'std': 0.3263098684267902}"
      ]
     },
     "execution_count": 3,
     "metadata": {},
     "output_type": "execute_result"
    }
   ],
   "source": [
    "data_loader.__getitem__(280)[0]"
   ]
  },
  {
   "cell_type": "code",
   "execution_count": null,
   "metadata": {},
   "outputs": [],
   "source": []
  },
  {
   "cell_type": "code",
   "execution_count": null,
   "metadata": {},
   "outputs": [],
   "source": []
  },
  {
   "cell_type": "code",
   "execution_count": 8,
   "metadata": {},
   "outputs": [
    {
     "name": "stderr",
     "output_type": "stream",
     "text": [
      "100%|██████████| 11840/11840 [00:04<00:00, 2479.86it/s]\n",
      "100%|██████████| 1088/1088 [00:00<00:00, 2474.96it/s]\n",
      "  5%|▍         | 1741/38028 [00:00<00:14, 2451.42it/s]\n"
     ]
    },
    {
     "ename": "KeyboardInterrupt",
     "evalue": "",
     "output_type": "error",
     "traceback": [
      "\u001b[0;31m---------------------------------------------------------------------------\u001b[0m",
      "\u001b[0;31mKeyboardInterrupt\u001b[0m                         Traceback (most recent call last)",
      "Cell \u001b[0;32mIn[8], line 28\u001b[0m\n\u001b[1;32m     26\u001b[0m \u001b[39mlen\u001b[39m \u001b[39m=\u001b[39m data_loader\u001b[39m.\u001b[39m\u001b[39m__len__\u001b[39m()\n\u001b[1;32m     27\u001b[0m \u001b[39mfor\u001b[39;00m i \u001b[39min\u001b[39;00m tqdm(\u001b[39mrange\u001b[39m(\u001b[39mlen\u001b[39m)):\n\u001b[0;32m---> 28\u001b[0m     item \u001b[39m=\u001b[39m data_loader\u001b[39m.\u001b[39;49m\u001b[39m__getitem__\u001b[39;49m(i)\n",
      "File \u001b[0;32m/om/home/ztang/multitask_RNA/data_generation/mtsplice/mt_preprocess.py:221\u001b[0m, in \u001b[0;36mAscot.__getitem__\u001b[0;34m(self, idx)\u001b[0m\n\u001b[1;32m    220\u001b[0m \u001b[39mdef\u001b[39;00m \u001b[39m__getitem__\u001b[39m(\u001b[39mself\u001b[39m, idx):\n\u001b[0;32m--> 221\u001b[0m     exon \u001b[39m=\u001b[39m \u001b[39mself\u001b[39;49m\u001b[39m.\u001b[39;49mexons\u001b[39m.\u001b[39;49miloc[idx]\n\u001b[1;32m    222\u001b[0m     \u001b[39mfrom\u001b[39;00m \u001b[39mcopy\u001b[39;00m \u001b[39mimport\u001b[39;00m deepcopy\n\u001b[1;32m    223\u001b[0m     psi \u001b[39m=\u001b[39m deepcopy(\u001b[39mself\u001b[39m\u001b[39m.\u001b[39mPSI[idx])\n",
      "File \u001b[0;32m~/.conda/envs/jax_tf/lib/python3.9/site-packages/pandas/core/indexing.py:1103\u001b[0m, in \u001b[0;36m_LocationIndexer.__getitem__\u001b[0;34m(self, key)\u001b[0m\n\u001b[1;32m   1100\u001b[0m axis \u001b[39m=\u001b[39m \u001b[39mself\u001b[39m\u001b[39m.\u001b[39maxis \u001b[39mor\u001b[39;00m \u001b[39m0\u001b[39m\n\u001b[1;32m   1102\u001b[0m maybe_callable \u001b[39m=\u001b[39m com\u001b[39m.\u001b[39mapply_if_callable(key, \u001b[39mself\u001b[39m\u001b[39m.\u001b[39mobj)\n\u001b[0;32m-> 1103\u001b[0m \u001b[39mreturn\u001b[39;00m \u001b[39mself\u001b[39;49m\u001b[39m.\u001b[39;49m_getitem_axis(maybe_callable, axis\u001b[39m=\u001b[39;49maxis)\n",
      "File \u001b[0;32m~/.conda/envs/jax_tf/lib/python3.9/site-packages/pandas/core/indexing.py:1658\u001b[0m, in \u001b[0;36m_iLocIndexer._getitem_axis\u001b[0;34m(self, key, axis)\u001b[0m\n\u001b[1;32m   1655\u001b[0m \u001b[39m# validate the location\u001b[39;00m\n\u001b[1;32m   1656\u001b[0m \u001b[39mself\u001b[39m\u001b[39m.\u001b[39m_validate_integer(key, axis)\n\u001b[0;32m-> 1658\u001b[0m \u001b[39mreturn\u001b[39;00m \u001b[39mself\u001b[39;49m\u001b[39m.\u001b[39;49mobj\u001b[39m.\u001b[39;49m_ixs(key, axis\u001b[39m=\u001b[39;49maxis)\n",
      "File \u001b[0;32m~/.conda/envs/jax_tf/lib/python3.9/site-packages/pandas/core/frame.py:3656\u001b[0m, in \u001b[0;36mDataFrame._ixs\u001b[0;34m(self, i, axis)\u001b[0m\n\u001b[1;32m   3654\u001b[0m \u001b[39m# if we are a copy, mark as such\u001b[39;00m\n\u001b[1;32m   3655\u001b[0m copy \u001b[39m=\u001b[39m \u001b[39misinstance\u001b[39m(new_mgr\u001b[39m.\u001b[39marray, np\u001b[39m.\u001b[39mndarray) \u001b[39mand\u001b[39;00m new_mgr\u001b[39m.\u001b[39marray\u001b[39m.\u001b[39mbase \u001b[39mis\u001b[39;00m \u001b[39mNone\u001b[39;00m\n\u001b[0;32m-> 3656\u001b[0m result \u001b[39m=\u001b[39m \u001b[39mself\u001b[39;49m\u001b[39m.\u001b[39;49m_constructor_sliced(new_mgr, name\u001b[39m=\u001b[39;49m\u001b[39mself\u001b[39;49m\u001b[39m.\u001b[39;49mindex[i])\u001b[39m.\u001b[39m__finalize__(\n\u001b[1;32m   3657\u001b[0m     \u001b[39mself\u001b[39m\n\u001b[1;32m   3658\u001b[0m )\n\u001b[1;32m   3659\u001b[0m result\u001b[39m.\u001b[39m_set_is_copy(\u001b[39mself\u001b[39m, copy\u001b[39m=\u001b[39mcopy)\n\u001b[1;32m   3660\u001b[0m \u001b[39mreturn\u001b[39;00m result\n",
      "File \u001b[0;32m~/.conda/envs/jax_tf/lib/python3.9/site-packages/pandas/core/series.py:391\u001b[0m, in \u001b[0;36mSeries.__init__\u001b[0;34m(self, data, index, dtype, name, copy, fastpath)\u001b[0m\n\u001b[1;32m    389\u001b[0m         \u001b[39mobject\u001b[39m\u001b[39m.\u001b[39m\u001b[39m__setattr__\u001b[39m(\u001b[39mself\u001b[39m, \u001b[39m\"\u001b[39m\u001b[39m_name\u001b[39m\u001b[39m\"\u001b[39m, name)\n\u001b[1;32m    390\u001b[0m     \u001b[39melse\u001b[39;00m:\n\u001b[0;32m--> 391\u001b[0m         \u001b[39mself\u001b[39;49m\u001b[39m.\u001b[39;49mname \u001b[39m=\u001b[39m name\n\u001b[1;32m    392\u001b[0m     \u001b[39mreturn\u001b[39;00m\n\u001b[1;32m    394\u001b[0m \u001b[39mif\u001b[39;00m \u001b[39misinstance\u001b[39m(data, (ExtensionArray, np\u001b[39m.\u001b[39mndarray)):\n",
      "\u001b[0;31mKeyboardInterrupt\u001b[0m: "
     ]
    }
   ],
   "source": [
    "import mt_preprocess\n",
    "import h5py\n",
    "import numpy as np\n",
    "import example\n",
    "from tqdm import tqdm\n",
    "import math\n",
    "from math import exp\n",
    "import sys\n",
    "sys.path.append('/home/ztang/multitask_RNA/data_generation/mtsplice/')\n",
    "\n",
    "for set in ['test','valid','train']:\n",
    "    seq_cache=[]\n",
    "    target_cache=[]\n",
    "    data_loader = mt_preprocess.Ascot('../../data/mtsplice/gtex_'+set+'_psi.csv',\n",
    "                                    '/home/ztang/ref/hg38/hg38.fa',\n",
    "                                    length = 400,\n",
    "                                    tissues=mt_preprocess.tissues,\n",
    "                                    encode=True,\n",
    "                                    pad_trim_same_l=False,\n",
    "                                    flanking=300,\n",
    "                                    flanking_exons=False,\n",
    "                                    region_anno=False,\n",
    "                                    seq_align='both',\n",
    "                                    mean_inpute=False,\n",
    "                                    use_logit=True)\n",
    "    len = data_loader.__len__()\n",
    "    for i in tqdm(range(len)):\n",
    "        item = data_loader.__getitem__(i)"
   ]
  },
  {
   "cell_type": "code",
   "execution_count": 5,
   "metadata": {},
   "outputs": [
    {
     "data": {
      "text/plain": [
       "chrom                        chr5\n",
       "exon_start              181320646\n",
       "exon_end                181320878\n",
       "intron_start            181320553\n",
       "intron_end              181321651\n",
       "strand                          +\n",
       "exon_id                  GT_01303\n",
       "gene_id         ENSG00000238035.8\n",
       "Name: 368, dtype: object"
      ]
     },
     "execution_count": 5,
     "metadata": {},
     "output_type": "execute_result"
    }
   ],
   "source": [
    "test = data_loader.exons.iloc[368]\n",
    "data_loader.exons.iloc[368]"
   ]
  },
  {
   "cell_type": "code",
   "execution_count": 7,
   "metadata": {},
   "outputs": [
    {
     "data": {
      "text/plain": [
       ">chr5:181320346-181320345"
      ]
     },
     "execution_count": 7,
     "metadata": {},
     "output_type": "execute_result"
    }
   ],
   "source": [
    "seq = data_loader.fasta.get_seq(test.chrom,test.exon_start - 300, test.exon_end + 300, False)\n",
    "seq"
   ]
  },
  {
   "cell_type": "code",
   "execution_count": 3,
   "metadata": {},
   "outputs": [
    {
     "name": "stderr",
     "output_type": "stream",
     "text": [
      "/om/home/ztang/multitask_RNA/data_generation/mtsplice/sequence.py:316: UserWarning: Maximum sequence length (0) is less than maxlen (400)\n",
      "  warnings.warn(\"Maximum sequence length (%s) is less than maxlen (%s)\" % (max_seq_len, maxlen))\n"
     ]
    },
    {
     "ename": "TypeError",
     "evalue": "check",
     "output_type": "error",
     "traceback": [
      "\u001b[0;31m---------------------------------------------------------------------------\u001b[0m",
      "\u001b[0;31mTypeError\u001b[0m                                 Traceback (most recent call last)",
      "Cell \u001b[0;32mIn[3], line 1\u001b[0m\n\u001b[0;32m----> 1\u001b[0m data_loader\u001b[39m.\u001b[39;49m\u001b[39m__getitem__\u001b[39;49m(\u001b[39m368\u001b[39;49m)\n",
      "File \u001b[0;32m/om/home/ztang/multitask_RNA/data_generation/mtsplice/mt_preprocess.py:288\u001b[0m, in \u001b[0;36mAscot.__getitem__\u001b[0;34m(self, idx)\u001b[0m\n\u001b[1;32m    284\u001b[0m \u001b[39mif\u001b[39;00m \u001b[39mself\u001b[39m\u001b[39m.\u001b[39mencode:\n\u001b[1;32m    285\u001b[0m     \u001b[39m# from mtsplice.utils.utils import HiddenPrints\u001b[39;00m\n\u001b[1;32m    286\u001b[0m     \u001b[39m# with HiddenPrints():\u001b[39;00m\n\u001b[1;32m    287\u001b[0m     \u001b[39mif\u001b[39;00m \u001b[39mself\u001b[39m\u001b[39m.\u001b[39mseq_align \u001b[39m==\u001b[39m \u001b[39m'\u001b[39m\u001b[39mboth\u001b[39m\u001b[39m'\u001b[39m:\n\u001b[0;32m--> 288\u001b[0m         seql \u001b[39m=\u001b[39m sequence\u001b[39m.\u001b[39;49mencodeDNA([seq], maxlen\u001b[39m=\u001b[39;49m\u001b[39mself\u001b[39;49m\u001b[39m.\u001b[39;49mL, seq_align\u001b[39m=\u001b[39;49m\u001b[39m'\u001b[39;49m\u001b[39mstart\u001b[39;49m\u001b[39m'\u001b[39;49m)[\u001b[39m0\u001b[39m]\n\u001b[1;32m    289\u001b[0m         seqr \u001b[39m=\u001b[39m sequence\u001b[39m.\u001b[39mencodeDNA([seq], maxlen\u001b[39m=\u001b[39m\u001b[39mself\u001b[39m\u001b[39m.\u001b[39mL, seq_align\u001b[39m=\u001b[39m\u001b[39m'\u001b[39m\u001b[39mend\u001b[39m\u001b[39m'\u001b[39m)[\u001b[39m0\u001b[39m]\n\u001b[1;32m    290\u001b[0m         out[\u001b[39m\"\u001b[39m\u001b[39minputs\u001b[39m\u001b[39m\"\u001b[39m][\u001b[39m\"\u001b[39m\u001b[39mseql\u001b[39m\u001b[39m\"\u001b[39m] \u001b[39m=\u001b[39m seql\n",
      "File \u001b[0;32m/om/home/ztang/multitask_RNA/data_generation/mtsplice/sequence.py:191\u001b[0m, in \u001b[0;36mencodeDNA\u001b[0;34m(seq_vec, maxlen, seq_align)\u001b[0m\n\u001b[1;32m    145\u001b[0m \u001b[39mdef\u001b[39;00m \u001b[39mencodeDNA\u001b[39m(seq_vec, maxlen\u001b[39m=\u001b[39m\u001b[39mNone\u001b[39;00m, seq_align\u001b[39m=\u001b[39m\u001b[39m\"\u001b[39m\u001b[39mstart\u001b[39m\u001b[39m\"\u001b[39m):\n\u001b[1;32m    146\u001b[0m \u001b[39m    \u001b[39m\u001b[39m\"\"\"Convert the DNA sequence into 1-hot-encoding numpy array\u001b[39;00m\n\u001b[1;32m    147\u001b[0m \n\u001b[1;32m    148\u001b[0m \u001b[39m    # Arguments\u001b[39;00m\n\u001b[0;32m   (...)\u001b[0m\n\u001b[1;32m    189\u001b[0m \u001b[39m        ```\u001b[39;00m\n\u001b[1;32m    190\u001b[0m \u001b[39m    \"\"\"\u001b[39;00m\n\u001b[0;32m--> 191\u001b[0m     \u001b[39mreturn\u001b[39;00m encodeSequence(seq_vec,\n\u001b[1;32m    192\u001b[0m                           vocab\u001b[39m=\u001b[39;49mDNA,\n\u001b[1;32m    193\u001b[0m                           neutral_vocab\u001b[39m=\u001b[39;49m\u001b[39m\"\u001b[39;49m\u001b[39mN\u001b[39;49m\u001b[39m\"\u001b[39;49m,\n\u001b[1;32m    194\u001b[0m                           maxlen\u001b[39m=\u001b[39;49mmaxlen,\n\u001b[1;32m    195\u001b[0m                           seq_align\u001b[39m=\u001b[39;49mseq_align,\n\u001b[1;32m    196\u001b[0m                           pad_value\u001b[39m=\u001b[39;49m\u001b[39m\"\u001b[39;49m\u001b[39mN\u001b[39;49m\u001b[39m\"\u001b[39;49m,\n\u001b[1;32m    197\u001b[0m                           encode_type\u001b[39m=\u001b[39;49m\u001b[39m\"\u001b[39;49m\u001b[39mone_hot\u001b[39;49m\u001b[39m\"\u001b[39;49m)\n",
      "File \u001b[0;32m/om/home/ztang/multitask_RNA/data_generation/mtsplice/sequence.py:131\u001b[0m, in \u001b[0;36mencodeSequence\u001b[0;34m(seq_vec, vocab, neutral_vocab, maxlen, seq_align, pad_value, encode_type)\u001b[0m\n\u001b[1;32m    127\u001b[0m \u001b[39massert\u001b[39;00m pad_value \u001b[39min\u001b[39;00m neutral_vocab\n\u001b[1;32m    129\u001b[0m \u001b[39massert\u001b[39;00m encode_type \u001b[39min\u001b[39;00m [\u001b[39m\"\u001b[39m\u001b[39mone_hot\u001b[39m\u001b[39m\"\u001b[39m, \u001b[39m\"\u001b[39m\u001b[39mtoken\u001b[39m\u001b[39m\"\u001b[39m]\n\u001b[0;32m--> 131\u001b[0m seq_vec \u001b[39m=\u001b[39m pad_sequences(seq_vec, maxlen\u001b[39m=\u001b[39;49mmaxlen,\n\u001b[1;32m    132\u001b[0m                         align\u001b[39m=\u001b[39;49mseq_align, value\u001b[39m=\u001b[39;49mpad_value)\n\u001b[1;32m    134\u001b[0m \u001b[39mif\u001b[39;00m encode_type \u001b[39m==\u001b[39m \u001b[39m\"\u001b[39m\u001b[39mone_hot\u001b[39m\u001b[39m\"\u001b[39m:\n\u001b[1;32m    135\u001b[0m     arr_list \u001b[39m=\u001b[39m [token2one_hot(tokenize(seq, vocab, neutral_vocab), \u001b[39mlen\u001b[39m(vocab))\n\u001b[1;32m    136\u001b[0m                 \u001b[39mfor\u001b[39;00m i, seq \u001b[39min\u001b[39;00m \u001b[39menumerate\u001b[39m(seq_vec)]\n",
      "File \u001b[0;32m/om/home/ztang/multitask_RNA/data_generation/mtsplice/sequence.py:317\u001b[0m, in \u001b[0;36mpad_sequences\u001b[0;34m(sequence_vec, maxlen, align, value)\u001b[0m\n\u001b[1;32m    314\u001b[0m     \u001b[39mimport\u001b[39;00m \u001b[39mwarnings\u001b[39;00m\n\u001b[1;32m    316\u001b[0m     warnings\u001b[39m.\u001b[39mwarn(\u001b[39m\"\u001b[39m\u001b[39mMaximum sequence length (\u001b[39m\u001b[39m%s\u001b[39;00m\u001b[39m) is less than maxlen (\u001b[39m\u001b[39m%s\u001b[39;00m\u001b[39m)\u001b[39m\u001b[39m\"\u001b[39m \u001b[39m%\u001b[39m (max_seq_len, maxlen))\n\u001b[0;32m--> 317\u001b[0m     \u001b[39mraise\u001b[39;00m \u001b[39mTypeError\u001b[39;00m(\u001b[39m'\u001b[39m\u001b[39mcheck\u001b[39m\u001b[39m'\u001b[39m)\n\u001b[1;32m    318\u001b[0m     max_seq_len \u001b[39m=\u001b[39m maxlen\n\u001b[1;32m    320\u001b[0m \u001b[39m# check the case when len > 1\u001b[39;00m\n",
      "\u001b[0;31mTypeError\u001b[0m: check"
     ]
    }
   ],
   "source": [
    "data_loader.__getitem__(368)"
   ]
  },
  {
   "cell_type": "code",
   "execution_count": null,
   "metadata": {},
   "outputs": [],
   "source": []
  }
 ],
 "metadata": {
  "kernelspec": {
   "display_name": "Python 3.8.10 ('old_tf': venv)",
   "language": "python",
   "name": "python3"
  },
  "language_info": {
   "codemirror_mode": {
    "name": "ipython",
    "version": 3
   },
   "file_extension": ".py",
   "mimetype": "text/x-python",
   "name": "python",
   "nbconvert_exporter": "python",
   "pygments_lexer": "ipython3",
   "version": "3.9.16"
  },
  "orig_nbformat": 4,
  "vscode": {
   "interpreter": {
    "hash": "7ca0d8e8b539da0244e0291643a867b2adfdaa50f1c8989ffdc5da760d406378"
   }
  }
 },
 "nbformat": 4,
 "nbformat_minor": 2
}
