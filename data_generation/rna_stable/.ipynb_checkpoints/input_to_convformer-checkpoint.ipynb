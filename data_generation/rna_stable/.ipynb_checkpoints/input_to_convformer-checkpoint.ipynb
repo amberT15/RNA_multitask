{
 "cells": [
  {
   "cell_type": "code",
   "execution_count": 1,
   "metadata": {},
   "outputs": [
    {
     "name": "stderr",
     "output_type": "stream",
     "text": [
      "/home/ztang/.conda/envs/torch_env/lib/python3.11/site-packages/tqdm/auto.py:21: TqdmWarning: IProgress not found. Please update jupyter and ipywidgets. See https://ipywidgets.readthedocs.io/en/stable/user_install.html\n",
      "  from .autonotebook import tqdm as notebook_tqdm\n"
     ]
    }
   ],
   "source": [
    "import torch\n",
    "import sys\n",
    "sys.path.append('/home/ztang/multitask_RNA/rna_self_train/')\n",
    "import os\n",
    "os.environ['CUDA_VISIBLE_DEVICES']='1'\n",
    "import rna_model\n",
    "import h5py\n",
    "import numpy as np\n",
    "from tqdm import tqdm\n",
    "import yaml\n",
    "ckpt_path = '/home/ztang/multitask_RNA/model/small_lr_convformer/'"
   ]
  },
  {
   "cell_type": "code",
   "execution_count": 2,
   "metadata": {},
   "outputs": [],
   "source": [
    "with open(ckpt_path + 'config.yaml', \"r\") as stream:\n",
    "    wandb_dict = yaml.safe_load(stream)\n",
    "wandb_dict.pop('wandb_version')\n",
    "\n",
    "config_dict = {}\n",
    "for key in wandb_dict.keys():\n",
    "    config_dict[key] = wandb_dict[key]['value']"
   ]
  },
  {
   "cell_type": "code",
   "execution_count": 3,
   "metadata": {},
   "outputs": [
    {
     "name": "stderr",
     "output_type": "stream",
     "text": [
      "Lightning automatically upgraded your loaded checkpoint from v1.9.0 to v2.0.4. To apply the upgrade to your files permanently, run `python -m pytorch_lightning.utilities.upgrade_checkpoint --file ../../../../../../home/ztang/multitask_RNA/model/small_lr_convformer/epoch=99-step=124000.ckpt`\n"
     ]
    }
   ],
   "source": [
    "config = rna_model.conv_former_config(**config_dict)\n",
    "model = rna_model.conv_former.load_from_checkpoint(ckpt_path + 'epoch=99-step=124000.ckpt',config = config).cuda()\n",
    "model.eval();"
   ]
  },
  {
   "cell_type": "code",
   "execution_count": 4,
   "metadata": {},
   "outputs": [
    {
     "data": {
      "text/plain": [
       "<torch.utils.hooks.RemovableHandle at 0x7f94bdc01750>"
      ]
     },
     "execution_count": 4,
     "metadata": {},
     "output_type": "execute_result"
    }
   ],
   "source": [
    "activation = {}\n",
    "def get_activation(name):\n",
    "    def hook(model,input,output):\n",
    "        if name not in activation.keys():\n",
    "            activation[name] = []\n",
    "        activation[name].extend(output[0].cpu().detach().numpy())\n",
    "    return hook\n",
    "\n",
    "model.att_list[-1].register_forward_hook(get_activation('att'))"
   ]
  },
  {
   "cell_type": "code",
   "execution_count": 5,
   "metadata": {},
   "outputs": [
    {
     "name": "stdout",
     "output_type": "stream",
     "text": [
      "test\n",
      "(1137, 4, 512)\n"
     ]
    },
    {
     "name": "stderr",
     "output_type": "stream",
     "text": [
      "  0%|          | 0/72 [00:00<?, ?it/s]"
     ]
    },
    {
     "ename": "",
     "evalue": "",
     "output_type": "error",
     "traceback": [
      "\u001b[1;31mCannot execute code, session has been disposed. Please try restarting the Kernel."
     ]
    },
    {
     "ename": "",
     "evalue": "",
     "output_type": "error",
     "traceback": [
      "\u001b[1;31mThe Kernel crashed while executing code in the the current cell or a previous cell. Please review the code in the cell(s) to identify a possible cause of the failure. Click <a href='https://aka.ms/vscodeJupyterKernelCrash'>here</a> for more info. View Jupyter <a href='command:jupyter.viewOutput'>log</a> for further details."
     ]
    }
   ],
   "source": [
    "file = h5py.File('../../data/rna_stable/insert_dataset.h5','r')\n",
    "convformer_output = h5py.File('../../data/rna_stable/small_lr_convformer.h5','w')\n",
    "batch_size = 16\n",
    "for dataset in ['test','train','valid']:\n",
    "    print(dataset)\n",
    "    key = 'X_'+dataset\n",
    "    onehot = np.transpose(file[key][()],(0,2,1))\n",
    "    pad_onehot = np.pad(onehot,((0,0),(0,0),(169,170)), mode='constant', constant_values=0)\n",
    "    print(pad_onehot.shape)\n",
    "\n",
    "    for seq_i in tqdm(range(0,len(pad_onehot),batch_size)):\n",
    "        seq_batch = torch.tensor(pad_onehot[seq_i:seq_i+batch_size]).to('cuda')\n",
    "        output = model(torch.tensor(seq_batch))\n",
    "        \n",
    "    convformer_rep = np.array(activation['att'])[:,169:-170,:]\n",
    "    print(convformer_rep.shape)\n",
    "    convformer_output.create_dataset(key, data=convformer_rep)\n",
    "    convformer_output.create_dataset(name='Y_'+dataset,data = file['Y_'+dataset][:])\n",
    "    activation = {}\n",
    "\n",
    "convformer_output.close()"
   ]
  },
  {
   "cell_type": "code",
   "execution_count": 6,
   "metadata": {},
   "outputs": [],
   "source": [
    "h = h5py.File('../../data/rna_stable/convformer_species_embed.h5','r')\n",
    "s = h5py.File('../../data/rna_stable/convformer_species20_embed.h5','r')"
   ]
  },
  {
   "cell_type": "code",
   "execution_count": 6,
   "metadata": {},
   "outputs": [],
   "source": [
    "gpn_file = h5py.File('../../data/rna_stable/gpn_finetune_embed.h5','r')\n",
    "conv_file = h5py.File('../../data/rna_stable/convformer_embed.h5','r')"
   ]
  },
  {
   "cell_type": "code",
   "execution_count": 7,
   "metadata": {},
   "outputs": [
    {
     "data": {
      "text/plain": [
       "<KeysViewHDF5 ['X_test', 'X_train', 'X_valid', 'Y_test', 'Y_train', 'Y_valid']>"
      ]
     },
     "execution_count": 7,
     "metadata": {},
     "output_type": "execute_result"
    }
   ],
   "source": [
    "gpn_file.keys()"
   ]
  },
  {
   "cell_type": "code",
   "execution_count": 9,
   "metadata": {},
   "outputs": [
    {
     "data": {
      "text/plain": [
       "<KeysViewHDF5 ['X_test', 'X_train', 'X_valid', 'Y_test', 'Y_train', 'Y_valid']>"
      ]
     },
     "execution_count": 9,
     "metadata": {},
     "output_type": "execute_result"
    }
   ],
   "source": [
    "conv_file.keys()"
   ]
  },
  {
   "cell_type": "code",
   "execution_count": 11,
   "metadata": {},
   "outputs": [
    {
     "data": {
      "text/plain": [
       "<HDF5 dataset \"X_test\": shape (1137, 173, 512), type \"<f4\">"
      ]
     },
     "execution_count": 11,
     "metadata": {},
     "output_type": "execute_result"
    }
   ],
   "source": [
    "conv_file['X_test']"
   ]
  },
  {
   "cell_type": "code",
   "execution_count": null,
   "metadata": {},
   "outputs": [],
   "source": []
  }
 ],
 "metadata": {
  "kernelspec": {
   "display_name": "Python 3 (ipykernel)",
   "language": "python",
   "name": "python3"
  },
  "language_info": {
   "codemirror_mode": {
    "name": "ipython",
    "version": 3
   },
   "file_extension": ".py",
   "mimetype": "text/x-python",
   "name": "python",
   "nbconvert_exporter": "python",
   "pygments_lexer": "ipython3",
   "version": "3.11.3"
  },
  "vscode": {
   "interpreter": {
    "hash": "9e8284e1417b754e460c2bde3a4a4837c482fa82ceb7d52f4acbe340dd4b4559"
   }
  }
 },
 "nbformat": 4,
 "nbformat_minor": 2
}
