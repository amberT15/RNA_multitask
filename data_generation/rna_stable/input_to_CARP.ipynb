{
 "cells": [
  {
   "cell_type": "code",
   "execution_count": 1,
   "metadata": {},
   "outputs": [],
   "source": [
    "import h5py\n",
    "import numpy as np\n",
    "import sys\n",
    "sys.path.append('../')\n",
    "sys.path.append('/home/amber/multitask_RNA/')\n",
    "import utils\n",
    "import torch\n",
    "import os\n",
    "from tqdm import tqdm\n",
    "import rna_model\n",
    "os.environ['CUDA_VISIBLE_DEVICES']='1'\n",
    "from sequence_models.constants import SPECIALS\n",
    "RNA='ACGTN'\n",
    "RNA_ALPHABET = RNA+SPECIALS"
   ]
  },
  {
   "cell_type": "code",
   "execution_count": 2,
   "metadata": {},
   "outputs": [],
   "source": [
    "file = h5py.File('../../data/rna_stable/insert_dataset.h5','r')\n",
    "config={'model':'ByteNetLM',\n",
    "                'lr':1e-3,\n",
    "                'n_tokens':len(RNA_ALPHABET),\n",
    "                'd_embedding' : 9, # dimension of embedding\n",
    "                'd_model': 320, # dimension to use within ByteNet model, //2 every layer\n",
    "                'n_layers' : 15, # number of layers of ByteNet block\n",
    "                'kernel_size' : 5, # the kernel width\n",
    "                'r' : 32, # used to calculate dilation factor\n",
    "                'padding_idx' : RNA_ALPHABET.index('-') ,# location of padding token in ordered alphabet\n",
    "                'dropout' : 0.1 ,\n",
    "                }\n",
    "model = rna_model.ByteNetLM(config['n_tokens'], config['d_embedding'], config['d_model'],\n",
    "                        config['n_layers'], config['kernel_size'], config['r'], config['lr'],\n",
    "                        padding_idx=config['padding_idx'], causal=False, dropout=config['dropout'])"
   ]
  },
  {
   "cell_type": "code",
   "execution_count": null,
   "metadata": {},
   "outputs": [],
   "source": [
    "model.load_state_dict(torch.load(PATH))"
   ]
  },
  {
   "cell_type": "code",
   "execution_count": null,
   "metadata": {},
   "outputs": [],
   "source": []
  }
 ],
 "metadata": {
  "kernelspec": {
   "display_name": "Python 3.8.10 ('tf_2': venv)",
   "language": "python",
   "name": "python3"
  },
  "language_info": {
   "codemirror_mode": {
    "name": "ipython",
    "version": 3
   },
   "file_extension": ".py",
   "mimetype": "text/x-python",
   "name": "python",
   "nbconvert_exporter": "python",
   "pygments_lexer": "ipython3",
   "version": "3.8.10"
  },
  "orig_nbformat": 4,
  "vscode": {
   "interpreter": {
    "hash": "9e8284e1417b754e460c2bde3a4a4837c482fa82ceb7d52f4acbe340dd4b4559"
   }
  }
 },
 "nbformat": 4,
 "nbformat_minor": 2
}
