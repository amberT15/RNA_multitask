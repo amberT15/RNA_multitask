{
 "cells": [
  {
   "cell_type": "code",
   "execution_count": 14,
   "metadata": {},
   "outputs": [],
   "source": [
    "import data_preprocess\n",
    "import h5py\n",
    "import numpy as np"
   ]
  },
  {
   "cell_type": "code",
   "execution_count": 15,
   "metadata": {},
   "outputs": [],
   "source": [
    "data_loader = data_preprocess.Ascot('../data/MT_Splice/gtex_test_psi.csv',\n",
    "                                    '/home/amber/ref/hg19/hg19.fa',\n",
    "                                    length = 400,\n",
    "                                    tissues=data_preprocess.tissues,\n",
    "                                    encode=True,\n",
    "                                    pad_trim_same_l=False,\n",
    "                                    flanking=300,\n",
    "                                    flanking_exons=False,\n",
    "                                    region_anno=False,\n",
    "                                    seq_align='both',\n",
    "                                    mean_inpute=False,\n",
    "                                    use_logit=True)"
   ]
  },
  {
   "cell_type": "code",
   "execution_count": 16,
   "metadata": {},
   "outputs": [],
   "source": [
    "test = data_loader.__getitem__(0)"
   ]
  },
  {
   "cell_type": "code",
   "execution_count": 17,
   "metadata": {},
   "outputs": [],
   "source": [
    "seql = np.expand_dims(test[0]['seql'],0)\n",
    "seqr = np.expand_dims(test[0]['seqr'],0)"
   ]
  },
  {
   "cell_type": "code",
   "execution_count": 18,
   "metadata": {},
   "outputs": [],
   "source": [
    "import tensorflow as tf\n",
    "import sys\n",
    "sys.path.append('../')\n",
    "from mt_layers import SplineWeight1D\n",
    "import os\n",
    "os.environ[\"CUDA_VISIBLE_DEVICES\"]=\"7\"\n",
    "from tqdm import tqdm"
   ]
  },
  {
   "cell_type": "code",
   "execution_count": 21,
   "metadata": {},
   "outputs": [
    {
     "name": "stdout",
     "output_type": "stream",
     "text": [
      "WARNING:tensorflow:No training configuration found in the save file, so the model was *not* compiled. Compile it manually.\n",
      "1/1 [==============================] - 0s 457ms/step\n",
      "WARNING:tensorflow:No training configuration found in the save file, so the model was *not* compiled. Compile it manually.\n",
      "1/1 [==============================] - 0s 459ms/step\n",
      "WARNING:tensorflow:No training configuration found in the save file, so the model was *not* compiled. Compile it manually.\n",
      "1/1 [==============================] - 0s 457ms/step\n",
      "WARNING:tensorflow:No training configuration found in the save file, so the model was *not* compiled. Compile it manually.\n",
      "1/1 [==============================] - 0s 466ms/step\n"
     ]
    }
   ],
   "source": [
    "average_y = []\n",
    "for i in range(0,4):\n",
    "    model = tf.keras.models.load_model('../replications/MMSplice_MTSplice/mmsplice/models/mtsplice_deep'+str(i)+'.h5',\n",
    "                                        custom_objects={'SplineWeight1D':SplineWeight1D})\n",
    "    y_pred = model.predict([seql,seqr])\n",
    "    average_y.append(y_pred)"
   ]
  },
  {
   "cell_type": "code",
   "execution_count": 33,
   "metadata": {},
   "outputs": [],
   "source": [
    "def sigmoid(z):\n",
    "    return 1/(1 + np.exp(-z))"
   ]
  },
  {
   "cell_type": "code",
   "execution_count": 34,
   "metadata": {},
   "outputs": [
    {
     "data": {
      "text/plain": [
       "array([[0.9764032 , 0.97863734, 0.97970974, 0.9791628 , 0.97947276,\n",
       "        0.9784606 , 0.97886705, 0.9787321 , 0.9791955 , 0.97353166,\n",
       "        0.97294   , 0.97505105, 0.9701993 , 0.97019154, 0.9738791 ,\n",
       "        0.97340393, 0.9743061 , 0.9739489 , 0.9741173 , 0.97462374,\n",
       "        0.97535896, 0.9747618 , 0.98001236, 0.97835743, 0.97912383,\n",
       "        0.9795084 , 0.9777485 , 0.97771966, 0.9795027 , 0.9807047 ,\n",
       "        0.97914666, 0.98025125, 0.9792347 , 0.9788582 , 0.9772035 ,\n",
       "        0.9783061 , 0.97890776, 0.9808457 , 0.97986186, 0.9801705 ,\n",
       "        0.9784113 , 0.97907704, 0.9781521 , 0.98158044, 0.978215  ,\n",
       "        0.98031956, 0.9790027 , 0.97942734, 0.98126894, 0.98083925,\n",
       "        0.98066485, 0.9851896 , 0.9801752 , 0.9784403 , 0.9790781 ,\n",
       "        0.9780075 ]], dtype=float32)"
      ]
     },
     "execution_count": 34,
     "metadata": {},
     "output_type": "execute_result"
    }
   ],
   "source": [
    "sigmoid(np.average(average_y,axis = 0) + 3.806823003305421)"
   ]
  },
  {
   "cell_type": "code",
   "execution_count": 36,
   "metadata": {},
   "outputs": [
    {
     "data": {
      "text/plain": [
       "array([        nan,         nan,  3.49386904,         nan,         nan,\n",
       "               nan,         nan,         nan,         nan,         nan,\n",
       "               nan,         nan,  2.82390095,  2.33349028,  2.61030319,\n",
       "               nan,         nan, 11.51291546,         nan,         nan,\n",
       "               nan,         nan,         nan,         nan,  3.49191215,\n",
       "               nan,         nan,         nan,         nan,         nan,\n",
       "               nan,  2.73986203,         nan,         nan,         nan,\n",
       "               nan,         nan,         nan,         nan,         nan,\n",
       "               nan,         nan,         nan,  3.39002408,  3.05891262,\n",
       "               nan,  3.69839661,  3.13602765,         nan,         nan,\n",
       "               nan,  3.39226197,         nan,         nan,         nan,\n",
       "               nan])"
      ]
     },
     "execution_count": 36,
     "metadata": {},
     "output_type": "execute_result"
    }
   ],
   "source": [
    "test[1]"
   ]
  },
  {
   "cell_type": "code",
   "execution_count": null,
   "metadata": {},
   "outputs": [],
   "source": []
  }
 ],
 "metadata": {
  "kernelspec": {
   "display_name": "Python 3.8.10 ('old_tf': venv)",
   "language": "python",
   "name": "python3"
  },
  "language_info": {
   "codemirror_mode": {
    "name": "ipython",
    "version": 3
   },
   "file_extension": ".py",
   "mimetype": "text/x-python",
   "name": "python",
   "nbconvert_exporter": "python",
   "pygments_lexer": "ipython3",
   "version": "3.8.10"
  },
  "orig_nbformat": 4,
  "vscode": {
   "interpreter": {
    "hash": "7ca0d8e8b539da0244e0291643a867b2adfdaa50f1c8989ffdc5da760d406378"
   }
  }
 },
 "nbformat": 4,
 "nbformat_minor": 2
}
