{
 "cells": [
  {
   "cell_type": "code",
   "execution_count": 1,
   "id": "b187095c",
   "metadata": {},
   "outputs": [],
   "source": [
    "import pandas as pd\n",
    "import numpy as np\n",
    "from tqdm import tqdm"
   ]
  },
  {
   "cell_type": "code",
   "execution_count": 2,
   "id": "6b1f63d7",
   "metadata": {},
   "outputs": [
    {
     "name": "stderr",
     "output_type": "stream",
     "text": [
      "/tmp/ipykernel_340426/1529983734.py:4: FutureWarning: In a future version of pandas all arguments of DataFrame.drop except for the argument 'labels' will be keyword-only.\n",
      "  annotation_df = annotation_df.drop('Phase', 1)\n",
      "/tmp/ipykernel_340426/1529983734.py:5: FutureWarning: In a future version of pandas all arguments of DataFrame.drop except for the argument 'labels' will be keyword-only.\n",
      "  annotation_df = annotation_df.drop('Score', 1)\n"
     ]
    }
   ],
   "source": [
    "colnames=['Chrom', 'Database', 'Annotation', 'Start','End','Score','Strand','Phase','Notes'] \n",
    "annotation_df = pd.read_csv('/home/amber/multitask_RNA/data/annotation/gencode.v40.annotation.gtf',\n",
    "                            sep='\\t',skiprows=5,names=colnames,header=None)\n",
    "annotation_df = annotation_df.drop('Phase', 1)\n",
    "annotation_df = annotation_df.drop('Score', 1)\n",
    "annotation_df['GeneID'] = annotation_df['Notes'].apply(lambda x: x.split('\"')[1])\n",
    "annotation_df['TranscriptID'] = annotation_df['Notes'].apply(lambda x : x.split('\"')[3])"
   ]
  },
  {
   "cell_type": "code",
   "execution_count": 4,
   "id": "fd8bc0e2",
   "metadata": {},
   "outputs": [],
   "source": [
    "trans_id_list = []\n",
    "gene_list = annotation_df['GeneID'].unique()\n",
    "all_transcript_df = annotation_df[annotation_df['Annotation'] == 'transcript']"
   ]
  },
  {
   "cell_type": "code",
   "execution_count": 8,
   "id": "0e68218c",
   "metadata": {},
   "outputs": [
    {
     "data": {
      "text/html": [
       "<div>\n",
       "<style scoped>\n",
       "    .dataframe tbody tr th:only-of-type {\n",
       "        vertical-align: middle;\n",
       "    }\n",
       "\n",
       "    .dataframe tbody tr th {\n",
       "        vertical-align: top;\n",
       "    }\n",
       "\n",
       "    .dataframe thead th {\n",
       "        text-align: right;\n",
       "    }\n",
       "</style>\n",
       "<table border=\"1\" class=\"dataframe\">\n",
       "  <thead>\n",
       "    <tr style=\"text-align: right;\">\n",
       "      <th></th>\n",
       "      <th>Chrom</th>\n",
       "      <th>Database</th>\n",
       "      <th>Annotation</th>\n",
       "      <th>Start</th>\n",
       "      <th>End</th>\n",
       "      <th>Strand</th>\n",
       "      <th>Notes</th>\n",
       "      <th>GeneID</th>\n",
       "      <th>TranscriptID</th>\n",
       "    </tr>\n",
       "  </thead>\n",
       "  <tbody>\n",
       "    <tr>\n",
       "      <th>1</th>\n",
       "      <td>chr1</td>\n",
       "      <td>HAVANA</td>\n",
       "      <td>transcript</td>\n",
       "      <td>11869</td>\n",
       "      <td>14409</td>\n",
       "      <td>+</td>\n",
       "      <td>gene_id \"ENSG00000223972.5\"; transcript_id \"EN...</td>\n",
       "      <td>ENSG00000223972.5</td>\n",
       "      <td>ENST00000456328.2</td>\n",
       "    </tr>\n",
       "    <tr>\n",
       "      <th>5</th>\n",
       "      <td>chr1</td>\n",
       "      <td>HAVANA</td>\n",
       "      <td>transcript</td>\n",
       "      <td>12010</td>\n",
       "      <td>13670</td>\n",
       "      <td>+</td>\n",
       "      <td>gene_id \"ENSG00000223972.5\"; transcript_id \"EN...</td>\n",
       "      <td>ENSG00000223972.5</td>\n",
       "      <td>ENST00000450305.2</td>\n",
       "    </tr>\n",
       "    <tr>\n",
       "      <th>13</th>\n",
       "      <td>chr1</td>\n",
       "      <td>HAVANA</td>\n",
       "      <td>transcript</td>\n",
       "      <td>14404</td>\n",
       "      <td>29570</td>\n",
       "      <td>-</td>\n",
       "      <td>gene_id \"ENSG00000227232.5\"; transcript_id \"EN...</td>\n",
       "      <td>ENSG00000227232.5</td>\n",
       "      <td>ENST00000488147.1</td>\n",
       "    </tr>\n",
       "    <tr>\n",
       "      <th>26</th>\n",
       "      <td>chr1</td>\n",
       "      <td>ENSEMBL</td>\n",
       "      <td>transcript</td>\n",
       "      <td>17369</td>\n",
       "      <td>17436</td>\n",
       "      <td>-</td>\n",
       "      <td>gene_id \"ENSG00000278267.1\"; transcript_id \"EN...</td>\n",
       "      <td>ENSG00000278267.1</td>\n",
       "      <td>ENST00000619216.1</td>\n",
       "    </tr>\n",
       "    <tr>\n",
       "      <th>29</th>\n",
       "      <td>chr1</td>\n",
       "      <td>HAVANA</td>\n",
       "      <td>transcript</td>\n",
       "      <td>29554</td>\n",
       "      <td>31097</td>\n",
       "      <td>+</td>\n",
       "      <td>gene_id \"ENSG00000243485.5\"; transcript_id \"EN...</td>\n",
       "      <td>ENSG00000243485.5</td>\n",
       "      <td>ENST00000473358.1</td>\n",
       "    </tr>\n",
       "    <tr>\n",
       "      <th>...</th>\n",
       "      <td>...</td>\n",
       "      <td>...</td>\n",
       "      <td>...</td>\n",
       "      <td>...</td>\n",
       "      <td>...</td>\n",
       "      <td>...</td>\n",
       "      <td>...</td>\n",
       "      <td>...</td>\n",
       "      <td>...</td>\n",
       "    </tr>\n",
       "    <tr>\n",
       "      <th>3283844</th>\n",
       "      <td>chrM</td>\n",
       "      <td>ENSEMBL</td>\n",
       "      <td>transcript</td>\n",
       "      <td>14149</td>\n",
       "      <td>14673</td>\n",
       "      <td>-</td>\n",
       "      <td>gene_id \"ENSG00000198695.2\"; transcript_id \"EN...</td>\n",
       "      <td>ENSG00000198695.2</td>\n",
       "      <td>ENST00000361681.2</td>\n",
       "    </tr>\n",
       "    <tr>\n",
       "      <th>3283849</th>\n",
       "      <td>chrM</td>\n",
       "      <td>ENSEMBL</td>\n",
       "      <td>transcript</td>\n",
       "      <td>14674</td>\n",
       "      <td>14742</td>\n",
       "      <td>-</td>\n",
       "      <td>gene_id \"ENSG00000210194.1\"; transcript_id \"EN...</td>\n",
       "      <td>ENSG00000210194.1</td>\n",
       "      <td>ENST00000387459.1</td>\n",
       "    </tr>\n",
       "    <tr>\n",
       "      <th>3283852</th>\n",
       "      <td>chrM</td>\n",
       "      <td>ENSEMBL</td>\n",
       "      <td>transcript</td>\n",
       "      <td>14747</td>\n",
       "      <td>15887</td>\n",
       "      <td>+</td>\n",
       "      <td>gene_id \"ENSG00000198727.2\"; transcript_id \"EN...</td>\n",
       "      <td>ENSG00000198727.2</td>\n",
       "      <td>ENST00000361789.2</td>\n",
       "    </tr>\n",
       "    <tr>\n",
       "      <th>3283857</th>\n",
       "      <td>chrM</td>\n",
       "      <td>ENSEMBL</td>\n",
       "      <td>transcript</td>\n",
       "      <td>15888</td>\n",
       "      <td>15953</td>\n",
       "      <td>+</td>\n",
       "      <td>gene_id \"ENSG00000210195.2\"; transcript_id \"EN...</td>\n",
       "      <td>ENSG00000210195.2</td>\n",
       "      <td>ENST00000387460.2</td>\n",
       "    </tr>\n",
       "    <tr>\n",
       "      <th>3283860</th>\n",
       "      <td>chrM</td>\n",
       "      <td>ENSEMBL</td>\n",
       "      <td>transcript</td>\n",
       "      <td>15956</td>\n",
       "      <td>16023</td>\n",
       "      <td>-</td>\n",
       "      <td>gene_id \"ENSG00000210196.2\"; transcript_id \"EN...</td>\n",
       "      <td>ENSG00000210196.2</td>\n",
       "      <td>ENST00000387461.2</td>\n",
       "    </tr>\n",
       "  </tbody>\n",
       "</table>\n",
       "<p>246624 rows × 9 columns</p>\n",
       "</div>"
      ],
      "text/plain": [
       "        Chrom Database  Annotation  Start    End Strand  \\\n",
       "1        chr1   HAVANA  transcript  11869  14409      +   \n",
       "5        chr1   HAVANA  transcript  12010  13670      +   \n",
       "13       chr1   HAVANA  transcript  14404  29570      -   \n",
       "26       chr1  ENSEMBL  transcript  17369  17436      -   \n",
       "29       chr1   HAVANA  transcript  29554  31097      +   \n",
       "...       ...      ...         ...    ...    ...    ...   \n",
       "3283844  chrM  ENSEMBL  transcript  14149  14673      -   \n",
       "3283849  chrM  ENSEMBL  transcript  14674  14742      -   \n",
       "3283852  chrM  ENSEMBL  transcript  14747  15887      +   \n",
       "3283857  chrM  ENSEMBL  transcript  15888  15953      +   \n",
       "3283860  chrM  ENSEMBL  transcript  15956  16023      -   \n",
       "\n",
       "                                                     Notes             GeneID  \\\n",
       "1        gene_id \"ENSG00000223972.5\"; transcript_id \"EN...  ENSG00000223972.5   \n",
       "5        gene_id \"ENSG00000223972.5\"; transcript_id \"EN...  ENSG00000223972.5   \n",
       "13       gene_id \"ENSG00000227232.5\"; transcript_id \"EN...  ENSG00000227232.5   \n",
       "26       gene_id \"ENSG00000278267.1\"; transcript_id \"EN...  ENSG00000278267.1   \n",
       "29       gene_id \"ENSG00000243485.5\"; transcript_id \"EN...  ENSG00000243485.5   \n",
       "...                                                    ...                ...   \n",
       "3283844  gene_id \"ENSG00000198695.2\"; transcript_id \"EN...  ENSG00000198695.2   \n",
       "3283849  gene_id \"ENSG00000210194.1\"; transcript_id \"EN...  ENSG00000210194.1   \n",
       "3283852  gene_id \"ENSG00000198727.2\"; transcript_id \"EN...  ENSG00000198727.2   \n",
       "3283857  gene_id \"ENSG00000210195.2\"; transcript_id \"EN...  ENSG00000210195.2   \n",
       "3283860  gene_id \"ENSG00000210196.2\"; transcript_id \"EN...  ENSG00000210196.2   \n",
       "\n",
       "              TranscriptID  \n",
       "1        ENST00000456328.2  \n",
       "5        ENST00000450305.2  \n",
       "13       ENST00000488147.1  \n",
       "26       ENST00000619216.1  \n",
       "29       ENST00000473358.1  \n",
       "...                    ...  \n",
       "3283844  ENST00000361681.2  \n",
       "3283849  ENST00000387459.1  \n",
       "3283852  ENST00000361789.2  \n",
       "3283857  ENST00000387460.2  \n",
       "3283860  ENST00000387461.2  \n",
       "\n",
       "[246624 rows x 9 columns]"
      ]
     },
     "execution_count": 8,
     "metadata": {},
     "output_type": "execute_result"
    }
   ],
   "source": [
    "all_transcript_df"
   ]
  },
  {
   "cell_type": "code",
   "execution_count": 5,
   "id": "2e7b7887",
   "metadata": {},
   "outputs": [
    {
     "data": {
      "text/plain": [
       "61544"
      ]
     },
     "execution_count": 5,
     "metadata": {},
     "output_type": "execute_result"
    }
   ],
   "source": [
    "len(gene_list)"
   ]
  },
  {
   "cell_type": "code",
   "execution_count": 9,
   "id": "716fc59b",
   "metadata": {},
   "outputs": [
    {
     "name": "stderr",
     "output_type": "stream",
     "text": [
      "  8%|██▉                                   | 4819/61544 [02:47<32:52, 28.76it/s]\n"
     ]
    },
    {
     "ename": "KeyboardInterrupt",
     "evalue": "",
     "output_type": "error",
     "traceback": [
      "\u001b[0;31m---------------------------------------------------------------------------\u001b[0m",
      "\u001b[0;31mKeyboardInterrupt\u001b[0m                         Traceback (most recent call last)",
      "Input \u001b[0;32mIn [9]\u001b[0m, in \u001b[0;36m<module>\u001b[0;34m\u001b[0m\n\u001b[1;32m      1\u001b[0m \u001b[38;5;28;01mfor\u001b[39;00m gene \u001b[38;5;129;01min\u001b[39;00m tqdm(gene_list,total\u001b[38;5;241m=\u001b[39m\u001b[38;5;28mlen\u001b[39m(gene_list)):\n\u001b[0;32m----> 2\u001b[0m     transcript_df \u001b[38;5;241m=\u001b[39m all_transcript_df[\u001b[43mall_transcript_df\u001b[49m\u001b[43m[\u001b[49m\u001b[38;5;124;43m'\u001b[39;49m\u001b[38;5;124;43mGeneID\u001b[39;49m\u001b[38;5;124;43m'\u001b[39;49m\u001b[43m]\u001b[49m\u001b[38;5;241;43m==\u001b[39;49m\u001b[43mgene\u001b[49m]\n\u001b[1;32m      3\u001b[0m     trans_length \u001b[38;5;241m=\u001b[39m np\u001b[38;5;241m.\u001b[39mabsolute(transcript_df[\u001b[38;5;124m'\u001b[39m\u001b[38;5;124mEnd\u001b[39m\u001b[38;5;124m'\u001b[39m] \u001b[38;5;241m-\u001b[39m transcript_df[\u001b[38;5;124m'\u001b[39m\u001b[38;5;124mStart\u001b[39m\u001b[38;5;124m'\u001b[39m])\n\u001b[1;32m      4\u001b[0m     max_trans_index \u001b[38;5;241m=\u001b[39m np\u001b[38;5;241m.\u001b[39margmax(trans_length)\n",
      "File \u001b[0;32m~/tf_2/lib/python3.8/site-packages/pandas/core/ops/common.py:70\u001b[0m, in \u001b[0;36m_unpack_zerodim_and_defer.<locals>.new_method\u001b[0;34m(self, other)\u001b[0m\n\u001b[1;32m     66\u001b[0m             \u001b[38;5;28;01mreturn\u001b[39;00m \u001b[38;5;28mNotImplemented\u001b[39m\n\u001b[1;32m     68\u001b[0m other \u001b[38;5;241m=\u001b[39m item_from_zerodim(other)\n\u001b[0;32m---> 70\u001b[0m \u001b[38;5;28;01mreturn\u001b[39;00m \u001b[43mmethod\u001b[49m\u001b[43m(\u001b[49m\u001b[38;5;28;43mself\u001b[39;49m\u001b[43m,\u001b[49m\u001b[43m \u001b[49m\u001b[43mother\u001b[49m\u001b[43m)\u001b[49m\n",
      "File \u001b[0;32m~/tf_2/lib/python3.8/site-packages/pandas/core/arraylike.py:40\u001b[0m, in \u001b[0;36mOpsMixin.__eq__\u001b[0;34m(self, other)\u001b[0m\n\u001b[1;32m     38\u001b[0m \u001b[38;5;129m@unpack_zerodim_and_defer\u001b[39m(\u001b[38;5;124m\"\u001b[39m\u001b[38;5;124m__eq__\u001b[39m\u001b[38;5;124m\"\u001b[39m)\n\u001b[1;32m     39\u001b[0m \u001b[38;5;28;01mdef\u001b[39;00m \u001b[38;5;21m__eq__\u001b[39m(\u001b[38;5;28mself\u001b[39m, other):\n\u001b[0;32m---> 40\u001b[0m     \u001b[38;5;28;01mreturn\u001b[39;00m \u001b[38;5;28;43mself\u001b[39;49m\u001b[38;5;241;43m.\u001b[39;49m\u001b[43m_cmp_method\u001b[49m\u001b[43m(\u001b[49m\u001b[43mother\u001b[49m\u001b[43m,\u001b[49m\u001b[43m \u001b[49m\u001b[43moperator\u001b[49m\u001b[38;5;241;43m.\u001b[39;49m\u001b[43meq\u001b[49m\u001b[43m)\u001b[49m\n",
      "File \u001b[0;32m~/tf_2/lib/python3.8/site-packages/pandas/core/series.py:5623\u001b[0m, in \u001b[0;36mSeries._cmp_method\u001b[0;34m(self, other, op)\u001b[0m\n\u001b[1;32m   5620\u001b[0m rvalues \u001b[38;5;241m=\u001b[39m extract_array(other, extract_numpy\u001b[38;5;241m=\u001b[39m\u001b[38;5;28;01mTrue\u001b[39;00m, extract_range\u001b[38;5;241m=\u001b[39m\u001b[38;5;28;01mTrue\u001b[39;00m)\n\u001b[1;32m   5622\u001b[0m \u001b[38;5;28;01mwith\u001b[39;00m np\u001b[38;5;241m.\u001b[39merrstate(\u001b[38;5;28mall\u001b[39m\u001b[38;5;241m=\u001b[39m\u001b[38;5;124m\"\u001b[39m\u001b[38;5;124mignore\u001b[39m\u001b[38;5;124m\"\u001b[39m):\n\u001b[0;32m-> 5623\u001b[0m     res_values \u001b[38;5;241m=\u001b[39m \u001b[43mops\u001b[49m\u001b[38;5;241;43m.\u001b[39;49m\u001b[43mcomparison_op\u001b[49m\u001b[43m(\u001b[49m\u001b[43mlvalues\u001b[49m\u001b[43m,\u001b[49m\u001b[43m \u001b[49m\u001b[43mrvalues\u001b[49m\u001b[43m,\u001b[49m\u001b[43m \u001b[49m\u001b[43mop\u001b[49m\u001b[43m)\u001b[49m\n\u001b[1;32m   5625\u001b[0m \u001b[38;5;28;01mreturn\u001b[39;00m \u001b[38;5;28mself\u001b[39m\u001b[38;5;241m.\u001b[39m_construct_result(res_values, name\u001b[38;5;241m=\u001b[39mres_name)\n",
      "File \u001b[0;32m~/tf_2/lib/python3.8/site-packages/pandas/core/ops/array_ops.py:283\u001b[0m, in \u001b[0;36mcomparison_op\u001b[0;34m(left, right, op)\u001b[0m\n\u001b[1;32m    280\u001b[0m     \u001b[38;5;28;01mreturn\u001b[39;00m invalid_comparison(lvalues, rvalues, op)\n\u001b[1;32m    282\u001b[0m \u001b[38;5;28;01melif\u001b[39;00m is_object_dtype(lvalues\u001b[38;5;241m.\u001b[39mdtype) \u001b[38;5;129;01mor\u001b[39;00m \u001b[38;5;28misinstance\u001b[39m(rvalues, \u001b[38;5;28mstr\u001b[39m):\n\u001b[0;32m--> 283\u001b[0m     res_values \u001b[38;5;241m=\u001b[39m \u001b[43mcomp_method_OBJECT_ARRAY\u001b[49m\u001b[43m(\u001b[49m\u001b[43mop\u001b[49m\u001b[43m,\u001b[49m\u001b[43m \u001b[49m\u001b[43mlvalues\u001b[49m\u001b[43m,\u001b[49m\u001b[43m \u001b[49m\u001b[43mrvalues\u001b[49m\u001b[43m)\u001b[49m\n\u001b[1;32m    285\u001b[0m \u001b[38;5;28;01melse\u001b[39;00m:\n\u001b[1;32m    286\u001b[0m     res_values \u001b[38;5;241m=\u001b[39m _na_arithmetic_op(lvalues, rvalues, op, is_cmp\u001b[38;5;241m=\u001b[39m\u001b[38;5;28;01mTrue\u001b[39;00m)\n",
      "File \u001b[0;32m~/tf_2/lib/python3.8/site-packages/pandas/core/ops/array_ops.py:73\u001b[0m, in \u001b[0;36mcomp_method_OBJECT_ARRAY\u001b[0;34m(op, x, y)\u001b[0m\n\u001b[1;32m     71\u001b[0m     result \u001b[38;5;241m=\u001b[39m libops\u001b[38;5;241m.\u001b[39mvec_compare(x\u001b[38;5;241m.\u001b[39mravel(), y\u001b[38;5;241m.\u001b[39mravel(), op)\n\u001b[1;32m     72\u001b[0m \u001b[38;5;28;01melse\u001b[39;00m:\n\u001b[0;32m---> 73\u001b[0m     result \u001b[38;5;241m=\u001b[39m \u001b[43mlibops\u001b[49m\u001b[38;5;241;43m.\u001b[39;49m\u001b[43mscalar_compare\u001b[49m\u001b[43m(\u001b[49m\u001b[43mx\u001b[49m\u001b[38;5;241;43m.\u001b[39;49m\u001b[43mravel\u001b[49m\u001b[43m(\u001b[49m\u001b[43m)\u001b[49m\u001b[43m,\u001b[49m\u001b[43m \u001b[49m\u001b[43my\u001b[49m\u001b[43m,\u001b[49m\u001b[43m \u001b[49m\u001b[43mop\u001b[49m\u001b[43m)\u001b[49m\n\u001b[1;32m     74\u001b[0m \u001b[38;5;28;01mreturn\u001b[39;00m result\u001b[38;5;241m.\u001b[39mreshape(x\u001b[38;5;241m.\u001b[39mshape)\n",
      "\u001b[0;31mKeyboardInterrupt\u001b[0m: "
     ]
    }
   ],
   "source": [
    "for gene in tqdm(gene_list,total=len(gene_list)):\n",
    "    transcript_df = all_transcript_df[all_transcript_df['GeneID']==gene]\n",
    "    trans_length = np.absolute(transcript_df['End'] - transcript_df['Start'])\n",
    "    max_trans_index = np.argmax(trans_length)\n",
    "    max_trans = transcript_df.iloc[max_trans_index]\n",
    "    max_id = max_trans['Notes'].split('\"')[3]\n",
    "    trans_id_list.append(max_id)"
   ]
  },
  {
   "cell_type": "code",
   "execution_count": 8,
   "id": "d0f0bdbf",
   "metadata": {},
   "outputs": [],
   "source": [
    "gene_flag = (annotation_df['Annotation']=='gene')\n",
    "transcript_flag = (annotation_df['TranscriptID'].isin(trans_id_list))\n",
    "cannonical_flag = np.array(gene_flag) + np.array(transcript_flag)"
   ]
  },
  {
   "cell_type": "code",
   "execution_count": 9,
   "id": "cd6c91f5",
   "metadata": {},
   "outputs": [],
   "source": [
    "cannonical_df = annotation_df[cannonical_flag]"
   ]
  },
  {
   "cell_type": "code",
   "execution_count": 10,
   "id": "eae87f25",
   "metadata": {},
   "outputs": [
    {
     "data": {
      "text/plain": [
       "696277"
      ]
     },
     "execution_count": 10,
     "metadata": {},
     "output_type": "execute_result"
    }
   ],
   "source": [
    "len(cannonical_df)"
   ]
  },
  {
   "cell_type": "code",
   "execution_count": 12,
   "id": "20dfba85",
   "metadata": {},
   "outputs": [],
   "source": [
    "cannonical_df.to_csv('./data/annotation/cannonical_annotation.csv',sep='\\t',\n",
    "                     columns=['Chrom', 'Database', 'Annotation', 'Start','End','Strand','GeneID','TranscriptID'])"
   ]
  },
  {
   "cell_type": "markdown",
   "id": "5a0a3315",
   "metadata": {},
   "source": [
    "## Creating corresponding label from selected cannonical annotations"
   ]
  },
  {
   "cell_type": "code",
   "execution_count": 1,
   "id": "c9a9bad8",
   "metadata": {},
   "outputs": [],
   "source": [
    "import pandas as pd \n",
    "import numpy as np"
   ]
  },
  {
   "cell_type": "code",
   "execution_count": 3,
   "id": "027b9368",
   "metadata": {},
   "outputs": [],
   "source": [
    "annot_df = pd.read_csv('../data/annotation/cannonical_annotation.csv',sep='\\t',index_col=0)\n",
    "annot_df=annot_df[annot_df['Annotation'] != 'gene']"
   ]
  },
  {
   "cell_type": "code",
   "execution_count": 11,
   "id": "834f561d",
   "metadata": {},
   "outputs": [
    {
     "data": {
      "text/html": [
       "<div>\n",
       "<style scoped>\n",
       "    .dataframe tbody tr th:only-of-type {\n",
       "        vertical-align: middle;\n",
       "    }\n",
       "\n",
       "    .dataframe tbody tr th {\n",
       "        vertical-align: top;\n",
       "    }\n",
       "\n",
       "    .dataframe thead th {\n",
       "        text-align: right;\n",
       "    }\n",
       "</style>\n",
       "<table border=\"1\" class=\"dataframe\">\n",
       "  <thead>\n",
       "    <tr style=\"text-align: right;\">\n",
       "      <th></th>\n",
       "      <th>Chrom</th>\n",
       "      <th>Database</th>\n",
       "      <th>Annotation</th>\n",
       "      <th>Start</th>\n",
       "      <th>End</th>\n",
       "      <th>Strand</th>\n",
       "      <th>GeneID</th>\n",
       "      <th>TranscriptID</th>\n",
       "    </tr>\n",
       "  </thead>\n",
       "  <tbody>\n",
       "    <tr>\n",
       "      <th>1</th>\n",
       "      <td>chr1</td>\n",
       "      <td>HAVANA</td>\n",
       "      <td>transcript</td>\n",
       "      <td>11869</td>\n",
       "      <td>14409</td>\n",
       "      <td>+</td>\n",
       "      <td>ENSG00000223972.5</td>\n",
       "      <td>ENST00000456328.2</td>\n",
       "    </tr>\n",
       "    <tr>\n",
       "      <th>2</th>\n",
       "      <td>chr1</td>\n",
       "      <td>HAVANA</td>\n",
       "      <td>exon</td>\n",
       "      <td>11869</td>\n",
       "      <td>12227</td>\n",
       "      <td>+</td>\n",
       "      <td>ENSG00000223972.5</td>\n",
       "      <td>ENST00000456328.2</td>\n",
       "    </tr>\n",
       "    <tr>\n",
       "      <th>3</th>\n",
       "      <td>chr1</td>\n",
       "      <td>HAVANA</td>\n",
       "      <td>exon</td>\n",
       "      <td>12613</td>\n",
       "      <td>12721</td>\n",
       "      <td>+</td>\n",
       "      <td>ENSG00000223972.5</td>\n",
       "      <td>ENST00000456328.2</td>\n",
       "    </tr>\n",
       "    <tr>\n",
       "      <th>4</th>\n",
       "      <td>chr1</td>\n",
       "      <td>HAVANA</td>\n",
       "      <td>exon</td>\n",
       "      <td>13221</td>\n",
       "      <td>14409</td>\n",
       "      <td>+</td>\n",
       "      <td>ENSG00000223972.5</td>\n",
       "      <td>ENST00000456328.2</td>\n",
       "    </tr>\n",
       "    <tr>\n",
       "      <th>13</th>\n",
       "      <td>chr1</td>\n",
       "      <td>HAVANA</td>\n",
       "      <td>transcript</td>\n",
       "      <td>14404</td>\n",
       "      <td>29570</td>\n",
       "      <td>-</td>\n",
       "      <td>ENSG00000227232.5</td>\n",
       "      <td>ENST00000488147.1</td>\n",
       "    </tr>\n",
       "    <tr>\n",
       "      <th>...</th>\n",
       "      <td>...</td>\n",
       "      <td>...</td>\n",
       "      <td>...</td>\n",
       "      <td>...</td>\n",
       "      <td>...</td>\n",
       "      <td>...</td>\n",
       "      <td>...</td>\n",
       "      <td>...</td>\n",
       "    </tr>\n",
       "    <tr>\n",
       "      <th>3283855</th>\n",
       "      <td>chrM</td>\n",
       "      <td>ENSEMBL</td>\n",
       "      <td>start_codon</td>\n",
       "      <td>14747</td>\n",
       "      <td>14749</td>\n",
       "      <td>+</td>\n",
       "      <td>ENSG00000198727.2</td>\n",
       "      <td>ENST00000361789.2</td>\n",
       "    </tr>\n",
       "    <tr>\n",
       "      <th>3283857</th>\n",
       "      <td>chrM</td>\n",
       "      <td>ENSEMBL</td>\n",
       "      <td>transcript</td>\n",
       "      <td>15888</td>\n",
       "      <td>15953</td>\n",
       "      <td>+</td>\n",
       "      <td>ENSG00000210195.2</td>\n",
       "      <td>ENST00000387460.2</td>\n",
       "    </tr>\n",
       "    <tr>\n",
       "      <th>3283858</th>\n",
       "      <td>chrM</td>\n",
       "      <td>ENSEMBL</td>\n",
       "      <td>exon</td>\n",
       "      <td>15888</td>\n",
       "      <td>15953</td>\n",
       "      <td>+</td>\n",
       "      <td>ENSG00000210195.2</td>\n",
       "      <td>ENST00000387460.2</td>\n",
       "    </tr>\n",
       "    <tr>\n",
       "      <th>3283860</th>\n",
       "      <td>chrM</td>\n",
       "      <td>ENSEMBL</td>\n",
       "      <td>transcript</td>\n",
       "      <td>15956</td>\n",
       "      <td>16023</td>\n",
       "      <td>-</td>\n",
       "      <td>ENSG00000210196.2</td>\n",
       "      <td>ENST00000387461.2</td>\n",
       "    </tr>\n",
       "    <tr>\n",
       "      <th>3283861</th>\n",
       "      <td>chrM</td>\n",
       "      <td>ENSEMBL</td>\n",
       "      <td>exon</td>\n",
       "      <td>15956</td>\n",
       "      <td>16023</td>\n",
       "      <td>-</td>\n",
       "      <td>ENSG00000210196.2</td>\n",
       "      <td>ENST00000387461.2</td>\n",
       "    </tr>\n",
       "  </tbody>\n",
       "</table>\n",
       "<p>634733 rows × 8 columns</p>\n",
       "</div>"
      ],
      "text/plain": [
       "        Chrom Database   Annotation  Start    End Strand             GeneID  \\\n",
       "1        chr1   HAVANA   transcript  11869  14409      +  ENSG00000223972.5   \n",
       "2        chr1   HAVANA         exon  11869  12227      +  ENSG00000223972.5   \n",
       "3        chr1   HAVANA         exon  12613  12721      +  ENSG00000223972.5   \n",
       "4        chr1   HAVANA         exon  13221  14409      +  ENSG00000223972.5   \n",
       "13       chr1   HAVANA   transcript  14404  29570      -  ENSG00000227232.5   \n",
       "...       ...      ...          ...    ...    ...    ...                ...   \n",
       "3283855  chrM  ENSEMBL  start_codon  14747  14749      +  ENSG00000198727.2   \n",
       "3283857  chrM  ENSEMBL   transcript  15888  15953      +  ENSG00000210195.2   \n",
       "3283858  chrM  ENSEMBL         exon  15888  15953      +  ENSG00000210195.2   \n",
       "3283860  chrM  ENSEMBL   transcript  15956  16023      -  ENSG00000210196.2   \n",
       "3283861  chrM  ENSEMBL         exon  15956  16023      -  ENSG00000210196.2   \n",
       "\n",
       "              TranscriptID  \n",
       "1        ENST00000456328.2  \n",
       "2        ENST00000456328.2  \n",
       "3        ENST00000456328.2  \n",
       "4        ENST00000456328.2  \n",
       "13       ENST00000488147.1  \n",
       "...                    ...  \n",
       "3283855  ENST00000361789.2  \n",
       "3283857  ENST00000387460.2  \n",
       "3283858  ENST00000387460.2  \n",
       "3283860  ENST00000387461.2  \n",
       "3283861  ENST00000387461.2  \n",
       "\n",
       "[634733 rows x 8 columns]"
      ]
     },
     "execution_count": 11,
     "metadata": {},
     "output_type": "execute_result"
    }
   ],
   "source": [
    "annot_df"
   ]
  },
  {
   "cell_type": "code",
   "execution_count": 12,
   "id": "b8bdbca0",
   "metadata": {},
   "outputs": [
    {
     "data": {
      "text/plain": [
       "Chrom                        chrM\n",
       "Database                  ENSEMBL\n",
       "Annotation                   exon\n",
       "Start                       15956\n",
       "End                         16023\n",
       "Strand                          -\n",
       "GeneID          ENSG00000210196.2\n",
       "TranscriptID    ENST00000387461.2\n",
       "Name: 3283861, dtype: object"
      ]
     },
     "execution_count": 12,
     "metadata": {},
     "output_type": "execute_result"
    }
   ],
   "source": [
    "row"
   ]
  },
  {
   "cell_type": "code",
   "execution_count": 13,
   "id": "47e4f6bb",
   "metadata": {},
   "outputs": [],
   "source": [
    "#create label for 3'/5' splice sites, UTR, CDS, Exon, or non of the above\n",
    "#Use cannonical transcript(longest transcript per gene)\n",
    "def format_list(label_list):\n",
    "    if len(label_list)==0:\n",
    "        return 'NA'\n",
    "    else: return ','.join(list(map(str, label_list)))\n",
    "\n",
    "table_content=['Gene','Chr','Strand','Start','End',\"Donor\",\"Acceptor\",\"UTR\",'CDS','Exon']\n",
    "with open('../data/annotation/annot_label.csv','w') as file:\n",
    "    for index,row in annot_df.iterrows():\n",
    "        start = row['Start']\n",
    "        end = row['End']\n",
    "        if row['Annotation'] == 'transcript':\n",
    "            if index != 1:\n",
    "                table_content=[transcript_info[0],\n",
    "                             str(transcript_info[1]),\n",
    "                              str(transcript_info[2]),\n",
    "                               str(transcript_info[3]),\n",
    "                               str(transcript_info[4]),\n",
    "                              format_list(donor_list[:-1]),\n",
    "                              format_list(acceptor_list[1:]),\n",
    "                              format_list(utr_list),\n",
    "                              format_list(cds_list),\n",
    "                              format_list(exon_list)]\n",
    "            file.write('\\t'.join(table_content)+'\\n')\n",
    "            utr_list = []\n",
    "            cds_list = []\n",
    "            acceptor_list = []\n",
    "            donor_list = []\n",
    "            exon_list = []\n",
    "            transcript_info = [row['GeneID'],row['Chrom'],row['Strand'],start,end]\n",
    "        elif row['Annotation'] == 'UTR':\n",
    "            utr_list.append(\"%s-%s\" %(start,end))\n",
    "        elif row['Annotation'] == 'CDS':\n",
    "            cds_list.append(\"%s-%s\" %(start,end))\n",
    "        elif row['Annotation'] == 'exon':\n",
    "            exon_list.append(\"%s-%s\" %(start,end))\n",
    "            if row['Strand'] == '+':\n",
    "                acceptor_list.append(start)\n",
    "                donor_list.append(end)\n",
    "            elif row['Strand'] == '-':\n",
    "                acceptor_list.append(end)\n",
    "                donor_list.append(start)\n",
    "    table_content=[transcript_info[0],\n",
    "                             str(transcript_info[1]),\n",
    "                              str(transcript_info[2]),\n",
    "                               str(transcript_info[3]),\n",
    "                               str(transcript_info[4]),\n",
    "                              format_list(donor_list[:-1]),\n",
    "                              format_list(acceptor_list[1:]),\n",
    "                              format_list(utr_list),\n",
    "                              format_list(cds_list),\n",
    "                              format_list(exon_list)]\n",
    "    file.write('\\t'.join(table_content)+'\\n')"
   ]
  },
  {
   "cell_type": "code",
   "execution_count": 10,
   "id": "f8ba444e",
   "metadata": {},
   "outputs": [],
   "source": [
    "! cat ../data/annotation/annot_label.csv | awk -v CLl=1 -v CLr=0 '{print $2\"\\t\"($4-CLl)\"\\t\"($5+CLr)}' > ../data/annotation/temp.bed\n",
    "! sed -i '1d' ../data/annotation/temp.bed \n",
    "! grep -v \"chrM\" ../data/annotation/temp.bed > ../data/annotation/seq.bed\n",
    "! rm ../data/annotation/temp.bed\n",
    "!bedtools getfasta -bed ../data/annotation/seq.bed -fi /home/amber/ref/hg38/hg38.fa -fo ../data/annotation/seq.txt -tab"
   ]
  },
  {
   "cell_type": "markdown",
   "id": "e5448270",
   "metadata": {},
   "source": [
    "## Create vector lable containing variable tasks list"
   ]
  },
  {
   "cell_type": "code",
   "execution_count": 14,
   "id": "71f662c5",
   "metadata": {
    "scrolled": true
   },
   "outputs": [],
   "source": [
    "import pandas as pd\n",
    "import numpy as np\n",
    "from tqdm import tqdm\n",
    "import h5py\n",
    "import data_preprocess\n",
    "padding = 80\n",
    "seq_len = 5000\n",
    "#Splice donor/acceptor is alwasy included. Other possible lables:\n",
    "#[UTR,CDS,Exon]\n",
    "task_list = []\n",
    "task_count = len(task_list) + 3"
   ]
  },
  {
   "cell_type": "code",
   "execution_count": 15,
   "id": "15c754bc",
   "metadata": {},
   "outputs": [],
   "source": [
    "label_df = pd.read_csv('./data/annotation/annot_label.csv',sep='\\t')\n",
    "label_df = label_df[label_df['Chr']!='chrM']\n",
    "seq_file = open('./data/annotation/seq.txt', 'r').readlines()"
   ]
  },
  {
   "cell_type": "code",
   "execution_count": 16,
   "id": "c37094ac",
   "metadata": {},
   "outputs": [],
   "source": [
    "#determine final sequenc size\n",
    "train_chrom =['chr1', 'chr2', 'chr3', 'chr4', 'chr5', 'chr6', 'chr7',\n",
    "              'chr10', 'chr11', 'chr12', 'chr13', 'chr14', 'chr15',\n",
    "              'chr16', 'chr17', 'chr18', 'chr19', 'chr20', 'chr21', \n",
    "              'chr22', 'chrX', 'chrY']\n",
    "valid_chrom = ['chr8']\n",
    "test_chrom = ['chr9']\n",
    "train_c,valid_c,test_c=0,0,0\n",
    "for i in range(len(label_df)):\n",
    "    row = label_df.iloc[i]\n",
    "    chrom = row['Chr']\n",
    "    start = row['Start']\n",
    "    end = row['End']\n",
    "    length = end - start + 1\n",
    "    count = -1 * (-length // seq_len)\n",
    "    if chrom in train_chrom:\n",
    "        train_c += count\n",
    "    elif chrom in valid_chrom:\n",
    "        valid_c += count\n",
    "    elif chrom in test_chrom:\n",
    "        test_c += count"
   ]
  },
  {
   "cell_type": "code",
   "execution_count": 17,
   "id": "4be2e0e1",
   "metadata": {},
   "outputs": [],
   "source": [
    "file_name = str(seq_len) + '_'+str(padding)+'.h5'\n",
    "h5f = h5py.File('./data/annotation/'+file_name, 'w')\n",
    "x_train = h5f.create_dataset('x_train',shape=(train_c,padding+seq_len,4),dtype=np.int8)\n",
    "x_valid = h5f.create_dataset('x_valid', shape=(valid_c,padding+seq_len,4),dtype=np.int8)\n",
    "x_test = h5f.create_dataset('x_test', shape=(test_c,padding+seq_len,4),dtype=np.int8)\n",
    "y_train = h5f.create_dataset('y_train', shape=(train_c,seq_len,task_count),dtype=np.int8)\n",
    "y_valid = h5f.create_dataset('y_valid', shape=(valid_c,seq_len,task_count),dtype=np.int8)\n",
    "y_test = h5f.create_dataset('y_test', shape=(test_c,seq_len,task_count),dtype=np.int8)"
   ]
  },
  {
   "cell_type": "code",
   "execution_count": 18,
   "id": "4aa5dd34",
   "metadata": {
    "scrolled": true
   },
   "outputs": [
    {
     "name": "stderr",
     "output_type": "stream",
     "text": [
      "100%|███████████████████████████████████| 61507/61507 [05:09<00:00, 198.50it/s]\n"
     ]
    }
   ],
   "source": [
    "train_i = 0\n",
    "valid_i = 0\n",
    "test_i = 0\n",
    "for idx in tqdm(range(len(label_df))):\n",
    "    seq = seq_file[idx]\n",
    "    row = label_df.iloc[idx]\n",
    "    chrom = row['Chr']\n",
    "    X,Y = data_preprocess.create_datapoints(seq,row,seq_len,padding,task_list)\n",
    "    X = np.asarray(X,dtype=np.int8)\n",
    "    Y = np.asarray(Y,dtype=np.int8)\n",
    "    test_sum = np.sum(Y,axis=2)\n",
    "    if chrom in train_chrom:\n",
    "        x_train[train_i:train_i+len(X)]=X\n",
    "        y_train[train_i:train_i+len(X)]=Y\n",
    "        train_i = train_i+len(X)\n",
    "    elif chrom in valid_chrom:\n",
    "        x_valid[valid_i:valid_i+len(X)]=X\n",
    "        y_valid[valid_i:valid_i+len(X)]=Y\n",
    "        valid_i = valid_i+len(X)\n",
    "    elif chrom in test_chrom:\n",
    "        x_test[test_i:test_i+len(X)]=X\n",
    "        y_test[test_i:test_i+len(X)]=Y\n",
    "        test_i = test_i+len(X)\n",
    "h5f.close()"
   ]
  },
  {
   "cell_type": "code",
   "execution_count": 6,
   "id": "21ad5da2",
   "metadata": {},
   "outputs": [],
   "source": [
    "h5f = h5py.File('./data/annotation/'+file_name, 'r')"
   ]
  },
  {
   "cell_type": "code",
   "execution_count": 7,
   "id": "7e68faa0",
   "metadata": {},
   "outputs": [],
   "source": [
    "test = np.argwhere(np.sum(h5f['y_train'],axis=2) > 1)"
   ]
  },
  {
   "cell_type": "code",
   "execution_count": 8,
   "id": "82791544",
   "metadata": {},
   "outputs": [
    {
     "data": {
      "text/plain": [
       "array([], shape=(0, 2), dtype=int64)"
      ]
     },
     "execution_count": 8,
     "metadata": {},
     "output_type": "execute_result"
    }
   ],
   "source": [
    "test"
   ]
  },
  {
   "cell_type": "code",
   "execution_count": 9,
   "id": "3a358931",
   "metadata": {},
   "outputs": [],
   "source": [
    "h5f.close()"
   ]
  },
  {
   "cell_type": "markdown",
   "id": "fdbe6ae8",
   "metadata": {},
   "source": [
    "## Convert SpliceAI data"
   ]
  },
  {
   "cell_type": "code",
   "execution_count": 1,
   "id": "32f8b65f",
   "metadata": {},
   "outputs": [],
   "source": [
    "import h5py\n",
    "import pandas as pd\n",
    "import numpy as np\n",
    "from tqdm import tqdm"
   ]
  },
  {
   "cell_type": "code",
   "execution_count": 2,
   "id": "ed0e3b63",
   "metadata": {},
   "outputs": [],
   "source": [
    "h5f = h5py.File('./SpliceAI80/dataset_train_all.h5', 'r')"
   ]
  },
  {
   "cell_type": "code",
   "execution_count": 3,
   "id": "f974e539",
   "metadata": {},
   "outputs": [],
   "source": [
    "num_idx = len(h5f.keys())//2\n",
    "idx_all = np.random.permutation(num_idx)\n",
    "idx_train = idx_all[:int(0.9*num_idx)]\n",
    "idx_valid = idx_all[int(0.9*num_idx):]"
   ]
  },
  {
   "cell_type": "code",
   "execution_count": 4,
   "id": "03144f26",
   "metadata": {},
   "outputs": [
    {
     "name": "stderr",
     "output_type": "stream",
     "text": [
      "100%|███████████████████████████████████████| 119/119 [00:01<00:00, 106.19it/s]\n"
     ]
    }
   ],
   "source": [
    "train_x=[]\n",
    "train_y=[]\n",
    "for i in tqdm(idx_train):\n",
    "    X = h5f['X' + str(i)][:]\n",
    "    Y = h5f['Y' + str(i)][:]\n",
    "    train_x.append(X)\n",
    "    train_y.append(Y[0])"
   ]
  },
  {
   "cell_type": "code",
   "execution_count": 5,
   "id": "7f04f2b6",
   "metadata": {},
   "outputs": [],
   "source": [
    "x_train = np.concatenate(train_x)\n",
    "y_train = np.concatenate(train_y)"
   ]
  },
  {
   "cell_type": "code",
   "execution_count": 6,
   "id": "7809bac5",
   "metadata": {},
   "outputs": [
    {
     "name": "stderr",
     "output_type": "stream",
     "text": [
      "100%|█████████████████████████████████████████| 14/14 [00:00<00:00, 106.23it/s]\n"
     ]
    }
   ],
   "source": [
    "valid_x=[]\n",
    "valid_y=[]\n",
    "for i in tqdm(idx_valid):\n",
    "    X = h5f['X' + str(i)][:]\n",
    "    Y = h5f['Y' + str(i)][:]\n",
    "    valid_x.append(X)\n",
    "    valid_y.append(Y[0])"
   ]
  },
  {
   "cell_type": "code",
   "execution_count": 7,
   "id": "850b3157",
   "metadata": {},
   "outputs": [],
   "source": [
    "x_valid = np.concatenate(valid_x)\n",
    "y_valid = np.concatenate(valid_y)"
   ]
  },
  {
   "cell_type": "code",
   "execution_count": 9,
   "id": "801ef921",
   "metadata": {},
   "outputs": [],
   "source": [
    "h5f.close()"
   ]
  },
  {
   "cell_type": "code",
   "execution_count": 10,
   "id": "f0a9f52f",
   "metadata": {},
   "outputs": [],
   "source": [
    "h5f = h5py.File('./SpliceAI80/dataset_test_0.h5', 'r')\n",
    "num_idx = len(h5f.keys())//2"
   ]
  },
  {
   "cell_type": "code",
   "execution_count": 11,
   "id": "363578ac",
   "metadata": {
    "scrolled": true
   },
   "outputs": [
    {
     "name": "stderr",
     "output_type": "stream",
     "text": [
      "100%|█████████████████████████████████████████| 16/16 [00:00<00:00, 119.90it/s]\n"
     ]
    }
   ],
   "source": [
    "test_x=[]\n",
    "test_y=[]\n",
    "for i in tqdm(range(num_idx)):\n",
    "    X = h5f['X' + str(i)][:]\n",
    "    Y = h5f['Y' + str(i)][:]\n",
    "    test_x.append(X)\n",
    "    test_y.append(Y[0])\n",
    "h5f.close()"
   ]
  },
  {
   "cell_type": "code",
   "execution_count": 12,
   "id": "53ea1add",
   "metadata": {},
   "outputs": [
    {
     "data": {
      "text/plain": [
       "(16505, 5000, 3)"
      ]
     },
     "execution_count": 12,
     "metadata": {},
     "output_type": "execute_result"
    }
   ],
   "source": [
    "x_test = np.concatenate(test_x)\n",
    "y_test = np.concatenate(test_y)\n",
    "y_test.shape"
   ]
  },
  {
   "cell_type": "code",
   "execution_count": 13,
   "id": "b6fe5acb",
   "metadata": {},
   "outputs": [],
   "source": [
    "h5f = h5py.File('./data/annotation/spliceai_5000_80.h5', 'w')\n",
    "h5f.create_dataset('x_train', data=np.asarray(x_train).astype('int8'))\n",
    "h5f.create_dataset('x_valid', data=np.asarray(x_valid).astype('int8'))\n",
    "h5f.create_dataset('x_test', data=np.asarray(x_test).astype('int8'))\n",
    "h5f.create_dataset('y_train', data=np.asarray(y_train).astype('int8'))\n",
    "h5f.create_dataset('y_valid', data=np.asarray(y_valid).astype('int8'))\n",
    "h5f.create_dataset('y_test', data=np.asarray(y_test).astype('int8'))\n",
    "h5f.close()"
   ]
  },
  {
   "cell_type": "code",
   "execution_count": null,
   "id": "a5600254",
   "metadata": {},
   "outputs": [],
   "source": []
  }
 ],
 "metadata": {
  "kernelspec": {
   "display_name": "Python 3 (ipykernel)",
   "language": "python",
   "name": "python3"
  },
  "language_info": {
   "codemirror_mode": {
    "name": "ipython",
    "version": 3
   },
   "file_extension": ".py",
   "mimetype": "text/x-python",
   "name": "python",
   "nbconvert_exporter": "python",
   "pygments_lexer": "ipython3",
   "version": "3.8.10"
  }
 },
 "nbformat": 4,
 "nbformat_minor": 5
}
