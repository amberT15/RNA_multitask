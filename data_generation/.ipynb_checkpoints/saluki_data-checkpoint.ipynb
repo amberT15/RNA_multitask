{
 "cells": [
  {
   "cell_type": "code",
   "execution_count": 2,
   "id": "7c368446",
   "metadata": {},
   "outputs": [],
   "source": [
    "import data_preprocess\n",
    "from sequence_models.constants import PROTEIN_ALPHABET"
   ]
  },
  {
   "cell_type": "code",
   "execution_count": 6,
   "id": "8b9a5573",
   "metadata": {},
   "outputs": [
    {
     "name": "stderr",
     "output_type": "stream",
     "text": [
      "2022-06-27 23:25:35.332880: I tensorflow/core/platform/cpu_feature_guard.cc:151] This TensorFlow binary is optimized with oneAPI Deep Neural Network Library (oneDNN) to use the following CPU instructions in performance-critical operations:  AVX2 FMA\n",
      "To enable them in other operations, rebuild TensorFlow with the appropriate compiler flags.\n",
      "2022-06-27 23:25:36.340377: I tensorflow/core/common_runtime/gpu/gpu_device.cc:1525] Created device /job:localhost/replica:0/task:0/device:GPU:0 with 14257 MB memory:  -> device: 0, name: NVIDIA RTX A4000, pci bus id: 0000:c2:00.0, compute capability: 8.6\n"
     ]
    }
   ],
   "source": [
    "test = data_preprocess.RnaDataset('../data/saluki/deeplearning/train_gru/f0_c0/data0/',\n",
    "      split_label='train',\n",
    "      batch_size=128,\n",
    "      shuffle_buffer=1024,\n",
    "      mode='train')"
   ]
  },
  {
   "cell_type": "code",
   "execution_count": 7,
   "id": "0fd34802",
   "metadata": {},
   "outputs": [
    {
     "data": {
      "text/plain": [
       "<data_preprocess.RnaDataset at 0x7f9452978580>"
      ]
     },
     "execution_count": 7,
     "metadata": {},
     "output_type": "execute_result"
    }
   ],
   "source": [
    "test"
   ]
  },
  {
   "cell_type": "code",
   "execution_count": null,
   "id": "b031ca88",
   "metadata": {},
   "outputs": [],
   "source": []
  }
 ],
 "metadata": {
  "kernelspec": {
   "display_name": "Python 3 (ipykernel)",
   "language": "python",
   "name": "python3"
  },
  "language_info": {
   "codemirror_mode": {
    "name": "ipython",
    "version": 3
   },
   "file_extension": ".py",
   "mimetype": "text/x-python",
   "name": "python",
   "nbconvert_exporter": "python",
   "pygments_lexer": "ipython3",
   "version": "3.8.10"
  }
 },
 "nbformat": 4,
 "nbformat_minor": 5
}
