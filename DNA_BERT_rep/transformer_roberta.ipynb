{
 "cells": [
  {
   "cell_type": "code",
   "execution_count": 1,
   "metadata": {},
   "outputs": [
    {
     "name": "stderr",
     "output_type": "stream",
     "text": [
      "Using TensorFlow backend.\n"
     ]
    }
   ],
   "source": [
    "import transformers\n",
    "import sys\n",
    "sys.path.append('../')\n",
    "sys.path.append('./')\n",
    "#sys.path.append('/home/amber/multitask_RNA/replications/DNABERT/examples/')\n",
    "\n",
    "from dnabert_datastruct import mask_tokens\n",
    "from dnabert_datastruct import DNATokenizer\n",
    "\n",
    "from torch.utils.data import DataLoader\n",
    "import rna_model\n",
    "import importlib\n",
    "import numpy as np\n",
    "import torch\n",
    "from transformers import RobertaConfig, RobertaForMaskedLM\n",
    "from transformers import Trainer, TrainingArguments"
   ]
  },
  {
   "cell_type": "code",
   "execution_count": 2,
   "metadata": {},
   "outputs": [],
   "source": [
    "class arg():\n",
    "    def __init__(self,prb):\n",
    "        self.mlm_probability = prb\n",
    "\n",
    "class rnabert_maskwrapper():\n",
    "    def __init__(self,tokenizer,prob_arg) -> None:\n",
    "        self.tokenizer = tokenizer\n",
    "        self.prb = prob_arg\n",
    "    def __call__(self, batch_entry):\n",
    "        batch_entry = torch.from_numpy(np.array(batch_entry))\n",
    "        input,label = mask_tokens(batch_entry,self.tokenizer,arg(self.prb))\n",
    "        return{'input_ids':input,'labels':label}"
   ]
  },
  {
   "cell_type": "code",
   "execution_count": 3,
   "metadata": {},
   "outputs": [
    {
     "name": "stdout",
     "output_type": "stream",
     "text": [
      "============================================================\n",
      "<class 'dnabert_datastruct.DNATokenizer'>\n"
     ]
    }
   ],
   "source": [
    "importlib.reload(rna_model)\n",
    "tokenizer = DNATokenizer.from_pretrained('dna6')\n",
    "train_data = rna_model.rna_kmer('../data/pre-train/510/rna_seq.h5','train',6,tokenizer)\n",
    "valid_data = rna_model.rna_kmer('../data/pre-train/510/rna_seq.h5','valid',6,tokenizer)\n",
    "data_collator = rnabert_maskwrapper(tokenizer,0.15)"
   ]
  },
  {
   "cell_type": "code",
   "execution_count": 4,
   "metadata": {},
   "outputs": [],
   "source": [
    "# Initializing a RoBERTa configuration\n",
    "configuration = RobertaConfig(vocab_size = tokenizer.vocab_size,\n",
    "                            pad_token_id = tokenizer.pad_token_id,\n",
    "                            eos_token_id = tokenizer.sep_token_id,\n",
    "                            bos_token_id = tokenizer.cls_token_id,\n",
    "                            type_vocab_size = 1,\n",
    "                            layer_norm_eps = 1e-05,\n",
    "                            max_position_embeddings = 514 )\n",
    "# Initializing a model from the configuration\n",
    "model = RobertaForMaskedLM(configuration)"
   ]
  },
  {
   "cell_type": "code",
   "execution_count": null,
   "metadata": {},
   "outputs": [],
   "source": [
    "model.eval()"
   ]
  },
  {
   "cell_type": "code",
   "execution_count": 10,
   "metadata": {},
   "outputs": [
    {
     "name": "stderr",
     "output_type": "stream",
     "text": [
      "PyTorch: setting up devices\n",
      "The default value for the training argument `--report_to` will change in v5 (from all installed integrations to none). In v5, you will need to use `--report_to all` to get the same behavior as now. You should start updating your code and make this info disappear :-).\n"
     ]
    },
    {
     "ename": "RuntimeError",
     "evalue": "CUDA error: out of memory\nCUDA kernel errors might be asynchronously reported at some other API call,so the stacktrace below might be incorrect.\nFor debugging consider passing CUDA_LAUNCH_BLOCKING=1.",
     "output_type": "error",
     "traceback": [
      "\u001b[0;31m---------------------------------------------------------------------------\u001b[0m",
      "\u001b[0;31mRuntimeError\u001b[0m                              Traceback (most recent call last)",
      "\u001b[1;32m/home/amber/multitask_RNA/DNA_BERT_rep/transformer_roberta.ipynb Cell 5\u001b[0m in \u001b[0;36m<module>\u001b[0;34m\u001b[0m\n\u001b[1;32m      <a href='vscode-notebook-cell://ssh-remote%2Bcitra/home/amber/multitask_RNA/DNA_BERT_rep/transformer_roberta.ipynb#ch0000060vscode-remote?line=0'>1</a>\u001b[0m \u001b[39mfrom\u001b[39;00m \u001b[39mtransformers\u001b[39;00m \u001b[39mimport\u001b[39;00m Trainer, TrainingArguments\n\u001b[1;32m      <a href='vscode-notebook-cell://ssh-remote%2Bcitra/home/amber/multitask_RNA/DNA_BERT_rep/transformer_roberta.ipynb#ch0000060vscode-remote?line=1'>2</a>\u001b[0m training_args \u001b[39m=\u001b[39m TrainingArguments(\n\u001b[1;32m      <a href='vscode-notebook-cell://ssh-remote%2Bcitra/home/amber/multitask_RNA/DNA_BERT_rep/transformer_roberta.ipynb#ch0000060vscode-remote?line=2'>3</a>\u001b[0m     output_dir\u001b[39m=\u001b[39m\u001b[39m\"\u001b[39m\u001b[39m./bert\u001b[39m\u001b[39m\"\u001b[39m,\n\u001b[1;32m      <a href='vscode-notebook-cell://ssh-remote%2Bcitra/home/amber/multitask_RNA/DNA_BERT_rep/transformer_roberta.ipynb#ch0000060vscode-remote?line=3'>4</a>\u001b[0m     overwrite_output_dir\u001b[39m=\u001b[39m\u001b[39mTrue\u001b[39;00m,\n\u001b[0;32m   (...)\u001b[0m\n\u001b[1;32m      <a href='vscode-notebook-cell://ssh-remote%2Bcitra/home/amber/multitask_RNA/DNA_BERT_rep/transformer_roberta.ipynb#ch0000060vscode-remote?line=8'>9</a>\u001b[0m     save_total_limit\u001b[39m=\u001b[39m\u001b[39m2\u001b[39m\n\u001b[1;32m     <a href='vscode-notebook-cell://ssh-remote%2Bcitra/home/amber/multitask_RNA/DNA_BERT_rep/transformer_roberta.ipynb#ch0000060vscode-remote?line=9'>10</a>\u001b[0m )\n\u001b[0;32m---> <a href='vscode-notebook-cell://ssh-remote%2Bcitra/home/amber/multitask_RNA/DNA_BERT_rep/transformer_roberta.ipynb#ch0000060vscode-remote?line=10'>11</a>\u001b[0m trainer \u001b[39m=\u001b[39m Trainer(model \u001b[39m=\u001b[39;49m model, \n\u001b[1;32m     <a href='vscode-notebook-cell://ssh-remote%2Bcitra/home/amber/multitask_RNA/DNA_BERT_rep/transformer_roberta.ipynb#ch0000060vscode-remote?line=11'>12</a>\u001b[0m                 args \u001b[39m=\u001b[39;49m training_args, \n\u001b[1;32m     <a href='vscode-notebook-cell://ssh-remote%2Bcitra/home/amber/multitask_RNA/DNA_BERT_rep/transformer_roberta.ipynb#ch0000060vscode-remote?line=12'>13</a>\u001b[0m                 train_dataset\u001b[39m=\u001b[39;49mtrain_data, \n\u001b[1;32m     <a href='vscode-notebook-cell://ssh-remote%2Bcitra/home/amber/multitask_RNA/DNA_BERT_rep/transformer_roberta.ipynb#ch0000060vscode-remote?line=13'>14</a>\u001b[0m                 eval_dataset\u001b[39m=\u001b[39;49mvalid_data,\n\u001b[1;32m     <a href='vscode-notebook-cell://ssh-remote%2Bcitra/home/amber/multitask_RNA/DNA_BERT_rep/transformer_roberta.ipynb#ch0000060vscode-remote?line=14'>15</a>\u001b[0m                 data_collator\u001b[39m=\u001b[39;49mdata_collator)\n",
      "File \u001b[0;32m~/tf_2/lib/python3.8/site-packages/transformers/trainer.py:313\u001b[0m, in \u001b[0;36mTrainer.__init__\u001b[0;34m(self, model, args, data_collator, train_dataset, eval_dataset, tokenizer, model_init, compute_metrics, callbacks, optimizers, preprocess_logits_for_metrics)\u001b[0m\n\u001b[1;32m    311\u001b[0m \u001b[39mself\u001b[39m\u001b[39m.\u001b[39margs \u001b[39m=\u001b[39m args\n\u001b[1;32m    312\u001b[0m \u001b[39m# Seed must be set before instantiating the model when using model\u001b[39;00m\n\u001b[0;32m--> 313\u001b[0m enable_full_determinism(\u001b[39mself\u001b[39m\u001b[39m.\u001b[39margs\u001b[39m.\u001b[39mseed) \u001b[39mif\u001b[39;00m \u001b[39mself\u001b[39m\u001b[39m.\u001b[39margs\u001b[39m.\u001b[39mfull_determinism \u001b[39melse\u001b[39;00m set_seed(\u001b[39mself\u001b[39;49m\u001b[39m.\u001b[39;49margs\u001b[39m.\u001b[39;49mseed)\n\u001b[1;32m    314\u001b[0m \u001b[39mself\u001b[39m\u001b[39m.\u001b[39mhp_name \u001b[39m=\u001b[39m \u001b[39mNone\u001b[39;00m\n\u001b[1;32m    315\u001b[0m \u001b[39mself\u001b[39m\u001b[39m.\u001b[39mdeepspeed \u001b[39m=\u001b[39m \u001b[39mNone\u001b[39;00m\n",
      "File \u001b[0;32m~/tf_2/lib/python3.8/site-packages/transformers/trainer_utils.py:93\u001b[0m, in \u001b[0;36mset_seed\u001b[0;34m(seed)\u001b[0m\n\u001b[1;32m     91\u001b[0m np\u001b[39m.\u001b[39mrandom\u001b[39m.\u001b[39mseed(seed)\n\u001b[1;32m     92\u001b[0m \u001b[39mif\u001b[39;00m is_torch_available():\n\u001b[0;32m---> 93\u001b[0m     torch\u001b[39m.\u001b[39;49mmanual_seed(seed)\n\u001b[1;32m     94\u001b[0m     torch\u001b[39m.\u001b[39mcuda\u001b[39m.\u001b[39mmanual_seed_all(seed)\n\u001b[1;32m     95\u001b[0m     \u001b[39m# ^^ safe to call this function even if cuda is not available\u001b[39;00m\n",
      "File \u001b[0;32m~/tf_2/lib/python3.8/site-packages/torch/random.py:40\u001b[0m, in \u001b[0;36mmanual_seed\u001b[0;34m(seed)\u001b[0m\n\u001b[1;32m     37\u001b[0m \u001b[39mimport\u001b[39;00m \u001b[39mtorch\u001b[39;00m\u001b[39m.\u001b[39;00m\u001b[39mcuda\u001b[39;00m\n\u001b[1;32m     39\u001b[0m \u001b[39mif\u001b[39;00m \u001b[39mnot\u001b[39;00m torch\u001b[39m.\u001b[39mcuda\u001b[39m.\u001b[39m_is_in_bad_fork():\n\u001b[0;32m---> 40\u001b[0m     torch\u001b[39m.\u001b[39;49mcuda\u001b[39m.\u001b[39;49mmanual_seed_all(seed)\n\u001b[1;32m     42\u001b[0m \u001b[39mreturn\u001b[39;00m default_generator\u001b[39m.\u001b[39mmanual_seed(seed)\n",
      "File \u001b[0;32m~/tf_2/lib/python3.8/site-packages/torch/cuda/random.py:113\u001b[0m, in \u001b[0;36mmanual_seed_all\u001b[0;34m(seed)\u001b[0m\n\u001b[1;32m    110\u001b[0m         default_generator \u001b[39m=\u001b[39m torch\u001b[39m.\u001b[39mcuda\u001b[39m.\u001b[39mdefault_generators[i]\n\u001b[1;32m    111\u001b[0m         default_generator\u001b[39m.\u001b[39mmanual_seed(seed)\n\u001b[0;32m--> 113\u001b[0m _lazy_call(cb, seed_all\u001b[39m=\u001b[39;49m\u001b[39mTrue\u001b[39;49;00m)\n",
      "File \u001b[0;32m~/tf_2/lib/python3.8/site-packages/torch/cuda/__init__.py:155\u001b[0m, in \u001b[0;36m_lazy_call\u001b[0;34m(callable, **kwargs)\u001b[0m\n\u001b[1;32m    153\u001b[0m \u001b[39mdef\u001b[39;00m \u001b[39m_lazy_call\u001b[39m(callable, \u001b[39m*\u001b[39m\u001b[39m*\u001b[39mkwargs):\n\u001b[1;32m    154\u001b[0m     \u001b[39mif\u001b[39;00m is_initialized():\n\u001b[0;32m--> 155\u001b[0m         callable()\n\u001b[1;32m    156\u001b[0m     \u001b[39melse\u001b[39;00m:\n\u001b[1;32m    157\u001b[0m         \u001b[39m# TODO(torch_deploy): this accesses linecache, which attempts to read the\u001b[39;00m\n\u001b[1;32m    158\u001b[0m         \u001b[39m# file system to get traceback info. Patch linecache or do something\u001b[39;00m\n\u001b[1;32m    159\u001b[0m         \u001b[39m# else here if this ends up being important.\u001b[39;00m\n\u001b[1;32m    160\u001b[0m         \u001b[39mglobal\u001b[39;00m _lazy_seed_tracker\n",
      "File \u001b[0;32m~/tf_2/lib/python3.8/site-packages/torch/cuda/random.py:111\u001b[0m, in \u001b[0;36mmanual_seed_all.<locals>.cb\u001b[0;34m()\u001b[0m\n\u001b[1;32m    109\u001b[0m \u001b[39mfor\u001b[39;00m i \u001b[39min\u001b[39;00m \u001b[39mrange\u001b[39m(device_count()):\n\u001b[1;32m    110\u001b[0m     default_generator \u001b[39m=\u001b[39m torch\u001b[39m.\u001b[39mcuda\u001b[39m.\u001b[39mdefault_generators[i]\n\u001b[0;32m--> 111\u001b[0m     default_generator\u001b[39m.\u001b[39;49mmanual_seed(seed)\n",
      "\u001b[0;31mRuntimeError\u001b[0m: CUDA error: out of memory\nCUDA kernel errors might be asynchronously reported at some other API call,so the stacktrace below might be incorrect.\nFor debugging consider passing CUDA_LAUNCH_BLOCKING=1."
     ]
    }
   ],
   "source": [
    "from transformers import Trainer, TrainingArguments\n",
    "training_args = TrainingArguments(\n",
    "    output_dir=\"./bert\",\n",
    "    overwrite_output_dir=True,\n",
    "    num_train_epochs=10,\n",
    "    do_train=True,\n",
    "    per_gpu_train_batch_size=2,\n",
    "    save_steps=500,\n",
    "    save_total_limit=2\n",
    ")\n",
    "trainer = Trainer(model = model, \n",
    "                args = training_args, \n",
    "                train_dataset=train_data, \n",
    "                eval_dataset=valid_data,\n",
    "                data_collator=data_collator)"
   ]
  },
  {
   "cell_type": "code",
   "execution_count": null,
   "metadata": {},
   "outputs": [],
   "source": []
  }
 ],
 "metadata": {
  "kernelspec": {
   "display_name": "Python 3.8.10 ('tf_2': venv)",
   "language": "python",
   "name": "python3"
  },
  "language_info": {
   "codemirror_mode": {
    "name": "ipython",
    "version": 3
   },
   "file_extension": ".py",
   "mimetype": "text/x-python",
   "name": "python",
   "nbconvert_exporter": "python",
   "pygments_lexer": "ipython3",
   "version": "3.8.10"
  },
  "orig_nbformat": 4,
  "vscode": {
   "interpreter": {
    "hash": "9e8284e1417b754e460c2bde3a4a4837c482fa82ceb7d52f4acbe340dd4b4559"
   }
  }
 },
 "nbformat": 4,
 "nbformat_minor": 2
}
